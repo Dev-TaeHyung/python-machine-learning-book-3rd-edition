{
 "cells": [
  {
   "cell_type": "markdown",
   "metadata": {},
   "source": [
    "# 머신 러닝 교과서 2판"
   ]
  },
  {
   "cell_type": "markdown",
   "metadata": {},
   "source": [
    "# 13장 - 텐서플로를 사용한 신경망 훈련 (2/2)"
   ]
  },
  {
   "cell_type": "markdown",
   "metadata": {},
   "source": [
    "**아래 링크를 통해 이 노트북을 주피터 노트북 뷰어(nbviewer.jupyter.org)로 보거나 구글 코랩(colab.research.google.com)에서 실행할 수 있습니다.**\n",
    "\n",
    "<table class=\"tfo-notebook-buttons\" align=\"left\">\n",
    "  <td>\n",
    "    <a target=\"_blank\" href=\"https://nbviewer.jupyter.org/github/rickiepark/python-machine-learning-book-3rd-edition/blob/master/ch13/ch13_part2.ipynb\"><img src=\"https://jupyter.org/assets/main-logo.svg\" width=\"28\" />주피터 노트북 뷰어로 보기</a>\n",
    "  </td>\n",
    "  <td>\n",
    "    <a target=\"_blank\" href=\"https://colab.research.google.com/github/rickiepark/python-machine-learning-book-3rd-edition/blob/master/ch13/ch13_part2.ipynb\"><img src=\"https://www.tensorflow.org/images/colab_logo_32px.png\" />구글 코랩(Colab)에서 실행하기</a>\n",
    "  </td>\n",
    "</table>"
   ]
  },
  {
   "cell_type": "markdown",
   "metadata": {},
   "source": [
    "## 텐서플로로 신경망 모델 만들기"
   ]
  },
  {
   "cell_type": "markdown",
   "metadata": {},
   "source": [
    "### 텐서플로 케라스 API (tf.keras)"
   ]
  },
  {
   "cell_type": "markdown",
   "metadata": {},
   "source": [
    "### 선형 회귀 모델 만들기"
   ]
  },
  {
   "cell_type": "code",
   "execution_count": 1,
   "metadata": {},
   "outputs": [],
   "source": [
    "import tensorflow as tf\n",
    "import numpy as np\n",
    "import matplotlib.pyplot as plt"
   ]
  },
  {
   "cell_type": "code",
   "execution_count": 2,
   "metadata": {},
   "outputs": [
    {
     "data": {
      "image/png": "[encoded data removed]",
      "text/plain": [
       "<Figure size 432x288 with 1 Axes>"
      ]
     },
     "metadata": {
      "needs_background": "light"
     },
     "output_type": "display_data"
    }
   ],
   "source": [
    "X_train = np.arange(10).reshape((10, 1))\n",
    "y_train = np.array([1.0, 1.3, 3.1,\n",
    "                    2.0, 5.0, 6.3,\n",
    "                    6.6, 7.4, 8.0,\n",
    "                    9.0])\n",
    "\n",
    "\n",
    "plt.plot(X_train, y_train, 'o', markersize=10)\n",
    "plt.xlabel('x')\n",
    "plt.ylabel('y')\n",
    "plt.savefig('images/13_5.png', dpi=300)\n",
    "plt.show()"
   ]
  },
  {
   "cell_type": "code",
   "execution_count": 3,
   "metadata": {},
   "outputs": [],
   "source": [
    "X_train_norm = (X_train - np.mean(X_train))/np.std(X_train)\n",
    "\n",
    "ds_train_orig = tf.data.Dataset.from_tensor_slices(\n",
    "    (tf.cast(X_train_norm, tf.float32),\n",
    "     tf.cast(y_train, tf.float32)))"
   ]
  },
  {
   "cell_type": "code",
   "execution_count": 4,
   "metadata": {},
   "outputs": [
    {
     "name": "stdout",
     "output_type": "stream",
     "text": [
      "Model: \"my_model\"\n",
      "_________________________________________________________________\n",
      "Layer (type)                 Output Shape              Param #   \n",
      "=================================================================\n",
      "Total params: 2\n",
      "Trainable params: 2\n",
      "Non-trainable params: 0\n",
      "_________________________________________________________________\n"
     ]
    }
   ],
   "source": [
    "class MyModel(tf.keras.Model):\n",
    "    def __init__(self):\n",
    "        super(MyModel, self).__init__()\n",
    "        self.w = tf.Variable(0.0, name='weight')\n",
    "        self.b = tf.Variable(0.0, name='bias')\n",
    "\n",
    "    def call(self, x):\n",
    "        return self.w*x + self.b\n",
    "\n",
    "\n",
    "model = MyModel()\n",
    "\n",
    "model.build(input_shape=(None, 1))\n",
    "model.summary()"
   ]
  },
  {
   "cell_type": "code",
   "execution_count": 5,
   "metadata": {},
   "outputs": [
    {
     "data": {
      "text/plain": [
       "<tf.Tensor: shape=(), dtype=float32, numpy=0.25>"
      ]
     },
     "execution_count": 5,
     "metadata": {},
     "output_type": "execute_result"
    }
   ],
   "source": [
    "def loss_fn(y_true, y_pred):\n",
    "    return tf.reduce_mean(tf.square(y_true - y_pred))\n",
    "\n",
    "\n",
    "## testing the function:\n",
    "yt = tf.convert_to_tensor([1.0])\n",
    "yp = tf.convert_to_tensor([1.5])\n",
    "\n",
    "loss_fn(yt, yp)"
   ]
  },
  {
   "cell_type": "code",
   "execution_count": 6,
   "metadata": {},
   "outputs": [],
   "source": [
    "def train(model, inputs, outputs, learning_rate):\n",
    "    with tf.GradientTape() as tape:\n",
    "        current_loss = loss_fn(model(inputs), outputs)\n",
    "    dW, db = tape.gradient(current_loss, [model.w, model.b])\n",
    "    model.w.assign_sub(learning_rate * dW)\n",
    "    model.b.assign_sub(learning_rate * db)"
   ]
  },
  {
   "cell_type": "code",
   "execution_count": 7,
   "metadata": {},
   "outputs": [
    {
     "name": "stdout",
     "output_type": "stream",
     "text": [
      "에포크   0 스텝    0 손실 43.5600\n",
      "에포크  10 스텝  100 손실 0.7530\n",
      "에포크  20 스텝  200 손실 20.1759\n",
      "에포크  30 스텝  300 손실 23.3976\n",
      "에포크  40 스텝  400 손실 6.3481\n",
      "에포크  50 스텝  500 손실 4.6356\n",
      "에포크  60 스텝  600 손실 0.2411\n",
      "에포크  70 스텝  700 손실 0.2036\n",
      "에포크  80 스텝  800 손실 3.8177\n",
      "에포크  90 스텝  900 손실 0.9416\n",
      "에포크 100 스텝 1000 손실 0.7035\n",
      "에포크 110 스텝 1100 손실 0.0348\n",
      "에포크 120 스텝 1200 손실 0.5404\n",
      "에포크 130 스텝 1300 손실 0.1170\n",
      "에포크 140 스텝 1400 손실 0.1195\n",
      "에포크 150 스텝 1500 손실 0.0944\n",
      "에포크 160 스텝 1600 손실 0.4670\n",
      "에포크 170 스텝 1700 손실 2.0695\n",
      "에포크 180 스텝 1800 손실 0.0020\n",
      "에포크 190 스텝 1900 손실 0.3612\n"
     ]
    }
   ],
   "source": [
    "tf.random.set_seed(1)\n",
    "\n",
    "num_epochs = 200\n",
    "log_steps = 100\n",
    "learning_rate = 0.001\n",
    "batch_size = 1\n",
    "steps_per_epoch = int(np.ceil(len(y_train) / batch_size))\n",
    "\n",
    "\n",
    "ds_train = ds_train_orig.shuffle(buffer_size=len(y_train))\n",
    "ds_train = ds_train.repeat(count=None)\n",
    "ds_train = ds_train.batch(1)\n",
    "\n",
    "Ws, bs = [], []\n",
    "\n",
    "for i, batch in enumerate(ds_train):\n",
    "    if i >= steps_per_epoch * num_epochs:\n",
    "        break\n",
    "    Ws.append(model.w.numpy())\n",
    "    bs.append(model.b.numpy())\n",
    "\n",
    "    bx, by = batch\n",
    "    loss_val = loss_fn(model(bx), by)\n",
    "\n",
    "    train(model, bx, by, learning_rate=learning_rate)\n",
    "    if i%log_steps==0:\n",
    "        print('에포크 {:3d} 스텝 {:4d} 손실 {:6.4f}'.format(\n",
    "              int(i/steps_per_epoch), i, loss_val))"
   ]
  },
  {
   "cell_type": "code",
   "execution_count": 8,
   "metadata": {},
   "outputs": [
    {
     "name": "stdout",
     "output_type": "stream",
     "text": [
      "최종 파라미터: 2.6576622 4.8798566\n"
     ]
    },
    {
     "data": {
      "image/png": "[encoded data removed]",
      "text/plain": [
       "<Figure size 936x360 with 2 Axes>"
      ]
     },
     "metadata": {
      "needs_background": "light"
     },
     "output_type": "display_data"
    }
   ],
   "source": [
    "print('최종 파라미터:', model.w.numpy(), model.b.numpy())\n",
    "\n",
    "\n",
    "X_test = np.linspace(0, 9, num=100).reshape(-1, 1)\n",
    "X_test_norm = (X_test - np.mean(X_train)) / np.std(X_train)\n",
    "\n",
    "y_pred = model(tf.cast(X_test_norm, dtype=tf.float32))\n",
    "\n",
    "\n",
    "fig = plt.figure(figsize=(13, 5))\n",
    "ax = fig.add_subplot(1, 2, 1)\n",
    "plt.plot(X_train_norm, y_train, 'o', markersize=10)\n",
    "plt.plot(X_test_norm, y_pred, '--', lw=3)\n",
    "plt.legend(['Training examples', 'Linear Reg.'], fontsize=15)\n",
    "ax.set_xlabel('x', size=15)\n",
    "ax.set_ylabel('y', size=15)\n",
    "ax.tick_params(axis='both', which='major', labelsize=15)\n",
    "\n",
    "ax = fig.add_subplot(1, 2, 2)\n",
    "plt.plot(Ws, lw=3)\n",
    "plt.plot(bs, lw=3)\n",
    "plt.legend(['Weight w', 'Bias unit b'], fontsize=15)\n",
    "ax.set_xlabel('Iteration', size=15)\n",
    "ax.set_ylabel('Value', size=15)\n",
    "ax.tick_params(axis='both', which='major', labelsize=15)\n",
    "\n",
    "plt.savefig('images/13_6.png', dpi=300)\n",
    "plt.show()"
   ]
  },
  {
   "cell_type": "markdown",
   "metadata": {},
   "source": [
    "### `.compile()`과 `.fit()` 메서드를 사용한 모델 훈련"
   ]
  },
  {
   "cell_type": "code",
   "execution_count": 9,
   "metadata": {},
   "outputs": [],
   "source": [
    "tf.random.set_seed(1)\n",
    "model = MyModel()\n",
    "#model.build((None, 1))\n",
    "\n",
    "model.compile(optimizer='sgd', \n",
    "              loss=loss_fn,\n",
    "              metrics=['mae', 'mse'])"
   ]
  },
  {
   "cell_type": "code",
   "execution_count": 10,
   "metadata": {},
   "outputs": [
    {
     "name": "stdout",
     "output_type": "stream",
     "text": [
      "Epoch 1/200\n",
      "10/10 [==============================] - 0s 2ms/step - loss: 27.8723 - mae: 4.5654 - mse: 27.8723\n",
      "Epoch 2/200\n",
      "10/10 [==============================] - 0s 2ms/step - loss: 18.6586 - mae: 3.7446 - mse: 18.6586\n",
      "Epoch 3/200\n",
      "10/10 [==============================] - 0s 2ms/step - loss: 12.5239 - mae: 3.0454 - mse: 12.5239\n",
      "Epoch 4/200\n",
      "10/10 [==============================] - 0s 2ms/step - loss: 8.4670 - mae: 2.4907 - mse: 8.4670\n",
      "Epoch 5/200\n",
      "10/10 [==============================] - 0s 2ms/step - loss: 5.7632 - mae: 2.0567 - mse: 5.7632\n",
      "Epoch 6/200\n",
      "10/10 [==============================] - 0s 2ms/step - loss: 3.9697 - mae: 1.7232 - mse: 3.9697\n",
      "Epoch 7/200\n",
      "10/10 [==============================] - 0s 2ms/step - loss: 2.7766 - mae: 1.4752 - mse: 2.7766\n",
      "Epoch 8/200\n",
      "10/10 [==============================] - 0s 2ms/step - loss: 1.9861 - mae: 1.2578 - mse: 1.9861\n",
      "Epoch 9/200\n",
      "10/10 [==============================] - 0s 2ms/step - loss: 1.4572 - mae: 1.0978 - mse: 1.4572\n",
      "Epoch 10/200\n",
      "10/10 [==============================] - 0s 2ms/step - loss: 1.1055 - mae: 0.9674 - mse: 1.1055\n",
      "Epoch 11/200\n",
      "10/10 [==============================] - 0s 2ms/step - loss: 0.8719 - mae: 0.8633 - mse: 0.8719\n",
      "Epoch 12/200\n",
      "10/10 [==============================] - 0s 2ms/step - loss: 0.7171 - mae: 0.7713 - mse: 0.7171\n",
      "Epoch 13/200\n",
      "10/10 [==============================] - 0s 2ms/step - loss: 0.6147 - mae: 0.7012 - mse: 0.6147\n",
      "Epoch 14/200\n",
      "10/10 [==============================] - 0s 1ms/step - loss: 0.5476 - mae: 0.6474 - mse: 0.5476\n",
      "Epoch 15/200\n",
      "10/10 [==============================] - 0s 2ms/step - loss: 0.5024 - mae: 0.5972 - mse: 0.5024\n",
      "Epoch 16/200\n",
      "10/10 [==============================] - 0s 2ms/step - loss: 0.4736 - mae: 0.5529 - mse: 0.4736\n",
      "Epoch 17/200\n",
      "10/10 [==============================] - 0s 2ms/step - loss: 0.4543 - mae: 0.5322 - mse: 0.4543\n",
      "Epoch 18/200\n",
      "10/10 [==============================] - 0s 2ms/step - loss: 0.4403 - mae: 0.5131 - mse: 0.4403\n",
      "Epoch 19/200\n",
      "10/10 [==============================] - 0s 2ms/step - loss: 0.4309 - mae: 0.5015 - mse: 0.4309\n",
      "Epoch 20/200\n",
      "10/10 [==============================] - 0s 2ms/step - loss: 0.4254 - mae: 0.5001 - mse: 0.4254\n",
      "Epoch 21/200\n",
      "10/10 [==============================] - 0s 2ms/step - loss: 0.4213 - mae: 0.4908 - mse: 0.4213\n",
      "Epoch 22/200\n",
      "10/10 [==============================] - 0s 2ms/step - loss: 0.4189 - mae: 0.4919 - mse: 0.4189\n",
      "Epoch 23/200\n",
      "10/10 [==============================] - 0s 2ms/step - loss: 0.4172 - mae: 0.4942 - mse: 0.4172\n",
      "Epoch 24/200\n",
      "10/10 [==============================] - 0s 2ms/step - loss: 0.4158 - mae: 0.4921 - mse: 0.4158\n",
      "Epoch 25/200\n",
      "10/10 [==============================] - 0s 2ms/step - loss: 0.4151 - mae: 0.4872 - mse: 0.4151\n",
      "Epoch 26/200\n",
      "10/10 [==============================] - 0s 2ms/step - loss: 0.4149 - mae: 0.4950 - mse: 0.4149\n",
      "Epoch 27/200\n",
      "10/10 [==============================] - 0s 2ms/step - loss: 0.4144 - mae: 0.4949 - mse: 0.4144\n",
      "Epoch 28/200\n",
      "10/10 [==============================] - 0s 2ms/step - loss: 0.4139 - mae: 0.4838 - mse: 0.4139\n",
      "Epoch 29/200\n",
      "10/10 [==============================] - 0s 2ms/step - loss: 0.4140 - mae: 0.4913 - mse: 0.4140\n",
      "Epoch 30/200\n",
      "10/10 [==============================] - 0s 2ms/step - loss: 0.4132 - mae: 0.4968 - mse: 0.4132\n",
      "Epoch 31/200\n",
      "10/10 [==============================] - 0s 2ms/step - loss: 0.4139 - mae: 0.4894 - mse: 0.4139\n",
      "Epoch 32/200\n",
      "10/10 [==============================] - 0s 2ms/step - loss: 0.4136 - mae: 0.4894 - mse: 0.4136\n",
      "Epoch 33/200\n",
      "10/10 [==============================] - 0s 2ms/step - loss: 0.4137 - mae: 0.4928 - mse: 0.4137\n",
      "Epoch 34/200\n",
      "10/10 [==============================] - 0s 2ms/step - loss: 0.4132 - mae: 0.4834 - mse: 0.4132\n",
      "Epoch 35/200\n",
      "10/10 [==============================] - 0s 2ms/step - loss: 0.4137 - mae: 0.4939 - mse: 0.4137\n",
      "Epoch 36/200\n",
      "10/10 [==============================] - 0s 2ms/step - loss: 0.4136 - mae: 0.4947 - mse: 0.4136\n",
      "Epoch 37/200\n",
      "10/10 [==============================] - 0s 2ms/step - loss: 0.4131 - mae: 0.4855 - mse: 0.4131\n",
      "Epoch 38/200\n",
      "10/10 [==============================] - 0s 2ms/step - loss: 0.4133 - mae: 0.4940 - mse: 0.4133\n",
      "Epoch 39/200\n",
      "10/10 [==============================] - 0s 2ms/step - loss: 0.4134 - mae: 0.4822 - mse: 0.4134\n",
      "Epoch 40/200\n",
      "10/10 [==============================] - 0s 2ms/step - loss: 0.4137 - mae: 0.4979 - mse: 0.4137\n",
      "Epoch 41/200\n",
      "10/10 [==============================] - 0s 2ms/step - loss: 0.4138 - mae: 0.4903 - mse: 0.4138\n",
      "Epoch 42/200\n",
      "10/10 [==============================] - 0s 2ms/step - loss: 0.4135 - mae: 0.4932 - mse: 0.4135\n",
      "Epoch 43/200\n",
      "10/10 [==============================] - 0s 2ms/step - loss: 0.4136 - mae: 0.4886 - mse: 0.4136\n",
      "Epoch 44/200\n",
      "10/10 [==============================] - 0s 2ms/step - loss: 0.4129 - mae: 0.4800 - mse: 0.4129\n",
      "Epoch 45/200\n",
      "10/10 [==============================] - 0s 2ms/step - loss: 0.4140 - mae: 0.4886 - mse: 0.4140\n",
      "Epoch 46/200\n",
      "10/10 [==============================] - 0s 2ms/step - loss: 0.4138 - mae: 0.4888 - mse: 0.4138\n",
      "Epoch 47/200\n",
      "10/10 [==============================] - 0s 2ms/step - loss: 0.4137 - mae: 0.4879 - mse: 0.4137\n",
      "Epoch 48/200\n",
      "10/10 [==============================] - 0s 2ms/step - loss: 0.4135 - mae: 0.4925 - mse: 0.4135\n",
      "Epoch 49/200\n",
      "10/10 [==============================] - 0s 1ms/step - loss: 0.4136 - mae: 0.4933 - mse: 0.4136\n",
      "Epoch 50/200\n",
      "10/10 [==============================] - 0s 2ms/step - loss: 0.4137 - mae: 0.4816 - mse: 0.4137\n",
      "Epoch 51/200\n",
      "10/10 [==============================] - 0s 2ms/step - loss: 0.4137 - mae: 0.4901 - mse: 0.4137\n",
      "Epoch 52/200\n",
      "10/10 [==============================] - 0s 2ms/step - loss: 0.4136 - mae: 0.4935 - mse: 0.4136\n",
      "Epoch 53/200\n",
      "10/10 [==============================] - 0s 2ms/step - loss: 0.4133 - mae: 0.4881 - mse: 0.4133\n",
      "Epoch 54/200\n",
      "10/10 [==============================] - 0s 2ms/step - loss: 0.4138 - mae: 0.4831 - mse: 0.4138\n",
      "Epoch 55/200\n",
      "10/10 [==============================] - 0s 2ms/step - loss: 0.4139 - mae: 0.4845 - mse: 0.4139\n",
      "Epoch 56/200\n",
      "10/10 [==============================] - 0s 2ms/step - loss: 0.4139 - mae: 0.4868 - mse: 0.4139\n",
      "Epoch 57/200\n",
      "10/10 [==============================] - 0s 2ms/step - loss: 0.4139 - mae: 0.4903 - mse: 0.4139\n",
      "Epoch 58/200\n",
      "10/10 [==============================] - 0s 2ms/step - loss: 0.4138 - mae: 0.4827 - mse: 0.4138\n",
      "Epoch 59/200\n",
      "10/10 [==============================] - 0s 2ms/step - loss: 0.4138 - mae: 0.4849 - mse: 0.4138\n",
      "Epoch 60/200\n",
      "10/10 [==============================] - 0s 2ms/step - loss: 0.4136 - mae: 0.4989 - mse: 0.4136\n",
      "Epoch 61/200\n",
      "10/10 [==============================] - 0s 2ms/step - loss: 0.4138 - mae: 0.4854 - mse: 0.4138\n",
      "Epoch 62/200\n",
      "10/10 [==============================] - 0s 2ms/step - loss: 0.4133 - mae: 0.4913 - mse: 0.4133\n",
      "Epoch 63/200\n",
      "10/10 [==============================] - 0s 2ms/step - loss: 0.4136 - mae: 0.4915 - mse: 0.4136\n",
      "Epoch 64/200\n",
      "10/10 [==============================] - 0s 2ms/step - loss: 0.4138 - mae: 0.4882 - mse: 0.4138\n",
      "Epoch 65/200\n",
      "10/10 [==============================] - 0s 2ms/step - loss: 0.4139 - mae: 0.4881 - mse: 0.4139\n",
      "Epoch 66/200\n",
      "10/10 [==============================] - 0s 2ms/step - loss: 0.4135 - mae: 0.4882 - mse: 0.4135\n",
      "Epoch 67/200\n",
      "10/10 [==============================] - 0s 2ms/step - loss: 0.4140 - mae: 0.4888 - mse: 0.4140\n",
      "Epoch 68/200\n",
      "10/10 [==============================] - 0s 2ms/step - loss: 0.4138 - mae: 0.4890 - mse: 0.4138\n",
      "Epoch 69/200\n",
      "10/10 [==============================] - 0s 2ms/step - loss: 0.4137 - mae: 0.4823 - mse: 0.4137\n",
      "Epoch 70/200\n",
      "10/10 [==============================] - 0s 2ms/step - loss: 0.4135 - mae: 0.4800 - mse: 0.4135\n",
      "Epoch 71/200\n",
      "10/10 [==============================] - 0s 2ms/step - loss: 0.4136 - mae: 0.4938 - mse: 0.4136\n",
      "Epoch 72/200\n",
      "10/10 [==============================] - 0s 2ms/step - loss: 0.4135 - mae: 0.4915 - mse: 0.4135\n",
      "Epoch 73/200\n",
      "10/10 [==============================] - 0s 2ms/step - loss: 0.4139 - mae: 0.4901 - mse: 0.4139\n",
      "Epoch 74/200\n",
      "10/10 [==============================] - 0s 2ms/step - loss: 0.4139 - mae: 0.4915 - mse: 0.4139\n",
      "Epoch 75/200\n",
      "10/10 [==============================] - 0s 2ms/step - loss: 0.4133 - mae: 0.4894 - mse: 0.4133\n",
      "Epoch 76/200\n"
     ]
    },
    {
     "name": "stdout",
     "output_type": "stream",
     "text": [
      "10/10 [==============================] - 0s 2ms/step - loss: 0.4136 - mae: 0.4939 - mse: 0.4136\n",
      "Epoch 77/200\n",
      "10/10 [==============================] - 0s 2ms/step - loss: 0.4139 - mae: 0.4824 - mse: 0.4139\n",
      "Epoch 78/200\n",
      "10/10 [==============================] - 0s 2ms/step - loss: 0.4136 - mae: 0.4811 - mse: 0.4136\n",
      "Epoch 79/200\n",
      "10/10 [==============================] - 0s 2ms/step - loss: 0.4137 - mae: 0.4854 - mse: 0.4137\n",
      "Epoch 80/200\n",
      "10/10 [==============================] - 0s 2ms/step - loss: 0.4136 - mae: 0.4842 - mse: 0.4136\n",
      "Epoch 81/200\n",
      "10/10 [==============================] - 0s 2ms/step - loss: 0.4139 - mae: 0.4923 - mse: 0.4139\n",
      "Epoch 82/200\n",
      "10/10 [==============================] - 0s 2ms/step - loss: 0.4137 - mae: 0.4861 - mse: 0.4137\n",
      "Epoch 83/200\n",
      "10/10 [==============================] - 0s 2ms/step - loss: 0.4135 - mae: 0.4913 - mse: 0.4135\n",
      "Epoch 84/200\n",
      "10/10 [==============================] - 0s 2ms/step - loss: 0.4139 - mae: 0.4861 - mse: 0.4139\n",
      "Epoch 85/200\n",
      "10/10 [==============================] - 0s 2ms/step - loss: 0.4135 - mae: 0.4814 - mse: 0.4135\n",
      "Epoch 86/200\n",
      "10/10 [==============================] - 0s 2ms/step - loss: 0.4137 - mae: 0.4928 - mse: 0.4137\n",
      "Epoch 87/200\n",
      "10/10 [==============================] - 0s 2ms/step - loss: 0.4137 - mae: 0.4861 - mse: 0.4137\n",
      "Epoch 88/200\n",
      "10/10 [==============================] - 0s 2ms/step - loss: 0.4138 - mae: 0.4916 - mse: 0.4138\n",
      "Epoch 89/200\n",
      "10/10 [==============================] - 0s 2ms/step - loss: 0.4138 - mae: 0.4940 - mse: 0.4138\n",
      "Epoch 90/200\n",
      "10/10 [==============================] - 0s 2ms/step - loss: 0.4135 - mae: 0.4943 - mse: 0.4135\n",
      "Epoch 91/200\n",
      "10/10 [==============================] - 0s 2ms/step - loss: 0.4139 - mae: 0.4923 - mse: 0.4139\n",
      "Epoch 92/200\n",
      "10/10 [==============================] - 0s 2ms/step - loss: 0.4138 - mae: 0.4877 - mse: 0.4138\n",
      "Epoch 93/200\n",
      "10/10 [==============================] - 0s 2ms/step - loss: 0.4137 - mae: 0.4862 - mse: 0.4137\n",
      "Epoch 94/200\n",
      "10/10 [==============================] - 0s 2ms/step - loss: 0.4138 - mae: 0.4867 - mse: 0.4138\n",
      "Epoch 95/200\n",
      "10/10 [==============================] - 0s 2ms/step - loss: 0.4134 - mae: 0.4790 - mse: 0.4134\n",
      "Epoch 96/200\n",
      "10/10 [==============================] - 0s 2ms/step - loss: 0.4139 - mae: 0.4913 - mse: 0.4139\n",
      "Epoch 97/200\n",
      "10/10 [==============================] - 0s 2ms/step - loss: 0.4133 - mae: 0.4977 - mse: 0.4133\n",
      "Epoch 98/200\n",
      "10/10 [==============================] - 0s 2ms/step - loss: 0.4136 - mae: 0.4962 - mse: 0.4136\n",
      "Epoch 99/200\n",
      "10/10 [==============================] - 0s 2ms/step - loss: 0.4135 - mae: 0.4962 - mse: 0.4135\n",
      "Epoch 100/200\n",
      "10/10 [==============================] - 0s 2ms/step - loss: 0.4133 - mae: 0.4837 - mse: 0.4133\n",
      "Epoch 101/200\n",
      "10/10 [==============================] - 0s 2ms/step - loss: 0.4138 - mae: 0.4840 - mse: 0.4138\n",
      "Epoch 102/200\n",
      "10/10 [==============================] - 0s 2ms/step - loss: 0.4136 - mae: 0.4862 - mse: 0.4136\n",
      "Epoch 103/200\n",
      "10/10 [==============================] - 0s 2ms/step - loss: 0.4139 - mae: 0.4905 - mse: 0.4139\n",
      "Epoch 104/200\n",
      "10/10 [==============================] - 0s 2ms/step - loss: 0.4137 - mae: 0.4974 - mse: 0.4137\n",
      "Epoch 105/200\n",
      "10/10 [==============================] - 0s 2ms/step - loss: 0.4130 - mae: 0.4923 - mse: 0.4130\n",
      "Epoch 106/200\n",
      "10/10 [==============================] - 0s 2ms/step - loss: 0.4138 - mae: 0.4851 - mse: 0.4138\n",
      "Epoch 107/200\n",
      "10/10 [==============================] - 0s 2ms/step - loss: 0.4138 - mae: 0.4849 - mse: 0.4138\n",
      "Epoch 108/200\n",
      "10/10 [==============================] - 0s 2ms/step - loss: 0.4134 - mae: 0.4929 - mse: 0.4134\n",
      "Epoch 109/200\n",
      "10/10 [==============================] - 0s 2ms/step - loss: 0.4137 - mae: 0.4944 - mse: 0.4137\n",
      "Epoch 110/200\n",
      "10/10 [==============================] - 0s 2ms/step - loss: 0.4135 - mae: 0.4793 - mse: 0.4135\n",
      "Epoch 111/200\n",
      "10/10 [==============================] - 0s 2ms/step - loss: 0.4133 - mae: 0.4822 - mse: 0.4133\n",
      "Epoch 112/200\n",
      "10/10 [==============================] - 0s 2ms/step - loss: 0.4130 - mae: 0.4855 - mse: 0.4130\n",
      "Epoch 113/200\n",
      "10/10 [==============================] - 0s 2ms/step - loss: 0.4139 - mae: 0.4918 - mse: 0.4139\n",
      "Epoch 114/200\n",
      "10/10 [==============================] - 0s 2ms/step - loss: 0.4136 - mae: 0.4870 - mse: 0.4136\n",
      "Epoch 115/200\n",
      "10/10 [==============================] - 0s 2ms/step - loss: 0.4137 - mae: 0.4855 - mse: 0.4137\n",
      "Epoch 116/200\n",
      "10/10 [==============================] - 0s 2ms/step - loss: 0.4136 - mae: 0.4838 - mse: 0.4136\n",
      "Epoch 117/200\n",
      "10/10 [==============================] - 0s 2ms/step - loss: 0.4139 - mae: 0.4898 - mse: 0.4139\n",
      "Epoch 118/200\n",
      "10/10 [==============================] - 0s 2ms/step - loss: 0.4139 - mae: 0.4861 - mse: 0.4139\n",
      "Epoch 119/200\n",
      "10/10 [==============================] - 0s 2ms/step - loss: 0.4140 - mae: 0.4889 - mse: 0.4140\n",
      "Epoch 120/200\n",
      "10/10 [==============================] - 0s 2ms/step - loss: 0.4140 - mae: 0.4920 - mse: 0.4140\n",
      "Epoch 121/200\n",
      "10/10 [==============================] - 0s 2ms/step - loss: 0.4138 - mae: 0.4944 - mse: 0.4138\n",
      "Epoch 122/200\n",
      "10/10 [==============================] - 0s 2ms/step - loss: 0.4139 - mae: 0.4941 - mse: 0.4139\n",
      "Epoch 123/200\n",
      "10/10 [==============================] - 0s 2ms/step - loss: 0.4132 - mae: 0.4822 - mse: 0.4132\n",
      "Epoch 124/200\n",
      "10/10 [==============================] - 0s 2ms/step - loss: 0.4135 - mae: 0.4840 - mse: 0.4135\n",
      "Epoch 125/200\n",
      "10/10 [==============================] - 0s 2ms/step - loss: 0.4137 - mae: 0.4908 - mse: 0.4137\n",
      "Epoch 126/200\n",
      "10/10 [==============================] - 0s 2ms/step - loss: 0.4140 - mae: 0.4927 - mse: 0.4140\n",
      "Epoch 127/200\n",
      "10/10 [==============================] - 0s 2ms/step - loss: 0.4139 - mae: 0.4918 - mse: 0.4139\n",
      "Epoch 128/200\n",
      "10/10 [==============================] - 0s 2ms/step - loss: 0.4139 - mae: 0.4882 - mse: 0.4139\n",
      "Epoch 129/200\n",
      "10/10 [==============================] - 0s 2ms/step - loss: 0.4139 - mae: 0.4905 - mse: 0.4139\n",
      "Epoch 130/200\n",
      "10/10 [==============================] - 0s 2ms/step - loss: 0.4139 - mae: 0.4882 - mse: 0.4139\n",
      "Epoch 131/200\n",
      "10/10 [==============================] - 0s 2ms/step - loss: 0.4140 - mae: 0.4897 - mse: 0.4140\n",
      "Epoch 132/200\n",
      "10/10 [==============================] - 0s 2ms/step - loss: 0.4138 - mae: 0.4872 - mse: 0.4138\n",
      "Epoch 133/200\n",
      "10/10 [==============================] - 0s 2ms/step - loss: 0.4139 - mae: 0.4868 - mse: 0.4139\n",
      "Epoch 134/200\n",
      "10/10 [==============================] - 0s 2ms/step - loss: 0.4136 - mae: 0.4867 - mse: 0.4136\n",
      "Epoch 135/200\n",
      "10/10 [==============================] - 0s 2ms/step - loss: 0.4137 - mae: 0.4939 - mse: 0.4137\n",
      "Epoch 136/200\n",
      "10/10 [==============================] - 0s 2ms/step - loss: 0.4136 - mae: 0.4872 - mse: 0.4136\n",
      "Epoch 137/200\n",
      "10/10 [==============================] - 0s 2ms/step - loss: 0.4140 - mae: 0.4886 - mse: 0.4140\n",
      "Epoch 138/200\n",
      "10/10 [==============================] - 0s 2ms/step - loss: 0.4136 - mae: 0.4973 - mse: 0.4136\n",
      "Epoch 139/200\n",
      "10/10 [==============================] - 0s 2ms/step - loss: 0.4132 - mae: 0.4847 - mse: 0.4132\n",
      "Epoch 140/200\n",
      "10/10 [==============================] - 0s 2ms/step - loss: 0.4139 - mae: 0.4943 - mse: 0.4139\n",
      "Epoch 141/200\n",
      "10/10 [==============================] - 0s 2ms/step - loss: 0.4139 - mae: 0.4879 - mse: 0.4139\n",
      "Epoch 142/200\n",
      "10/10 [==============================] - 0s 2ms/step - loss: 0.4138 - mae: 0.4847 - mse: 0.4138\n",
      "Epoch 143/200\n",
      "10/10 [==============================] - 0s 2ms/step - loss: 0.4137 - mae: 0.4857 - mse: 0.4137\n",
      "Epoch 144/200\n",
      "10/10 [==============================] - 0s 2ms/step - loss: 0.4138 - mae: 0.4900 - mse: 0.4138\n",
      "Epoch 145/200\n",
      "10/10 [==============================] - 0s 2ms/step - loss: 0.4132 - mae: 0.4884 - mse: 0.4132\n",
      "Epoch 146/200\n",
      "10/10 [==============================] - 0s 2ms/step - loss: 0.4139 - mae: 0.4925 - mse: 0.4139\n",
      "Epoch 147/200\n",
      "10/10 [==============================] - 0s 2ms/step - loss: 0.4134 - mae: 0.4866 - mse: 0.4134\n",
      "Epoch 148/200\n",
      "10/10 [==============================] - 0s 2ms/step - loss: 0.4139 - mae: 0.4887 - mse: 0.4139\n",
      "Epoch 149/200\n",
      "10/10 [==============================] - 0s 2ms/step - loss: 0.4132 - mae: 0.4858 - mse: 0.4132\n",
      "Epoch 150/200\n"
     ]
    },
    {
     "name": "stdout",
     "output_type": "stream",
     "text": [
      "10/10 [==============================] - 0s 2ms/step - loss: 0.4140 - mae: 0.4936 - mse: 0.4140\n",
      "Epoch 151/200\n",
      "10/10 [==============================] - 0s 2ms/step - loss: 0.4139 - mae: 0.4885 - mse: 0.4139\n",
      "Epoch 152/200\n",
      "10/10 [==============================] - 0s 2ms/step - loss: 0.4139 - mae: 0.4876 - mse: 0.4139\n",
      "Epoch 153/200\n",
      "10/10 [==============================] - 0s 2ms/step - loss: 0.4133 - mae: 0.4937 - mse: 0.4133\n",
      "Epoch 154/200\n",
      "10/10 [==============================] - 0s 2ms/step - loss: 0.4140 - mae: 0.4925 - mse: 0.4140\n",
      "Epoch 155/200\n",
      "10/10 [==============================] - 0s 2ms/step - loss: 0.4135 - mae: 0.4933 - mse: 0.4135\n",
      "Epoch 156/200\n",
      "10/10 [==============================] - 0s 2ms/step - loss: 0.4139 - mae: 0.4902 - mse: 0.4139\n",
      "Epoch 157/200\n",
      "10/10 [==============================] - 0s 2ms/step - loss: 0.4136 - mae: 0.4907 - mse: 0.4136\n",
      "Epoch 158/200\n",
      "10/10 [==============================] - 0s 2ms/step - loss: 0.4130 - mae: 0.4830 - mse: 0.4130\n",
      "Epoch 159/200\n",
      "10/10 [==============================] - 0s 2ms/step - loss: 0.4139 - mae: 0.4870 - mse: 0.4139\n",
      "Epoch 160/200\n",
      "10/10 [==============================] - 0s 2ms/step - loss: 0.4138 - mae: 0.4829 - mse: 0.4138\n",
      "Epoch 161/200\n",
      "10/10 [==============================] - 0s 2ms/step - loss: 0.4132 - mae: 0.4864 - mse: 0.4132\n",
      "Epoch 162/200\n",
      "10/10 [==============================] - 0s 2ms/step - loss: 0.4140 - mae: 0.4928 - mse: 0.4140\n",
      "Epoch 163/200\n",
      "10/10 [==============================] - 0s 2ms/step - loss: 0.4140 - mae: 0.4906 - mse: 0.4140\n",
      "Epoch 164/200\n",
      "10/10 [==============================] - 0s 2ms/step - loss: 0.4135 - mae: 0.4831 - mse: 0.4135\n",
      "Epoch 165/200\n",
      "10/10 [==============================] - 0s 2ms/step - loss: 0.4139 - mae: 0.4874 - mse: 0.4139\n",
      "Epoch 166/200\n",
      "10/10 [==============================] - 0s 2ms/step - loss: 0.4133 - mae: 0.4942 - mse: 0.4133\n",
      "Epoch 167/200\n",
      "10/10 [==============================] - 0s 2ms/step - loss: 0.4140 - mae: 0.4919 - mse: 0.4140\n",
      "Epoch 168/200\n",
      "10/10 [==============================] - 0s 2ms/step - loss: 0.4139 - mae: 0.4889 - mse: 0.4139\n",
      "Epoch 169/200\n",
      "10/10 [==============================] - 0s 2ms/step - loss: 0.4133 - mae: 0.4986 - mse: 0.4133\n",
      "Epoch 170/200\n",
      "10/10 [==============================] - 0s 2ms/step - loss: 0.4132 - mae: 0.4820 - mse: 0.4132\n",
      "Epoch 171/200\n",
      "10/10 [==============================] - 0s 2ms/step - loss: 0.4139 - mae: 0.4880 - mse: 0.4139\n",
      "Epoch 172/200\n",
      "10/10 [==============================] - 0s 2ms/step - loss: 0.4138 - mae: 0.4936 - mse: 0.4138\n",
      "Epoch 173/200\n",
      "10/10 [==============================] - 0s 2ms/step - loss: 0.4138 - mae: 0.4858 - mse: 0.4138\n",
      "Epoch 174/200\n",
      "10/10 [==============================] - 0s 2ms/step - loss: 0.4138 - mae: 0.4872 - mse: 0.4138\n",
      "Epoch 175/200\n",
      "10/10 [==============================] - 0s 2ms/step - loss: 0.4134 - mae: 0.4953 - mse: 0.4134\n",
      "Epoch 176/200\n",
      "10/10 [==============================] - 0s 2ms/step - loss: 0.4135 - mae: 0.4950 - mse: 0.4135\n",
      "Epoch 177/200\n",
      "10/10 [==============================] - 0s 2ms/step - loss: 0.4139 - mae: 0.4918 - mse: 0.4139\n",
      "Epoch 178/200\n",
      "10/10 [==============================] - 0s 2ms/step - loss: 0.4137 - mae: 0.4893 - mse: 0.4137\n",
      "Epoch 179/200\n",
      "10/10 [==============================] - 0s 2ms/step - loss: 0.4138 - mae: 0.4829 - mse: 0.4138\n",
      "Epoch 180/200\n",
      "10/10 [==============================] - 0s 2ms/step - loss: 0.4135 - mae: 0.4956 - mse: 0.4135\n",
      "Epoch 181/200\n",
      "10/10 [==============================] - 0s 2ms/step - loss: 0.4137 - mae: 0.4864 - mse: 0.4137\n",
      "Epoch 182/200\n",
      "10/10 [==============================] - 0s 2ms/step - loss: 0.4137 - mae: 0.4838 - mse: 0.4137\n",
      "Epoch 183/200\n",
      "10/10 [==============================] - 0s 2ms/step - loss: 0.4138 - mae: 0.4886 - mse: 0.4138\n",
      "Epoch 184/200\n",
      "10/10 [==============================] - 0s 2ms/step - loss: 0.4130 - mae: 0.4909 - mse: 0.4130\n",
      "Epoch 185/200\n",
      "10/10 [==============================] - 0s 2ms/step - loss: 0.4133 - mae: 0.4766 - mse: 0.4133\n",
      "Epoch 186/200\n",
      "10/10 [==============================] - 0s 2ms/step - loss: 0.4139 - mae: 0.4859 - mse: 0.4139\n",
      "Epoch 187/200\n",
      "10/10 [==============================] - 0s 2ms/step - loss: 0.4138 - mae: 0.4941 - mse: 0.4138\n",
      "Epoch 188/200\n",
      "10/10 [==============================] - 0s 2ms/step - loss: 0.4134 - mae: 0.4823 - mse: 0.4134\n",
      "Epoch 189/200\n",
      "10/10 [==============================] - 0s 2ms/step - loss: 0.4138 - mae: 0.4837 - mse: 0.4138\n",
      "Epoch 190/200\n",
      "10/10 [==============================] - 0s 2ms/step - loss: 0.4138 - mae: 0.4937 - mse: 0.4138\n",
      "Epoch 191/200\n",
      "10/10 [==============================] - 0s 2ms/step - loss: 0.4138 - mae: 0.4944 - mse: 0.4138\n",
      "Epoch 192/200\n",
      "10/10 [==============================] - 0s 2ms/step - loss: 0.4140 - mae: 0.4927 - mse: 0.4140\n",
      "Epoch 193/200\n",
      "10/10 [==============================] - 0s 2ms/step - loss: 0.4140 - mae: 0.4893 - mse: 0.4140\n",
      "Epoch 194/200\n",
      "10/10 [==============================] - 0s 2ms/step - loss: 0.4135 - mae: 0.4846 - mse: 0.4135\n",
      "Epoch 195/200\n",
      "10/10 [==============================] - 0s 2ms/step - loss: 0.4138 - mae: 0.4844 - mse: 0.4138\n",
      "Epoch 196/200\n",
      "10/10 [==============================] - 0s 2ms/step - loss: 0.4139 - mae: 0.4936 - mse: 0.4139\n",
      "Epoch 197/200\n",
      "10/10 [==============================] - 0s 2ms/step - loss: 0.4135 - mae: 0.4964 - mse: 0.4135\n",
      "Epoch 198/200\n",
      "10/10 [==============================] - 0s 2ms/step - loss: 0.4138 - mae: 0.4873 - mse: 0.4138\n",
      "Epoch 199/200\n",
      "10/10 [==============================] - 0s 2ms/step - loss: 0.4139 - mae: 0.4846 - mse: 0.4139\n",
      "Epoch 200/200\n",
      "10/10 [==============================] - 0s 2ms/step - loss: 0.4138 - mae: 0.4868 - mse: 0.4138\n"
     ]
    },
    {
     "data": {
      "text/plain": [
       "<tensorflow.python.keras.callbacks.History at 0x7f54d55b94e0>"
      ]
     },
     "execution_count": 10,
     "metadata": {},
     "output_type": "execute_result"
    }
   ],
   "source": [
    "model.fit(X_train_norm, y_train, \n",
    "          epochs=num_epochs, batch_size=batch_size,\n",
    "          verbose=1)\n"
   ]
  },
  {
   "cell_type": "code",
   "execution_count": 11,
   "metadata": {},
   "outputs": [
    {
     "name": "stdout",
     "output_type": "stream",
     "text": [
      "2.7067397 4.965721\n"
     ]
    },
    {
     "data": {
      "image/png": "[encoded data removed]",
      "text/plain": [
       "<Figure size 936x360 with 2 Axes>"
      ]
     },
     "metadata": {
      "needs_background": "light"
     },
     "output_type": "display_data"
    }
   ],
   "source": [
    "print(model.w.numpy(), model.b.numpy())\n",
    "\n",
    "\n",
    "X_test = np.linspace(0, 9, num=100).reshape(-1, 1)\n",
    "X_test_norm = (X_test - np.mean(X_train)) / np.std(X_train)\n",
    "\n",
    "y_pred = model(tf.cast(X_test_norm, dtype=tf.float32))\n",
    "\n",
    "\n",
    "fig = plt.figure(figsize=(13, 5))\n",
    "ax = fig.add_subplot(1, 2, 1)\n",
    "plt.plot(X_train_norm, y_train, 'o', markersize=10)\n",
    "plt.plot(X_test_norm, y_pred, '--', lw=3)\n",
    "plt.legend(['Training Samples', 'Linear Regression'], fontsize=15)\n",
    "\n",
    "ax = fig.add_subplot(1, 2, 2)\n",
    "plt.plot(Ws, lw=3)\n",
    "plt.plot(bs, lw=3)\n",
    "plt.legend(['W', 'bias'], fontsize=15)\n",
    "plt.show()"
   ]
  },
  {
   "cell_type": "markdown",
   "metadata": {},
   "source": [
    "## 붓꽃 데이터셋을 분류하는 다층 퍼셉트로 만들기"
   ]
  },
  {
   "cell_type": "code",
   "execution_count": 12,
   "metadata": {},
   "outputs": [
    {
     "name": "stdout",
     "output_type": "stream",
     "text": [
      "tfds.core.DatasetInfo(\n",
      "    name='iris',\n",
      "    version=2.0.0,\n",
      "    description='This is perhaps the best known database to be found in the pattern recognition\n",
      "literature. Fisher's paper is a classic in the field and is referenced\n",
      "frequently to this day. (See Duda & Hart, for example.) The data set contains\n",
      "3 classes of 50 instances each, where each class refers to a type of iris\n",
      "plant. One class is linearly separable from the other 2; the latter are NOT\n",
      "linearly separable from each other.',\n",
      "    homepage='https://archive.ics.uci.edu/ml/datasets/iris',\n",
      "    features=FeaturesDict({\n",
      "        'features': Tensor(shape=(4,), dtype=tf.float32),\n",
      "        'label': ClassLabel(shape=(), dtype=tf.int64, num_classes=3),\n",
      "    }),\n",
      "    total_num_examples=150,\n",
      "    splits={\n",
      "        'train': 150,\n",
      "    },\n",
      "    supervised_keys=('features', 'label'),\n",
      "    citation=\"\"\"@misc{Dua:2019 ,\n",
      "    author = \"Dua, Dheeru and Graff, Casey\",\n",
      "    year = \"2017\",\n",
      "    title = \"{UCI} Machine Learning Repository\",\n",
      "    url = \"http://archive.ics.uci.edu/ml\",\n",
      "    institution = \"University of California, Irvine, School of Information and Computer Sciences\"\n",
      "    }\"\"\",\n",
      "    redistribution_info=,\n",
      ")\n",
      "\n"
     ]
    }
   ],
   "source": [
    "import tensorflow_datasets as tfds\n",
    "\n",
    "\n",
    "\n",
    "iris, iris_info = tfds.load('iris', with_info=True)\n",
    "\n",
    "print(iris_info)"
   ]
  },
  {
   "cell_type": "code",
   "execution_count": 13,
   "metadata": {},
   "outputs": [
    {
     "name": "stdout",
     "output_type": "stream",
     "text": [
      "{'features': <tf.Tensor: shape=(4,), dtype=float32, numpy=array([6.5, 3. , 5.2, 2. ], dtype=float32)>, 'label': <tf.Tensor: shape=(), dtype=int64, numpy=2>}\n"
     ]
    }
   ],
   "source": [
    "tf.random.set_seed(1)\n",
    "\n",
    "ds_orig = iris['train']\n",
    "ds_orig = ds_orig.shuffle(150, reshuffle_each_iteration=False)\n",
    "\n",
    "print(next(iter(ds_orig)))\n",
    "\n",
    "ds_train_orig = ds_orig.take(100)\n",
    "ds_test = ds_orig.skip(100)"
   ]
  },
  {
   "cell_type": "code",
   "execution_count": 14,
   "metadata": {},
   "outputs": [
    {
     "name": "stdout",
     "output_type": "stream",
     "text": [
      "100\n",
      "50\n"
     ]
    }
   ],
   "source": [
    "## 샘플 개수 확인\n",
    "\n",
    "n = 0\n",
    "for example in ds_train_orig:\n",
    "    n += 1\n",
    "print(n)\n",
    "\n",
    "\n",
    "n = 0\n",
    "for example in ds_test:\n",
    "    n += 1\n",
    "print(n)"
   ]
  },
  {
   "cell_type": "code",
   "execution_count": 15,
   "metadata": {},
   "outputs": [
    {
     "data": {
      "text/plain": [
       "(<tf.Tensor: shape=(4,), dtype=float32, numpy=array([6.5, 3. , 5.2, 2. ], dtype=float32)>,\n",
       " <tf.Tensor: shape=(), dtype=int64, numpy=2>)"
      ]
     },
     "execution_count": 15,
     "metadata": {},
     "output_type": "execute_result"
    }
   ],
   "source": [
    "ds_train_orig = ds_train_orig.map(\n",
    "    lambda x: (x['features'], x['label']))\n",
    "\n",
    "ds_test = ds_test.map(\n",
    "    lambda x: (x['features'], x['label']))\n",
    "\n",
    "next(iter(ds_train_orig))"
   ]
  },
  {
   "cell_type": "code",
   "execution_count": 46,
   "metadata": {},
   "outputs": [
    {
     "name": "stdout",
     "output_type": "stream",
     "text": [
      "Model: \"sequential_1\"\n",
      "_________________________________________________________________\n",
      "Layer (type)                 Output Shape              Param #   \n",
      "=================================================================\n",
      "fc1 (Dense)                  (None, 16)                80        \n",
      "_________________________________________________________________\n",
      "fc2 (Dense)                  (None, 3)                 51        \n",
      "=================================================================\n",
      "Total params: 131\n",
      "Trainable params: 131\n",
      "Non-trainable params: 0\n",
      "_________________________________________________________________\n"
     ]
    }
   ],
   "source": [
    "iris_model = tf.keras.Sequential([\n",
    "    tf.keras.layers.Dense(16, activation='sigmoid', \n",
    "                          name='fc1', input_shape=(4,)),\n",
    "    tf.keras.layers.Dense(3, name='fc2', activation='softmax')])\n",
    "\n",
    "iris_model.summary()"
   ]
  },
  {
   "cell_type": "code",
   "execution_count": 47,
   "metadata": {},
   "outputs": [],
   "source": [
    "iris_model.compile(optimizer='adam',\n",
    "                   loss='sparse_categorical_crossentropy',\n",
    "                   metrics=['accuracy'])"
   ]
  },
  {
   "cell_type": "code",
   "execution_count": 48,
   "metadata": {},
   "outputs": [],
   "source": [
    "num_epochs = 100\n",
    "training_size = 100\n",
    "batch_size = 2\n",
    "steps_per_epoch = np.ceil(training_size / batch_size)\n",
    "\n",
    "ds_train = ds_train_orig.shuffle(buffer_size=training_size)\n",
    "ds_train = ds_train.repeat()\n",
    "ds_train = ds_train.batch(batch_size=batch_size)\n",
    "ds_train = ds_train.prefetch(buffer_size=1000)\n",
    "\n",
    "\n",
    "history = iris_model.fit(ds_train, epochs=num_epochs,\n",
    "                         steps_per_epoch=steps_per_epoch, \n",
    "                         verbose=0)"
   ]
  },
  {
   "cell_type": "code",
   "execution_count": 19,
   "metadata": {},
   "outputs": [
    {
     "data": {
      "image/png": "[encoded data removed]",
      "text/plain": [
       "<Figure size 864x360 with 2 Axes>"
      ]
     },
     "metadata": {
      "needs_background": "light"
     },
     "output_type": "display_data"
    }
   ],
   "source": [
    "hist = history.history\n",
    "\n",
    "fig = plt.figure(figsize=(12, 5))\n",
    "ax = fig.add_subplot(1, 2, 1)\n",
    "ax.plot(hist['loss'], lw=3)\n",
    "ax.set_title('Training loss', size=15)\n",
    "ax.set_xlabel('Epoch', size=15)\n",
    "ax.tick_params(axis='both', which='major', labelsize=15)\n",
    "\n",
    "ax = fig.add_subplot(1, 2, 2)\n",
    "ax.plot(hist['accuracy'], lw=3)\n",
    "ax.set_title('Training accuracy', size=15)\n",
    "ax.set_xlabel('Epoch', size=15)\n",
    "ax.tick_params(axis='both', which='major', labelsize=15)\n",
    "plt.tight_layout()\n",
    "plt.savefig('images/13_7.png', dpi=300)\n",
    "plt.show()"
   ]
  },
  {
   "cell_type": "markdown",
   "metadata": {},
   "source": [
    "### 테스트 데이터셋에서 훈련된 모델 평가하기"
   ]
  },
  {
   "cell_type": "code",
   "execution_count": 20,
   "metadata": {},
   "outputs": [
    {
     "name": "stdout",
     "output_type": "stream",
     "text": [
      "테스트 손실: 0.1483   테스트 정확도: 0.9800\n"
     ]
    }
   ],
   "source": [
    "results = iris_model.evaluate(ds_test.batch(50), verbose=0)\n",
    "print('테스트 손실: {:.4f}   테스트 정확도: {:.4f}'.format(*results))"
   ]
  },
  {
   "cell_type": "markdown",
   "metadata": {},
   "source": [
    "### 훈련된 모델 저장하고 복원하기"
   ]
  },
  {
   "cell_type": "code",
   "execution_count": 21,
   "metadata": {},
   "outputs": [],
   "source": [
    "iris_model.save('iris-classifier.h5', \n",
    "                overwrite=True,\n",
    "                include_optimizer=True,\n",
    "                save_format='h5')"
   ]
  },
  {
   "cell_type": "code",
   "execution_count": 22,
   "metadata": {},
   "outputs": [
    {
     "name": "stdout",
     "output_type": "stream",
     "text": [
      "Model: \"sequential\"\n",
      "_________________________________________________________________\n",
      "Layer (type)                 Output Shape              Param #   \n",
      "=================================================================\n",
      "fc1 (Dense)                  (None, 16)                80        \n",
      "_________________________________________________________________\n",
      "fc2 (Dense)                  (None, 3)                 51        \n",
      "=================================================================\n",
      "Total params: 131\n",
      "Trainable params: 131\n",
      "Non-trainable params: 0\n",
      "_________________________________________________________________\n"
     ]
    }
   ],
   "source": [
    "iris_model_new = tf.keras.models.load_model('iris-classifier.h5')\n",
    "\n",
    "iris_model_new.summary()"
   ]
  },
  {
   "cell_type": "code",
   "execution_count": 23,
   "metadata": {},
   "outputs": [
    {
     "name": "stdout",
     "output_type": "stream",
     "text": [
      "테스트 손실: 0.1483   테스트 정확도: 0.3000\n"
     ]
    }
   ],
   "source": [
    "results = iris_model_new.evaluate(ds_test.batch(50), verbose=0)\n",
    "print('테스트 손실: {:.4f}   테스트 정확도: {:.4f}'.format(*results))"
   ]
  },
  {
   "cell_type": "code",
   "execution_count": 24,
   "metadata": {},
   "outputs": [
    {
     "name": "stdout",
     "output_type": "stream",
     "text": [
      "훈련 데이터셋:  100 테스트 데이터셋:  50\n"
     ]
    }
   ],
   "source": [
    "labels_train = []\n",
    "for i,item in enumerate(ds_train_orig):\n",
    "    labels_train.append(item[1].numpy())\n",
    "    \n",
    "labels_test = []\n",
    "for i,item in enumerate(ds_test):\n",
    "    labels_test.append(item[1].numpy())\n",
    "print('훈련 데이터셋: ',len(labels_train), '테스트 데이터셋: ', len(labels_test))"
   ]
  },
  {
   "cell_type": "code",
   "execution_count": 25,
   "metadata": {},
   "outputs": [
    {
     "data": {
      "text/plain": [
       "'{\"class_name\": \"Sequential\", \"config\": {\"name\": \"sequential\", \"layers\": [{\"class_name\": \"InputLayer\", \"config\": {\"batch_input_shape\": [null, 4], \"dtype\": \"float32\", \"sparse\": false, \"ragged\": false, \"name\": \"fc1_input\"}}, {\"class_name\": \"Dense\", \"config\": {\"name\": \"fc1\", \"trainable\": true, \"batch_input_shape\": [null, 4], \"dtype\": \"float32\", \"units\": 16, \"activation\": \"sigmoid\", \"use_bias\": true, \"kernel_initializer\": {\"class_name\": \"GlorotUniform\", \"config\": {\"seed\": null}}, \"bias_initializer\": {\"class_name\": \"Zeros\", \"config\": {}}, \"kernel_regularizer\": null, \"bias_regularizer\": null, \"activity_regularizer\": null, \"kernel_constraint\": null, \"bias_constraint\": null}}, {\"class_name\": \"Dense\", \"config\": {\"name\": \"fc2\", \"trainable\": true, \"dtype\": \"float32\", \"units\": 3, \"activation\": \"softmax\", \"use_bias\": true, \"kernel_initializer\": {\"class_name\": \"GlorotUniform\", \"config\": {\"seed\": null}}, \"bias_initializer\": {\"class_name\": \"Zeros\", \"config\": {}}, \"kernel_regularizer\": null, \"bias_regularizer\": null, \"activity_regularizer\": null, \"kernel_constraint\": null, \"bias_constraint\": null}}]}, \"keras_version\": \"2.4.0\", \"backend\": \"tensorflow\"}'"
      ]
     },
     "execution_count": 25,
     "metadata": {},
     "output_type": "execute_result"
    }
   ],
   "source": [
    "iris_model_new.to_json()"
   ]
  },
  {
   "cell_type": "markdown",
   "metadata": {},
   "source": [
    "케라스 모델의 `fit()` 메서드는 `callbacks` 매개변수를 사용하여 훈련 과정을 제어할 수 있습니다. 이 매개변수는 `keras.callbacks` 아래에 있는 콜백 객체의 리스트를 입력받습니다. 예를 들어 모델을 훈련하는 동안 `ModelCheckpoint` 콜백을 사용하여 최고의 성능을 내는 가중치를 저장할 수 있습니다. `ModelCheckpoint` 콜백은 더 이상 성능이 개선되지 않을 때 훈련을 멈추게 하는 `EarlyStopping` 콜백과 함께 사용하는 경우가 많습니다. `EarlyStopping` 콜백 클래스는 기본적으로 검증 손실을 모니터링합니다. `patience` 매개변수가 지정한 에포크 횟수 동안 모니터링 지표가 개선되지 않으면 훈련을 중지합니다.\n",
    "\n",
    "다음 코드는 `ModelCheckpoint` 콜백을 사용하는 예입니다. 검증 손실을 모니터링하면서(`monitor='val_loss'`) 3번 에포크 동안 검증 손실이 감소하지 않으면 훈련을 중지하고 최상의 모델 가중치로 복원합니다(`restore_best_weights=True`)."
   ]
  },
  {
   "cell_type": "code",
   "execution_count": 26,
   "metadata": {},
   "outputs": [],
   "source": [
    "from tensorflow.keras.callbacks import ModelCheckpoint, EarlyStopping\n",
    "\n",
    "callback_list = [ModelCheckpoint(filepath='iris-earlystopping.h5', \n",
    "                                 monitor='val_loss'),\n",
    "                 EarlyStopping(patience=3, restore_best_weights=True)]"
   ]
  },
  {
   "cell_type": "markdown",
   "metadata": {},
   "source": [
    "그 다음 `Sequential` 클래스를 사용하지 않고 `iris_model` 모델의 구조를 추출하여 새로운 모델을 만들어 보겠습니다. `model_from_json()` 함수를 사용하여 `to_json()` 메서드로 만든 구조로 새로운 모델을 만들 수 있습니다. `compile()` 메서드에 지정한 것은 이전과 동일합니다. `fit()` 메서드에는 `validation_data` 매개변수에 검증 데이터셋으로 사용할 데이터를 전달합니다. 여기에서는 간단한 예를 보는 것이 목적이므로 별도의 검증 데이터셋을 만들지 않고 대신 `ds_test` 데이터셋을 사용하겠습니다. `callbacks` 매개변수에 앞에서 만든 콜백 리스트를 전달합니다. 에포크를 크게 설정해도(`epochs=500`) 조기 종료를 사용하기 때문에 종료 조건이 만족되면 훈련이 중간에 중단될 것입니다."
   ]
  },
  {
   "cell_type": "code",
   "execution_count": 27,
   "metadata": {},
   "outputs": [],
   "source": [
    "model = tf.keras.models.model_from_json(iris_model.to_json())\n",
    "model.compile(optimizer='adam',\n",
    "              loss='sparse_categorical_crossentropy',\n",
    "              metrics=['accuracy'])\n",
    "history = model.fit(ds_train, epochs=500, \n",
    "                    steps_per_epoch=steps_per_epoch, \n",
    "                    validation_data=ds_test.batch(50), \n",
    "                    callbacks=callback_list,\n",
    "                    verbose=0)"
   ]
  },
  {
   "cell_type": "markdown",
   "metadata": {},
   "source": [
    "훈련이 끝난 후 손실과 정확도 그래프를 그려 보죠. 이번에는 검증 손실과 검증 정확도도 함께 그려 보겠습니다."
   ]
  },
  {
   "cell_type": "code",
   "execution_count": 28,
   "metadata": {},
   "outputs": [
    {
     "data": {
      "image/png": "[encoded data removed]",
      "text/plain": [
       "<Figure size 864x360 with 2 Axes>"
      ]
     },
     "metadata": {
      "needs_background": "light"
     },
     "output_type": "display_data"
    }
   ],
   "source": [
    "hist = history.history\n",
    "\n",
    "fig = plt.figure(figsize=(12, 5))\n",
    "ax = fig.add_subplot(1, 2, 1)\n",
    "ax.plot(hist['loss'], lw=3)\n",
    "ax.plot(hist['val_loss'], lw=3)\n",
    "ax.set_title('Loss', size=15)\n",
    "ax.set_xlabel('Epoch', size=15)\n",
    "ax.tick_params(axis='both', which='major', labelsize=15)\n",
    "\n",
    "ax = fig.add_subplot(1, 2, 2)\n",
    "ax.plot(hist['accuracy'], lw=3)\n",
    "ax.plot(hist['val_accuracy'], lw=3)\n",
    "ax.set_title('Accuracy', size=15)\n",
    "ax.set_xlabel('Epoch', size=15)\n",
    "ax.tick_params(axis='both', which='major', labelsize=15)\n",
    "plt.tight_layout()\n",
    "plt.savefig('images/13_earlystopping.png', dpi=300)\n",
    "plt.show()"
   ]
  },
  {
   "cell_type": "markdown",
   "metadata": {},
   "source": [
    "500번의 에포크를 지정했지만 훈련은 200번째 에포크 근처에서 중지되었습니다. 몇 번째 에포크에서 훈련이 중지되었는지 확인하려면 `EarlyStopping` 객체의 `stopped_epoch` 속성을 출력하면 됩니다."
   ]
  },
  {
   "cell_type": "code",
   "execution_count": 29,
   "metadata": {},
   "outputs": [
    {
     "data": {
      "text/plain": [
       "221"
      ]
     },
     "execution_count": 29,
     "metadata": {},
     "output_type": "execute_result"
    }
   ],
   "source": [
    "callback_list[1].stopped_epoch"
   ]
  },
  {
   "cell_type": "code",
   "execution_count": null,
   "metadata": {},
   "outputs": [],
   "source": []
  },
  {
   "cell_type": "code",
   "execution_count": 49,
   "metadata": {},
   "outputs": [
    {
     "name": "stdout",
     "output_type": "stream",
     "text": [
      "WARNING:tensorflow:From /usr/local/lib/python3.6/dist-packages/tensorflow/python/ops/summary_ops_v2.py:1277: stop (from tensorflow.python.eager.profiler) is deprecated and will be removed after 2020-07-01.\n",
      "Instructions for updating:\n",
      "use `tf.profiler.experimental.stop` instead.\n"
     ]
    },
    {
     "name": "stderr",
     "output_type": "stream",
     "text": [
      "WARNING:tensorflow:From /usr/local/lib/python3.6/dist-packages/tensorflow/python/ops/summary_ops_v2.py:1277: stop (from tensorflow.python.eager.profiler) is deprecated and will be removed after 2020-07-01.\n",
      "Instructions for updating:\n",
      "use `tf.profiler.experimental.stop` instead.\n"
     ]
    },
    {
     "name": "stdout",
     "output_type": "stream",
     "text": [
      "WARNING:tensorflow:Callbacks method `on_train_batch_end` is slow compared to the batch time (batch time: 0.0052s vs `on_train_batch_end` time: 0.2933s). Check your callbacks.\n"
     ]
    },
    {
     "name": "stderr",
     "output_type": "stream",
     "text": [
      "WARNING:tensorflow:Callbacks method `on_train_batch_end` is slow compared to the batch time (batch time: 0.0052s vs `on_train_batch_end` time: 0.2933s). Check your callbacks.\n"
     ]
    }
   ],
   "source": [
    "from tensorflow.keras.callbacks import TensorBoard\n",
    "\n",
    "callback_list = [ModelCheckpoint(filepath='iris-earlystopping.h5', \n",
    "                                 monitor='val_loss'),\n",
    "                 EarlyStopping(patience=3, restore_best_weights=True),\n",
    "                 TensorBoard()]\n",
    "\n",
    "model = tf.keras.models.model_from_json(iris_model.to_json())\n",
    "model.compile(optimizer='adam',\n",
    "              loss='sparse_categorical_crossentropy',\n",
    "              metrics=['accuracy'])\n",
    "history = model.fit(ds_train, epochs=500, \n",
    "                    steps_per_epoch=steps_per_epoch, \n",
    "                    validation_data=ds_test.batch(50), \n",
    "                    callbacks=callback_list,\n",
    "                    verbose=0)"
   ]
  },
  {
   "cell_type": "code",
   "execution_count": 53,
   "metadata": {},
   "outputs": [],
   "source": [
    "!kill 8809"
   ]
  },
  {
   "cell_type": "code",
   "execution_count": 54,
   "metadata": {},
   "outputs": [
    {
     "name": "stdout",
     "output_type": "stream",
     "text": [
      "The tensorboard extension is already loaded. To reload it, use:\n",
      "  %reload_ext tensorboard\n"
     ]
    },
    {
     "data": {
      "text/html": [
       "\n",
       "      <iframe id=\"tensorboard-frame-6df43321ae8d0e02\" width=\"100%\" height=\"800\" frameborder=\"0\">\n",
       "      </iframe>\n",
       "      <script>\n",
       "        (function() {\n",
       "          const frame = document.getElementById(\"tensorboard-frame-6df43321ae8d0e02\");\n",
       "          const url = new URL(\"/\", window.location);\n",
       "          const port = 6006;\n",
       "          if (port) {\n",
       "            url.port = port;\n",
       "          }\n",
       "          frame.src = url;\n",
       "        })();\n",
       "      </script>\n",
       "    "
      ],
      "text/plain": [
       "<IPython.core.display.HTML object>"
      ]
     },
     "metadata": {},
     "output_type": "display_data"
    }
   ],
   "source": [
    "%load_ext tensorboard\n",
    "%tensorboard --logdir logs --port 6006"
   ]
  },
  {
   "cell_type": "code",
   "execution_count": null,
   "metadata": {},
   "outputs": [],
   "source": []
  },
  {
   "cell_type": "code",
   "execution_count": null,
   "metadata": {},
   "outputs": [],
   "source": []
  },
  {
   "cell_type": "markdown",
   "metadata": {},
   "source": [
    "## 다층 신경망의 활성화 함수 선택"
   ]
  },
  {
   "cell_type": "markdown",
   "metadata": {},
   "source": [
    "### 로지스틱 함수 요약"
   ]
  },
  {
   "cell_type": "code",
   "execution_count": 30,
   "metadata": {},
   "outputs": [
    {
     "name": "stdout",
     "output_type": "stream",
     "text": [
      "P(y=1|x) = 0.888\n"
     ]
    }
   ],
   "source": [
    "import numpy as np\n",
    "\n",
    "X = np.array([1, 1.4, 2.5]) ## first value must be 1\n",
    "w = np.array([0.4, 0.3, 0.5])\n",
    "\n",
    "def net_input(X, w):\n",
    "    return np.dot(X, w)\n",
    "\n",
    "def logistic(z):\n",
    "    return 1.0 / (1.0 + np.exp(-z))\n",
    "\n",
    "def logistic_activation(X, w):\n",
    "    z = net_input(X, w)\n",
    "    return logistic(z)\n",
    "\n",
    "print('P(y=1|x) = %.3f' % logistic_activation(X, w)) "
   ]
  },
  {
   "cell_type": "code",
   "execution_count": 31,
   "metadata": {},
   "outputs": [
    {
     "name": "stdout",
     "output_type": "stream",
     "text": [
      "최종 입력: \n",
      " [1.78 0.76 1.65]\n",
      "유닛 출력:\n",
      " [0.85569687 0.68135373 0.83889105]\n"
     ]
    }
   ],
   "source": [
    "# W : (n_output_units, n_hidden_units+1) 크기의 배열\n",
    "# 첫 번째 열은 절편 유닛입니다\n",
    "\n",
    "W = np.array([[1.1, 1.2, 0.8, 0.4],\n",
    "              [0.2, 0.4, 1.0, 0.2],\n",
    "              [0.6, 1.5, 1.2, 0.7]])\n",
    "\n",
    "# A : (n_hidden_units + 1, n_samples) 크기의 배열\n",
    "# 이 배열의 첫 번째 열은 1입니다\n",
    "\n",
    "A = np.array([[1, 0.1, 0.4, 0.6]])\n",
    "Z = np.dot(W, A[0])\n",
    "y_probas = logistic(Z)\n",
    "print('최종 입력: \\n', Z)\n",
    "\n",
    "print('유닛 출력:\\n', y_probas) "
   ]
  },
  {
   "cell_type": "code",
   "execution_count": 32,
   "metadata": {},
   "outputs": [
    {
     "name": "stdout",
     "output_type": "stream",
     "text": [
      "예측 클래스 레이블: 0\n"
     ]
    }
   ],
   "source": [
    "y_class = np.argmax(Z, axis=0)\n",
    "print('예측 클래스 레이블: %d' % y_class) "
   ]
  },
  {
   "cell_type": "markdown",
   "metadata": {},
   "source": [
    "### 소프트맥스 함수를 사용한 다중 클래스 확률 예측"
   ]
  },
  {
   "cell_type": "code",
   "execution_count": 33,
   "metadata": {},
   "outputs": [
    {
     "name": "stdout",
     "output_type": "stream",
     "text": [
      "확률:\n",
      " [0.44668973 0.16107406 0.39223621]\n"
     ]
    },
    {
     "data": {
      "text/plain": [
       "1.0"
      ]
     },
     "execution_count": 33,
     "metadata": {},
     "output_type": "execute_result"
    }
   ],
   "source": [
    "def softmax(z):\n",
    "    return np.exp(z) / np.sum(np.exp(z))\n",
    "\n",
    "y_probas = softmax(Z)\n",
    "print('확률:\\n', y_probas)\n",
    "\n",
    "np.sum(y_probas)"
   ]
  },
  {
   "cell_type": "code",
   "execution_count": 34,
   "metadata": {},
   "outputs": [
    {
     "data": {
      "text/plain": [
       "<tf.Tensor: shape=(1, 3), dtype=float64, numpy=array([[0.44668973, 0.16107406, 0.39223621]])>"
      ]
     },
     "execution_count": 34,
     "metadata": {},
     "output_type": "execute_result"
    }
   ],
   "source": [
    "import tensorflow as tf\n",
    "\n",
    "Z_tensor = tf.expand_dims(Z, axis=0)\n",
    "tf.keras.activations.softmax(Z_tensor)"
   ]
  },
  {
   "cell_type": "markdown",
   "metadata": {},
   "source": [
    "### 하이퍼볼릭 탄젠트로 출력 범위 넓히기"
   ]
  },
  {
   "cell_type": "code",
   "execution_count": 35,
   "metadata": {},
   "outputs": [
    {
     "data": {
      "image/png": "[encoded data removed]",
      "text/plain": [
       "<Figure size 432x288 with 1 Axes>"
      ]
     },
     "metadata": {
      "needs_background": "light"
     },
     "output_type": "display_data"
    }
   ],
   "source": [
    "import matplotlib.pyplot as plt\n",
    "%matplotlib inline\n",
    "\n",
    "def tanh(z):\n",
    "    e_p = np.exp(z)\n",
    "    e_m = np.exp(-z)\n",
    "    return (e_p - e_m) / (e_p + e_m)\n",
    "\n",
    "z = np.arange(-5, 5, 0.005)\n",
    "log_act = logistic(z)\n",
    "tanh_act = tanh(z)\n",
    "plt.ylim([-1.5, 1.5])\n",
    "plt.xlabel('Net input $z$')\n",
    "plt.ylabel('Activation $\\phi(z)$')\n",
    "plt.axhline(1, color='black', linestyle=':')\n",
    "plt.axhline(0.5, color='black', linestyle=':')\n",
    "plt.axhline(0, color='black', linestyle=':')\n",
    "plt.axhline(-0.5, color='black', linestyle=':')\n",
    "plt.axhline(-1, color='black', linestyle=':')\n",
    "plt.plot(z, tanh_act,\n",
    "    linewidth=3, linestyle='--',\n",
    "    label='Tanh')\n",
    "plt.plot(z, log_act,\n",
    "    linewidth=3,\n",
    "    label='Logistic')\n",
    "plt.legend(loc='lower right')\n",
    "plt.tight_layout()\n",
    "plt.savefig('images/13_8.png', dpi=300)\n",
    "plt.show()"
   ]
  },
  {
   "cell_type": "code",
   "execution_count": 36,
   "metadata": {},
   "outputs": [
    {
     "data": {
      "text/plain": [
       "array([-0.9999092 , -0.99990829, -0.99990737, ...,  0.99990644,\n",
       "        0.99990737,  0.99990829])"
      ]
     },
     "execution_count": 36,
     "metadata": {},
     "output_type": "execute_result"
    }
   ],
   "source": [
    "np.tanh(z)"
   ]
  },
  {
   "cell_type": "code",
   "execution_count": 37,
   "metadata": {},
   "outputs": [
    {
     "data": {
      "text/plain": [
       "<tf.Tensor: shape=(2000,), dtype=float64, numpy=\n",
       "array([-0.9999092 , -0.99990829, -0.99990737, ...,  0.99990644,\n",
       "        0.99990737,  0.99990829])>"
      ]
     },
     "execution_count": 37,
     "metadata": {},
     "output_type": "execute_result"
    }
   ],
   "source": [
    "import tensorflow as tf\n",
    "\n",
    "tf.keras.activations.tanh(z)"
   ]
  },
  {
   "cell_type": "code",
   "execution_count": 38,
   "metadata": {},
   "outputs": [
    {
     "data": {
      "text/plain": [
       "array([0.00669285, 0.00672617, 0.00675966, ..., 0.99320669, 0.99324034,\n",
       "       0.99327383])"
      ]
     },
     "execution_count": 38,
     "metadata": {},
     "output_type": "execute_result"
    }
   ],
   "source": [
    "from scipy.special import expit\n",
    "\n",
    "expit(z)"
   ]
  },
  {
   "cell_type": "code",
   "execution_count": 39,
   "metadata": {},
   "outputs": [
    {
     "data": {
      "text/plain": [
       "<tf.Tensor: shape=(2000,), dtype=float64, numpy=\n",
       "array([0.00669285, 0.00672617, 0.00675966, ..., 0.99320669, 0.99324034,\n",
       "       0.99327383])>"
      ]
     },
     "execution_count": 39,
     "metadata": {},
     "output_type": "execute_result"
    }
   ],
   "source": [
    "tf.keras.activations.sigmoid(z)"
   ]
  },
  {
   "cell_type": "markdown",
   "metadata": {},
   "source": [
    "### 렐루 활성화 함수"
   ]
  },
  {
   "cell_type": "code",
   "execution_count": 40,
   "metadata": {},
   "outputs": [
    {
     "data": {
      "text/plain": [
       "<tf.Tensor: shape=(2000,), dtype=float64, numpy=array([0.   , 0.   , 0.   , ..., 4.985, 4.99 , 4.995])>"
      ]
     },
     "execution_count": 40,
     "metadata": {},
     "output_type": "execute_result"
    }
   ],
   "source": [
    "import tensorflow as tf\n",
    "\n",
    "tf.keras.activations.relu(z)"
   ]
  },
  {
   "cell_type": "markdown",
   "metadata": {},
   "source": [
    "## 요약"
   ]
  },
  {
   "cell_type": "markdown",
   "metadata": {},
   "source": [
    "# 부록\n",
    "\n",
    "## 데이터셋 분할: 훈련/테스트 샘플을 섞으면 위험합니다"
   ]
  },
  {
   "cell_type": "code",
   "execution_count": 41,
   "metadata": {},
   "outputs": [
    {
     "name": "stdout",
     "output_type": "stream",
     "text": [
      "{0, 2, 4, 5, 6, 8, 9, 11, 13, 14} {1, 3, 7, 10, 12}\n"
     ]
    }
   ],
   "source": [
    "## 올바른 방법\n",
    "ds = tf.data.Dataset.range(15)\n",
    "ds = ds.shuffle(15, reshuffle_each_iteration=False)\n",
    "\n",
    "\n",
    "ds_train = ds.take(10)\n",
    "ds_test = ds.skip(10)\n",
    "\n",
    "ds_train = ds_train.shuffle(10).repeat(10)\n",
    "ds_test = ds_test.shuffle(5)\n",
    "ds_test = ds_test.repeat(10)\n",
    "\n",
    "set_train = set()\n",
    "for i,item in enumerate(ds_train):\n",
    "    set_train.add(item.numpy())\n",
    "\n",
    "set_test = set()\n",
    "for i,item in enumerate(ds_test):\n",
    "    set_test.add(item.numpy())\n",
    "\n",
    "print(set_train, set_test)"
   ]
  },
  {
   "cell_type": "code",
   "execution_count": 42,
   "metadata": {
    "scrolled": true
   },
   "outputs": [
    {
     "name": "stdout",
     "output_type": "stream",
     "text": [
      "{0, 1, 2, 3, 4, 5, 6, 7, 8, 9, 10, 11, 12, 13, 14} {0, 1, 2, 3, 4, 5, 6, 7, 8, 9, 10, 11, 12, 13, 14}\n"
     ]
    }
   ],
   "source": [
    "## 잘못된 방법:\n",
    "ds = tf.data.Dataset.range(15)\n",
    "ds = ds.shuffle(15, reshuffle_each_iteration=True)\n",
    "\n",
    "\n",
    "ds_train = ds.take(10)\n",
    "ds_test = ds.skip(10)\n",
    "\n",
    "ds_train = ds_train.shuffle(10).repeat(10)\n",
    "ds_test = ds_test.shuffle(5)\n",
    "ds_test = ds_test.repeat(10)\n",
    "\n",
    "set_train = set()\n",
    "for i,item in enumerate(ds_train):\n",
    "    set_train.add(item.numpy())\n",
    "\n",
    "set_test = set()\n",
    "for i,item in enumerate(ds_test):\n",
    "    set_test.add(item.numpy())\n",
    "\n",
    "print(set_train, set_test)"
   ]
  },
  {
   "cell_type": "markdown",
   "metadata": {},
   "source": [
    "### `tfds.Split`를 사용하여 데이터셋 나누기"
   ]
  },
  {
   "cell_type": "code",
   "execution_count": 43,
   "metadata": {},
   "outputs": [
    {
     "name": "stdout",
     "output_type": "stream",
     "text": [
      "{'features': <tf.Tensor: shape=(4,), dtype=float32, numpy=array([5.1, 3.4, 1.5, 0.2], dtype=float32)>, 'label': <tf.Tensor: shape=(), dtype=int64, numpy=0>}\n",
      "\n",
      "{'features': <tf.Tensor: shape=(4,), dtype=float32, numpy=array([6.3, 3.4, 5.6, 2.4], dtype=float32)>, 'label': <tf.Tensor: shape=(), dtype=int64, numpy=2>}\n",
      "(<tf.Tensor: shape=(4,), dtype=float32, numpy=array([5.6, 3. , 4.1, 1.3], dtype=float32)>, <tf.Tensor: shape=(), dtype=int64, numpy=1>)\n",
      "훈련 데이터셋:  100 테스트 데이터셋:  50\n",
      "15 16 19\n",
      "훈련 데이터셋:  100 테스트 데이터셋:  50\n",
      "15 16 19\n",
      "훈련 데이터셋:  100 테스트 데이터셋:  50\n",
      "15 16 19\n",
      "훈련 데이터셋:  100 테스트 데이터셋:  50\n",
      "15 16 19\n",
      "훈련 데이터셋:  100 테스트 데이터셋:  50\n",
      "15 16 19\n"
     ]
    }
   ],
   "source": [
    "import tensorflow as tf\n",
    "import tensorflow_datasets as tfds\n",
    "import numpy as np\n",
    "\n",
    "ds_train_orig = tfds.load('iris', split='train[:67%]')\n",
    "ds_test = tfds.load('iris', split='train[67%:]')\n",
    "\n",
    "print(next(iter(ds_train_orig)))\n",
    "print()\n",
    "print(next(iter(ds_test)))\n",
    "\n",
    "\n",
    "ds_train_orig = ds_train_orig.shuffle(100, reshuffle_each_iteration=True)\n",
    "ds_test  = ds_test.shuffle(50, reshuffle_each_iteration=False)\n",
    "\n",
    "ds_train_orig = ds_train_orig.map(\n",
    "    lambda x: (x['features'], x['label']))\n",
    "\n",
    "ds_test = ds_test.map(\n",
    "    lambda x: (x['features'], x['label']))\n",
    "\n",
    "print(next(iter(ds_train_orig)))\n",
    "\n",
    "\n",
    "for j in range(5):\n",
    "    labels_train = []\n",
    "    for i,item in enumerate(ds_train_orig):\n",
    "        labels_train.append(item[1].numpy())\n",
    "\n",
    "    labels_test = []\n",
    "    for i,item in enumerate(ds_test):\n",
    "        labels_test.append(item[1].numpy())\n",
    "    print('훈련 데이터셋: ',len(labels_train), '테스트 데이터셋: ', len(labels_test))\n",
    "\n",
    "    labels_test = np.array(labels_test)\n",
    "\n",
    "    print(np.sum(labels_test == 0), np.sum(labels_test == 1), np.sum(labels_test == 2))"
   ]
  }
 ],
 "metadata": {
  "kernelspec": {
   "display_name": "TensorFlow 2.3 on Python 3.6 (CUDA 10.1)",
   "language": "python",
   "name": "python3"
  },
  "language_info": {
   "codemirror_mode": {
    "name": "ipython",
    "version": 3
   },
   "file_extension": ".py",
   "mimetype": "text/x-python",
   "name": "python",
   "nbconvert_exporter": "python",
   "pygments_lexer": "ipython3",
   "version": "3.6.9"
  },
  "toc-showmarkdowntxt": false,
  "toc-showtags": false
 },
 "nbformat": 4,
 "nbformat_minor": 4
}
