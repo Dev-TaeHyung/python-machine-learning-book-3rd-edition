{
 "cells": [
  {
   "cell_type": "markdown",
   "metadata": {},
   "source": [
    "# 머신 러닝 교과서 2판"
   ]
  },
  {
   "cell_type": "markdown",
   "metadata": {},
   "source": [
    "# 13장 - 텐서플로를 사용한 신경망 훈련 (2/2)"
   ]
  },
  {
   "cell_type": "markdown",
   "metadata": {},
   "source": [
    "**아래 링크를 통해 이 노트북을 주피터 노트북 뷰어(nbviewer.jupyter.org)로 보거나 구글 코랩(colab.research.google.com)에서 실행할 수 있습니다.**\n",
    "\n",
    "<table class=\"tfo-notebook-buttons\" align=\"left\">\n",
    "  <td>\n",
    "    <a target=\"_blank\" href=\"https://nbviewer.jupyter.org/github/rickiepark/python-machine-learning-book-3rd-edition/blob/master/ch13/ch13_part2.ipynb\"><img src=\"https://jupyter.org/assets/main-logo.svg\" width=\"28\" />주피터 노트북 뷰어로 보기</a>\n",
    "  </td>\n",
    "  <td>\n",
    "    <a target=\"_blank\" href=\"https://colab.research.google.com/github/rickiepark/python-machine-learning-book-3rd-edition/blob/master/ch13/ch13_part2.ipynb\"><img src=\"https://www.tensorflow.org/images/colab_logo_32px.png\" />구글 코랩(Colab)에서 실행하기</a>\n",
    "  </td>\n",
    "</table>"
   ]
  },
  {
   "cell_type": "markdown",
   "metadata": {},
   "source": [
    "### 목차"
   ]
  },
  {
   "cell_type": "markdown",
   "metadata": {},
   "source": [
    "- 텐서플로로 신경망 모델 만들기\n",
    "  - 텐서플로 케라스 API (tf.keras)\n",
    "  - 선형 회귀 모델 만들기\n",
    "  - `.compile()`과 `.fit()` 메서드를 사용한 모델 훈련\n",
    "  - 붓꽃 데이터셋을 분류하는 다층 퍼셉트론 만들기\n",
    "  - 테스트 데이터셋에서 훈련된 모델 평가하기\n",
    "  - 훈련된 모델 저장하고 복원하기\n",
    "- 다층 신경망의 활성화 함수 선택\n",
    "  - 로지스틱 함수 요약\n",
    "  - 소프트맥스 함수를 사용한 다중 클래스 확률 예측\n",
    "  - 하이퍼볼릭 탄젠트로 출력 범위 넓히기\n",
    "  - 렐루 활성화 함수"
   ]
  },
  {
   "cell_type": "markdown",
   "metadata": {},
   "source": [
    "## 텐서플로로 신경망 모델 만들기"
   ]
  },
  {
   "cell_type": "markdown",
   "metadata": {},
   "source": [
    "### 텐서플로 케라스 API (tf.keras)"
   ]
  },
  {
   "cell_type": "markdown",
   "metadata": {},
   "source": [
    "### 선형 회귀 모델 만들기"
   ]
  },
  {
   "cell_type": "code",
   "execution_count": 1,
   "metadata": {},
   "outputs": [],
   "source": [
    "import tensorflow as tf\n",
    "import numpy as np\n",
    "import matplotlib.pyplot as plt"
   ]
  },
  {
   "cell_type": "code",
   "execution_count": 2,
   "metadata": {},
   "outputs": [
    {
     "data": {
      "image/png": "[encoded data removed]",
      "text/plain": [
       "<Figure size 432x288 with 1 Axes>"
      ]
     },
     "metadata": {
      "needs_background": "light"
     },
     "output_type": "display_data"
    }
   ],
   "source": [
    "X_train = np.arange(10).reshape((10, 1))\n",
    "y_train = np.array([1.0, 1.3, 3.1,\n",
    "                    2.0, 5.0, 6.3,\n",
    "                    6.6, 7.4, 8.0,\n",
    "                    9.0])\n",
    "\n",
    "\n",
    "plt.plot(X_train, y_train, 'o', markersize=10)\n",
    "plt.xlabel('x')\n",
    "plt.ylabel('y')\n",
    "plt.savefig('images/13_5.png', dpi=300)\n",
    "plt.show()"
   ]
  },
  {
   "cell_type": "code",
   "execution_count": 3,
   "metadata": {},
   "outputs": [],
   "source": [
    "X_train_norm = (X_train - np.mean(X_train))/np.std(X_train)\n",
    "\n",
    "ds_train_orig = tf.data.Dataset.from_tensor_slices(\n",
    "    (tf.cast(X_train_norm, tf.float32),\n",
    "     tf.cast(y_train, tf.float32)))"
   ]
  },
  {
   "cell_type": "code",
   "execution_count": 4,
   "metadata": {},
   "outputs": [
    {
     "name": "stdout",
     "output_type": "stream",
     "text": [
      "Model: \"my_model\"\n",
      "_________________________________________________________________\n",
      "Layer (type)                 Output Shape              Param #   \n",
      "=================================================================\n",
      "Total params: 2\n",
      "Trainable params: 2\n",
      "Non-trainable params: 0\n",
      "_________________________________________________________________\n"
     ]
    }
   ],
   "source": [
    "class MyModel(tf.keras.Model):\n",
    "    def __init__(self):\n",
    "        super(MyModel, self).__init__()\n",
    "        self.w = tf.Variable(0.0, name='weight')\n",
    "        self.b = tf.Variable(0.0, name='bias')\n",
    "\n",
    "    def call(self, x):\n",
    "        return self.w*x + self.b\n",
    "\n",
    "\n",
    "model = MyModel()\n",
    "\n",
    "model.build(input_shape=(None, 1))\n",
    "model.summary()"
   ]
  },
  {
   "cell_type": "code",
   "execution_count": 5,
   "metadata": {},
   "outputs": [
    {
     "data": {
      "text/plain": [
       "<tf.Tensor: shape=(), dtype=float32, numpy=0.25>"
      ]
     },
     "execution_count": 5,
     "metadata": {},
     "output_type": "execute_result"
    }
   ],
   "source": [
    "def loss_fn(y_true, y_pred):\n",
    "    return tf.reduce_mean(tf.square(y_true - y_pred))\n",
    "\n",
    "\n",
    "## testing the function:\n",
    "yt = tf.convert_to_tensor([1.0])\n",
    "yp = tf.convert_to_tensor([1.5])\n",
    "\n",
    "loss_fn(yt, yp)"
   ]
  },
  {
   "cell_type": "code",
   "execution_count": 6,
   "metadata": {},
   "outputs": [],
   "source": [
    "def train(model, inputs, outputs, learning_rate):\n",
    "    with tf.GradientTape() as tape:\n",
    "        current_loss = loss_fn(model(inputs), outputs)\n",
    "    dW, db = tape.gradient(current_loss, [model.w, model.b])\n",
    "    model.w.assign_sub(learning_rate * dW)\n",
    "    model.b.assign_sub(learning_rate * db)"
   ]
  },
  {
   "cell_type": "code",
   "execution_count": 7,
   "metadata": {},
   "outputs": [
    {
     "name": "stdout",
     "output_type": "stream",
     "text": [
      "에포크   0 스텝    0 손실 43.5600\n",
      "에포크  10 스텝  100 손실 0.7530\n",
      "에포크  20 스텝  200 손실 20.1759\n",
      "에포크  30 스텝  300 손실 23.3976\n",
      "에포크  40 스텝  400 손실 6.3481\n",
      "에포크  50 스텝  500 손실 4.6356\n",
      "에포크  60 스텝  600 손실 0.2411\n",
      "에포크  70 스텝  700 손실 0.2036\n",
      "에포크  80 스텝  800 손실 3.8177\n",
      "에포크  90 스텝  900 손실 0.9416\n",
      "에포크 100 스텝 1000 손실 0.7035\n",
      "에포크 110 스텝 1100 손실 0.0348\n",
      "에포크 120 스텝 1200 손실 0.5404\n",
      "에포크 130 스텝 1300 손실 0.1170\n",
      "에포크 140 스텝 1400 손실 0.1195\n",
      "에포크 150 스텝 1500 손실 0.0944\n",
      "에포크 160 스텝 1600 손실 0.4670\n",
      "에포크 170 스텝 1700 손실 2.0695\n",
      "에포크 180 스텝 1800 손실 0.0020\n",
      "에포크 190 스텝 1900 손실 0.3612\n"
     ]
    }
   ],
   "source": [
    "tf.random.set_seed(1)\n",
    "\n",
    "num_epochs = 200\n",
    "log_steps = 100\n",
    "learning_rate = 0.001\n",
    "batch_size = 1\n",
    "steps_per_epoch = int(np.ceil(len(y_train) / batch_size))\n",
    "\n",
    "\n",
    "ds_train = ds_train_orig.shuffle(buffer_size=len(y_train))\n",
    "ds_train = ds_train.repeat(count=None)\n",
    "ds_train = ds_train.batch(1)\n",
    "\n",
    "Ws, bs = [], []\n",
    "\n",
    "for i, batch in enumerate(ds_train):\n",
    "    if i >= steps_per_epoch * num_epochs:\n",
    "        break\n",
    "    Ws.append(model.w.numpy())\n",
    "    bs.append(model.b.numpy())\n",
    "\n",
    "    bx, by = batch\n",
    "    loss_val = loss_fn(model(bx), by)\n",
    "\n",
    "    train(model, bx, by, learning_rate=learning_rate)\n",
    "    if i%log_steps==0:\n",
    "        print('에포크 {:3d} 스텝 {:4d} 손실 {:6.4f}'.format(\n",
    "              int(i/steps_per_epoch), i, loss_val))"
   ]
  },
  {
   "cell_type": "code",
   "execution_count": 8,
   "metadata": {},
   "outputs": [
    {
     "name": "stdout",
     "output_type": "stream",
     "text": [
      "최종 파라미터: 2.6576622 4.8798566\n"
     ]
    },
    {
     "data": {
      "image/png": "[encoded data removed]",
      "text/plain": [
       "<Figure size 936x360 with 2 Axes>"
      ]
     },
     "metadata": {
      "needs_background": "light"
     },
     "output_type": "display_data"
    }
   ],
   "source": [
    "print('최종 파라미터:', model.w.numpy(), model.b.numpy())\n",
    "\n",
    "\n",
    "X_test = np.linspace(0, 9, num=100).reshape(-1, 1)\n",
    "X_test_norm = (X_test - np.mean(X_train)) / np.std(X_train)\n",
    "\n",
    "y_pred = model(tf.cast(X_test_norm, dtype=tf.float32))\n",
    "\n",
    "\n",
    "fig = plt.figure(figsize=(13, 5))\n",
    "ax = fig.add_subplot(1, 2, 1)\n",
    "plt.plot(X_train_norm, y_train, 'o', markersize=10)\n",
    "plt.plot(X_test_norm, y_pred, '--', lw=3)\n",
    "plt.legend(['Training examples', 'Linear Reg.'], fontsize=15)\n",
    "ax.set_xlabel('x', size=15)\n",
    "ax.set_ylabel('y', size=15)\n",
    "ax.tick_params(axis='both', which='major', labelsize=15)\n",
    "\n",
    "ax = fig.add_subplot(1, 2, 2)\n",
    "plt.plot(Ws, lw=3)\n",
    "plt.plot(bs, lw=3)\n",
    "plt.legend(['Weight w', 'Bias unit b'], fontsize=15)\n",
    "ax.set_xlabel('Iteration', size=15)\n",
    "ax.set_ylabel('Value', size=15)\n",
    "ax.tick_params(axis='both', which='major', labelsize=15)\n",
    "\n",
    "plt.savefig('images/13_6.png', dpi=300)\n",
    "plt.show()"
   ]
  },
  {
   "cell_type": "markdown",
   "metadata": {},
   "source": [
    "### `.compile()`과 `.fit()` 메서드를 사용한 모델 훈련"
   ]
  },
  {
   "cell_type": "code",
   "execution_count": 9,
   "metadata": {},
   "outputs": [],
   "source": [
    "tf.random.set_seed(1)\n",
    "model = MyModel()\n",
    "#model.build((None, 1))\n",
    "\n",
    "model.compile(optimizer='sgd', \n",
    "              loss=loss_fn,\n",
    "              metrics=['mae', 'mse'])"
   ]
  },
  {
   "cell_type": "code",
   "execution_count": 10,
   "metadata": {},
   "outputs": [
    {
     "name": "stdout",
     "output_type": "stream",
     "text": [
      "Epoch 1/200\n",
      "10/10 [==============================] - 0s 753us/step - loss: 24.1936 - mae: 4.2272 - mse: 24.1936\n",
      "Epoch 2/200\n",
      "10/10 [==============================] - 0s 586us/step - loss: 23.8432 - mae: 4.2359 - mse: 23.8432\n",
      "Epoch 3/200\n",
      "10/10 [==============================] - 0s 658us/step - loss: 14.6246 - mae: 3.3842 - mse: 14.6246\n",
      "Epoch 4/200\n",
      "10/10 [==============================] - 0s 486us/step - loss: 8.2254 - mae: 2.5414 - mse: 8.2254\n",
      "Epoch 5/200\n",
      "10/10 [==============================] - 0s 505us/step - loss: 5.2206 - mae: 1.9139 - mse: 5.2206\n",
      "Epoch 6/200\n",
      "10/10 [==============================] - 0s 655us/step - loss: 3.3134 - mae: 1.5093 - mse: 3.3134\n",
      "Epoch 7/200\n",
      "10/10 [==============================] - 0s 492us/step - loss: 2.9805 - mae: 1.5563 - mse: 2.9805\n",
      "Epoch 8/200\n",
      "10/10 [==============================] - 0s 493us/step - loss: 2.1105 - mae: 1.2776 - mse: 2.1105\n",
      "Epoch 9/200\n",
      "10/10 [==============================] - 0s 633us/step - loss: 1.8970 - mae: 1.2999 - mse: 1.8970\n",
      "Epoch 10/200\n",
      "10/10 [==============================] - 0s 659us/step - loss: 0.9328 - mae: 0.8259 - mse: 0.9328\n",
      "Epoch 11/200\n",
      "10/10 [==============================] - 0s 626us/step - loss: 0.8887 - mae: 0.9152 - mse: 0.8887\n",
      "Epoch 12/200\n",
      "10/10 [==============================] - 0s 660us/step - loss: 0.8297 - mae: 0.8509 - mse: 0.8297\n",
      "Epoch 13/200\n",
      "10/10 [==============================] - 0s 700us/step - loss: 0.4450 - mae: 0.6094 - mse: 0.4450\n",
      "Epoch 14/200\n",
      "10/10 [==============================] - 0s 577us/step - loss: 0.4804 - mae: 0.6258 - mse: 0.4804\n",
      "Epoch 15/200\n",
      "10/10 [==============================] - 0s 507us/step - loss: 0.2817 - mae: 0.4591 - mse: 0.2817\n",
      "Epoch 16/200\n",
      "10/10 [==============================] - 0s 537us/step - loss: 0.5373 - mae: 0.6403 - mse: 0.5373\n",
      "Epoch 17/200\n",
      "10/10 [==============================] - 0s 517us/step - loss: 0.5201 - mae: 0.5549 - mse: 0.5201\n",
      "Epoch 18/200\n",
      "10/10 [==============================] - 0s 464us/step - loss: 0.2951 - mae: 0.3662 - mse: 0.2951\n",
      "Epoch 19/200\n",
      "10/10 [==============================] - 0s 487us/step - loss: 0.1942 - mae: 0.3403 - mse: 0.1942\n",
      "Epoch 20/200\n",
      "10/10 [==============================] - 0s 530us/step - loss: 0.3044 - mae: 0.4255 - mse: 0.3044\n",
      "Epoch 21/200\n",
      "10/10 [==============================] - 0s 475us/step - loss: 0.2795 - mae: 0.4237 - mse: 0.2795\n",
      "Epoch 22/200\n",
      "10/10 [==============================] - 0s 544us/step - loss: 0.4555 - mae: 0.5399 - mse: 0.4555\n",
      "Epoch 23/200\n",
      "10/10 [==============================] - 0s 506us/step - loss: 0.3626 - mae: 0.4391 - mse: 0.3626\n",
      "Epoch 24/200\n",
      "10/10 [==============================] - 0s 495us/step - loss: 0.3867 - mae: 0.4689 - mse: 0.3867\n",
      "Epoch 25/200\n",
      "10/10 [==============================] - 0s 502us/step - loss: 0.2394 - mae: 0.3927 - mse: 0.2394\n",
      "Epoch 26/200\n",
      "10/10 [==============================] - 0s 472us/step - loss: 0.3912 - mae: 0.5012 - mse: 0.3912\n",
      "Epoch 27/200\n",
      "10/10 [==============================] - 0s 539us/step - loss: 0.3323 - mae: 0.4379 - mse: 0.3323\n",
      "Epoch 28/200\n",
      "10/10 [==============================] - 0s 472us/step - loss: 0.3846 - mae: 0.5338 - mse: 0.3846\n",
      "Epoch 29/200\n",
      "10/10 [==============================] - 0s 490us/step - loss: 0.2362 - mae: 0.3619 - mse: 0.2362\n",
      "Epoch 30/200\n",
      "10/10 [==============================] - 0s 489us/step - loss: 0.7851 - mae: 0.6926 - mse: 0.7851\n",
      "Epoch 31/200\n",
      "10/10 [==============================] - 0s 515us/step - loss: 0.4120 - mae: 0.4843 - mse: 0.4120\n",
      "Epoch 32/200\n",
      "10/10 [==============================] - 0s 590us/step - loss: 0.3847 - mae: 0.5144 - mse: 0.3847\n",
      "Epoch 33/200\n",
      "10/10 [==============================] - 0s 460us/step - loss: 0.3172 - mae: 0.4187 - mse: 0.3172\n",
      "Epoch 34/200\n",
      "10/10 [==============================] - 0s 485us/step - loss: 0.3349 - mae: 0.4898 - mse: 0.3349\n",
      "Epoch 35/200\n",
      "10/10 [==============================] - 0s 483us/step - loss: 0.5377 - mae: 0.5119 - mse: 0.5377\n",
      "Epoch 36/200\n",
      "10/10 [==============================] - 0s 561us/step - loss: 0.3101 - mae: 0.4002 - mse: 0.3101\n",
      "Epoch 37/200\n",
      "10/10 [==============================] - 0s 526us/step - loss: 0.2176 - mae: 0.3924 - mse: 0.2176\n",
      "Epoch 38/200\n",
      "10/10 [==============================] - 0s 477us/step - loss: 0.7601 - mae: 0.6564 - mse: 0.7601\n",
      "Epoch 39/200\n",
      "10/10 [==============================] - 0s 483us/step - loss: 0.2445 - mae: 0.4100 - mse: 0.2445\n",
      "Epoch 40/200\n",
      "10/10 [==============================] - 0s 476us/step - loss: 0.8047 - mae: 0.7008 - mse: 0.8047\n",
      "Epoch 41/200\n",
      "10/10 [==============================] - 0s 515us/step - loss: 0.3977 - mae: 0.5399 - mse: 0.3977\n",
      "Epoch 42/200\n",
      "10/10 [==============================] - 0s 544us/step - loss: 0.7664 - mae: 0.6607 - mse: 0.7664\n",
      "Epoch 43/200\n",
      "10/10 [==============================] - 0s 480us/step - loss: 0.2975 - mae: 0.3668 - mse: 0.2975\n",
      "Epoch 44/200\n",
      "10/10 [==============================] - 0s 477us/step - loss: 0.2591 - mae: 0.4132 - mse: 0.2591\n",
      "Epoch 45/200\n",
      "10/10 [==============================] - 0s 515us/step - loss: 0.3172 - mae: 0.4248 - mse: 0.3172\n",
      "Epoch 46/200\n",
      "10/10 [==============================] - 0s 508us/step - loss: 0.4192 - mae: 0.5029 - mse: 0.4192\n",
      "Epoch 47/200\n",
      "10/10 [==============================] - 0s 534us/step - loss: 0.3936 - mae: 0.4583 - mse: 0.3936\n",
      "Epoch 48/200\n",
      "10/10 [==============================] - 0s 688us/step - loss: 0.8113 - mae: 0.7212 - mse: 0.8113\n",
      "Epoch 49/200\n",
      "10/10 [==============================] - 0s 556us/step - loss: 0.5620 - mae: 0.5484 - mse: 0.5620\n",
      "Epoch 50/200\n",
      "10/10 [==============================] - 0s 581us/step - loss: 0.3538 - mae: 0.5022 - mse: 0.3538\n",
      "Epoch 51/200\n",
      "10/10 [==============================] - 0s 708us/step - loss: 0.5954 - mae: 0.6010 - mse: 0.5954\n",
      "Epoch 52/200\n",
      "10/10 [==============================] - 0s 821us/step - loss: 0.5402 - mae: 0.5305 - mse: 0.5402\n",
      "Epoch 53/200\n",
      "10/10 [==============================] - 0s 596us/step - loss: 0.8653 - mae: 0.7598 - mse: 0.8653\n",
      "Epoch 54/200\n",
      "10/10 [==============================] - 0s 464us/step - loss: 0.2562 - mae: 0.3927 - mse: 0.2562\n",
      "Epoch 55/200\n",
      "10/10 [==============================] - 0s 579us/step - loss: 0.2042 - mae: 0.3775 - mse: 0.2042\n",
      "Epoch 56/200\n",
      "10/10 [==============================] - 0s 478us/step - loss: 0.2483 - mae: 0.3920 - mse: 0.2483\n",
      "Epoch 57/200\n",
      "10/10 [==============================] - 0s 467us/step - loss: 0.3864 - mae: 0.5002 - mse: 0.3864\n",
      "Epoch 58/200\n",
      "10/10 [==============================] - 0s 477us/step - loss: 0.2718 - mae: 0.4285 - mse: 0.2718\n",
      "Epoch 59/200\n",
      "10/10 [==============================] - 0s 480us/step - loss: 0.2321 - mae: 0.4072 - mse: 0.2321\n",
      "Epoch 60/200\n",
      "10/10 [==============================] - 0s 503us/step - loss: 0.5449 - mae: 0.5434 - mse: 0.5449\n",
      "Epoch 61/200\n",
      "10/10 [==============================] - 0s 443us/step - loss: 0.2031 - mae: 0.3883 - mse: 0.2031\n",
      "Epoch 62/200\n",
      "10/10 [==============================] - 0s 503us/step - loss: 0.7934 - mae: 0.7047 - mse: 0.7934\n",
      "Epoch 63/200\n",
      "10/10 [==============================] - 0s 446us/step - loss: 0.5936 - mae: 0.5950 - mse: 0.5936\n",
      "Epoch 64/200\n",
      "10/10 [==============================] - 0s 515us/step - loss: 0.2606 - mae: 0.3668 - mse: 0.2606\n",
      "Epoch 65/200\n",
      "10/10 [==============================] - 0s 471us/step - loss: 0.3438 - mae: 0.4384 - mse: 0.3438\n",
      "Epoch 66/200\n",
      "10/10 [==============================] - 0s 455us/step - loss: 0.4675 - mae: 0.5118 - mse: 0.4675\n",
      "Epoch 67/200\n",
      "10/10 [==============================] - 0s 465us/step - loss: 0.2584 - mae: 0.3911 - mse: 0.2584\n",
      "Epoch 68/200\n",
      "10/10 [==============================] - 0s 463us/step - loss: 0.5875 - mae: 0.6291 - mse: 0.5875\n",
      "Epoch 69/200\n",
      "10/10 [==============================] - 0s 523us/step - loss: 0.1821 - mae: 0.3141 - mse: 0.1821\n",
      "Epoch 70/200\n",
      "10/10 [==============================] - 0s 456us/step - loss: 0.3040 - mae: 0.4118 - mse: 0.3040\n",
      "Epoch 71/200\n",
      "10/10 [==============================] - 0s 482us/step - loss: 0.4544 - mae: 0.5132 - mse: 0.4544\n",
      "Epoch 72/200\n",
      "10/10 [==============================] - 0s 483us/step - loss: 0.5460 - mae: 0.5342 - mse: 0.5460\n",
      "Epoch 73/200\n",
      "10/10 [==============================] - 0s 535us/step - loss: 0.3320 - mae: 0.4542 - mse: 0.3320\n",
      "Epoch 74/200\n",
      "10/10 [==============================] - 0s 591us/step - loss: 0.3499 - mae: 0.4605 - mse: 0.3499\n",
      "Epoch 75/200\n",
      "10/10 [==============================] - 0s 501us/step - loss: 0.7681 - mae: 0.6484 - mse: 0.7681\n",
      "Epoch 76/200\n",
      "10/10 [==============================] - 0s 471us/step - loss: 0.5020 - mae: 0.5340 - mse: 0.5020\n",
      "Epoch 77/200\n",
      "10/10 [==============================] - 0s 463us/step - loss: 0.1693 - mae: 0.3262 - mse: 0.1693\n",
      "Epoch 78/200\n",
      "10/10 [==============================] - 0s 479us/step - loss: 0.2092 - mae: 0.3847 - mse: 0.2092\n",
      "Epoch 79/200\n",
      "10/10 [==============================] - 0s 547us/step - loss: 0.2162 - mae: 0.3704 - mse: 0.2162\n",
      "Epoch 80/200\n",
      "10/10 [==============================] - 0s 482us/step - loss: 0.2709 - mae: 0.4493 - mse: 0.2709\n",
      "Epoch 81/200\n",
      "10/10 [==============================] - 0s 484us/step - loss: 0.4762 - mae: 0.4814 - mse: 0.4762\n",
      "Epoch 82/200\n",
      "10/10 [==============================] - 0s 492us/step - loss: 0.2886 - mae: 0.3843 - mse: 0.2886\n",
      "Epoch 83/200\n",
      "10/10 [==============================] - 0s 475us/step - loss: 0.8198 - mae: 0.7211 - mse: 0.8198\n",
      "Epoch 84/200\n",
      "10/10 [==============================] - 0s 511us/step - loss: 0.3680 - mae: 0.4936 - mse: 0.3680\n",
      "Epoch 85/200\n",
      "10/10 [==============================] - 0s 471us/step - loss: 0.3039 - mae: 0.4221 - mse: 0.3039\n",
      "Epoch 86/200\n",
      "10/10 [==============================] - 0s 456us/step - loss: 0.4454 - mae: 0.4715 - mse: 0.4454\n",
      "Epoch 87/200\n",
      "10/10 [==============================] - 0s 562us/step - loss: 0.3610 - mae: 0.5144 - mse: 0.3610\n",
      "Epoch 88/200\n",
      "10/10 [==============================] - 0s 469us/step - loss: 0.8376 - mae: 0.7377 - mse: 0.8376\n",
      "Epoch 89/200\n",
      "10/10 [==============================] - 0s 514us/step - loss: 0.5671 - mae: 0.5372 - mse: 0.5671\n",
      "Epoch 90/200\n",
      "10/10 [==============================] - 0s 463us/step - loss: 0.7518 - mae: 0.6427 - mse: 0.7518\n",
      "Epoch 91/200\n",
      "10/10 [==============================] - 0s 433us/step - loss: 0.6157 - mae: 0.5943 - mse: 0.6157\n",
      "Epoch 92/200\n",
      "10/10 [==============================] - 0s 489us/step - loss: 0.2529 - mae: 0.3548 - mse: 0.2529\n",
      "Epoch 93/200\n",
      "10/10 [==============================] - 0s 462us/step - loss: 0.2084 - mae: 0.3424 - mse: 0.2084\n",
      "Epoch 94/200\n",
      "10/10 [==============================] - 0s 457us/step - loss: 0.3353 - mae: 0.4665 - mse: 0.3353\n",
      "Epoch 95/200\n",
      "10/10 [==============================] - 0s 487us/step - loss: 0.2514 - mae: 0.3911 - mse: 0.2514\n",
      "Epoch 96/200\n",
      "10/10 [==============================] - 0s 576us/step - loss: 0.2906 - mae: 0.4099 - mse: 0.2906\n",
      "Epoch 97/200\n",
      "10/10 [==============================] - 0s 481us/step - loss: 0.5654 - mae: 0.5620 - mse: 0.5654\n",
      "Epoch 98/200\n",
      "10/10 [==============================] - 0s 464us/step - loss: 0.3141 - mae: 0.4159 - mse: 0.3141\n",
      "Epoch 99/200\n",
      "10/10 [==============================] - 0s 444us/step - loss: 0.4902 - mae: 0.5318 - mse: 0.4902\n",
      "Epoch 100/200\n",
      "10/10 [==============================] - 0s 520us/step - loss: 0.1871 - mae: 0.3171 - mse: 0.1871\n",
      "Epoch 101/200\n",
      "10/10 [==============================] - 0s 473us/step - loss: 0.2352 - mae: 0.4121 - mse: 0.2352\n",
      "Epoch 102/200\n",
      "10/10 [==============================] - 0s 567us/step - loss: 0.2772 - mae: 0.4280 - mse: 0.2772\n",
      "Epoch 103/200\n",
      "10/10 [==============================] - 0s 489us/step - loss: 0.2917 - mae: 0.3983 - mse: 0.2917\n",
      "Epoch 104/200\n",
      "10/10 [==============================] - 0s 506us/step - loss: 0.6239 - mae: 0.6193 - mse: 0.6239\n",
      "Epoch 105/200\n",
      "10/10 [==============================] - 0s 549us/step - loss: 0.8162 - mae: 0.7137 - mse: 0.8162\n",
      "Epoch 106/200\n",
      "10/10 [==============================] - 0s 466us/step - loss: 0.5585 - mae: 0.6069 - mse: 0.5585\n",
      "Epoch 107/200\n",
      "10/10 [==============================] - 0s 586us/step - loss: 0.3350 - mae: 0.4842 - mse: 0.3350\n",
      "Epoch 108/200\n",
      "10/10 [==============================] - 0s 475us/step - loss: 0.7845 - mae: 0.6904 - mse: 0.7845\n",
      "Epoch 109/200\n",
      "10/10 [==============================] - 0s 470us/step - loss: 0.3094 - mae: 0.3954 - mse: 0.3094\n",
      "Epoch 110/200\n",
      "10/10 [==============================] - 0s 548us/step - loss: 0.2588 - mae: 0.4099 - mse: 0.2588\n",
      "Epoch 111/200\n",
      "10/10 [==============================] - 0s 511us/step - loss: 0.3195 - mae: 0.4695 - mse: 0.3195\n",
      "Epoch 112/200\n",
      "10/10 [==============================] - 0s 517us/step - loss: 0.2389 - mae: 0.3680 - mse: 0.2389\n",
      "Epoch 113/200\n",
      "10/10 [==============================] - 0s 449us/step - loss: 0.5558 - mae: 0.5858 - mse: 0.5558\n",
      "Epoch 114/200\n",
      "10/10 [==============================] - 0s 464us/step - loss: 0.1915 - mae: 0.3388 - mse: 0.1915\n",
      "Epoch 115/200\n",
      "10/10 [==============================] - 0s 501us/step - loss: 0.2183 - mae: 0.3559 - mse: 0.2183\n",
      "Epoch 116/200\n",
      "10/10 [==============================] - 0s 453us/step - loss: 0.2312 - mae: 0.3762 - mse: 0.2312\n",
      "Epoch 117/200\n",
      "10/10 [==============================] - 0s 532us/step - loss: 0.3549 - mae: 0.4996 - mse: 0.3549\n",
      "Epoch 118/200\n",
      "10/10 [==============================] - 0s 460us/step - loss: 0.3110 - mae: 0.4342 - mse: 0.3110\n",
      "Epoch 119/200\n",
      "10/10 [==============================] - 0s 508us/step - loss: 0.1738 - mae: 0.3366 - mse: 0.1738\n",
      "Epoch 120/200\n",
      "10/10 [==============================] - 0s 474us/step - loss: 0.3958 - mae: 0.5002 - mse: 0.3958\n",
      "Epoch 121/200\n",
      "10/10 [==============================] - 0s 460us/step - loss: 0.8830 - mae: 0.7789 - mse: 0.8830\n",
      "Epoch 122/200\n",
      "10/10 [==============================] - 0s 533us/step - loss: 0.4212 - mae: 0.5280 - mse: 0.4212\n",
      "Epoch 123/200\n",
      "10/10 [==============================] - 0s 450us/step - loss: 0.2842 - mae: 0.4446 - mse: 0.2842\n",
      "Epoch 124/200\n",
      "10/10 [==============================] - 0s 487us/step - loss: 0.2857 - mae: 0.4002 - mse: 0.2857\n",
      "Epoch 125/200\n",
      "10/10 [==============================] - 0s 489us/step - loss: 0.5480 - mae: 0.5322 - mse: 0.5480\n",
      "Epoch 126/200\n",
      "10/10 [==============================] - 0s 500us/step - loss: 0.5386 - mae: 0.5912 - mse: 0.5386\n",
      "Epoch 127/200\n",
      "10/10 [==============================] - 0s 486us/step - loss: 0.2217 - mae: 0.3646 - mse: 0.2217\n",
      "Epoch 128/200\n",
      "10/10 [==============================] - 0s 508us/step - loss: 0.4735 - mae: 0.5466 - mse: 0.4735\n",
      "Epoch 129/200\n",
      "10/10 [==============================] - 0s 445us/step - loss: 0.2485 - mae: 0.3819 - mse: 0.2485\n",
      "Epoch 130/200\n",
      "10/10 [==============================] - 0s 558us/step - loss: 0.3902 - mae: 0.4872 - mse: 0.3902\n",
      "Epoch 131/200\n",
      "10/10 [==============================] - 0s 458us/step - loss: 0.2744 - mae: 0.4125 - mse: 0.2744\n",
      "Epoch 132/200\n",
      "10/10 [==============================] - 0s 469us/step - loss: 0.2972 - mae: 0.4164 - mse: 0.2972\n",
      "Epoch 133/200\n",
      "10/10 [==============================] - 0s 474us/step - loss: 0.2745 - mae: 0.4052 - mse: 0.2745\n",
      "Epoch 134/200\n",
      "10/10 [==============================] - 0s 447us/step - loss: 0.1729 - mae: 0.3501 - mse: 0.1729\n",
      "Epoch 135/200\n",
      "10/10 [==============================] - 0s 474us/step - loss: 0.5724 - mae: 0.5640 - mse: 0.5724\n",
      "Epoch 136/200\n",
      "10/10 [==============================] - 0s 472us/step - loss: 0.3282 - mae: 0.4971 - mse: 0.3282\n",
      "Epoch 137/200\n",
      "10/10 [==============================] - 0s 449us/step - loss: 0.1992 - mae: 0.3285 - mse: 0.1992\n",
      "Epoch 138/200\n",
      "10/10 [==============================] - 0s 462us/step - loss: 0.7444 - mae: 0.6341 - mse: 0.7444\n",
      "Epoch 139/200\n",
      "10/10 [==============================] - 0s 476us/step - loss: 0.2626 - mae: 0.4351 - mse: 0.2626\n",
      "Epoch 140/200\n",
      "10/10 [==============================] - 0s 480us/step - loss: 0.5175 - mae: 0.5163 - mse: 0.5175\n",
      "Epoch 141/200\n",
      "10/10 [==============================] - 0s 522us/step - loss: 0.3142 - mae: 0.4428 - mse: 0.3142\n",
      "Epoch 142/200\n",
      "10/10 [==============================] - 0s 447us/step - loss: 0.1792 - mae: 0.3609 - mse: 0.1792\n",
      "Epoch 143/200\n",
      "10/10 [==============================] - 0s 486us/step - loss: 0.2919 - mae: 0.4099 - mse: 0.2919\n",
      "Epoch 144/200\n",
      "10/10 [==============================] - 0s 506us/step - loss: 0.5664 - mae: 0.5535 - mse: 0.5664\n",
      "Epoch 145/200\n",
      "10/10 [==============================] - 0s 559us/step - loss: 0.2169 - mae: 0.3843 - mse: 0.2169\n",
      "Epoch 146/200\n",
      "10/10 [==============================] - 0s 502us/step - loss: 0.3054 - mae: 0.4204 - mse: 0.3054\n",
      "Epoch 147/200\n"
     ]
    },
    {
     "name": "stdout",
     "output_type": "stream",
     "text": [
      "10/10 [==============================] - 0s 449us/step - loss: 0.1988 - mae: 0.3741 - mse: 0.1988\n",
      "Epoch 148/200\n",
      "10/10 [==============================] - 0s 505us/step - loss: 0.2731 - mae: 0.3760 - mse: 0.2731\n",
      "Epoch 149/200\n",
      "10/10 [==============================] - 0s 460us/step - loss: 0.1738 - mae: 0.3364 - mse: 0.1738\n",
      "Epoch 150/200\n",
      "10/10 [==============================] - 0s 479us/step - loss: 0.5995 - mae: 0.5936 - mse: 0.5995\n",
      "Epoch 151/200\n",
      "10/10 [==============================] - 0s 513us/step - loss: 0.3315 - mae: 0.4207 - mse: 0.3315\n",
      "Epoch 152/200\n",
      "10/10 [==============================] - 0s 451us/step - loss: 0.2122 - mae: 0.3562 - mse: 0.2122\n",
      "Epoch 153/200\n",
      "10/10 [==============================] - 0s 530us/step - loss: 0.5835 - mae: 0.5471 - mse: 0.5835\n",
      "Epoch 154/200\n",
      "10/10 [==============================] - 0s 458us/step - loss: 0.3150 - mae: 0.4616 - mse: 0.3150\n",
      "Epoch 155/200\n",
      "10/10 [==============================] - 0s 480us/step - loss: 0.8182 - mae: 0.7285 - mse: 0.8182\n",
      "Epoch 156/200\n",
      "10/10 [==============================] - 0s 464us/step - loss: 0.2916 - mae: 0.3990 - mse: 0.2916\n",
      "Epoch 157/200\n",
      "10/10 [==============================] - 0s 450us/step - loss: 0.2971 - mae: 0.3759 - mse: 0.2971\n",
      "Epoch 158/200\n",
      "10/10 [==============================] - 0s 523us/step - loss: 0.2364 - mae: 0.4113 - mse: 0.2364\n",
      "Epoch 159/200\n",
      "10/10 [==============================] - 0s 456us/step - loss: 0.2849 - mae: 0.4386 - mse: 0.2849\n",
      "Epoch 160/200\n",
      "10/10 [==============================] - 0s 465us/step - loss: 0.2842 - mae: 0.4249 - mse: 0.2842\n",
      "Epoch 161/200\n",
      "10/10 [==============================] - 0s 483us/step - loss: 0.2872 - mae: 0.4373 - mse: 0.2872\n",
      "Epoch 162/200\n",
      "10/10 [==============================] - 0s 458us/step - loss: 0.4109 - mae: 0.5298 - mse: 0.4109\n",
      "Epoch 163/200\n",
      "10/10 [==============================] - 0s 557us/step - loss: 0.4325 - mae: 0.4857 - mse: 0.4325\n",
      "Epoch 164/200\n",
      "10/10 [==============================] - 0s 475us/step - loss: 0.2677 - mae: 0.4293 - mse: 0.2677\n",
      "Epoch 165/200\n",
      "10/10 [==============================] - 0s 461us/step - loss: 0.1348 - mae: 0.2773 - mse: 0.1348\n",
      "Epoch 166/200\n",
      "10/10 [==============================] - 0s 502us/step - loss: 0.7438 - mae: 0.6346 - mse: 0.7438\n",
      "Epoch 167/200\n",
      "10/10 [==============================] - 0s 465us/step - loss: 0.3561 - mae: 0.4454 - mse: 0.3561\n",
      "Epoch 168/200\n",
      "10/10 [==============================] - 0s 483us/step - loss: 0.2939 - mae: 0.4504 - mse: 0.2939\n",
      "Epoch 169/200\n",
      "10/10 [==============================] - 0s 453us/step - loss: 0.4681 - mae: 0.5181 - mse: 0.4681\n",
      "Epoch 170/200\n",
      "10/10 [==============================] - 0s 455us/step - loss: 0.3065 - mae: 0.4405 - mse: 0.3065\n",
      "Epoch 171/200\n",
      "10/10 [==============================] - 0s 528us/step - loss: 0.2935 - mae: 0.4557 - mse: 0.2935\n",
      "Epoch 172/200\n",
      "10/10 [==============================] - 0s 468us/step - loss: 0.3230 - mae: 0.4262 - mse: 0.3230\n",
      "Epoch 173/200\n",
      "10/10 [==============================] - 0s 465us/step - loss: 0.2087 - mae: 0.3784 - mse: 0.2087\n",
      "Epoch 174/200\n",
      "10/10 [==============================] - 0s 456us/step - loss: 0.2287 - mae: 0.3510 - mse: 0.2287\n",
      "Epoch 175/200\n",
      "10/10 [==============================] - 0s 445us/step - loss: 0.7907 - mae: 0.6916 - mse: 0.7907\n",
      "Epoch 176/200\n",
      "10/10 [==============================] - 0s 478us/step - loss: 0.5364 - mae: 0.5284 - mse: 0.5364\n",
      "Epoch 177/200\n",
      "10/10 [==============================] - 0s 456us/step - loss: 0.8665 - mae: 0.7372 - mse: 0.8665\n",
      "Epoch 178/200\n",
      "10/10 [==============================] - 0s 463us/step - loss: 0.5847 - mae: 0.6224 - mse: 0.5847\n",
      "Epoch 179/200\n",
      "10/10 [==============================] - 0s 489us/step - loss: 0.3880 - mae: 0.4856 - mse: 0.3880\n",
      "Epoch 180/200\n",
      "10/10 [==============================] - 0s 484us/step - loss: 0.6278 - mae: 0.6221 - mse: 0.6278\n",
      "Epoch 181/200\n",
      "10/10 [==============================] - 0s 525us/step - loss: 0.3030 - mae: 0.4625 - mse: 0.3030\n",
      "Epoch 182/200\n",
      "10/10 [==============================] - 0s 516us/step - loss: 0.3913 - mae: 0.5006 - mse: 0.3913\n",
      "Epoch 183/200\n",
      "10/10 [==============================] - 0s 450us/step - loss: 0.3108 - mae: 0.4393 - mse: 0.3108\n",
      "Epoch 184/200\n",
      "10/10 [==============================] - 0s 497us/step - loss: 0.7759 - mae: 0.6817 - mse: 0.7759\n",
      "Epoch 185/200\n",
      "10/10 [==============================] - 0s 446us/step - loss: 0.3121 - mae: 0.4355 - mse: 0.3121\n",
      "Epoch 186/200\n",
      "10/10 [==============================] - 0s 699us/step - loss: 0.2102 - mae: 0.3742 - mse: 0.2102\n",
      "Epoch 187/200\n",
      "10/10 [==============================] - 0s 635us/step - loss: 0.3768 - mae: 0.4584 - mse: 0.3768\n",
      "Epoch 188/200\n",
      "10/10 [==============================] - 0s 631us/step - loss: 0.2540 - mae: 0.4124 - mse: 0.2540\n",
      "Epoch 189/200\n",
      "10/10 [==============================] - 0s 547us/step - loss: 0.2638 - mae: 0.4008 - mse: 0.2638\n",
      "Epoch 190/200\n",
      "10/10 [==============================] - 0s 584us/step - loss: 0.2589 - mae: 0.3931 - mse: 0.2589\n",
      "Epoch 191/200\n",
      "10/10 [==============================] - 0s 489us/step - loss: 0.7691 - mae: 0.6632 - mse: 0.7691\n",
      "Epoch 192/200\n",
      "10/10 [==============================] - 0s 534us/step - loss: 0.3811 - mae: 0.5016 - mse: 0.3811\n",
      "Epoch 193/200\n",
      "10/10 [==============================] - 0s 527us/step - loss: 0.4022 - mae: 0.4684 - mse: 0.4022\n",
      "Epoch 194/200\n",
      "10/10 [==============================] - 0s 502us/step - loss: 0.2712 - mae: 0.4048 - mse: 0.2712\n",
      "Epoch 195/200\n",
      "10/10 [==============================] - 0s 503us/step - loss: 0.2530 - mae: 0.3485 - mse: 0.2530\n",
      "Epoch 196/200\n",
      "10/10 [==============================] - 0s 507us/step - loss: 0.4426 - mae: 0.5243 - mse: 0.4426\n",
      "Epoch 197/200\n",
      "10/10 [==============================] - 0s 488us/step - loss: 0.3621 - mae: 0.4244 - mse: 0.3621\n",
      "Epoch 198/200\n",
      "10/10 [==============================] - 0s 561us/step - loss: 0.2078 - mae: 0.3295 - mse: 0.2078\n",
      "Epoch 199/200\n",
      "10/10 [==============================] - 0s 567us/step - loss: 0.3584 - mae: 0.4830 - mse: 0.3584\n",
      "Epoch 200/200\n",
      "10/10 [==============================] - 0s 544us/step - loss: 0.2087 - mae: 0.3927 - mse: 0.2087\n"
     ]
    },
    {
     "data": {
      "text/plain": [
       "<tensorflow.python.keras.callbacks.History at 0x7fc07137f748>"
      ]
     },
     "execution_count": 10,
     "metadata": {},
     "output_type": "execute_result"
    }
   ],
   "source": [
    "model.fit(X_train_norm, y_train, \n",
    "          epochs=num_epochs, batch_size=batch_size,\n",
    "          verbose=1)\n"
   ]
  },
  {
   "cell_type": "code",
   "execution_count": 11,
   "metadata": {},
   "outputs": [
    {
     "name": "stdout",
     "output_type": "stream",
     "text": [
      "2.7067394 4.9657216\n"
     ]
    },
    {
     "data": {
      "image/png": "[encoded data removed]",
      "text/plain": [
       "<Figure size 936x360 with 2 Axes>"
      ]
     },
     "metadata": {
      "needs_background": "light"
     },
     "output_type": "display_data"
    }
   ],
   "source": [
    "print(model.w.numpy(), model.b.numpy())\n",
    "\n",
    "\n",
    "X_test = np.linspace(0, 9, num=100).reshape(-1, 1)\n",
    "X_test_norm = (X_test - np.mean(X_train)) / np.std(X_train)\n",
    "\n",
    "y_pred = model(tf.cast(X_test_norm, dtype=tf.float32))\n",
    "\n",
    "\n",
    "fig = plt.figure(figsize=(13, 5))\n",
    "ax = fig.add_subplot(1, 2, 1)\n",
    "plt.plot(X_train_norm, y_train, 'o', markersize=10)\n",
    "plt.plot(X_test_norm, y_pred, '--', lw=3)\n",
    "plt.legend(['Training Samples', 'Linear Regression'], fontsize=15)\n",
    "\n",
    "ax = fig.add_subplot(1, 2, 2)\n",
    "plt.plot(Ws, lw=3)\n",
    "plt.plot(bs, lw=3)\n",
    "plt.legend(['W', 'bias'], fontsize=15)\n",
    "plt.show()"
   ]
  },
  {
   "cell_type": "markdown",
   "metadata": {},
   "source": [
    "## 붓꽃 데이터셋을 분류하는 다층 퍼셉트로 만들기"
   ]
  },
  {
   "cell_type": "code",
   "execution_count": 12,
   "metadata": {},
   "outputs": [
    {
     "name": "stdout",
     "output_type": "stream",
     "text": [
      "tfds.core.DatasetInfo(\n",
      "    name='iris',\n",
      "    version=2.0.0,\n",
      "    description='This is perhaps the best known database to be found in the pattern recognition\n",
      "literature. Fisher's paper is a classic in the field and is referenced\n",
      "frequently to this day. (See Duda & Hart, for example.) The data set contains\n",
      "3 classes of 50 instances each, where each class refers to a type of iris\n",
      "plant. One class is linearly separable from the other 2; the latter are NOT\n",
      "linearly separable from each other.',\n",
      "    homepage='https://archive.ics.uci.edu/ml/datasets/iris',\n",
      "    features=FeaturesDict({\n",
      "        'features': Tensor(shape=(4,), dtype=tf.float32),\n",
      "        'label': ClassLabel(shape=(), dtype=tf.int64, num_classes=3),\n",
      "    }),\n",
      "    total_num_examples=150,\n",
      "    splits={\n",
      "        'train': 150,\n",
      "    },\n",
      "    supervised_keys=('features', 'label'),\n",
      "    citation=\"\"\"@misc{Dua:2019 ,\n",
      "    author = \"Dua, Dheeru and Graff, Casey\",\n",
      "    year = \"2017\",\n",
      "    title = \"{UCI} Machine Learning Repository\",\n",
      "    url = \"http://archive.ics.uci.edu/ml\",\n",
      "    institution = \"University of California, Irvine, School of Information and Computer Sciences\"\n",
      "    }\"\"\",\n",
      "    redistribution_info=,\n",
      ")\n",
      "\n"
     ]
    }
   ],
   "source": [
    "import tensorflow_datasets as tfds\n",
    "\n",
    "\n",
    "\n",
    "iris, iris_info = tfds.load('iris', with_info=True)\n",
    "\n",
    "print(iris_info)"
   ]
  },
  {
   "cell_type": "code",
   "execution_count": 13,
   "metadata": {},
   "outputs": [
    {
     "name": "stdout",
     "output_type": "stream",
     "text": [
      "{'features': <tf.Tensor: shape=(4,), dtype=float32, numpy=array([6.5, 3. , 5.2, 2. ], dtype=float32)>, 'label': <tf.Tensor: shape=(), dtype=int64, numpy=2>}\n"
     ]
    }
   ],
   "source": [
    "tf.random.set_seed(1)\n",
    "\n",
    "ds_orig = iris['train']\n",
    "ds_orig = ds_orig.shuffle(150, reshuffle_each_iteration=False)\n",
    "\n",
    "print(next(iter(ds_orig)))\n",
    "\n",
    "ds_train_orig = ds_orig.take(100)\n",
    "ds_test = ds_orig.skip(100)"
   ]
  },
  {
   "cell_type": "code",
   "execution_count": 14,
   "metadata": {},
   "outputs": [
    {
     "name": "stdout",
     "output_type": "stream",
     "text": [
      "100\n",
      "50\n"
     ]
    }
   ],
   "source": [
    "## 샘플 개수 확인\n",
    "\n",
    "n = 0\n",
    "for example in ds_train_orig:\n",
    "    n += 1\n",
    "print(n)\n",
    "\n",
    "\n",
    "n = 0\n",
    "for example in ds_test:\n",
    "    n += 1\n",
    "print(n)"
   ]
  },
  {
   "cell_type": "code",
   "execution_count": 15,
   "metadata": {},
   "outputs": [
    {
     "data": {
      "text/plain": [
       "(<tf.Tensor: shape=(4,), dtype=float32, numpy=array([6.5, 3. , 5.2, 2. ], dtype=float32)>,\n",
       " <tf.Tensor: shape=(), dtype=int64, numpy=2>)"
      ]
     },
     "execution_count": 15,
     "metadata": {},
     "output_type": "execute_result"
    }
   ],
   "source": [
    "ds_train_orig = ds_train_orig.map(\n",
    "    lambda x: (x['features'], x['label']))\n",
    "\n",
    "ds_test = ds_test.map(\n",
    "    lambda x: (x['features'], x['label']))\n",
    "\n",
    "next(iter(ds_train_orig))"
   ]
  },
  {
   "cell_type": "code",
   "execution_count": 16,
   "metadata": {},
   "outputs": [
    {
     "name": "stdout",
     "output_type": "stream",
     "text": [
      "Model: \"sequential\"\n",
      "_________________________________________________________________\n",
      "Layer (type)                 Output Shape              Param #   \n",
      "=================================================================\n",
      "fc1 (Dense)                  (None, 16)                80        \n",
      "_________________________________________________________________\n",
      "fc2 (Dense)                  (None, 3)                 51        \n",
      "=================================================================\n",
      "Total params: 131\n",
      "Trainable params: 131\n",
      "Non-trainable params: 0\n",
      "_________________________________________________________________\n"
     ]
    }
   ],
   "source": [
    "iris_model = tf.keras.Sequential([\n",
    "    tf.keras.layers.Dense(16, activation='sigmoid', \n",
    "                          name='fc1', input_shape=(4,)),\n",
    "    tf.keras.layers.Dense(3, name='fc2', activation='softmax')])\n",
    "\n",
    "iris_model.summary()"
   ]
  },
  {
   "cell_type": "code",
   "execution_count": 17,
   "metadata": {},
   "outputs": [],
   "source": [
    "iris_model.compile(optimizer='adam',\n",
    "                   loss='sparse_categorical_crossentropy',\n",
    "                   metrics=['accuracy'])"
   ]
  },
  {
   "cell_type": "code",
   "execution_count": 18,
   "metadata": {},
   "outputs": [],
   "source": [
    "num_epochs = 100\n",
    "training_size = 100\n",
    "batch_size = 2\n",
    "steps_per_epoch = np.ceil(training_size / batch_size)\n",
    "\n",
    "ds_train = ds_train_orig.shuffle(buffer_size=training_size)\n",
    "ds_train = ds_train.repeat()\n",
    "ds_train = ds_train.batch(batch_size=batch_size)\n",
    "ds_train = ds_train.prefetch(buffer_size=1000)\n",
    "\n",
    "\n",
    "history = iris_model.fit(ds_train, epochs=num_epochs,\n",
    "                         steps_per_epoch=steps_per_epoch, \n",
    "                         verbose=0)"
   ]
  },
  {
   "cell_type": "code",
   "execution_count": 19,
   "metadata": {},
   "outputs": [
    {
     "data": {
      "image/png": "[encoded data removed]",
      "text/plain": [
       "<Figure size 864x360 with 2 Axes>"
      ]
     },
     "metadata": {
      "needs_background": "light"
     },
     "output_type": "display_data"
    }
   ],
   "source": [
    "hist = history.history\n",
    "\n",
    "fig = plt.figure(figsize=(12, 5))\n",
    "ax = fig.add_subplot(1, 2, 1)\n",
    "ax.plot(hist['loss'], lw=3)\n",
    "ax.set_title('Training loss', size=15)\n",
    "ax.set_xlabel('Epoch', size=15)\n",
    "ax.tick_params(axis='both', which='major', labelsize=15)\n",
    "\n",
    "ax = fig.add_subplot(1, 2, 2)\n",
    "ax.plot(hist['accuracy'], lw=3)\n",
    "ax.set_title('Training accuracy', size=15)\n",
    "ax.set_xlabel('Epoch', size=15)\n",
    "ax.tick_params(axis='both', which='major', labelsize=15)\n",
    "plt.tight_layout()\n",
    "plt.savefig('images/13_7.png', dpi=300)\n",
    "plt.show()"
   ]
  },
  {
   "cell_type": "markdown",
   "metadata": {},
   "source": [
    "### 테스트 데이터셋에서 훈련된 모델 평가하기"
   ]
  },
  {
   "cell_type": "code",
   "execution_count": 20,
   "metadata": {},
   "outputs": [
    {
     "name": "stdout",
     "output_type": "stream",
     "text": [
      "테스트 손실: 0.1483   테스트 정확도: 0.9800\n"
     ]
    }
   ],
   "source": [
    "results = iris_model.evaluate(ds_test.batch(50), verbose=0)\n",
    "print('테스트 손실: {:.4f}   테스트 정확도: {:.4f}'.format(*results))"
   ]
  },
  {
   "cell_type": "markdown",
   "metadata": {},
   "source": [
    "### 훈련된 모델 저장하고 복원하기"
   ]
  },
  {
   "cell_type": "code",
   "execution_count": 21,
   "metadata": {},
   "outputs": [],
   "source": [
    "iris_model.save('iris-classifier.h5', \n",
    "                overwrite=True,\n",
    "                include_optimizer=True,\n",
    "                save_format='h5')"
   ]
  },
  {
   "cell_type": "code",
   "execution_count": 22,
   "metadata": {},
   "outputs": [
    {
     "name": "stdout",
     "output_type": "stream",
     "text": [
      "Model: \"sequential\"\n",
      "_________________________________________________________________\n",
      "Layer (type)                 Output Shape              Param #   \n",
      "=================================================================\n",
      "fc1 (Dense)                  (None, 16)                80        \n",
      "_________________________________________________________________\n",
      "fc2 (Dense)                  (None, 3)                 51        \n",
      "=================================================================\n",
      "Total params: 131\n",
      "Trainable params: 131\n",
      "Non-trainable params: 0\n",
      "_________________________________________________________________\n"
     ]
    }
   ],
   "source": [
    "iris_model_new = tf.keras.models.load_model('iris-classifier.h5')\n",
    "\n",
    "iris_model_new.summary()"
   ]
  },
  {
   "cell_type": "code",
   "execution_count": 23,
   "metadata": {},
   "outputs": [
    {
     "name": "stdout",
     "output_type": "stream",
     "text": [
      "테스트 손실: 0.1483   테스트 정확도: 0.9800\n"
     ]
    }
   ],
   "source": [
    "results = iris_model_new.evaluate(ds_test.batch(50), verbose=0)\n",
    "print('테스트 손실: {:.4f}   테스트 정확도: {:.4f}'.format(*results))"
   ]
  },
  {
   "cell_type": "code",
   "execution_count": 24,
   "metadata": {},
   "outputs": [
    {
     "name": "stdout",
     "output_type": "stream",
     "text": [
      "훈련 데이터셋:  100 테스트 데이터셋:  50\n"
     ]
    }
   ],
   "source": [
    "labels_train = []\n",
    "for i,item in enumerate(ds_train_orig):\n",
    "    labels_train.append(item[1].numpy())\n",
    "    \n",
    "labels_test = []\n",
    "for i,item in enumerate(ds_test):\n",
    "    labels_test.append(item[1].numpy())\n",
    "print('훈련 데이터셋: ',len(labels_train), '테스트 데이터셋: ', len(labels_test))"
   ]
  },
  {
   "cell_type": "code",
   "execution_count": 25,
   "metadata": {},
   "outputs": [
    {
     "data": {
      "text/plain": [
       "'{\"class_name\": \"Sequential\", \"config\": {\"name\": \"sequential\", \"layers\": [{\"class_name\": \"InputLayer\", \"config\": {\"batch_input_shape\": [null, 4], \"dtype\": \"float32\", \"sparse\": false, \"ragged\": false, \"name\": \"fc1_input\"}}, {\"class_name\": \"Dense\", \"config\": {\"name\": \"fc1\", \"trainable\": true, \"batch_input_shape\": [null, 4], \"dtype\": \"float32\", \"units\": 16, \"activation\": \"sigmoid\", \"use_bias\": true, \"kernel_initializer\": {\"class_name\": \"GlorotUniform\", \"config\": {\"seed\": null}}, \"bias_initializer\": {\"class_name\": \"Zeros\", \"config\": {}}, \"kernel_regularizer\": null, \"bias_regularizer\": null, \"activity_regularizer\": null, \"kernel_constraint\": null, \"bias_constraint\": null}}, {\"class_name\": \"Dense\", \"config\": {\"name\": \"fc2\", \"trainable\": true, \"dtype\": \"float32\", \"units\": 3, \"activation\": \"softmax\", \"use_bias\": true, \"kernel_initializer\": {\"class_name\": \"GlorotUniform\", \"config\": {\"seed\": null}}, \"bias_initializer\": {\"class_name\": \"Zeros\", \"config\": {}}, \"kernel_regularizer\": null, \"bias_regularizer\": null, \"activity_regularizer\": null, \"kernel_constraint\": null, \"bias_constraint\": null}}]}, \"keras_version\": \"2.4.0\", \"backend\": \"tensorflow\"}'"
      ]
     },
     "execution_count": 25,
     "metadata": {},
     "output_type": "execute_result"
    }
   ],
   "source": [
    "iris_model_new.to_json()"
   ]
  },
  {
   "cell_type": "markdown",
   "metadata": {},
   "source": [
    "케라스 모델의 `fit()` 메서드는 `callbacks` 매개변수를 사용하여 훈련 과정을 제어할 수 있습니다. 이 매개변수는 `keras.callbacks` 아래에 있는 콜백 객체의 리스트를 입력받습니다. 예를 들어 모델을 훈련하는 동안 `ModelCheckpoint` 콜백을 사용하여 최고의 성능을 내는 가중치를 저장할 수 있습니다. `ModelCheckpoint` 콜백은 더 이상 성능이 개선되지 않을 때 훈련을 멈추게 하는 `EarlyStopping` 콜백과 함께 사용하는 경우가 많습니다. `EarlyStopping` 콜백 클래스는 기본적으로 검증 손실을 모니터링합니다. `patience` 매개변수가 지정한 에포크 횟수 동안 모니터링 지표가 개선되지 않으면 훈련을 중지합니다.\n",
    "\n",
    "다음 코드는 `ModelCheckpoint` 콜백을 사용하는 예입니다. 검증 손실을 모니터링하면서(`monitor='val_loss'`) 3번 에포크 동안 검증 손실이 감소하지 않으면 훈련을 중지하고 최상의 모델 가중치로 복원합니다(`restore_best_weights=True`)."
   ]
  },
  {
   "cell_type": "code",
   "execution_count": 26,
   "metadata": {},
   "outputs": [],
   "source": [
    "from tensorflow.keras.callbacks import ModelCheckpoint, EarlyStopping\n",
    "\n",
    "callback_list = [ModelCheckpoint(filepath='iris-earlystopping.h5', \n",
    "                                 monitor='val_loss'),\n",
    "                 EarlyStopping(patience=3, restore_best_weights=True)]"
   ]
  },
  {
   "cell_type": "markdown",
   "metadata": {},
   "source": [
    "그 다음 `Sequential` 클래스를 사용하지 않고 `iris_model` 모델의 구조를 추출하여 새로운 모델을 만들어 보겠습니다. `model_from_json()` 함수를 사용하여 `to_json()` 메서드로 만든 구조로 새로운 모델을 만들 수 있습니다. `compile()` 메서드에 지정한 것은 이전과 동일합니다. `fit()` 메서드에는 `validation_data` 매개변수에 검증 데이터셋으로 사용할 데이터를 전달합니다. 여기에서는 간단한 예를 보는 것이 목적이므로 별도의 검증 데이터셋을 만들지 않고 대신 `ds_test` 데이터셋을 사용하겠습니다. `callbacks` 매개변수에 앞에서 만든 콜백 리스트를 전달합니다. 에포크를 크게 설정해도(`epochs=500`) 조기 종료를 사용하기 때문에 종료 조건이 만족되면 훈련이 중간에 중단될 것입니다."
   ]
  },
  {
   "cell_type": "code",
   "execution_count": 27,
   "metadata": {},
   "outputs": [],
   "source": [
    "tf.random.set_seed(1)\n",
    "\n",
    "model = tf.keras.models.model_from_json(iris_model.to_json())\n",
    "model.compile(optimizer='adam',\n",
    "              loss='sparse_categorical_crossentropy',\n",
    "              metrics=['accuracy'])\n",
    "history = model.fit(ds_train, epochs=500, \n",
    "                    steps_per_epoch=steps_per_epoch, \n",
    "                    validation_data=ds_test.batch(50), \n",
    "                    callbacks=callback_list,\n",
    "                    verbose=0)"
   ]
  },
  {
   "cell_type": "markdown",
   "metadata": {},
   "source": [
    "훈련이 끝난 후 손실과 정확도 그래프를 그려 보죠. 이번에는 검증 손실과 검증 정확도도 함께 그려 보겠습니다."
   ]
  },
  {
   "cell_type": "code",
   "execution_count": 28,
   "metadata": {},
   "outputs": [
    {
     "data": {
      "image/png": "[encoded data removed]",
      "text/plain": [
       "<Figure size 864x360 with 2 Axes>"
      ]
     },
     "metadata": {
      "needs_background": "light"
     },
     "output_type": "display_data"
    }
   ],
   "source": [
    "hist = history.history\n",
    "\n",
    "fig = plt.figure(figsize=(12, 5))\n",
    "ax = fig.add_subplot(1, 2, 1)\n",
    "ax.plot(hist['loss'], lw=3)\n",
    "ax.plot(hist['val_loss'], lw=3)\n",
    "ax.set_title('Loss', size=15)\n",
    "ax.set_xlabel('Epoch', size=15)\n",
    "ax.tick_params(axis='both', which='major', labelsize=15)\n",
    "\n",
    "ax = fig.add_subplot(1, 2, 2)\n",
    "ax.plot(hist['accuracy'], lw=3)\n",
    "ax.plot(hist['val_accuracy'], lw=3)\n",
    "ax.set_title('Accuracy', size=15)\n",
    "ax.set_xlabel('Epoch', size=15)\n",
    "ax.tick_params(axis='both', which='major', labelsize=15)\n",
    "plt.tight_layout()\n",
    "plt.savefig('images/13_earlystopping.png', dpi=300)\n",
    "plt.show()"
   ]
  },
  {
   "cell_type": "markdown",
   "metadata": {},
   "source": [
    "500번의 에포크를 지정했지만 훈련은 200번째 에포크 근처에서 중지되었습니다. 몇 번째 에포크에서 훈련이 중지되었는지 확인하려면 `EarlyStopping` 객체의 `stopped_epoch` 속성을 출력하면 됩니다."
   ]
  },
  {
   "cell_type": "code",
   "execution_count": 29,
   "metadata": {},
   "outputs": [
    {
     "data": {
      "text/plain": [
       "145"
      ]
     },
     "execution_count": 29,
     "metadata": {},
     "output_type": "execute_result"
    }
   ],
   "source": [
    "callback_list[1].stopped_epoch"
   ]
  },
  {
   "cell_type": "markdown",
   "metadata": {},
   "source": [
    "텐서플로의 놀라운 기능 중 하나는 텐서보드(TensorBoard)입니다. 텐서보드는 모델의 학습 과정뿐만 아니라 계산 그래프도 시각화할 수 있는 모듈입니다. 앞서 케라스 API로 만들었던 신경망을 시각화해 보죠. 먼저 텐서보드에 필요한 로그를 위해 콜백 함수를 정의합니다."
   ]
  },
  {
   "cell_type": "code",
   "execution_count": 30,
   "metadata": {},
   "outputs": [],
   "source": [
    "from tensorflow.keras.callbacks import TensorBoard\n",
    "\n",
    "callback_list = [ModelCheckpoint(filepath='iris-earlystopping.h5', \n",
    "                                 monitor='val_loss'),\n",
    "                 EarlyStopping(patience=3, restore_best_weights=True),\n",
    "                 TensorBoard()]"
   ]
  },
  {
   "cell_type": "markdown",
   "metadata": {},
   "source": [
    "텐서보드를 위한 로그가 기록되는 기본 위치는 `logs` 입니다. 저장 위치를 바꾸려면 `TensorBoard` 콜백 클래스의 `log_dir` 매개변수에 지정할 수 있습니다. 그다음 모델 정의, 컴파일, 훈련은 이전과 동일합니다."
   ]
  },
  {
   "cell_type": "code",
   "execution_count": 31,
   "metadata": {},
   "outputs": [],
   "source": [
    "tf.random.set_seed(1)\n",
    "\n",
    "model = tf.keras.models.model_from_json(iris_model.to_json())\n",
    "model.compile(optimizer='adam',\n",
    "              loss='sparse_categorical_crossentropy',\n",
    "              metrics=['accuracy'])\n",
    "history = model.fit(ds_train, epochs=500, \n",
    "                    steps_per_epoch=steps_per_epoch, \n",
    "                    validation_data=ds_test.batch(50), \n",
    "                    callbacks=callback_list,\n",
    "                    verbose=0)"
   ]
  },
  {
   "cell_type": "markdown",
   "metadata": {},
   "source": [
    "TensorBoard를 실행하고 브라우저로 접속하려면 터미널에서 다음 명령을 실행하세요.\n",
    "\n",
    "```\n",
    "tensorboard --logdir=logs/\n",
    "```\n",
    "\n",
    "이 명령을 실행하면 URL 주소가 출력됩니다. http://localhost:6006/ 와 같은 링크를 복사하여 웹 브라우저 주소 표시줄에 붙여 넣어 텐서보드에 접속할 수 있습니다. 텐서플로 2.0부터는 주피터 노트북에 텐서보드를 포함시킬 수 있습니다. 주피터 노트북에서 다음 명령을 실행하세요."
   ]
  },
  {
   "cell_type": "code",
   "execution_count": 32,
   "metadata": {},
   "outputs": [
    {
     "data": {
      "text/plain": [
       "Reusing TensorBoard on port 6006 (pid 24494), started 1:00:11 ago. (Use '!kill 24494' to kill it.)"
      ]
     },
     "metadata": {},
     "output_type": "display_data"
    },
    {
     "data": {
      "text/html": [
       "\n",
       "      <iframe id=\"tensorboard-frame-f5567d8e1fe35c0b\" width=\"100%\" height=\"800\" frameborder=\"0\">\n",
       "      </iframe>\n",
       "      <script>\n",
       "        (function() {\n",
       "          const frame = document.getElementById(\"tensorboard-frame-f5567d8e1fe35c0b\");\n",
       "          const url = new URL(\"/\", window.location);\n",
       "          const port = 6006;\n",
       "          if (port) {\n",
       "            url.port = port;\n",
       "          }\n",
       "          frame.src = url;\n",
       "        })();\n",
       "      </script>\n",
       "    "
      ],
      "text/plain": [
       "<IPython.core.display.HTML object>"
      ]
     },
     "metadata": {},
     "output_type": "display_data"
    }
   ],
   "source": [
    "%load_ext tensorboard\n",
    "%tensorboard --logdir logs --port 6006"
   ]
  },
  {
   "cell_type": "markdown",
   "metadata": {},
   "source": [
    "텐서보드에 대한 더 자세한 내용은 공식 문서(https://www.tensorflow.org/tensorboard)를 참고하세요."
   ]
  },
  {
   "cell_type": "markdown",
   "metadata": {},
   "source": [
    "## 다층 신경망의 활성화 함수 선택"
   ]
  },
  {
   "cell_type": "markdown",
   "metadata": {},
   "source": [
    "### 로지스틱 함수 요약"
   ]
  },
  {
   "cell_type": "code",
   "execution_count": 33,
   "metadata": {},
   "outputs": [
    {
     "name": "stdout",
     "output_type": "stream",
     "text": [
      "P(y=1|x) = 0.888\n"
     ]
    }
   ],
   "source": [
    "import numpy as np\n",
    "\n",
    "X = np.array([1, 1.4, 2.5]) ## first value must be 1\n",
    "w = np.array([0.4, 0.3, 0.5])\n",
    "\n",
    "def net_input(X, w):\n",
    "    return np.dot(X, w)\n",
    "\n",
    "def logistic(z):\n",
    "    return 1.0 / (1.0 + np.exp(-z))\n",
    "\n",
    "def logistic_activation(X, w):\n",
    "    z = net_input(X, w)\n",
    "    return logistic(z)\n",
    "\n",
    "print('P(y=1|x) = %.3f' % logistic_activation(X, w)) "
   ]
  },
  {
   "cell_type": "code",
   "execution_count": 34,
   "metadata": {},
   "outputs": [
    {
     "name": "stdout",
     "output_type": "stream",
     "text": [
      "최종 입력: \n",
      " [1.78 0.76 1.65]\n",
      "유닛 출력:\n",
      " [0.85569687 0.68135373 0.83889105]\n"
     ]
    }
   ],
   "source": [
    "# W : (n_output_units, n_hidden_units+1) 크기의 배열\n",
    "# 첫 번째 열은 절편 유닛입니다\n",
    "\n",
    "W = np.array([[1.1, 1.2, 0.8, 0.4],\n",
    "              [0.2, 0.4, 1.0, 0.2],\n",
    "              [0.6, 1.5, 1.2, 0.7]])\n",
    "\n",
    "# A : (n_hidden_units + 1, n_samples) 크기의 배열\n",
    "# 이 배열의 첫 번째 열은 1입니다\n",
    "\n",
    "A = np.array([[1, 0.1, 0.4, 0.6]])\n",
    "Z = np.dot(W, A[0])\n",
    "y_probas = logistic(Z)\n",
    "print('최종 입력: \\n', Z)\n",
    "\n",
    "print('유닛 출력:\\n', y_probas) "
   ]
  },
  {
   "cell_type": "code",
   "execution_count": 35,
   "metadata": {},
   "outputs": [
    {
     "name": "stdout",
     "output_type": "stream",
     "text": [
      "예측 클래스 레이블: 0\n"
     ]
    }
   ],
   "source": [
    "y_class = np.argmax(Z, axis=0)\n",
    "print('예측 클래스 레이블: %d' % y_class) "
   ]
  },
  {
   "cell_type": "markdown",
   "metadata": {},
   "source": [
    "### 소프트맥스 함수를 사용한 다중 클래스 확률 예측"
   ]
  },
  {
   "cell_type": "code",
   "execution_count": 36,
   "metadata": {},
   "outputs": [
    {
     "name": "stdout",
     "output_type": "stream",
     "text": [
      "확률:\n",
      " [0.44668973 0.16107406 0.39223621]\n"
     ]
    },
    {
     "data": {
      "text/plain": [
       "1.0"
      ]
     },
     "execution_count": 36,
     "metadata": {},
     "output_type": "execute_result"
    }
   ],
   "source": [
    "def softmax(z):\n",
    "    return np.exp(z) / np.sum(np.exp(z))\n",
    "\n",
    "y_probas = softmax(Z)\n",
    "print('확률:\\n', y_probas)\n",
    "\n",
    "np.sum(y_probas)"
   ]
  },
  {
   "cell_type": "code",
   "execution_count": 37,
   "metadata": {},
   "outputs": [
    {
     "data": {
      "text/plain": [
       "<tf.Tensor: shape=(1, 3), dtype=float64, numpy=array([[0.44668973, 0.16107406, 0.39223621]])>"
      ]
     },
     "execution_count": 37,
     "metadata": {},
     "output_type": "execute_result"
    }
   ],
   "source": [
    "import tensorflow as tf\n",
    "\n",
    "Z_tensor = tf.expand_dims(Z, axis=0)\n",
    "tf.keras.activations.softmax(Z_tensor)"
   ]
  },
  {
   "cell_type": "markdown",
   "metadata": {},
   "source": [
    "### 하이퍼볼릭 탄젠트로 출력 범위 넓히기"
   ]
  },
  {
   "cell_type": "code",
   "execution_count": 38,
   "metadata": {},
   "outputs": [
    {
     "data": {
      "image/png": "[encoded data removed]",
      "text/plain": [
       "<Figure size 432x288 with 1 Axes>"
      ]
     },
     "metadata": {
      "needs_background": "light"
     },
     "output_type": "display_data"
    }
   ],
   "source": [
    "import matplotlib.pyplot as plt\n",
    "%matplotlib inline\n",
    "\n",
    "def tanh(z):\n",
    "    e_p = np.exp(z)\n",
    "    e_m = np.exp(-z)\n",
    "    return (e_p - e_m) / (e_p + e_m)\n",
    "\n",
    "z = np.arange(-5, 5, 0.005)\n",
    "log_act = logistic(z)\n",
    "tanh_act = tanh(z)\n",
    "plt.ylim([-1.5, 1.5])\n",
    "plt.xlabel('Net input $z$')\n",
    "plt.ylabel('Activation $\\phi(z)$')\n",
    "plt.axhline(1, color='black', linestyle=':')\n",
    "plt.axhline(0.5, color='black', linestyle=':')\n",
    "plt.axhline(0, color='black', linestyle=':')\n",
    "plt.axhline(-0.5, color='black', linestyle=':')\n",
    "plt.axhline(-1, color='black', linestyle=':')\n",
    "plt.plot(z, tanh_act,\n",
    "    linewidth=3, linestyle='--',\n",
    "    label='Tanh')\n",
    "plt.plot(z, log_act,\n",
    "    linewidth=3,\n",
    "    label='Logistic')\n",
    "plt.legend(loc='lower right')\n",
    "plt.tight_layout()\n",
    "plt.savefig('images/13_8.png', dpi=300)\n",
    "plt.show()"
   ]
  },
  {
   "cell_type": "code",
   "execution_count": 39,
   "metadata": {},
   "outputs": [
    {
     "data": {
      "text/plain": [
       "array([-0.9999092 , -0.99990829, -0.99990737, ...,  0.99990644,\n",
       "        0.99990737,  0.99990829])"
      ]
     },
     "execution_count": 39,
     "metadata": {},
     "output_type": "execute_result"
    }
   ],
   "source": [
    "np.tanh(z)"
   ]
  },
  {
   "cell_type": "code",
   "execution_count": 40,
   "metadata": {},
   "outputs": [
    {
     "data": {
      "text/plain": [
       "<tf.Tensor: shape=(2000,), dtype=float64, numpy=\n",
       "array([-0.9999092 , -0.99990829, -0.99990737, ...,  0.99990644,\n",
       "        0.99990737,  0.99990829])>"
      ]
     },
     "execution_count": 40,
     "metadata": {},
     "output_type": "execute_result"
    }
   ],
   "source": [
    "import tensorflow as tf\n",
    "\n",
    "tf.keras.activations.tanh(z)"
   ]
  },
  {
   "cell_type": "code",
   "execution_count": 41,
   "metadata": {},
   "outputs": [
    {
     "data": {
      "text/plain": [
       "array([0.00669285, 0.00672617, 0.00675966, ..., 0.99320669, 0.99324034,\n",
       "       0.99327383])"
      ]
     },
     "execution_count": 41,
     "metadata": {},
     "output_type": "execute_result"
    }
   ],
   "source": [
    "from scipy.special import expit\n",
    "\n",
    "expit(z)"
   ]
  },
  {
   "cell_type": "code",
   "execution_count": 42,
   "metadata": {},
   "outputs": [
    {
     "data": {
      "text/plain": [
       "<tf.Tensor: shape=(2000,), dtype=float64, numpy=\n",
       "array([0.00669285, 0.00672617, 0.00675966, ..., 0.99320669, 0.99324034,\n",
       "       0.99327383])>"
      ]
     },
     "execution_count": 42,
     "metadata": {},
     "output_type": "execute_result"
    }
   ],
   "source": [
    "tf.keras.activations.sigmoid(z)"
   ]
  },
  {
   "cell_type": "markdown",
   "metadata": {},
   "source": [
    "### 렐루 활성화 함수"
   ]
  },
  {
   "cell_type": "code",
   "execution_count": 43,
   "metadata": {},
   "outputs": [
    {
     "data": {
      "text/plain": [
       "<tf.Tensor: shape=(2000,), dtype=float64, numpy=array([0.   , 0.   , 0.   , ..., 4.985, 4.99 , 4.995])>"
      ]
     },
     "execution_count": 43,
     "metadata": {},
     "output_type": "execute_result"
    }
   ],
   "source": [
    "import tensorflow as tf\n",
    "\n",
    "tf.keras.activations.relu(z)"
   ]
  },
  {
   "cell_type": "markdown",
   "metadata": {},
   "source": [
    "## 요약"
   ]
  },
  {
   "cell_type": "markdown",
   "metadata": {},
   "source": [
    "# 부록\n",
    "\n",
    "## 데이터셋 분할: 훈련/테스트 샘플을 섞으면 위험합니다"
   ]
  },
  {
   "cell_type": "code",
   "execution_count": 44,
   "metadata": {},
   "outputs": [
    {
     "name": "stdout",
     "output_type": "stream",
     "text": [
      "{0, 1, 2, 3, 5, 9, 10, 11, 12, 14} {4, 6, 7, 8, 13}\n"
     ]
    }
   ],
   "source": [
    "## 올바른 방법\n",
    "ds = tf.data.Dataset.range(15)\n",
    "ds = ds.shuffle(15, reshuffle_each_iteration=False)\n",
    "\n",
    "\n",
    "ds_train = ds.take(10)\n",
    "ds_test = ds.skip(10)\n",
    "\n",
    "ds_train = ds_train.shuffle(10).repeat(10)\n",
    "ds_test = ds_test.shuffle(5)\n",
    "ds_test = ds_test.repeat(10)\n",
    "\n",
    "set_train = set()\n",
    "for i,item in enumerate(ds_train):\n",
    "    set_train.add(item.numpy())\n",
    "\n",
    "set_test = set()\n",
    "for i,item in enumerate(ds_test):\n",
    "    set_test.add(item.numpy())\n",
    "\n",
    "print(set_train, set_test)"
   ]
  },
  {
   "cell_type": "code",
   "execution_count": 45,
   "metadata": {
    "scrolled": true
   },
   "outputs": [
    {
     "name": "stdout",
     "output_type": "stream",
     "text": [
      "{0, 1, 2, 3, 4, 5, 6, 7, 8, 9, 10, 11, 12, 13, 14} {0, 1, 2, 3, 4, 5, 6, 7, 8, 9, 11, 12, 13, 14}\n"
     ]
    }
   ],
   "source": [
    "## 잘못된 방법:\n",
    "ds = tf.data.Dataset.range(15)\n",
    "ds = ds.shuffle(15, reshuffle_each_iteration=True)\n",
    "\n",
    "\n",
    "ds_train = ds.take(10)\n",
    "ds_test = ds.skip(10)\n",
    "\n",
    "ds_train = ds_train.shuffle(10).repeat(10)\n",
    "ds_test = ds_test.shuffle(5)\n",
    "ds_test = ds_test.repeat(10)\n",
    "\n",
    "set_train = set()\n",
    "for i,item in enumerate(ds_train):\n",
    "    set_train.add(item.numpy())\n",
    "\n",
    "set_test = set()\n",
    "for i,item in enumerate(ds_test):\n",
    "    set_test.add(item.numpy())\n",
    "\n",
    "print(set_train, set_test)"
   ]
  },
  {
   "cell_type": "markdown",
   "metadata": {},
   "source": [
    "### `tfds.Split`를 사용하여 데이터셋 나누기"
   ]
  },
  {
   "cell_type": "code",
   "execution_count": 46,
   "metadata": {},
   "outputs": [
    {
     "name": "stdout",
     "output_type": "stream",
     "text": [
      "{'features': <tf.Tensor: shape=(4,), dtype=float32, numpy=array([5.1, 3.4, 1.5, 0.2], dtype=float32)>, 'label': <tf.Tensor: shape=(), dtype=int64, numpy=0>}\n",
      "\n",
      "{'features': <tf.Tensor: shape=(4,), dtype=float32, numpy=array([6.3, 3.4, 5.6, 2.4], dtype=float32)>, 'label': <tf.Tensor: shape=(), dtype=int64, numpy=2>}\n",
      "(<tf.Tensor: shape=(4,), dtype=float32, numpy=array([5.4, 3. , 4.5, 1.5], dtype=float32)>, <tf.Tensor: shape=(), dtype=int64, numpy=1>)\n",
      "훈련 데이터셋:  100 테스트 데이터셋:  50\n",
      "15 16 19\n",
      "훈련 데이터셋:  100 테스트 데이터셋:  50\n",
      "15 16 19\n",
      "훈련 데이터셋:  100 테스트 데이터셋:  50\n",
      "15 16 19\n",
      "훈련 데이터셋:  100 테스트 데이터셋:  50\n",
      "15 16 19\n",
      "훈련 데이터셋:  100 테스트 데이터셋:  50\n",
      "15 16 19\n"
     ]
    }
   ],
   "source": [
    "import tensorflow as tf\n",
    "import tensorflow_datasets as tfds\n",
    "import numpy as np\n",
    "\n",
    "ds_train_orig = tfds.load('iris', split='train[:67%]')\n",
    "ds_test = tfds.load('iris', split='train[67%:]')\n",
    "\n",
    "print(next(iter(ds_train_orig)))\n",
    "print()\n",
    "print(next(iter(ds_test)))\n",
    "\n",
    "\n",
    "ds_train_orig = ds_train_orig.shuffle(100, reshuffle_each_iteration=True)\n",
    "ds_test  = ds_test.shuffle(50, reshuffle_each_iteration=False)\n",
    "\n",
    "ds_train_orig = ds_train_orig.map(\n",
    "    lambda x: (x['features'], x['label']))\n",
    "\n",
    "ds_test = ds_test.map(\n",
    "    lambda x: (x['features'], x['label']))\n",
    "\n",
    "print(next(iter(ds_train_orig)))\n",
    "\n",
    "\n",
    "for j in range(5):\n",
    "    labels_train = []\n",
    "    for i,item in enumerate(ds_train_orig):\n",
    "        labels_train.append(item[1].numpy())\n",
    "\n",
    "    labels_test = []\n",
    "    for i,item in enumerate(ds_test):\n",
    "        labels_test.append(item[1].numpy())\n",
    "    print('훈련 데이터셋: ',len(labels_train), '테스트 데이터셋: ', len(labels_test))\n",
    "\n",
    "    labels_test = np.array(labels_test)\n",
    "\n",
    "    print(np.sum(labels_test == 0), np.sum(labels_test == 1), np.sum(labels_test == 2))"
   ]
  }
 ],
 "metadata": {
  "kernelspec": {
   "display_name": "TensorFlow 2.3 on Python 3.6 (CUDA 10.1)",
   "language": "python",
   "name": "python3"
  },
  "language_info": {
   "codemirror_mode": {
    "name": "ipython",
    "version": 3
   },
   "file_extension": ".py",
   "mimetype": "text/x-python",
   "name": "python",
   "nbconvert_exporter": "python",
   "pygments_lexer": "ipython3",
   "version": "3.6.9"
  },
  "toc-showmarkdowntxt": false,
  "toc-showtags": false
 },
 "nbformat": 4,
 "nbformat_minor": 4
}
