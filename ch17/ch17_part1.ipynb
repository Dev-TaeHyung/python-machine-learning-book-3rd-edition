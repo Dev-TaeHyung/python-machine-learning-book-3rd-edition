{
  "cells": [
    {
      "cell_type": "markdown",
      "metadata": {
        "id": "9y222HgfM-OA"
      },
      "source": [
        "# 머신 러닝 교과서 3판"
      ]
    },
    {
      "cell_type": "markdown",
      "metadata": {
        "id": "-5SXCZX_M-OD"
      },
      "source": [
        "# 17장 - 새로운 데이터 합성을 위한 생성적 적대 신경망 (1/2)"
      ]
    },
    {
      "cell_type": "markdown",
      "metadata": {
        "id": "hx1MAB0FbouH"
      },
      "source": [
        "**아래 링크를 통해 이 노트북을 주피터 노트북 뷰어(nbviewer.jupyter.org)로 보거나 구글 코랩(colab.research.google.com)에서 실행할 수 있습니다.**\n",
        "\n",
        "<table class=\"tfo-notebook-buttons\" align=\"left\">\n",
        "  <td>\n",
        "    <a target=\"_blank\" href=\"https://nbviewer.org/github/rickiepark/python-machine-learning-book-3rd-edition/blob/master/ch17/ch17_part1.ipynb\"><img src=\"https://jupyter.org/assets/share.png\" width=\"60\" />주피터 노트북 뷰어로 보기</a>\n",
        "  </td>\n",
        "  <td>\n",
        "    <a target=\"_blank\" href=\"https://colab.research.google.com/github/rickiepark/python-machine-learning-book-3rd-edition/blob/master/ch17/ch17_part1.ipynb\"><img src=\"https://www.tensorflow.org/images/colab_logo_32px.png\" />구글 코랩(Colab)에서 실행하기</a>\n",
        "  </td>\n",
        "</table>"
      ]
    },
    {
      "cell_type": "markdown",
      "metadata": {
        "id": "4wzfKSEhbouH"
      },
      "source": [
        "### 목차"
      ]
    },
    {
      "cell_type": "markdown",
      "metadata": {
        "id": "1vc8_zr4bouH"
      },
      "source": [
        "- 생성적 적대 신경망 소개\n",
        "    - 오토인코더\n",
        "    - 새로운 데이터 합성을 위한 생성 모델\n",
        "    - GAN으로 새로운 샘플 생성하기\n",
        "    - GAN의 생성자와 판별자 손실 함수 이해하기\n",
        "- 밑바닥부터 GAN 모델 구현하기\n",
        "    - 구글 코랩에서 GAN 모델 훈련하기\n",
        "    - 생성자와 판별자 신경망 구현하기\n",
        "    - 훈련 데이터셋 정의하기\n",
        "    - GAN 모델 훈련하기"
      ]
    },
    {
      "cell_type": "code",
      "execution_count": 1,
      "metadata": {
        "id": "2AfJgihdM-OE"
      },
      "outputs": [],
      "source": [
        "from IPython.display import Image"
      ]
    },
    {
      "cell_type": "markdown",
      "metadata": {
        "id": "41bk3eM5M-OE"
      },
      "source": [
        "# 생성적 적대 신경망 소개\n",
        "\n",
        "## 오토인코더"
      ]
    },
    {
      "cell_type": "code",
      "execution_count": 2,
      "metadata": {
        "colab": {
          "base_uri": "https://localhost:8080/",
          "height": 470
        },
        "id": "phbH6zGQM-OE",
        "outputId": "32574c09-8c01-401f-a301-a5486ffe7f00"
      },
      "outputs": [
        {
          "output_type": "execute_result",
          "data": {
            "text/plain": [
              "<IPython.core.display.Image object>"
            ],
            "text/html": [
              "<img src=\"https://git.io/JLAQ2\" width=\"500\"/>"
            ]
          },
          "metadata": {},
          "execution_count": 2
        }
      ],
      "source": [
        "Image(url='https://git.io/JLAQ2', width=500)"
      ]
    },
    {
      "cell_type": "markdown",
      "metadata": {
        "id": "Cuw0DGR2M-OF"
      },
      "source": [
        "## 새로운 데이터 합성을 위한 생성 모델"
      ]
    },
    {
      "cell_type": "code",
      "execution_count": 3,
      "metadata": {
        "colab": {
          "base_uri": "https://localhost:8080/",
          "height": 438
        },
        "id": "ziTpZ3G5M-OF",
        "outputId": "98d7e0f8-140e-4fae-cfbc-693b1919bbe1"
      },
      "outputs": [
        {
          "output_type": "execute_result",
          "data": {
            "text/plain": [
              "<IPython.core.display.Image object>"
            ],
            "text/html": [
              "<img src=\"https://git.io/JLAQH\" width=\"700\"/>"
            ]
          },
          "metadata": {},
          "execution_count": 3
        }
      ],
      "source": [
        "Image(url='https://git.io/JLAQH', width=700)"
      ]
    },
    {
      "cell_type": "markdown",
      "metadata": {
        "id": "U1DsTJvLM-OF"
      },
      "source": [
        "## GAN으로 새로운 샘플 생성하기"
      ]
    },
    {
      "cell_type": "code",
      "execution_count": 4,
      "metadata": {
        "colab": {
          "base_uri": "https://localhost:8080/",
          "height": 338
        },
        "id": "2DijKimVM-OF",
        "outputId": "003d34b5-f848-453f-cb38-e75c7737c6c6"
      },
      "outputs": [
        {
          "output_type": "execute_result",
          "data": {
            "text/plain": [
              "<IPython.core.display.Image object>"
            ],
            "text/html": [
              "<img src=\"https://git.io/JLAQ7\" width=\"700\"/>"
            ]
          },
          "metadata": {},
          "execution_count": 4
        }
      ],
      "source": [
        "Image(url='https://git.io/JLAQ7', width=700)"
      ]
    },
    {
      "cell_type": "markdown",
      "metadata": {
        "id": "iamOayQfM-OF"
      },
      "source": [
        "## GAN의 생성자와 판별자 손실 함수 이해하기"
      ]
    },
    {
      "cell_type": "code",
      "execution_count": 5,
      "metadata": {
        "colab": {
          "base_uri": "https://localhost:8080/",
          "height": 516
        },
        "id": "P0SEKNGpM-OG",
        "outputId": "e36da702-c1e8-4a75-b4bc-0ea0e45ff28d"
      },
      "outputs": [
        {
          "output_type": "execute_result",
          "data": {
            "text/plain": [
              "<IPython.core.display.Image object>"
            ],
            "text/html": [
              "<img src=\"https://git.io/JLAQF\" width=\"800\"/>"
            ]
          },
          "metadata": {},
          "execution_count": 5
        }
      ],
      "source": [
        "Image(url='https://git.io/JLAQF', width=800)"
      ]
    },
    {
      "cell_type": "markdown",
      "metadata": {
        "id": "mgleEEF1M-OG"
      },
      "source": [
        "# 밑바닥부터 GAN 모델 구현하기"
      ]
    },
    {
      "cell_type": "markdown",
      "metadata": {
        "id": "a1UBoKm_M-OG"
      },
      "source": [
        "## 구글 코랩에서 GAN 모델 훈련하기"
      ]
    },
    {
      "cell_type": "code",
      "execution_count": 6,
      "metadata": {
        "colab": {
          "base_uri": "https://localhost:8080/",
          "height": 508
        },
        "id": "sBdI0g22M-OG",
        "outputId": "2e2f58a1-6376-451e-c0e5-1cfa5b7e7c51"
      },
      "outputs": [
        {
          "output_type": "execute_result",
          "data": {
            "text/plain": [
              "<IPython.core.display.Image object>"
            ],
            "text/html": [
              "<img src=\"https://git.io/JLAQb\" width=\"700\"/>"
            ]
          },
          "metadata": {},
          "execution_count": 6
        }
      ],
      "source": [
        "Image(url='https://git.io/JLAQb', width=700)"
      ]
    },
    {
      "cell_type": "code",
      "execution_count": 7,
      "metadata": {
        "colab": {
          "base_uri": "https://localhost:8080/",
          "height": 526
        },
        "id": "Mf0pXqraM-OH",
        "outputId": "c2f2c4c3-1f1e-4a3d-845c-9c352d648983"
      },
      "outputs": [
        {
          "output_type": "execute_result",
          "data": {
            "text/plain": [
              "<IPython.core.display.Image object>"
            ],
            "text/html": [
              "<img src=\"https://git.io/JLAQN\" width=\"600\"/>"
            ]
          },
          "metadata": {},
          "execution_count": 7
        }
      ],
      "source": [
        "Image(url='https://git.io/JLAQN', width=600)"
      ]
    },
    {
      "cell_type": "code",
      "execution_count": 8,
      "metadata": {
        "colab": {
          "base_uri": "https://localhost:8080/",
          "height": 534
        },
        "id": "Nd67sNNIM-OH",
        "outputId": "d73f64e5-b0f7-4f77-8604-a376d5a9129d"
      },
      "outputs": [
        {
          "output_type": "execute_result",
          "data": {
            "text/plain": [
              "<IPython.core.display.Image object>"
            ],
            "text/html": [
              "<img src=\"https://git.io/JLAQA\" width=\"600\"/>"
            ]
          },
          "metadata": {},
          "execution_count": 8
        }
      ],
      "source": [
        "Image(url='https://git.io/JLAQA', width=600)"
      ]
    },
    {
      "cell_type": "code",
      "execution_count": 9,
      "metadata": {
        "colab": {
          "base_uri": "https://localhost:8080/"
        },
        "id": "_khN3hi1xxQ-",
        "outputId": "c00987be-439c-481a-f80e-4f0e7847e2e5"
      },
      "outputs": [
        {
          "output_type": "stream",
          "name": "stdout",
          "text": [
            "2.8.2\n",
            "GPU 여부: True\n",
            "/device:GPU:0\n"
          ]
        }
      ],
      "source": [
        "import tensorflow as tf\n",
        "print(tf.__version__)\n",
        "\n",
        "print(\"GPU 여부:\", len(tf.config.list_physical_devices('GPU')) > 0)\n",
        "\n",
        "if tf.config.list_physical_devices('GPU'):\n",
        "    device_name = tf.test.gpu_device_name()\n",
        "else:\n",
        "    device_name = 'cpu:0'\n",
        "    \n",
        "print(device_name)"
      ]
    },
    {
      "cell_type": "code",
      "execution_count": 10,
      "metadata": {
        "colab": {
          "base_uri": "https://localhost:8080/"
        },
        "id": "ceNFHOHHNVwz",
        "outputId": "99113237-7999-493d-b129-e74de6d02566"
      },
      "outputs": [
        {
          "output_type": "stream",
          "name": "stdout",
          "text": [
            "WARNING:tensorflow:From <ipython-input-10-b9c5066405f4>:1: get_memory_usage (from tensorflow.python.framework.config) is deprecated and will be removed in a future version.\n",
            "Instructions for updating:\n",
            "Use tf.config.experimental.get_memory_info(device)['current'] instead.\n"
          ]
        },
        {
          "output_type": "execute_result",
          "data": {
            "text/plain": [
              "0"
            ]
          },
          "metadata": {},
          "execution_count": 10
        }
      ],
      "source": [
        "tf.config.experimental.get_memory_usage('GPU:0')"
      ]
    },
    {
      "cell_type": "code",
      "execution_count": 11,
      "metadata": {
        "colab": {
          "base_uri": "https://localhost:8080/"
        },
        "id": "5sNcfuwHPQMs",
        "outputId": "05c64076-0368-41ee-a4bf-5f24c17e0fbb"
      },
      "outputs": [
        {
          "output_type": "stream",
          "name": "stdout",
          "text": [
            "Fri Jul 29 07:33:56 2022       \n",
            "+-----------------------------------------------------------------------------+\n",
            "| NVIDIA-SMI 460.32.03    Driver Version: 460.32.03    CUDA Version: 11.2     |\n",
            "|-------------------------------+----------------------+----------------------+\n",
            "| GPU  Name        Persistence-M| Bus-Id        Disp.A | Volatile Uncorr. ECC |\n",
            "| Fan  Temp  Perf  Pwr:Usage/Cap|         Memory-Usage | GPU-Util  Compute M. |\n",
            "|                               |                      |               MIG M. |\n",
            "|===============================+======================+======================|\n",
            "|   0  Tesla T4            Off  | 00000000:00:04.0 Off |                    0 |\n",
            "| N/A   55C    P0    29W /  70W |    284MiB / 15109MiB |      0%      Default |\n",
            "|                               |                      |                  N/A |\n",
            "+-------------------------------+----------------------+----------------------+\n",
            "                                                                               \n",
            "+-----------------------------------------------------------------------------+\n",
            "| Processes:                                                                  |\n",
            "|  GPU   GI   CI        PID   Type   Process name                  GPU Memory |\n",
            "|        ID   ID                                                   Usage      |\n",
            "|=============================================================================|\n",
            "+-----------------------------------------------------------------------------+\n"
          ]
        }
      ],
      "source": [
        "!nvidia-smi"
      ]
    },
    {
      "cell_type": "code",
      "execution_count": 12,
      "metadata": {
        "colab": {
          "base_uri": "https://localhost:8080/"
        },
        "id": "4_yH3L4wTOLb",
        "outputId": "ce9c5e1d-a30f-4e38-fa9f-b9d97b018a26"
      },
      "outputs": [
        {
          "output_type": "stream",
          "name": "stdout",
          "text": [
            "No LSB modules are available.\n",
            "Distributor ID:\tUbuntu\n",
            "Description:\tUbuntu 18.04.5 LTS\n",
            "Release:\t18.04\n",
            "Codename:\tbionic\n"
          ]
        }
      ],
      "source": [
        "!lsb_release -a"
      ]
    },
    {
      "cell_type": "code",
      "execution_count": 13,
      "metadata": {
        "id": "ehoy80rqwNnl"
      },
      "outputs": [],
      "source": [
        "#from google.colab import drive\n",
        "#drive.mount('/content/drive/')"
      ]
    },
    {
      "cell_type": "markdown",
      "metadata": {
        "id": "jHHcQfM2M-OI"
      },
      "source": [
        "## 생성자와 판별자 신경망 구현하기"
      ]
    },
    {
      "cell_type": "code",
      "execution_count": 14,
      "metadata": {
        "colab": {
          "base_uri": "https://localhost:8080/",
          "height": 474
        },
        "id": "ig_rZtXqM-OI",
        "outputId": "d9e791a4-cdea-4656-b640-2a2e2250b874"
      },
      "outputs": [
        {
          "output_type": "execute_result",
          "data": {
            "text/plain": [
              "<IPython.core.display.Image object>"
            ],
            "text/html": [
              "<img src=\"https://git.io/JLAQp\" width=\"600\"/>"
            ]
          },
          "metadata": {},
          "execution_count": 14
        }
      ],
      "source": [
        "Image(url='https://git.io/JLAQp', width=600)"
      ]
    },
    {
      "cell_type": "code",
      "execution_count": 15,
      "metadata": {
        "colab": {
          "base_uri": "https://localhost:8080/",
          "height": 360
        },
        "id": "uc4FQzczM-OJ",
        "outputId": "a37512d5-d51e-460c-d4a7-055c953dffaa"
      },
      "outputs": [
        {
          "output_type": "execute_result",
          "data": {
            "text/plain": [
              "<IPython.core.display.Image object>"
            ],
            "text/html": [
              "<img src=\"https://git.io/JLAQh\" width=\"600\"/>"
            ]
          },
          "metadata": {},
          "execution_count": 15
        }
      ],
      "source": [
        "Image(url='https://git.io/JLAQh', width=600)"
      ]
    },
    {
      "cell_type": "code",
      "execution_count": 16,
      "metadata": {
        "id": "FRh8E66HwXRL"
      },
      "outputs": [],
      "source": [
        "import tensorflow as tf\n",
        "import tensorflow_datasets as tfds\n",
        "import numpy as np\n",
        "import matplotlib.pyplot as plt"
      ]
    },
    {
      "cell_type": "code",
      "execution_count": 17,
      "metadata": {
        "id": "tOL56FmXwoL-"
      },
      "outputs": [],
      "source": [
        "## 생성자 함수를 정의합니다:\n",
        "def make_generator_network(\n",
        "        num_hidden_layers=1,\n",
        "        num_hidden_units=100,\n",
        "        num_output_units=784):\n",
        "    model = tf.keras.Sequential()\n",
        "    for i in range(num_hidden_layers):\n",
        "        model.add(\n",
        "            tf.keras.layers.Dense(\n",
        "                units=num_hidden_units, \n",
        "                use_bias=False)\n",
        "            )\n",
        "        model.add(tf.keras.layers.LeakyReLU())\n",
        "        \n",
        "    model.add(tf.keras.layers.Dense(\n",
        "        units=num_output_units, activation='tanh'))\n",
        "    return model\n",
        "\n",
        "## 판별자 함수를 정의합니다:\n",
        "def make_discriminator_network(\n",
        "        num_hidden_layers=1,\n",
        "        num_hidden_units=100,\n",
        "        num_output_units=1):\n",
        "    model = tf.keras.Sequential()\n",
        "    for i in range(num_hidden_layers):\n",
        "        model.add(tf.keras.layers.Dense(units=num_hidden_units))\n",
        "        model.add(tf.keras.layers.LeakyReLU())\n",
        "        model.add(tf.keras.layers.Dropout(rate=0.5))\n",
        "        \n",
        "    model.add(\n",
        "        tf.keras.layers.Dense(\n",
        "            units=num_output_units, \n",
        "            activation=None)\n",
        "        )\n",
        "    return model"
      ]
    },
    {
      "cell_type": "code",
      "execution_count": 18,
      "metadata": {
        "colab": {
          "base_uri": "https://localhost:8080/"
        },
        "id": "9Z4JQb9MxD5p",
        "outputId": "2123660d-8a6a-45cc-c928-de07396db731"
      },
      "outputs": [
        {
          "output_type": "stream",
          "name": "stdout",
          "text": [
            "Model: \"sequential\"\n",
            "_________________________________________________________________\n",
            " Layer (type)                Output Shape              Param #   \n",
            "=================================================================\n",
            " dense (Dense)               (None, 100)               2000      \n",
            "                                                                 \n",
            " leaky_re_lu (LeakyReLU)     (None, 100)               0         \n",
            "                                                                 \n",
            " dense_1 (Dense)             (None, 784)               79184     \n",
            "                                                                 \n",
            "=================================================================\n",
            "Total params: 81,184\n",
            "Trainable params: 81,184\n",
            "Non-trainable params: 0\n",
            "_________________________________________________________________\n"
          ]
        }
      ],
      "source": [
        "image_size = (28, 28)\n",
        "z_size = 20\n",
        "mode_z = 'uniform'  # 'uniform' vs. 'normal'\n",
        "gen_hidden_layers = 1\n",
        "gen_hidden_size = 100\n",
        "disc_hidden_layers = 1\n",
        "disc_hidden_size = 100\n",
        "\n",
        "tf.random.set_seed(1)\n",
        "\n",
        "gen_model = make_generator_network(\n",
        "    num_hidden_layers=gen_hidden_layers, \n",
        "    num_hidden_units=gen_hidden_size,\n",
        "    num_output_units=np.prod(image_size))\n",
        "\n",
        "gen_model.build(input_shape=(None, z_size))\n",
        "gen_model.summary()"
      ]
    },
    {
      "cell_type": "code",
      "execution_count": 19,
      "metadata": {
        "colab": {
          "base_uri": "https://localhost:8080/"
        },
        "id": "QAhbOUZHxN1b",
        "outputId": "e44481da-5b8f-4f21-beb9-a3b875fe0c2d"
      },
      "outputs": [
        {
          "output_type": "stream",
          "name": "stdout",
          "text": [
            "Model: \"sequential_1\"\n",
            "_________________________________________________________________\n",
            " Layer (type)                Output Shape              Param #   \n",
            "=================================================================\n",
            " dense_2 (Dense)             (None, 100)               78500     \n",
            "                                                                 \n",
            " leaky_re_lu_1 (LeakyReLU)   (None, 100)               0         \n",
            "                                                                 \n",
            " dropout (Dropout)           (None, 100)               0         \n",
            "                                                                 \n",
            " dense_3 (Dense)             (None, 1)                 101       \n",
            "                                                                 \n",
            "=================================================================\n",
            "Total params: 78,601\n",
            "Trainable params: 78,601\n",
            "Non-trainable params: 0\n",
            "_________________________________________________________________\n"
          ]
        }
      ],
      "source": [
        "disc_model = make_discriminator_network(\n",
        "    num_hidden_layers=disc_hidden_layers,\n",
        "    num_hidden_units=disc_hidden_size)\n",
        "\n",
        "disc_model.build(input_shape=(None, np.prod(image_size)))\n",
        "disc_model.summary()"
      ]
    },
    {
      "cell_type": "markdown",
      "metadata": {
        "id": "edHUQPQxM-OK"
      },
      "source": [
        "## 훈련 데이터셋 정의하기"
      ]
    },
    {
      "cell_type": "code",
      "execution_count": 20,
      "metadata": {
        "colab": {
          "base_uri": "https://localhost:8080/",
          "height": 263,
          "referenced_widgets": [
            "74f280789ec44c49a0ef9c91d5e1f8bb",
            "fd734eff310e4681a8655f984c957dd5",
            "898ccf56f999461da820e669d66955ab",
            "2e50d0df0f2c4124a22369546881991d",
            "8cedcf8698ad4980a6a31f435bf31a21",
            "8fd274045d8e41eb9b67690f307021f5",
            "40fdc7518eb8457bb4c4fd92f0617ac8",
            "865bd7ba3439469897ffdf1803746e18",
            "d7eef75ce79c412aab2e5b72de3c06f7",
            "4d6186ac67c543d7861e2da33dd612f8",
            "d6e0bb77a24741b299e8344f8287ce86"
          ]
        },
        "id": "ApQ1ICJixf2w",
        "outputId": "024da850-5773-4b79-ba4b-acd2ad35414d"
      },
      "outputs": [
        {
          "output_type": "stream",
          "name": "stdout",
          "text": [
            "\u001b[1mDownloading and preparing dataset mnist/3.0.1 (download: 11.06 MiB, generated: 21.00 MiB, total: 32.06 MiB) to /root/tensorflow_datasets/mnist/3.0.1...\u001b[0m\n"
          ]
        },
        {
          "output_type": "stream",
          "name": "stderr",
          "text": [
            "WARNING:absl:Dataset mnist is hosted on GCS. It will automatically be downloaded to your\n",
            "local data directory. If you'd instead prefer to read directly from our public\n",
            "GCS bucket (recommended if you're running on GCP), you can instead pass\n",
            "`try_gcs=True` to `tfds.load` or set `data_dir=gs://tfds-data/datasets`.\n",
            "\n"
          ]
        },
        {
          "output_type": "display_data",
          "data": {
            "text/plain": [
              "Dl Completed...:   0%|          | 0/4 [00:00<?, ? file/s]"
            ],
            "application/vnd.jupyter.widget-view+json": {
              "version_major": 2,
              "version_minor": 0,
              "model_id": "74f280789ec44c49a0ef9c91d5e1f8bb"
            }
          },
          "metadata": {}
        },
        {
          "output_type": "stream",
          "name": "stdout",
          "text": [
            "\n",
            "\u001b[1mDataset mnist downloaded and prepared to /root/tensorflow_datasets/mnist/3.0.1. Subsequent calls will reuse this data.\u001b[0m\n",
            "전처리 전:  \n",
            "dtype:  <dtype: 'uint8'>  최소: 0 최대: 255\n",
            "전처리 후:  \n",
            "dtype:  <dtype: 'float32'>  최소: -0.8737728595733643 최대: 0.9460210800170898\n"
          ]
        }
      ],
      "source": [
        "mnist_bldr = tfds.builder('mnist')\n",
        "mnist_bldr.download_and_prepare()\n",
        "mnist = mnist_bldr.as_dataset(shuffle_files=False)\n",
        "\n",
        "def preprocess(ex, mode='uniform'):\n",
        "    image = ex['image']\n",
        "    image = tf.image.convert_image_dtype(image, tf.float32)\n",
        "    image = tf.reshape(image, [-1])\n",
        "    image = image*2 - 1.0\n",
        "    if mode == 'uniform':\n",
        "        input_z = tf.random.uniform(\n",
        "            shape=(z_size,), minval=-1.0, maxval=1.0)\n",
        "    elif mode == 'normal':\n",
        "        input_z = tf.random.normal(shape=(z_size,))\n",
        "    return input_z, image\n",
        "\n",
        "\n",
        "\n",
        "mnist_trainset = mnist['train']\n",
        "\n",
        "print('전처리 전:  ')\n",
        "example = next(iter(mnist_trainset))['image']\n",
        "print('dtype: ', example.dtype, ' 최소: {} 최대: {}'.format(np.min(example), np.max(example)))\n",
        "\n",
        "mnist_trainset = mnist_trainset.map(preprocess)\n",
        "\n",
        "print('전처리 후:  ')\n",
        "example = next(iter(mnist_trainset))[0]\n",
        "print('dtype: ', example.dtype, ' 최소: {} 최대: {}'.format(np.min(example), np.max(example)))"
      ]
    },
    {
      "cell_type": "markdown",
      "metadata": {
        "id": "HT57CGAz0RDr"
      },
      "source": [
        " * **데이터 흐름을 단계별로 밟아보기**"
      ]
    },
    {
      "cell_type": "code",
      "execution_count": 21,
      "metadata": {
        "colab": {
          "base_uri": "https://localhost:8080/"
        },
        "id": "kdAXXUtryFGs",
        "outputId": "4e04aacd-ecdf-4e82-c036-344d953456cf"
      },
      "outputs": [
        {
          "output_type": "stream",
          "name": "stdout",
          "text": [
            "input-z -- 크기: (32, 20)\n",
            "input-real -- 크기: (32, 784)\n",
            "생성자 출력 -- 크기: (32, 784)\n",
            "판별자 (진짜) -- 크기: (32, 1)\n",
            "판별자 (가짜) -- 크기: (32, 1)\n"
          ]
        }
      ],
      "source": [
        "mnist_trainset = mnist_trainset.batch(32, drop_remainder=True)\n",
        "input_z, input_real = next(iter(mnist_trainset))\n",
        "print('input-z -- 크기:', input_z.shape)\n",
        "print('input-real -- 크기:', input_real.shape)\n",
        "\n",
        "g_output = gen_model(input_z)\n",
        "print('생성자 출력 -- 크기:', g_output.shape)\n",
        "\n",
        "d_logits_real = disc_model(input_real)\n",
        "d_logits_fake = disc_model(g_output)\n",
        "print('판별자 (진짜) -- 크기:', d_logits_real.shape)\n",
        "print('판별자 (가짜) -- 크기:', d_logits_fake.shape)"
      ]
    },
    {
      "cell_type": "markdown",
      "metadata": {
        "id": "Nb2H-Ac3M-OK"
      },
      "source": [
        "## GAN 모델 훈련하기"
      ]
    },
    {
      "cell_type": "code",
      "execution_count": 22,
      "metadata": {
        "colab": {
          "base_uri": "https://localhost:8080/"
        },
        "id": "-c9xVvjJySZk",
        "outputId": "e134ca98-4479-445e-b43f-94cd61e5b915"
      },
      "outputs": [
        {
          "output_type": "stream",
          "name": "stdout",
          "text": [
            "생성자 손실: 0.7355\n",
            "판별자 손실: 진짜 1.5073 가짜 0.6583\n"
          ]
        }
      ],
      "source": [
        "loss_fn = tf.keras.losses.BinaryCrossentropy(from_logits=True)\n",
        "\n",
        "## 생성자 손실\n",
        "g_labels_real = tf.ones_like(d_logits_fake)\n",
        "g_loss = loss_fn(y_true=g_labels_real, y_pred=d_logits_fake)\n",
        "print('생성자 손실: {:.4f}'.format(g_loss))\n",
        "\n",
        "## 판별자 손실\n",
        "d_labels_real = tf.ones_like(d_logits_real)\n",
        "d_labels_fake = tf.zeros_like(d_logits_fake)\n",
        "\n",
        "d_loss_real = loss_fn(y_true=d_labels_real, y_pred=d_logits_real)\n",
        "d_loss_fake = loss_fn(y_true=d_labels_fake, y_pred=d_logits_fake)\n",
        "print('판별자 손실: 진짜 {:.4f} 가짜 {:.4f}'\n",
        "      .format(d_loss_real.numpy(), d_loss_fake.numpy()))"
      ]
    },
    {
      "cell_type": "markdown",
      "metadata": {
        "id": "jtxdTVyF0KCF"
      },
      "source": [
        " * **최종 훈련**"
      ]
    },
    {
      "cell_type": "code",
      "execution_count": 23,
      "metadata": {
        "colab": {
          "base_uri": "https://localhost:8080/"
        },
        "id": "yeFKLGNfAF5J",
        "outputId": "ca9bb443-2444-42da-cb09-e6b1c8ad221b"
      },
      "outputs": [
        {
          "output_type": "stream",
          "name": "stdout",
          "text": [
            "에포크 001 | 시간 0.56 min | 평균 손실 >> 생성자/판별자 2.8629/0.2893 [판별자-진짜: 0.0334 판별자-가짜: 0.2559]\n",
            "에포크 002 | 시간 1.02 min | 평균 손실 >> 생성자/판별자 5.2925/0.3469 [판별자-진짜: 0.1124 판별자-가짜: 0.2345]\n",
            "에포크 003 | 시간 1.46 min | 평균 손실 >> 생성자/판별자 3.0345/0.6909 [판별자-진짜: 0.3126 판별자-가짜: 0.3782]\n",
            "에포크 004 | 시간 1.91 min | 평균 손실 >> 생성자/판별자 2.3291/0.8466 [판별자-진짜: 0.4301 판별자-가짜: 0.4164]\n",
            "에포크 005 | 시간 2.35 min | 평균 손실 >> 생성자/판별자 2.1220/0.8014 [판별자-진짜: 0.4390 판별자-가짜: 0.3624]\n",
            "에포크 006 | 시간 2.78 min | 평균 손실 >> 생성자/판별자 1.8319/0.8998 [판별자-진짜: 0.4862 판별자-가짜: 0.4137]\n",
            "에포크 007 | 시간 3.22 min | 평균 손실 >> 생성자/판별자 1.5169/0.9898 [판별자-진짜: 0.5382 판별자-가짜: 0.4516]\n",
            "에포크 008 | 시간 3.65 min | 평균 손실 >> 생성자/판별자 1.4681/1.0272 [판별자-진짜: 0.5540 판별자-가짜: 0.4733]\n",
            "에포크 009 | 시간 4.09 min | 평균 손실 >> 생성자/판별자 1.4538/1.0084 [판별자-진짜: 0.5511 판별자-가짜: 0.4573]\n",
            "에포크 010 | 시간 4.53 min | 평균 손실 >> 생성자/판별자 1.4347/1.0530 [판별자-진짜: 0.5636 판별자-가짜: 0.4894]\n",
            "에포크 011 | 시간 4.97 min | 평균 손실 >> 생성자/판별자 1.3356/1.0650 [판별자-진짜: 0.5742 판별자-가짜: 0.4908]\n",
            "에포크 012 | 시간 5.40 min | 평균 손실 >> 생성자/판별자 1.2850/1.1276 [판별자-진짜: 0.5914 판별자-가짜: 0.5362]\n",
            "에포크 013 | 시간 5.84 min | 평균 손실 >> 생성자/판별자 1.3508/1.1153 [판별자-진짜: 0.5795 판별자-가짜: 0.5358]\n",
            "에포크 014 | 시간 6.28 min | 평균 손실 >> 생성자/판별자 1.2034/1.1628 [판별자-진짜: 0.6026 판별자-가짜: 0.5602]\n",
            "에포크 015 | 시간 6.72 min | 평균 손실 >> 생성자/판별자 1.2879/1.1137 [판별자-진짜: 0.5832 판별자-가짜: 0.5305]\n",
            "에포크 016 | 시간 7.16 min | 평균 손실 >> 생성자/판별자 1.1829/1.1564 [판별자-진짜: 0.6024 판별자-가짜: 0.5539]\n",
            "에포크 017 | 시간 7.59 min | 평균 손실 >> 생성자/판별자 1.1654/1.1601 [판별자-진짜: 0.6009 판별자-가짜: 0.5592]\n",
            "에포크 018 | 시간 8.03 min | 평균 손실 >> 생성자/판별자 1.1780/1.1750 [판별자-진짜: 0.6054 판별자-가짜: 0.5696]\n",
            "에포크 019 | 시간 8.46 min | 평균 손실 >> 생성자/판별자 1.1672/1.1882 [판별자-진짜: 0.6090 판별자-가짜: 0.5792]\n",
            "에포크 020 | 시간 8.90 min | 평균 손실 >> 생성자/판별자 1.1642/1.1933 [판별자-진짜: 0.6094 판별자-가짜: 0.5839]\n",
            "에포크 021 | 시간 9.33 min | 평균 손실 >> 생성자/판별자 1.0396/1.2214 [판별자-진짜: 0.6241 판별자-가짜: 0.5973]\n",
            "에포크 022 | 시간 9.76 min | 평균 손실 >> 생성자/판별자 0.9920/1.2727 [판별자-진짜: 0.6458 판별자-가짜: 0.6270]\n",
            "에포크 023 | 시간 10.19 min | 평균 손실 >> 생성자/판별자 1.1239/1.2339 [판별자-진짜: 0.6201 판별자-가짜: 0.6138]\n",
            "에포크 024 | 시간 10.62 min | 평균 손실 >> 생성자/판별자 1.1030/1.2290 [판별자-진짜: 0.6232 판별자-가짜: 0.6057]\n",
            "에포크 025 | 시간 11.05 min | 평균 손실 >> 생성자/판별자 0.9834/1.2543 [판별자-진짜: 0.6364 판별자-가짜: 0.6179]\n",
            "에포크 026 | 시간 11.48 min | 평균 손실 >> 생성자/판별자 1.0509/1.2377 [판별자-진짜: 0.6280 판별자-가짜: 0.6097]\n",
            "에포크 027 | 시간 11.91 min | 평균 손실 >> 생성자/판별자 1.1629/1.2095 [판별자-진짜: 0.6118 판별자-가짜: 0.5978]\n",
            "에포크 028 | 시간 12.34 min | 평균 손실 >> 생성자/판별자 0.9965/1.2511 [판별자-진짜: 0.6383 판별자-가짜: 0.6128]\n",
            "에포크 029 | 시간 12.77 min | 평균 손실 >> 생성자/판별자 0.9581/1.2560 [판별자-진짜: 0.6397 판별자-가짜: 0.6163]\n",
            "에포크 030 | 시간 13.20 min | 평균 손실 >> 생성자/판별자 1.0046/1.2606 [판별자-진짜: 0.6354 판별자-가짜: 0.6252]\n",
            "에포크 031 | 시간 13.62 min | 평균 손실 >> 생성자/판별자 1.0406/1.2544 [판별자-진짜: 0.6324 판별자-가짜: 0.6220]\n",
            "에포크 032 | 시간 14.05 min | 평균 손실 >> 생성자/판별자 1.0417/1.2335 [판별자-진짜: 0.6230 판별자-가짜: 0.6105]\n",
            "에포크 033 | 시간 14.48 min | 평균 손실 >> 생성자/판별자 0.9837/1.2547 [판별자-진짜: 0.6366 판별자-가짜: 0.6181]\n",
            "에포크 034 | 시간 14.91 min | 평균 손실 >> 생성자/판별자 0.9633/1.2620 [판별자-진짜: 0.6372 판별자-가짜: 0.6248]\n",
            "에포크 035 | 시간 15.34 min | 평균 손실 >> 생성자/판별자 1.0068/1.2515 [판별자-진짜: 0.6324 판별자-가짜: 0.6190]\n",
            "에포크 036 | 시간 15.76 min | 평균 손실 >> 생성자/판별자 1.0137/1.2713 [판별자-진짜: 0.6382 판별자-가짜: 0.6331]\n",
            "에포크 037 | 시간 16.19 min | 평균 손실 >> 생성자/판별자 1.0168/1.2751 [판별자-진짜: 0.6393 판별자-가짜: 0.6358]\n",
            "에포크 038 | 시간 16.62 min | 평균 손실 >> 생성자/판별자 0.9891/1.2811 [판별자-진짜: 0.6428 판별자-가짜: 0.6384]\n",
            "에포크 039 | 시간 17.05 min | 평균 손실 >> 생성자/판별자 0.9557/1.2916 [판별자-진짜: 0.6517 판별자-가짜: 0.6399]\n",
            "에포크 040 | 시간 17.48 min | 평균 손실 >> 생성자/판별자 0.9742/1.2866 [판별자-진짜: 0.6478 판별자-가짜: 0.6388]\n",
            "에포크 041 | 시간 17.91 min | 평균 손실 >> 생성자/판별자 0.9721/1.2822 [판별자-진짜: 0.6467 판별자-가짜: 0.6356]\n",
            "에포크 042 | 시간 18.33 min | 평균 손실 >> 생성자/판별자 1.0379/1.2650 [판별자-진짜: 0.6347 판별자-가짜: 0.6303]\n",
            "에포크 043 | 시간 18.76 min | 평균 손실 >> 생성자/판별자 0.9634/1.2819 [판별자-진짜: 0.6448 판별자-가짜: 0.6371]\n",
            "에포크 044 | 시간 19.18 min | 평균 손실 >> 생성자/판별자 0.9143/1.2934 [판별자-진짜: 0.6510 판별자-가짜: 0.6425]\n",
            "에포크 045 | 시간 19.61 min | 평균 손실 >> 생성자/판별자 0.9827/1.2829 [판별자-진짜: 0.6431 판별자-가짜: 0.6398]\n",
            "에포크 046 | 시간 20.29 min | 평균 손실 >> 생성자/판별자 1.0115/1.2754 [판별자-진짜: 0.6408 판별자-가짜: 0.6346]\n",
            "에포크 047 | 시간 20.72 min | 평균 손실 >> 생성자/판별자 0.9196/1.2918 [판별자-진짜: 0.6514 판별자-가짜: 0.6405]\n",
            "에포크 048 | 시간 21.14 min | 평균 손실 >> 생성자/판별자 0.9219/1.3040 [판별자-진짜: 0.6558 판별자-가짜: 0.6482]\n",
            "에포크 049 | 시간 21.57 min | 평균 손실 >> 생성자/판별자 0.9693/1.2865 [판별자-진짜: 0.6465 판별자-가짜: 0.6400]\n",
            "에포크 050 | 시간 21.99 min | 평균 손실 >> 생성자/판별자 0.9562/1.2931 [판별자-진짜: 0.6505 판별자-가짜: 0.6426]\n",
            "에포크 051 | 시간 22.42 min | 평균 손실 >> 생성자/판별자 0.9372/1.2894 [판별자-진짜: 0.6481 판별자-가짜: 0.6413]\n",
            "에포크 052 | 시간 22.84 min | 평균 손실 >> 생성자/판별자 0.9544/1.2909 [판별자-진짜: 0.6464 판별자-가짜: 0.6445]\n",
            "에포크 053 | 시간 23.27 min | 평균 손실 >> 생성자/판별자 0.9399/1.3001 [판별자-진짜: 0.6525 판별자-가짜: 0.6476]\n",
            "에포크 054 | 시간 23.69 min | 평균 손실 >> 생성자/판별자 0.8795/1.3159 [판별자-진짜: 0.6635 판별자-가짜: 0.6523]\n",
            "에포크 055 | 시간 24.11 min | 평균 손실 >> 생성자/판별자 0.9667/1.2911 [판별자-진짜: 0.6494 판별자-가짜: 0.6417]\n",
            "에포크 056 | 시간 24.53 min | 평균 손실 >> 생성자/판별자 0.9805/1.2874 [판별자-진짜: 0.6468 판별자-가짜: 0.6406]\n",
            "에포크 057 | 시간 24.96 min | 평균 손실 >> 생성자/판별자 0.9401/1.2948 [판별자-진짜: 0.6519 판별자-가짜: 0.6429]\n",
            "에포크 058 | 시간 25.38 min | 평균 손실 >> 생성자/판별자 0.9100/1.3001 [판별자-진짜: 0.6541 판별자-가짜: 0.6459]\n",
            "에포크 059 | 시간 25.80 min | 평균 손실 >> 생성자/판별자 0.9656/1.2858 [판별자-진짜: 0.6471 판별자-가짜: 0.6387]\n",
            "에포크 060 | 시간 26.22 min | 평균 손실 >> 생성자/판별자 0.9581/1.2939 [판별자-진짜: 0.6496 판별자-가짜: 0.6443]\n",
            "에포크 061 | 시간 26.65 min | 평균 손실 >> 생성자/판별자 0.9565/1.2964 [판별자-진짜: 0.6501 판별자-가짜: 0.6463]\n",
            "에포크 062 | 시간 27.07 min | 평균 손실 >> 생성자/판별자 0.9015/1.3122 [판별자-진짜: 0.6588 판별자-가짜: 0.6534]\n",
            "에포크 063 | 시간 27.50 min | 평균 손실 >> 생성자/판별자 0.9419/1.3023 [판별자-진짜: 0.6547 판별자-가짜: 0.6476]\n",
            "에포크 064 | 시간 27.92 min | 평균 손실 >> 생성자/판별자 0.9515/1.3002 [판별자-진짜: 0.6510 판별자-가짜: 0.6491]\n",
            "에포크 065 | 시간 28.34 min | 평균 손실 >> 생성자/판별자 0.9143/1.3144 [판별자-진짜: 0.6611 판별자-가짜: 0.6533]\n",
            "에포크 066 | 시간 28.76 min | 평균 손실 >> 생성자/판별자 0.9277/1.3062 [판별자-진짜: 0.6547 판별자-가짜: 0.6514]\n",
            "에포크 067 | 시간 29.18 min | 평균 손실 >> 생성자/판별자 0.9371/1.3018 [판별자-진짜: 0.6528 판별자-가짜: 0.6490]\n",
            "에포크 068 | 시간 29.61 min | 평균 손실 >> 생성자/판별자 0.9365/1.2993 [판별자-진짜: 0.6526 판별자-가짜: 0.6467]\n",
            "에포크 069 | 시간 30.03 min | 평균 손실 >> 생성자/판별자 0.9138/1.3079 [판별자-진짜: 0.6552 판별자-가짜: 0.6526]\n",
            "에포크 070 | 시간 30.45 min | 평균 손실 >> 생성자/판별자 0.8858/1.3230 [판별자-진짜: 0.6634 판별자-가짜: 0.6596]\n",
            "에포크 071 | 시간 30.88 min | 평균 손실 >> 생성자/판별자 0.9330/1.3090 [판별자-진짜: 0.6564 판별자-가짜: 0.6526]\n",
            "에포크 072 | 시간 31.30 min | 평균 손실 >> 생성자/판별자 0.9193/1.3099 [판별자-진짜: 0.6600 판별자-가짜: 0.6499]\n",
            "에포크 073 | 시간 31.72 min | 평균 손실 >> 생성자/판별자 0.9382/1.3079 [판별자-진짜: 0.6566 판별자-가짜: 0.6513]\n",
            "에포크 074 | 시간 32.15 min | 평균 손실 >> 생성자/판별자 0.8976/1.3157 [판별자-진짜: 0.6624 판별자-가짜: 0.6533]\n",
            "에포크 075 | 시간 32.58 min | 평균 손실 >> 생성자/판별자 0.9166/1.3125 [판별자-진짜: 0.6580 판별자-가짜: 0.6544]\n",
            "에포크 076 | 시간 33.01 min | 평균 손실 >> 생성자/판별자 0.9314/1.3033 [판별자-진짜: 0.6539 판별자-가짜: 0.6494]\n",
            "에포크 077 | 시간 33.44 min | 평균 손실 >> 생성자/판별자 0.9119/1.3144 [판별자-진짜: 0.6599 판별자-가짜: 0.6545]\n",
            "에포크 078 | 시간 33.88 min | 평균 손실 >> 생성자/판별자 0.9223/1.3010 [판별자-진짜: 0.6526 판별자-가짜: 0.6484]\n",
            "에포크 079 | 시간 34.31 min | 평균 손실 >> 생성자/판별자 0.8953/1.3235 [판별자-진짜: 0.6629 판별자-가짜: 0.6606]\n",
            "에포크 080 | 시간 34.74 min | 평균 손실 >> 생성자/판별자 0.9419/1.3123 [판별자-진짜: 0.6580 판별자-가짜: 0.6542]\n",
            "에포크 081 | 시간 35.16 min | 평균 손실 >> 생성자/판별자 0.9160/1.3109 [판별자-진짜: 0.6585 판별자-가짜: 0.6525]\n",
            "에포크 082 | 시간 35.59 min | 평균 손실 >> 생성자/판별자 0.9051/1.3163 [판별자-진짜: 0.6619 판별자-가짜: 0.6545]\n",
            "에포크 083 | 시간 36.02 min | 평균 손실 >> 생성자/판별자 0.9181/1.3095 [판별자-진짜: 0.6550 판별자-가짜: 0.6545]\n",
            "에포크 084 | 시간 36.45 min | 평균 손실 >> 생성자/판별자 0.9163/1.3066 [판별자-진짜: 0.6547 판별자-가짜: 0.6520]\n",
            "에포크 085 | 시간 36.87 min | 평균 손실 >> 생성자/판별자 0.9111/1.3142 [판별자-진짜: 0.6609 판별자-가짜: 0.6533]\n",
            "에포크 086 | 시간 37.30 min | 평균 손실 >> 생성자/판별자 0.9369/1.3028 [판별자-진짜: 0.6519 판별자-가짜: 0.6509]\n",
            "에포크 087 | 시간 37.73 min | 평균 손실 >> 생성자/판별자 0.9265/1.3034 [판별자-진짜: 0.6540 판별자-가짜: 0.6494]\n",
            "에포크 088 | 시간 38.16 min | 평균 손실 >> 생성자/판별자 0.9308/1.3059 [판별자-진짜: 0.6557 판별자-가짜: 0.6502]\n",
            "에포크 089 | 시간 38.58 min | 평균 손실 >> 생성자/판별자 0.8951/1.3103 [판별자-진짜: 0.6568 판별자-가짜: 0.6536]\n",
            "에포크 090 | 시간 39.01 min | 평균 손실 >> 생성자/판별자 0.9433/1.3174 [판별자-진짜: 0.6587 판별자-가짜: 0.6588]\n",
            "에포크 091 | 시간 39.43 min | 평균 손실 >> 생성자/판별자 0.9203/1.3076 [판별자-진짜: 0.6565 판별자-가짜: 0.6511]\n",
            "에포크 092 | 시간 39.85 min | 평균 손실 >> 생성자/판별자 0.8638/1.3284 [판별자-진짜: 0.6684 판별자-가짜: 0.6600]\n",
            "에포크 093 | 시간 40.27 min | 평균 손실 >> 생성자/판별자 0.9710/1.3112 [판별자-진짜: 0.6561 판별자-가짜: 0.6551]\n",
            "에포크 094 | 시간 40.69 min | 평균 손실 >> 생성자/판별자 0.9134/1.3071 [판별자-진짜: 0.6562 판별자-가짜: 0.6509]\n",
            "에포크 095 | 시간 41.37 min | 평균 손실 >> 생성자/판별자 0.9068/1.3117 [판별자-진짜: 0.6585 판별자-가짜: 0.6533]\n",
            "에포크 096 | 시간 41.79 min | 평균 손실 >> 생성자/판별자 0.9376/1.3131 [판별자-진짜: 0.6578 판별자-가짜: 0.6553]\n",
            "에포크 097 | 시간 42.22 min | 평균 손실 >> 생성자/판별자 0.8939/1.3198 [판별자-진짜: 0.6628 판별자-가짜: 0.6570]\n",
            "에포크 098 | 시간 42.64 min | 평균 손실 >> 생성자/판별자 0.8888/1.3304 [판별자-진짜: 0.6663 판별자-가짜: 0.6641]\n",
            "에포크 099 | 시간 43.07 min | 평균 손실 >> 생성자/판별자 0.9222/1.3197 [판별자-진짜: 0.6611 판별자-가짜: 0.6586]\n",
            "에포크 100 | 시간 43.49 min | 평균 손실 >> 생성자/판별자 0.8808/1.3210 [판별자-진짜: 0.6636 판별자-가짜: 0.6573]\n"
          ]
        }
      ],
      "source": [
        "import time\n",
        "\n",
        "\n",
        "num_epochs = 100\n",
        "batch_size = 64\n",
        "image_size = (28, 28)\n",
        "z_size = 20\n",
        "mode_z = 'uniform'\n",
        "gen_hidden_layers = 1\n",
        "gen_hidden_size = 100\n",
        "disc_hidden_layers = 1\n",
        "disc_hidden_size = 100\n",
        "\n",
        "tf.random.set_seed(1)\n",
        "np.random.seed(1)\n",
        "\n",
        "\n",
        "if mode_z == 'uniform':\n",
        "    fixed_z = tf.random.uniform(\n",
        "        shape=(batch_size, z_size),\n",
        "        minval=-1, maxval=1)\n",
        "elif mode_z == 'normal':\n",
        "    fixed_z = tf.random.normal(\n",
        "        shape=(batch_size, z_size))\n",
        "\n",
        "\n",
        "def create_samples(g_model, input_z):\n",
        "    g_output = g_model(input_z, training=False)\n",
        "    images = tf.reshape(g_output, (batch_size, *image_size))    \n",
        "    return (images+1)/2.0\n",
        "\n",
        "## 데이터셋 준비\n",
        "mnist_trainset = mnist['train']\n",
        "mnist_trainset = mnist_trainset.map(\n",
        "    lambda ex: preprocess(ex, mode=mode_z))\n",
        "\n",
        "mnist_trainset = mnist_trainset.shuffle(10000)\n",
        "mnist_trainset = mnist_trainset.batch(\n",
        "    batch_size, drop_remainder=True)\n",
        "\n",
        "## 모델 준비\n",
        "with tf.device(device_name):\n",
        "    gen_model = make_generator_network(\n",
        "        num_hidden_layers=gen_hidden_layers, \n",
        "        num_hidden_units=gen_hidden_size,\n",
        "        num_output_units=np.prod(image_size))\n",
        "    gen_model.build(input_shape=(None, z_size))\n",
        "\n",
        "    disc_model = make_discriminator_network(\n",
        "        num_hidden_layers=disc_hidden_layers,\n",
        "        num_hidden_units=disc_hidden_size)\n",
        "    disc_model.build(input_shape=(None, np.prod(image_size)))\n",
        "\n",
        "## 손실 함수와 옵티마이저:\n",
        "loss_fn = tf.keras.losses.BinaryCrossentropy(from_logits=True)\n",
        "g_optimizer = tf.keras.optimizers.Adam()\n",
        "d_optimizer = tf.keras.optimizers.Adam()\n",
        "\n",
        "all_losses = []\n",
        "all_d_vals = []\n",
        "epoch_samples = []\n",
        "\n",
        "start_time = time.time()\n",
        "for epoch in range(1, num_epochs+1):\n",
        "    epoch_losses, epoch_d_vals = [], []\n",
        "    for i,(input_z,input_real) in enumerate(mnist_trainset):\n",
        "        \n",
        "        ## 생성자 손실을 계산합니다\n",
        "        with tf.GradientTape() as g_tape:\n",
        "            g_output = gen_model(input_z)\n",
        "            d_logits_fake = disc_model(g_output, training=True)\n",
        "            labels_real = tf.ones_like(d_logits_fake)\n",
        "            g_loss = loss_fn(y_true=labels_real, y_pred=d_logits_fake)\n",
        "            \n",
        "        # g_loss의 그래디언트를 계산합니다\n",
        "        g_grads = g_tape.gradient(g_loss, gen_model.trainable_variables)\n",
        "        \n",
        "        # 최적화: 그래디언트를 적용합니다\n",
        "        g_optimizer.apply_gradients(\n",
        "            grads_and_vars=zip(g_grads, gen_model.trainable_variables))\n",
        "\n",
        "        ## 판별자 손실을 계산합니다\n",
        "        with tf.GradientTape() as d_tape:\n",
        "            d_logits_real = disc_model(input_real, training=True)\n",
        "\n",
        "            d_labels_real = tf.ones_like(d_logits_real)\n",
        "            \n",
        "            d_loss_real = loss_fn(\n",
        "                y_true=d_labels_real, y_pred=d_logits_real)\n",
        "\n",
        "            d_logits_fake = disc_model(g_output, training=True)\n",
        "            d_labels_fake = tf.zeros_like(d_logits_fake)\n",
        "\n",
        "            d_loss_fake = loss_fn(\n",
        "                y_true=d_labels_fake, y_pred=d_logits_fake)\n",
        "\n",
        "            d_loss = d_loss_real + d_loss_fake\n",
        "\n",
        "        ## d_loss의 그래디언트를 계산합니다\n",
        "        d_grads = d_tape.gradient(d_loss, disc_model.trainable_variables)\n",
        "        \n",
        "        ## 최적화: 그래디언트를 적용합니다\n",
        "        d_optimizer.apply_gradients(\n",
        "            grads_and_vars=zip(d_grads, disc_model.trainable_variables))\n",
        "                           \n",
        "        epoch_losses.append(\n",
        "            (g_loss.numpy(), d_loss.numpy(), \n",
        "             d_loss_real.numpy(), d_loss_fake.numpy()))\n",
        "        \n",
        "        d_probs_real = tf.reduce_mean(tf.sigmoid(d_logits_real))\n",
        "        d_probs_fake = tf.reduce_mean(tf.sigmoid(d_logits_fake))\n",
        "        epoch_d_vals.append((d_probs_real.numpy(), d_probs_fake.numpy()))        \n",
        "    all_losses.append(epoch_losses)\n",
        "    all_d_vals.append(epoch_d_vals)\n",
        "    print(\n",
        "        '에포크 {:03d} | 시간 {:.2f} min | 평균 손실 >>'\n",
        "        ' 생성자/판별자 {:.4f}/{:.4f} [판별자-진짜: {:.4f} 판별자-가짜: {:.4f}]'\n",
        "        .format(\n",
        "            epoch, (time.time() - start_time)/60, \n",
        "            *list(np.mean(all_losses[-1], axis=0))))\n",
        "    epoch_samples.append(\n",
        "        create_samples(gen_model, fixed_z).numpy())"
      ]
    },
    {
      "cell_type": "code",
      "execution_count": 24,
      "metadata": {
        "colab": {
          "base_uri": "https://localhost:8080/",
          "height": 458
        },
        "id": "TQyQ8deLaHmw",
        "outputId": "3bba3bf7-2e55-44e8-ed4a-3091cfa64900"
      },
      "outputs": [
        {
          "output_type": "display_data",
          "data": {
            "text/plain": [
              "<Figure size 1152x432 with 4 Axes>"
            ],
            "image/png": "[encoded data removed]"
          },
          "metadata": {
            "needs_background": "light"
          }
        }
      ],
      "source": [
        "import itertools\n",
        "\n",
        "\n",
        "fig = plt.figure(figsize=(16, 6))\n",
        "\n",
        "## 손실 그래프\n",
        "ax = fig.add_subplot(1, 2, 1)\n",
        "g_losses = [item[0] for item in itertools.chain(*all_losses)]\n",
        "d_losses = [item[1]/2.0 for item in itertools.chain(*all_losses)]\n",
        "plt.plot(g_losses, label='Generator loss', alpha=0.95)\n",
        "plt.plot(d_losses, label='Discriminator loss', alpha=0.95)\n",
        "plt.legend(fontsize=20)\n",
        "ax.set_xlabel('Iteration', size=15)\n",
        "ax.set_ylabel('Loss', size=15)\n",
        "\n",
        "epochs = np.arange(1, 101)\n",
        "epoch2iter = lambda e: e*len(all_losses[-1])\n",
        "epoch_ticks = [1, 20, 40, 60, 80, 100]\n",
        "newpos = [epoch2iter(e) for e in epoch_ticks]\n",
        "ax2 = ax.twiny()\n",
        "ax2.set_xticks(newpos)\n",
        "ax2.set_xticklabels(epoch_ticks)\n",
        "ax2.xaxis.set_ticks_position('bottom')\n",
        "ax2.xaxis.set_label_position('bottom')\n",
        "ax2.spines['bottom'].set_position(('outward', 60))\n",
        "ax2.set_xlabel('Epoch', size=15)\n",
        "ax2.set_xlim(ax.get_xlim())\n",
        "ax.tick_params(axis='both', which='major', labelsize=15)\n",
        "ax2.tick_params(axis='both', which='major', labelsize=15)\n",
        "\n",
        "## 판별자의 출력\n",
        "ax = fig.add_subplot(1, 2, 2)\n",
        "d_vals_real = [item[0] for item in itertools.chain(*all_d_vals)]\n",
        "d_vals_fake = [item[1] for item in itertools.chain(*all_d_vals)]\n",
        "plt.plot(d_vals_real, alpha=0.75, label=r'Real: $D(\\mathbf{x})$')\n",
        "plt.plot(d_vals_fake, alpha=0.75, label=r'Fake: $D(G(\\mathbf{z}))$')\n",
        "plt.legend(fontsize=20)\n",
        "ax.set_xlabel('Iteration', size=15)\n",
        "ax.set_ylabel('Discriminator output', size=15)\n",
        "\n",
        "ax2 = ax.twiny()\n",
        "ax2.set_xticks(newpos)\n",
        "ax2.set_xticklabels(epoch_ticks)\n",
        "ax2.xaxis.set_ticks_position('bottom')\n",
        "ax2.xaxis.set_label_position('bottom')\n",
        "ax2.spines['bottom'].set_position(('outward', 60))\n",
        "ax2.set_xlabel('Epoch', size=15)\n",
        "ax2.set_xlim(ax.get_xlim())\n",
        "ax.tick_params(axis='both', which='major', labelsize=15)\n",
        "ax2.tick_params(axis='both', which='major', labelsize=15)\n",
        "\n",
        "plt.show()"
      ]
    },
    {
      "cell_type": "code",
      "execution_count": 25,
      "metadata": {
        "colab": {
          "base_uri": "https://localhost:8080/",
          "height": 783
        },
        "id": "iENdPX_gPoJ7",
        "outputId": "c3b09d97-73f4-4a60-af25-61e61e012c43"
      },
      "outputs": [
        {
          "output_type": "display_data",
          "data": {
            "text/plain": [
              "<Figure size 720x1008 with 30 Axes>"
            ],
            "image/png": "[encoded data removed]"
          },
          "metadata": {}
        }
      ],
      "source": [
        "selected_epochs = [1, 2, 4, 10, 50, 100]\n",
        "fig = plt.figure(figsize=(10, 14))\n",
        "for i,e in enumerate(selected_epochs):\n",
        "    for j in range(5):\n",
        "        ax = fig.add_subplot(6, 5, i*5+j+1)\n",
        "        ax.set_xticks([])\n",
        "        ax.set_yticks([])\n",
        "        if j == 0:\n",
        "            ax.text(\n",
        "                -0.06, 0.5, 'Epoch {}'.format(e),\n",
        "                rotation=90, size=18, color='red',\n",
        "                horizontalalignment='right',\n",
        "                verticalalignment='center', \n",
        "                transform=ax.transAxes)\n",
        "        \n",
        "        image = epoch_samples[e-1][j]\n",
        "        ax.imshow(image, cmap='gray_r')\n",
        "\n",
        "plt.show()"
      ]
    }
  ],
  "metadata": {
    "accelerator": "GPU",
    "colab": {
      "collapsed_sections": [],
      "name": "ch17-basic-GAN.ipynb",
      "provenance": []
    },
    "kernelspec": {
      "display_name": "Python 3",
      "language": "python",
      "name": "python3"
    },
    "language_info": {
      "codemirror_mode": {
        "name": "ipython",
        "version": 3
      },
      "file_extension": ".py",
      "mimetype": "text/x-python",
      "name": "python",
      "nbconvert_exporter": "python",
      "pygments_lexer": "ipython3",
      "version": "3.7.3"
    },
    "widgets": {
      "application/vnd.jupyter.widget-state+json": {
        "74f280789ec44c49a0ef9c91d5e1f8bb": {
          "model_module": "@jupyter-widgets/controls",
          "model_name": "HBoxModel",
          "model_module_version": "1.5.0",
          "state": {
            "_dom_classes": [],
            "_model_module": "@jupyter-widgets/controls",
            "_model_module_version": "1.5.0",
            "_model_name": "HBoxModel",
            "_view_count": null,
            "_view_module": "@jupyter-widgets/controls",
            "_view_module_version": "1.5.0",
            "_view_name": "HBoxView",
            "box_style": "",
            "children": [
              "IPY_MODEL_fd734eff310e4681a8655f984c957dd5",
              "IPY_MODEL_898ccf56f999461da820e669d66955ab",
              "IPY_MODEL_2e50d0df0f2c4124a22369546881991d"
            ],
            "layout": "IPY_MODEL_8cedcf8698ad4980a6a31f435bf31a21"
          }
        },
        "fd734eff310e4681a8655f984c957dd5": {
          "model_module": "@jupyter-widgets/controls",
          "model_name": "HTMLModel",
          "model_module_version": "1.5.0",
          "state": {
            "_dom_classes": [],
            "_model_module": "@jupyter-widgets/controls",
            "_model_module_version": "1.5.0",
            "_model_name": "HTMLModel",
            "_view_count": null,
            "_view_module": "@jupyter-widgets/controls",
            "_view_module_version": "1.5.0",
            "_view_name": "HTMLView",
            "description": "",
            "description_tooltip": null,
            "layout": "IPY_MODEL_8fd274045d8e41eb9b67690f307021f5",
            "placeholder": "​",
            "style": "IPY_MODEL_40fdc7518eb8457bb4c4fd92f0617ac8",
            "value": "Dl Completed...: 100%"
          }
        },
        "898ccf56f999461da820e669d66955ab": {
          "model_module": "@jupyter-widgets/controls",
          "model_name": "FloatProgressModel",
          "model_module_version": "1.5.0",
          "state": {
            "_dom_classes": [],
            "_model_module": "@jupyter-widgets/controls",
            "_model_module_version": "1.5.0",
            "_model_name": "FloatProgressModel",
            "_view_count": null,
            "_view_module": "@jupyter-widgets/controls",
            "_view_module_version": "1.5.0",
            "_view_name": "ProgressView",
            "bar_style": "success",
            "description": "",
            "description_tooltip": null,
            "layout": "IPY_MODEL_865bd7ba3439469897ffdf1803746e18",
            "max": 4,
            "min": 0,
            "orientation": "horizontal",
            "style": "IPY_MODEL_d7eef75ce79c412aab2e5b72de3c06f7",
            "value": 4
          }
        },
        "2e50d0df0f2c4124a22369546881991d": {
          "model_module": "@jupyter-widgets/controls",
          "model_name": "HTMLModel",
          "model_module_version": "1.5.0",
          "state": {
            "_dom_classes": [],
            "_model_module": "@jupyter-widgets/controls",
            "_model_module_version": "1.5.0",
            "_model_name": "HTMLModel",
            "_view_count": null,
            "_view_module": "@jupyter-widgets/controls",
            "_view_module_version": "1.5.0",
            "_view_name": "HTMLView",
            "description": "",
            "description_tooltip": null,
            "layout": "IPY_MODEL_4d6186ac67c543d7861e2da33dd612f8",
            "placeholder": "​",
            "style": "IPY_MODEL_d6e0bb77a24741b299e8344f8287ce86",
            "value": " 4/4 [00:00&lt;00:00,  9.37 file/s]"
          }
        },
        "8cedcf8698ad4980a6a31f435bf31a21": {
          "model_module": "@jupyter-widgets/base",
          "model_name": "LayoutModel",
          "model_module_version": "1.2.0",
          "state": {
            "_model_module": "@jupyter-widgets/base",
            "_model_module_version": "1.2.0",
            "_model_name": "LayoutModel",
            "_view_count": null,
            "_view_module": "@jupyter-widgets/base",
            "_view_module_version": "1.2.0",
            "_view_name": "LayoutView",
            "align_content": null,
            "align_items": null,
            "align_self": null,
            "border": null,
            "bottom": null,
            "display": null,
            "flex": null,
            "flex_flow": null,
            "grid_area": null,
            "grid_auto_columns": null,
            "grid_auto_flow": null,
            "grid_auto_rows": null,
            "grid_column": null,
            "grid_gap": null,
            "grid_row": null,
            "grid_template_areas": null,
            "grid_template_columns": null,
            "grid_template_rows": null,
            "height": null,
            "justify_content": null,
            "justify_items": null,
            "left": null,
            "margin": null,
            "max_height": null,
            "max_width": null,
            "min_height": null,
            "min_width": null,
            "object_fit": null,
            "object_position": null,
            "order": null,
            "overflow": null,
            "overflow_x": null,
            "overflow_y": null,
            "padding": null,
            "right": null,
            "top": null,
            "visibility": null,
            "width": null
          }
        },
        "8fd274045d8e41eb9b67690f307021f5": {
          "model_module": "@jupyter-widgets/base",
          "model_name": "LayoutModel",
          "model_module_version": "1.2.0",
          "state": {
            "_model_module": "@jupyter-widgets/base",
            "_model_module_version": "1.2.0",
            "_model_name": "LayoutModel",
            "_view_count": null,
            "_view_module": "@jupyter-widgets/base",
            "_view_module_version": "1.2.0",
            "_view_name": "LayoutView",
            "align_content": null,
            "align_items": null,
            "align_self": null,
            "border": null,
            "bottom": null,
            "display": null,
            "flex": null,
            "flex_flow": null,
            "grid_area": null,
            "grid_auto_columns": null,
            "grid_auto_flow": null,
            "grid_auto_rows": null,
            "grid_column": null,
            "grid_gap": null,
            "grid_row": null,
            "grid_template_areas": null,
            "grid_template_columns": null,
            "grid_template_rows": null,
            "height": null,
            "justify_content": null,
            "justify_items": null,
            "left": null,
            "margin": null,
            "max_height": null,
            "max_width": null,
            "min_height": null,
            "min_width": null,
            "object_fit": null,
            "object_position": null,
            "order": null,
            "overflow": null,
            "overflow_x": null,
            "overflow_y": null,
            "padding": null,
            "right": null,
            "top": null,
            "visibility": null,
            "width": null
          }
        },
        "40fdc7518eb8457bb4c4fd92f0617ac8": {
          "model_module": "@jupyter-widgets/controls",
          "model_name": "DescriptionStyleModel",
          "model_module_version": "1.5.0",
          "state": {
            "_model_module": "@jupyter-widgets/controls",
            "_model_module_version": "1.5.0",
            "_model_name": "DescriptionStyleModel",
            "_view_count": null,
            "_view_module": "@jupyter-widgets/base",
            "_view_module_version": "1.2.0",
            "_view_name": "StyleView",
            "description_width": ""
          }
        },
        "865bd7ba3439469897ffdf1803746e18": {
          "model_module": "@jupyter-widgets/base",
          "model_name": "LayoutModel",
          "model_module_version": "1.2.0",
          "state": {
            "_model_module": "@jupyter-widgets/base",
            "_model_module_version": "1.2.0",
            "_model_name": "LayoutModel",
            "_view_count": null,
            "_view_module": "@jupyter-widgets/base",
            "_view_module_version": "1.2.0",
            "_view_name": "LayoutView",
            "align_content": null,
            "align_items": null,
            "align_self": null,
            "border": null,
            "bottom": null,
            "display": null,
            "flex": null,
            "flex_flow": null,
            "grid_area": null,
            "grid_auto_columns": null,
            "grid_auto_flow": null,
            "grid_auto_rows": null,
            "grid_column": null,
            "grid_gap": null,
            "grid_row": null,
            "grid_template_areas": null,
            "grid_template_columns": null,
            "grid_template_rows": null,
            "height": null,
            "justify_content": null,
            "justify_items": null,
            "left": null,
            "margin": null,
            "max_height": null,
            "max_width": null,
            "min_height": null,
            "min_width": null,
            "object_fit": null,
            "object_position": null,
            "order": null,
            "overflow": null,
            "overflow_x": null,
            "overflow_y": null,
            "padding": null,
            "right": null,
            "top": null,
            "visibility": null,
            "width": null
          }
        },
        "d7eef75ce79c412aab2e5b72de3c06f7": {
          "model_module": "@jupyter-widgets/controls",
          "model_name": "ProgressStyleModel",
          "model_module_version": "1.5.0",
          "state": {
            "_model_module": "@jupyter-widgets/controls",
            "_model_module_version": "1.5.0",
            "_model_name": "ProgressStyleModel",
            "_view_count": null,
            "_view_module": "@jupyter-widgets/base",
            "_view_module_version": "1.2.0",
            "_view_name": "StyleView",
            "bar_color": null,
            "description_width": ""
          }
        },
        "4d6186ac67c543d7861e2da33dd612f8": {
          "model_module": "@jupyter-widgets/base",
          "model_name": "LayoutModel",
          "model_module_version": "1.2.0",
          "state": {
            "_model_module": "@jupyter-widgets/base",
            "_model_module_version": "1.2.0",
            "_model_name": "LayoutModel",
            "_view_count": null,
            "_view_module": "@jupyter-widgets/base",
            "_view_module_version": "1.2.0",
            "_view_name": "LayoutView",
            "align_content": null,
            "align_items": null,
            "align_self": null,
            "border": null,
            "bottom": null,
            "display": null,
            "flex": null,
            "flex_flow": null,
            "grid_area": null,
            "grid_auto_columns": null,
            "grid_auto_flow": null,
            "grid_auto_rows": null,
            "grid_column": null,
            "grid_gap": null,
            "grid_row": null,
            "grid_template_areas": null,
            "grid_template_columns": null,
            "grid_template_rows": null,
            "height": null,
            "justify_content": null,
            "justify_items": null,
            "left": null,
            "margin": null,
            "max_height": null,
            "max_width": null,
            "min_height": null,
            "min_width": null,
            "object_fit": null,
            "object_position": null,
            "order": null,
            "overflow": null,
            "overflow_x": null,
            "overflow_y": null,
            "padding": null,
            "right": null,
            "top": null,
            "visibility": null,
            "width": null
          }
        },
        "d6e0bb77a24741b299e8344f8287ce86": {
          "model_module": "@jupyter-widgets/controls",
          "model_name": "DescriptionStyleModel",
          "model_module_version": "1.5.0",
          "state": {
            "_model_module": "@jupyter-widgets/controls",
            "_model_module_version": "1.5.0",
            "_model_name": "DescriptionStyleModel",
            "_view_count": null,
            "_view_module": "@jupyter-widgets/base",
            "_view_module_version": "1.2.0",
            "_view_name": "StyleView",
            "description_width": ""
          }
        }
      }
    }
  },
  "nbformat": 4,
  "nbformat_minor": 0
}