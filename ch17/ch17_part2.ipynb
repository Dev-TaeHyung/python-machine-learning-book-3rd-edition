{
  "cells": [
    {
      "cell_type": "markdown",
      "metadata": {
        "id": "mhnVRDEso6TM"
      },
      "source": [
        "# 머신 러닝 교과서 3판"
      ]
    },
    {
      "cell_type": "markdown",
      "metadata": {
        "id": "iLYc3wMJo6TQ"
      },
      "source": [
        "# 17장 - 새로운 데이터 합성을 위한 생성적 적대 신경망 (2/2)"
      ]
    },
    {
      "cell_type": "markdown",
      "metadata": {
        "id": "zxnZcUDYo6TQ"
      },
      "source": [
        "**아래 링크를 통해 이 노트북을 주피터 노트북 뷰어(nbviewer.jupyter.org)로 보거나 구글 코랩(colab.research.google.com)에서 실행할 수 있습니다.**\n",
        "\n",
        "<table class=\"tfo-notebook-buttons\" align=\"left\">\n",
        "  <td>\n",
        "    <a target=\"_blank\" href=\"https://nbviewer.org/github/rickiepark/python-machine-learning-book-3rd-edition/blob/master/ch17/ch17_part2.ipynb\"><img src=\"https://jupyter.org/assets/share.png\" width=\"60\" />주피터 노트북 뷰어로 보기</a>\n",
        "  </td>\n",
        "  <td>\n",
        "    <a target=\"_blank\" href=\"https://colab.research.google.com/github/rickiepark/python-machine-learning-book-3rd-edition/blob/master/ch17/ch17_part2.ipynb\"><img src=\"https://www.tensorflow.org/images/colab_logo_32px.png\" />구글 코랩(Colab)에서 실행하기</a>\n",
        "  </td>\n",
        "</table>"
      ]
    },
    {
      "cell_type": "markdown",
      "metadata": {
        "id": "ILMW7pJpo6TR"
      },
      "source": [
        "### 목차"
      ]
    },
    {
      "cell_type": "markdown",
      "metadata": {
        "id": "2XQEMAilo6TR"
      },
      "source": [
        "- 합성곱 GAN과 와서스테인 GAN을 사용하여 합성 이미지의 품질 높이기\n",
        "    - 전치 합성곱\n",
        "    - 배치 정규화\n",
        "    - 생성자와 판별자 구현하기\n",
        "    - 두 분포 사이의 거리 측정하기\n",
        "    - GAN에 EM 거리 사용하기\n",
        "    - 그래디언트 페널티\n",
        "    - WGAN-GP로 DCGAN 모델 훈련하기\n",
        "    - 모드 붕괴\n",
        "- 다른 GAN 애플리케이션\n",
        "- 요약"
      ]
    },
    {
      "cell_type": "code",
      "execution_count": 1,
      "metadata": {
        "id": "fJJx82wno6TR"
      },
      "outputs": [],
      "source": [
        "from IPython.display import Image"
      ]
    },
    {
      "cell_type": "markdown",
      "metadata": {
        "id": "I8VoaURPo6TS"
      },
      "source": [
        "# 합성곱 GAN과 와서스테인 GAN을 사용하여 합성 이미지의 품질 높이기"
      ]
    },
    {
      "cell_type": "markdown",
      "metadata": {
        "id": "0J8TdXgIo6TS"
      },
      "source": [
        "## 전치 합성곱"
      ]
    },
    {
      "cell_type": "code",
      "execution_count": 2,
      "metadata": {
        "colab": {
          "base_uri": "https://localhost:8080/",
          "height": 269
        },
        "id": "doWkKGeMo6TS",
        "outputId": "d894c474-c859-4f88-b74a-77d5987f8959"
      },
      "outputs": [
        {
          "output_type": "execute_result",
          "data": {
            "text/plain": [
              "<IPython.core.display.Image object>"
            ],
            "text/html": [
              "<img src=\"https://git.io/JLjn7\" width=\"700\"/>"
            ]
          },
          "metadata": {},
          "execution_count": 2
        }
      ],
      "source": [
        "Image(url='https://git.io/JLjn7', width=700)"
      ]
    },
    {
      "cell_type": "code",
      "execution_count": 3,
      "metadata": {
        "colab": {
          "base_uri": "https://localhost:8080/",
          "height": 361
        },
        "id": "wXQNEuWJo6TT",
        "outputId": "cc9b2a8f-7179-482f-a5c4-ac9c89377ea8"
      },
      "outputs": [
        {
          "output_type": "execute_result",
          "data": {
            "text/plain": [
              "<IPython.core.display.Image object>"
            ],
            "text/html": [
              "<img src=\"https://git.io/JLjnb\" width=\"700\"/>"
            ]
          },
          "metadata": {},
          "execution_count": 3
        }
      ],
      "source": [
        "Image(url='https://git.io/JLjnb', width=700)"
      ]
    },
    {
      "cell_type": "markdown",
      "metadata": {
        "id": "v5OXSjCHo6TT"
      },
      "source": [
        "## 배치 정규화"
      ]
    },
    {
      "cell_type": "code",
      "execution_count": 4,
      "metadata": {
        "colab": {
          "base_uri": "https://localhost:8080/",
          "height": 479
        },
        "id": "T8sfMSHio6TT",
        "outputId": "522d3be5-bc4e-4e67-d676-86b3d0ed4116"
      },
      "outputs": [
        {
          "output_type": "execute_result",
          "data": {
            "text/plain": [
              "<IPython.core.display.Image object>"
            ],
            "text/html": [
              "<img src=\"https://git.io/JLjnA\" width=\"700\"/>"
            ]
          },
          "metadata": {},
          "execution_count": 4
        }
      ],
      "source": [
        "Image(url='https://git.io/JLjnA', width=700)"
      ]
    },
    {
      "cell_type": "markdown",
      "metadata": {
        "id": "7pqd-bBPo6TT"
      },
      "source": [
        "## 생성자와 판별자 구현하기"
      ]
    },
    {
      "cell_type": "code",
      "execution_count": 5,
      "metadata": {
        "colab": {
          "base_uri": "https://localhost:8080/",
          "height": 312
        },
        "id": "Botu3kjko6TT",
        "outputId": "7f5dd003-7152-46c5-bd87-f602c51c7298"
      },
      "outputs": [
        {
          "output_type": "execute_result",
          "data": {
            "text/plain": [
              "<IPython.core.display.Image object>"
            ],
            "text/html": [
              "<img src=\"https://git.io/JLjnx\" width=\"700\"/>"
            ]
          },
          "metadata": {},
          "execution_count": 5
        }
      ],
      "source": [
        "Image(url='https://git.io/JLjnx', width=700)"
      ]
    },
    {
      "cell_type": "code",
      "execution_count": 6,
      "metadata": {
        "colab": {
          "base_uri": "https://localhost:8080/",
          "height": 386
        },
        "id": "bR-z6gxto6TU",
        "outputId": "731eb9bc-0fcf-4058-d147-34b1f982c2aa"
      },
      "outputs": [
        {
          "output_type": "execute_result",
          "data": {
            "text/plain": [
              "<IPython.core.display.Image object>"
            ],
            "text/html": [
              "<img src=\"https://git.io/JLjnj\" width=\"700\"/>"
            ]
          },
          "metadata": {},
          "execution_count": 6
        }
      ],
      "source": [
        "Image(url='https://git.io/JLjnj', width=700)"
      ]
    },
    {
      "cell_type": "markdown",
      "metadata": {
        "id": "gjndBoHAo6TU"
      },
      "source": [
        " * **구글 코랩 설정**"
      ]
    },
    {
      "cell_type": "code",
      "execution_count": 7,
      "metadata": {
        "id": "XnOWggQN3RbT"
      },
      "outputs": [],
      "source": [
        "#from google.colab import drive\n",
        "#drive.mount('/content/drive/')"
      ]
    },
    {
      "cell_type": "code",
      "execution_count": 8,
      "metadata": {
        "colab": {
          "base_uri": "https://localhost:8080/"
        },
        "id": "O9XN3qSZ6Kbr",
        "outputId": "b6d2afdc-3cf8-434a-a2fe-0aa34c07df02"
      },
      "outputs": [
        {
          "output_type": "stream",
          "name": "stdout",
          "text": [
            "2.8.2\n",
            "GPU 여부: True\n",
            "/device:GPU:0\n"
          ]
        }
      ],
      "source": [
        "import tensorflow as tf\n",
        "\n",
        "\n",
        "print(tf.__version__)\n",
        "\n",
        "print(\"GPU 여부:\", len(tf.config.list_physical_devices('GPU')) > 0)\n",
        "\n",
        "if tf.config.list_physical_devices('GPU'):\n",
        "    device_name = tf.test.gpu_device_name()\n",
        "else:\n",
        "    device_name = 'CPU:0'\n",
        "    \n",
        "print(device_name)"
      ]
    },
    {
      "cell_type": "code",
      "execution_count": 9,
      "metadata": {
        "id": "VXasfQIW3XeR"
      },
      "outputs": [],
      "source": [
        "import tensorflow_datasets as tfds\n",
        "import numpy as np\n",
        "import matplotlib.pyplot as plt\n",
        "%matplotlib inline"
      ]
    },
    {
      "cell_type": "code",
      "execution_count": 10,
      "metadata": {
        "id": "O9QIFmPZ3jjg"
      },
      "outputs": [],
      "source": [
        "def make_dcgan_generator(\n",
        "        z_size=20, \n",
        "        output_size=(28, 28, 1),\n",
        "        n_filters=128, \n",
        "        n_blocks=2):\n",
        "    size_factor = 2**n_blocks\n",
        "    hidden_size = (\n",
        "        output_size[0]//size_factor, \n",
        "        output_size[1]//size_factor\n",
        "    )\n",
        "    \n",
        "    model = tf.keras.Sequential([\n",
        "        tf.keras.layers.Input(shape=(z_size,)),\n",
        "        \n",
        "        tf.keras.layers.Dense(\n",
        "            units=n_filters*np.prod(hidden_size), \n",
        "            use_bias=False),\n",
        "        tf.keras.layers.BatchNormalization(),\n",
        "        tf.keras.layers.LeakyReLU(),\n",
        "        tf.keras.layers.Reshape(\n",
        "            (hidden_size[0], hidden_size[1], n_filters)),\n",
        "    \n",
        "        tf.keras.layers.Conv2DTranspose(\n",
        "            filters=n_filters, kernel_size=(5, 5), strides=(1, 1),\n",
        "            padding='same', use_bias=False),\n",
        "        tf.keras.layers.BatchNormalization(),\n",
        "        tf.keras.layers.LeakyReLU()\n",
        "    ])\n",
        "        \n",
        "    nf = n_filters\n",
        "    for i in range(n_blocks):\n",
        "        nf = nf // 2\n",
        "        model.add(\n",
        "            tf.keras.layers.Conv2DTranspose(\n",
        "                filters=nf, kernel_size=(5, 5), strides=(2, 2),\n",
        "                padding='same', use_bias=False))\n",
        "        model.add(tf.keras.layers.BatchNormalization())\n",
        "        model.add(tf.keras.layers.LeakyReLU())\n",
        "                \n",
        "    model.add(\n",
        "        tf.keras.layers.Conv2DTranspose(\n",
        "            filters=output_size[2], kernel_size=(5, 5), \n",
        "            strides=(1, 1), padding='same', use_bias=False, \n",
        "            activation='tanh'))\n",
        "        \n",
        "    return model\n",
        "\n",
        "def make_dcgan_discriminator(\n",
        "        input_size=(28, 28, 1),\n",
        "        n_filters=64, \n",
        "        n_blocks=2):\n",
        "    model = tf.keras.Sequential([\n",
        "        tf.keras.layers.Input(shape=input_size),\n",
        "        tf.keras.layers.Conv2D(\n",
        "            filters=n_filters, kernel_size=5, \n",
        "            strides=(1, 1), padding='same'),\n",
        "        tf.keras.layers.BatchNormalization(),\n",
        "        tf.keras.layers.LeakyReLU()\n",
        "    ])\n",
        "    \n",
        "    nf = n_filters\n",
        "    for i in range(n_blocks):\n",
        "        nf = nf*2\n",
        "        model.add(\n",
        "            tf.keras.layers.Conv2D(\n",
        "                filters=nf, kernel_size=(5, 5), \n",
        "                strides=(2, 2),padding='same'))\n",
        "        model.add(tf.keras.layers.BatchNormalization())\n",
        "        model.add(tf.keras.layers.LeakyReLU())\n",
        "        model.add(tf.keras.layers.Dropout(0.3))\n",
        "        \n",
        "    model.add(tf.keras.layers.Conv2D(\n",
        "            filters=1, kernel_size=(7, 7), padding='valid'))\n",
        "    \n",
        "    model.add(tf.keras.layers.Reshape((1,)))\n",
        "    \n",
        "    return model"
      ]
    },
    {
      "cell_type": "code",
      "execution_count": 11,
      "metadata": {
        "colab": {
          "base_uri": "https://localhost:8080/"
        },
        "id": "DX4INL735ARw",
        "outputId": "b7360bd9-e9ee-4cf9-913b-647860bb43d3"
      },
      "outputs": [
        {
          "output_type": "stream",
          "name": "stdout",
          "text": [
            "Model: \"sequential\"\n",
            "_________________________________________________________________\n",
            " Layer (type)                Output Shape              Param #   \n",
            "=================================================================\n",
            " dense (Dense)               (None, 6272)              125440    \n",
            "                                                                 \n",
            " batch_normalization (BatchN  (None, 6272)             25088     \n",
            " ormalization)                                                   \n",
            "                                                                 \n",
            " leaky_re_lu (LeakyReLU)     (None, 6272)              0         \n",
            "                                                                 \n",
            " reshape (Reshape)           (None, 7, 7, 128)         0         \n",
            "                                                                 \n",
            " conv2d_transpose (Conv2DTra  (None, 7, 7, 128)        409600    \n",
            " nspose)                                                         \n",
            "                                                                 \n",
            " batch_normalization_1 (Batc  (None, 7, 7, 128)        512       \n",
            " hNormalization)                                                 \n",
            "                                                                 \n",
            " leaky_re_lu_1 (LeakyReLU)   (None, 7, 7, 128)         0         \n",
            "                                                                 \n",
            " conv2d_transpose_1 (Conv2DT  (None, 14, 14, 64)       204800    \n",
            " ranspose)                                                       \n",
            "                                                                 \n",
            " batch_normalization_2 (Batc  (None, 14, 14, 64)       256       \n",
            " hNormalization)                                                 \n",
            "                                                                 \n",
            " leaky_re_lu_2 (LeakyReLU)   (None, 14, 14, 64)        0         \n",
            "                                                                 \n",
            " conv2d_transpose_2 (Conv2DT  (None, 28, 28, 32)       51200     \n",
            " ranspose)                                                       \n",
            "                                                                 \n",
            " batch_normalization_3 (Batc  (None, 28, 28, 32)       128       \n",
            " hNormalization)                                                 \n",
            "                                                                 \n",
            " leaky_re_lu_3 (LeakyReLU)   (None, 28, 28, 32)        0         \n",
            "                                                                 \n",
            " conv2d_transpose_3 (Conv2DT  (None, 28, 28, 1)        800       \n",
            " ranspose)                                                       \n",
            "                                                                 \n",
            "=================================================================\n",
            "Total params: 817,824\n",
            "Trainable params: 804,832\n",
            "Non-trainable params: 12,992\n",
            "_________________________________________________________________\n",
            "Model: \"sequential_1\"\n",
            "_________________________________________________________________\n",
            " Layer (type)                Output Shape              Param #   \n",
            "=================================================================\n",
            " conv2d (Conv2D)             (None, 28, 28, 64)        1664      \n",
            "                                                                 \n",
            " batch_normalization_4 (Batc  (None, 28, 28, 64)       256       \n",
            " hNormalization)                                                 \n",
            "                                                                 \n",
            " leaky_re_lu_4 (LeakyReLU)   (None, 28, 28, 64)        0         \n",
            "                                                                 \n",
            " conv2d_1 (Conv2D)           (None, 14, 14, 128)       204928    \n",
            "                                                                 \n",
            " batch_normalization_5 (Batc  (None, 14, 14, 128)      512       \n",
            " hNormalization)                                                 \n",
            "                                                                 \n",
            " leaky_re_lu_5 (LeakyReLU)   (None, 14, 14, 128)       0         \n",
            "                                                                 \n",
            " dropout (Dropout)           (None, 14, 14, 128)       0         \n",
            "                                                                 \n",
            " conv2d_2 (Conv2D)           (None, 7, 7, 256)         819456    \n",
            "                                                                 \n",
            " batch_normalization_6 (Batc  (None, 7, 7, 256)        1024      \n",
            " hNormalization)                                                 \n",
            "                                                                 \n",
            " leaky_re_lu_6 (LeakyReLU)   (None, 7, 7, 256)         0         \n",
            "                                                                 \n",
            " dropout_1 (Dropout)         (None, 7, 7, 256)         0         \n",
            "                                                                 \n",
            " conv2d_3 (Conv2D)           (None, 1, 1, 1)           12545     \n",
            "                                                                 \n",
            " reshape_1 (Reshape)         (None, 1)                 0         \n",
            "                                                                 \n",
            "=================================================================\n",
            "Total params: 1,040,385\n",
            "Trainable params: 1,039,489\n",
            "Non-trainable params: 896\n",
            "_________________________________________________________________\n"
          ]
        }
      ],
      "source": [
        "gen_model = make_dcgan_generator()\n",
        "gen_model.summary()\n",
        "\n",
        "disc_model = make_dcgan_discriminator()\n",
        "disc_model.summary()"
      ]
    },
    {
      "cell_type": "markdown",
      "metadata": {
        "id": "72tpmJjOo6TV"
      },
      "source": [
        "## 두 분포 사이의 거리 측정하기"
      ]
    },
    {
      "cell_type": "code",
      "execution_count": 12,
      "metadata": {
        "colab": {
          "base_uri": "https://localhost:8080/",
          "height": 356
        },
        "id": "-bKtNGBbo6TV",
        "outputId": "0e153148-54bc-4efa-a6ef-0e525f2271cc"
      },
      "outputs": [
        {
          "output_type": "execute_result",
          "data": {
            "text/plain": [
              "<IPython.core.display.Image object>"
            ],
            "text/html": [
              "<img src=\"https://git.io/JLjcf\" width=\"700\"/>"
            ]
          },
          "metadata": {},
          "execution_count": 12
        }
      ],
      "source": [
        "Image(url='https://git.io/JLjcf', width=700)"
      ]
    },
    {
      "cell_type": "code",
      "execution_count": 13,
      "metadata": {
        "colab": {
          "base_uri": "https://localhost:8080/",
          "height": 555
        },
        "id": "QGqJNr5so6TW",
        "outputId": "2665c9af-7134-4dd3-d7bb-8fb6d4a77d7f"
      },
      "outputs": [
        {
          "output_type": "execute_result",
          "data": {
            "text/plain": [
              "<IPython.core.display.Image object>"
            ],
            "text/html": [
              "<img src=\"https://git.io/JLjcJ\" width=\"800\"/>"
            ]
          },
          "metadata": {},
          "execution_count": 13
        }
      ],
      "source": [
        "Image(url='https://git.io/JLjcJ', width=800)"
      ]
    },
    {
      "cell_type": "markdown",
      "metadata": {
        "id": "MGNV_luKo6TW"
      },
      "source": [
        "## GAN에 EM 거리 사용하기\n",
        "\n",
        "## 그래디언트 페널티\n",
        "\n",
        "## WGAN-GP로 DCGAN 모델 훈련하기"
      ]
    },
    {
      "cell_type": "code",
      "execution_count": 14,
      "metadata": {
        "id": "-iAGk1Ta6xmQ",
        "outputId": "e53e842e-d615-41d5-adc6-50b1ccb08b4f",
        "colab": {
          "base_uri": "https://localhost:8080/",
          "height": 211,
          "referenced_widgets": [
            "dc6555b862334540bb5917541c7b24a2",
            "4216af3cb89645dd8b9ae647316890bc",
            "ab38c4f059c2415b902d8fa396dad231",
            "fa560f0aaff4475fa107660839dd612f",
            "09ac59bcf9544f29b5d0387f90951983",
            "39b3f5e2b59f4fcc91c82c019edb97e7",
            "233198f63afe41e09d220f1714fc98c8",
            "9bb46aeaabb0481bae8eebc04c702390",
            "8371555b9f5e4440a72181a95d3188d3",
            "9dbff46cad4b43b596a1797d7210b12d",
            "22ae0b4901214a1dab3b453e95b095a0"
          ]
        }
      },
      "outputs": [
        {
          "output_type": "stream",
          "name": "stdout",
          "text": [
            "\u001b[1mDownloading and preparing dataset mnist/3.0.1 (download: 11.06 MiB, generated: 21.00 MiB, total: 32.06 MiB) to /root/tensorflow_datasets/mnist/3.0.1...\u001b[0m\n"
          ]
        },
        {
          "output_type": "stream",
          "name": "stderr",
          "text": [
            "WARNING:absl:Dataset mnist is hosted on GCS. It will automatically be downloaded to your\n",
            "local data directory. If you'd instead prefer to read directly from our public\n",
            "GCS bucket (recommended if you're running on GCP), you can instead pass\n",
            "`try_gcs=True` to `tfds.load` or set `data_dir=gs://tfds-data/datasets`.\n",
            "\n"
          ]
        },
        {
          "output_type": "display_data",
          "data": {
            "text/plain": [
              "Dl Completed...:   0%|          | 0/4 [00:00<?, ? file/s]"
            ],
            "application/vnd.jupyter.widget-view+json": {
              "version_major": 2,
              "version_minor": 0,
              "model_id": "dc6555b862334540bb5917541c7b24a2"
            }
          },
          "metadata": {}
        },
        {
          "output_type": "stream",
          "name": "stdout",
          "text": [
            "\n",
            "\u001b[1mDataset mnist downloaded and prepared to /root/tensorflow_datasets/mnist/3.0.1. Subsequent calls will reuse this data.\u001b[0m\n"
          ]
        }
      ],
      "source": [
        "mnist_bldr = tfds.builder('mnist')\n",
        "mnist_bldr.download_and_prepare()\n",
        "mnist = mnist_bldr.as_dataset(shuffle_files=False)\n",
        "\n",
        "def preprocess(ex, mode='uniform'):\n",
        "    image = ex['image']\n",
        "    image = tf.image.convert_image_dtype(image, tf.float32)\n",
        "\n",
        "    image = image*2 - 1.0\n",
        "    if mode == 'uniform':\n",
        "        input_z = tf.random.uniform(\n",
        "            shape=(z_size,), minval=-1.0, maxval=1.0)\n",
        "    elif mode == 'normal':\n",
        "        input_z = tf.random.normal(shape=(z_size,))\n",
        "    return input_z, image"
      ]
    },
    {
      "cell_type": "code",
      "execution_count": 15,
      "metadata": {
        "colab": {
          "base_uri": "https://localhost:8080/"
        },
        "id": "HCX0mOwEo6TW",
        "outputId": "5989e282-389a-4b4b-bc01-1bb2091a6411"
      },
      "outputs": [
        {
          "output_type": "stream",
          "name": "stdout",
          "text": [
            "Model: \"sequential_2\"\n",
            "_________________________________________________________________\n",
            " Layer (type)                Output Shape              Param #   \n",
            "=================================================================\n",
            " dense_1 (Dense)             (None, 6272)              125440    \n",
            "                                                                 \n",
            " batch_normalization_7 (Batc  (None, 6272)             25088     \n",
            " hNormalization)                                                 \n",
            "                                                                 \n",
            " leaky_re_lu_7 (LeakyReLU)   (None, 6272)              0         \n",
            "                                                                 \n",
            " reshape_2 (Reshape)         (None, 7, 7, 128)         0         \n",
            "                                                                 \n",
            " conv2d_transpose_4 (Conv2DT  (None, 7, 7, 128)        409600    \n",
            " ranspose)                                                       \n",
            "                                                                 \n",
            " batch_normalization_8 (Batc  (None, 7, 7, 128)        512       \n",
            " hNormalization)                                                 \n",
            "                                                                 \n",
            " leaky_re_lu_8 (LeakyReLU)   (None, 7, 7, 128)         0         \n",
            "                                                                 \n",
            " conv2d_transpose_5 (Conv2DT  (None, 14, 14, 64)       204800    \n",
            " ranspose)                                                       \n",
            "                                                                 \n",
            " batch_normalization_9 (Batc  (None, 14, 14, 64)       256       \n",
            " hNormalization)                                                 \n",
            "                                                                 \n",
            " leaky_re_lu_9 (LeakyReLU)   (None, 14, 14, 64)        0         \n",
            "                                                                 \n",
            " conv2d_transpose_6 (Conv2DT  (None, 28, 28, 32)       51200     \n",
            " ranspose)                                                       \n",
            "                                                                 \n",
            " batch_normalization_10 (Bat  (None, 28, 28, 32)       128       \n",
            " chNormalization)                                                \n",
            "                                                                 \n",
            " leaky_re_lu_10 (LeakyReLU)  (None, 28, 28, 32)        0         \n",
            "                                                                 \n",
            " conv2d_transpose_7 (Conv2DT  (None, 28, 28, 1)        800       \n",
            " ranspose)                                                       \n",
            "                                                                 \n",
            "=================================================================\n",
            "Total params: 817,824\n",
            "Trainable params: 804,832\n",
            "Non-trainable params: 12,992\n",
            "_________________________________________________________________\n",
            "Model: \"sequential_3\"\n",
            "_________________________________________________________________\n",
            " Layer (type)                Output Shape              Param #   \n",
            "=================================================================\n",
            " conv2d_4 (Conv2D)           (None, 28, 28, 64)        1664      \n",
            "                                                                 \n",
            " batch_normalization_11 (Bat  (None, 28, 28, 64)       256       \n",
            " chNormalization)                                                \n",
            "                                                                 \n",
            " leaky_re_lu_11 (LeakyReLU)  (None, 28, 28, 64)        0         \n",
            "                                                                 \n",
            " conv2d_5 (Conv2D)           (None, 14, 14, 128)       204928    \n",
            "                                                                 \n",
            " batch_normalization_12 (Bat  (None, 14, 14, 128)      512       \n",
            " chNormalization)                                                \n",
            "                                                                 \n",
            " leaky_re_lu_12 (LeakyReLU)  (None, 14, 14, 128)       0         \n",
            "                                                                 \n",
            " dropout_2 (Dropout)         (None, 14, 14, 128)       0         \n",
            "                                                                 \n",
            " conv2d_6 (Conv2D)           (None, 7, 7, 256)         819456    \n",
            "                                                                 \n",
            " batch_normalization_13 (Bat  (None, 7, 7, 256)        1024      \n",
            " chNormalization)                                                \n",
            "                                                                 \n",
            " leaky_re_lu_13 (LeakyReLU)  (None, 7, 7, 256)         0         \n",
            "                                                                 \n",
            " dropout_3 (Dropout)         (None, 7, 7, 256)         0         \n",
            "                                                                 \n",
            " conv2d_7 (Conv2D)           (None, 1, 1, 1)           12545     \n",
            "                                                                 \n",
            " reshape_3 (Reshape)         (None, 1)                 0         \n",
            "                                                                 \n",
            "=================================================================\n",
            "Total params: 1,040,385\n",
            "Trainable params: 1,039,489\n",
            "Non-trainable params: 896\n",
            "_________________________________________________________________\n"
          ]
        }
      ],
      "source": [
        "num_epochs = 100\n",
        "batch_size = 128\n",
        "image_size = (28, 28)\n",
        "z_size = 20\n",
        "mode_z = 'uniform'\n",
        "lambda_gp = 10.0\n",
        "\n",
        "tf.random.set_seed(1)\n",
        "np.random.seed(1)\n",
        "\n",
        "## 데이터셋 준비\n",
        "mnist_trainset = mnist['train']\n",
        "mnist_trainset = mnist_trainset.map(preprocess)\n",
        "\n",
        "mnist_trainset = mnist_trainset.shuffle(10000)\n",
        "mnist_trainset = mnist_trainset.batch(\n",
        "    batch_size, drop_remainder=True)\n",
        "\n",
        "## 모델 생성\n",
        "with tf.device(device_name):\n",
        "    gen_model = make_dcgan_generator()\n",
        "    gen_model.build(input_shape=(None, z_size))\n",
        "    gen_model.summary()\n",
        "\n",
        "    disc_model = make_dcgan_discriminator()\n",
        "    disc_model.build(input_shape=(None, np.prod(image_size)))\n",
        "    disc_model.summary()"
      ]
    },
    {
      "cell_type": "code",
      "execution_count": 16,
      "metadata": {
        "colab": {
          "base_uri": "https://localhost:8080/"
        },
        "id": "caAjzvI_o6TW",
        "outputId": "161391e1-43e9-4f56-c48b-1ccdbb7e3160"
      },
      "outputs": [
        {
          "output_type": "stream",
          "name": "stdout",
          "text": [
            "에포크   1 | 시간 1.93 min | 평균 손실 >> 생성자/판별자 278.13/-459.84 [판별자-진짜: -282.08 판별자-가짜: -278.13]\n",
            "에포크   2 | 시간 3.55 min | 평균 손실 >> 생성자/판별자 139.22/ 14.92 [판별자-진짜: -81.37 판별자-가짜: -139.22]\n",
            "에포크   3 | 시간 5.17 min | 평균 손실 >> 생성자/판별자  56.00/ 39.96 [판별자-진짜:  -6.31 판별자-가짜: -56.00]\n",
            "에포크   4 | 시간 6.79 min | 평균 손실 >> 생성자/판별자  57.83/  6.10 [판별자-진짜:  14.43 판별자-가짜: -57.83]\n",
            "에포크   5 | 시간 8.41 min | 평균 손실 >> 생성자/판별자  49.53/ -5.56 [판별자-진짜:  -9.34 판별자-가짜: -49.53]\n",
            "에포크   6 | 시간 10.03 min | 평균 손실 >> 생성자/판별자  38.53/  4.60 [판별자-진짜:   1.75 판별자-가짜: -38.53]\n",
            "에포크   7 | 시간 11.65 min | 평균 손실 >> 생성자/판별자  44.01/-11.05 [판별자-진짜:  24.20 판별자-가짜: -44.01]\n",
            "에포크   8 | 시간 13.26 min | 평균 손실 >> 생성자/판별자  32.65/-13.70 [판별자-진짜:  10.83 판별자-가짜: -32.65]\n",
            "에포크   9 | 시간 14.88 min | 평균 손실 >> 생성자/판별자  43.14/-19.44 [판별자-진짜:  15.68 판별자-가짜: -43.14]\n",
            "에포크  10 | 시간 16.50 min | 평균 손실 >> 생성자/판별자  52.70/-31.56 [판별자-진짜:  16.25 판별자-가짜: -52.70]\n",
            "에포크  11 | 시간 18.11 min | 평균 손실 >> 생성자/판별자  49.20/-33.23 [판별자-진짜:   0.89 판별자-가짜: -49.20]\n",
            "에포크  12 | 시간 19.72 min | 평균 손실 >> 생성자/판별자  62.46/-27.66 [판별자-진짜:  26.97 판별자-가짜: -62.46]\n",
            "에포크  13 | 시간 21.33 min | 평균 손실 >> 생성자/판별자  65.33/-37.83 [판별자-진짜:  16.30 판별자-가짜: -65.33]\n",
            "에포크  14 | 시간 22.96 min | 평균 손실 >> 생성자/판별자  99.70/-36.86 [판별자-진짜:  53.48 판별자-가짜: -99.70]\n",
            "에포크  15 | 시간 24.59 min | 평균 손실 >> 생성자/판별자  81.49/-36.72 [판별자-진짜:  26.97 판별자-가짜: -81.49]\n",
            "에포크  16 | 시간 26.21 min | 평균 손실 >> 생성자/판별자  77.24/-39.10 [판별자-진짜:  23.92 판별자-가짜: -77.24]\n",
            "에포크  17 | 시간 27.82 min | 평균 손실 >> 생성자/판별자  81.40/-36.86 [판별자-진짜:  34.32 판별자-가짜: -81.40]\n",
            "에포크  18 | 시간 29.41 min | 평균 손실 >> 생성자/판별자  75.87/-35.17 [판별자-진짜:  30.89 판별자-가짜: -75.87]\n",
            "에포크  19 | 시간 31.03 min | 평균 손실 >> 생성자/판별자  84.00/-39.91 [판별자-진짜:  30.15 판별자-가짜: -84.00]\n",
            "에포크  20 | 시간 32.63 min | 평균 손실 >> 생성자/판별자 100.30/-41.40 [판별자-진짜:  44.17 판별자-가짜: -100.30]\n",
            "에포크  21 | 시간 34.23 min | 평균 손실 >> 생성자/판별자 116.18/-34.40 [판별자-진짜:  71.57 판별자-가짜: -116.18]\n",
            "에포크  22 | 시간 35.83 min | 평균 손실 >> 생성자/판별자 114.54/-44.44 [판별자-진짜:  56.55 판별자-가짜: -114.54]\n",
            "에포크  23 | 시간 37.43 min | 평균 손실 >> 생성자/판별자 153.23/-43.02 [판별자-진짜:  93.06 판별자-가짜: -153.23]\n",
            "에포크  24 | 시간 39.03 min | 평균 손실 >> 생성자/판별자 167.72/-43.51 [판별자-진짜: 115.19 판별자-가짜: -167.72]\n",
            "에포크  25 | 시간 40.63 min | 평균 손실 >> 생성자/판별자 115.60/-43.87 [판별자-진짜:  57.56 판별자-가짜: -115.60]\n",
            "에포크  26 | 시간 42.23 min | 평균 손실 >> 생성자/판별자 153.22/-41.82 [판별자-진짜:  97.60 판별자-가짜: -153.22]\n",
            "에포크  27 | 시간 43.83 min | 평균 손실 >> 생성자/판별자 179.24/-40.13 [판별자-진짜: 120.65 판별자-가짜: -179.24]\n",
            "에포크  28 | 시간 46.19 min | 평균 손실 >> 생성자/판별자 172.68/-55.36 [판별자-진짜: 103.97 판별자-가짜: -172.68]\n",
            "에포크  29 | 시간 47.80 min | 평균 손실 >> 생성자/판별자 113.69/ -9.52 [판별자-진짜:  57.66 판별자-가짜: -113.69]\n",
            "에포크  30 | 시간 49.42 min | 평균 손실 >> 생성자/판별자 148.33/-39.92 [판별자-진짜: 103.17 판별자-가짜: -148.33]\n",
            "에포크  31 | 시간 51.03 min | 평균 손실 >> 생성자/판별자 135.92/-45.33 [판별자-진짜:  79.49 판별자-가짜: -135.92]\n",
            "에포크  32 | 시간 52.64 min | 평균 손실 >> 생성자/판별자 165.37/-55.22 [판별자-진짜:  99.24 판별자-가짜: -165.37]\n",
            "에포크  33 | 시간 54.25 min | 평균 손실 >> 생성자/판별자 158.38/-42.07 [판별자-진짜: 100.04 판별자-가짜: -158.38]\n",
            "에포크  34 | 시간 55.86 min | 평균 손실 >> 생성자/판별자 202.72/-48.29 [판별자-진짜: 135.02 판별자-가짜: -202.72]\n",
            "에포크  35 | 시간 57.47 min | 평균 손실 >> 생성자/판별자 156.30/-28.79 [판별자-진짜: 102.33 판별자-가짜: -156.30]\n",
            "에포크  36 | 시간 59.08 min | 평균 손실 >> 생성자/판별자 150.94/-59.63 [판별자-진짜:  68.93 판별자-가짜: -150.94]\n",
            "에포크  37 | 시간 60.69 min | 평균 손실 >> 생성자/판별자  89.97/  7.73 [판별자-진짜:  60.16 판별자-가짜: -89.97]\n",
            "에포크  38 | 시간 62.29 min | 평균 손실 >> 생성자/판별자 138.15/-29.74 [판별자-진짜: 101.35 판별자-가짜: -138.15]\n",
            "에포크  39 | 시간 63.89 min | 평균 손실 >> 생성자/판별자 169.41/-70.36 [판별자-진짜:  80.38 판별자-가짜: -169.41]\n",
            "에포크  40 | 시간 65.50 min | 평균 손실 >> 생성자/판별자 191.40/-20.35 [판별자-진짜: 102.09 판별자-가짜: -191.40]\n",
            "에포크  41 | 시간 67.10 min | 평균 손실 >> 생성자/판별자 113.64/-55.15 [판별자-진짜:  50.77 판별자-가짜: -113.64]\n",
            "에포크  42 | 시간 68.70 min | 평균 손실 >> 생성자/판별자 146.48/-53.96 [판별자-진짜:  59.73 판별자-가짜: -146.48]\n",
            "에포크  43 | 시간 70.30 min | 평균 손실 >> 생성자/판별자 196.14/-25.81 [판별자-진짜: 135.47 판별자-가짜: -196.14]\n",
            "에포크  44 | 시간 71.90 min | 평균 손실 >> 생성자/판별자 249.31/-44.03 [판별자-진짜: 197.63 판별자-가짜: -249.31]\n",
            "에포크  45 | 시간 73.49 min | 평균 손실 >> 생성자/판별자 224.63/-46.58 [판별자-진짜: 162.48 판별자-가짜: -224.63]\n",
            "에포크  46 | 시간 75.09 min | 평균 손실 >> 생성자/판별자 204.09/-58.15 [판별자-진짜: 133.59 판별자-가짜: -204.09]\n",
            "에포크  47 | 시간 76.69 min | 평균 손실 >> 생성자/판별자 157.86/-52.89 [판별자-진짜:  93.56 판별자-가짜: -157.86]\n",
            "에포크  48 | 시간 78.29 min | 평균 손실 >> 생성자/판별자 136.07/-63.32 [판별자-진짜:  62.80 판별자-가짜: -136.07]\n",
            "에포크  49 | 시간 79.88 min | 평균 손실 >> 생성자/판별자 276.46/-44.18 [판별자-진짜: 217.74 판별자-가짜: -276.46]\n",
            "에포크  50 | 시간 81.48 min | 평균 손실 >> 생성자/판별자 179.29/-67.32 [판별자-진짜:  99.48 판별자-가짜: -179.29]\n",
            "에포크  51 | 시간 83.09 min | 평균 손실 >> 생성자/판별자 159.52/-54.41 [판별자-진짜:  84.54 판별자-가짜: -159.52]\n",
            "에포크  52 | 시간 84.69 min | 평균 손실 >> 생성자/판별자 263.21/-64.46 [판별자-진짜: 172.88 판별자-가짜: -263.21]\n",
            "에포크  53 | 시간 87.05 min | 평균 손실 >> 생성자/판별자 189.94/-25.38 [판별자-진짜: 105.03 판별자-가짜: -189.94]\n",
            "에포크  54 | 시간 88.66 min | 평균 손실 >> 생성자/판별자 184.82/-25.78 [판별자-진짜: 154.78 판별자-가짜: -184.82]\n",
            "에포크  55 | 시간 90.26 min | 평균 손실 >> 생성자/판별자 360.43/-49.11 [판별자-진짜: 304.17 판별자-가짜: -360.43]\n",
            "에포크  56 | 시간 91.86 min | 평균 손실 >> 생성자/판별자 320.67/-60.72 [판별자-진짜: 251.97 판별자-가짜: -320.67]\n",
            "에포크  57 | 시간 93.46 min | 평균 손실 >> 생성자/판별자 315.28/-69.75 [판별자-진짜: 229.88 판별자-가짜: -315.28]\n",
            "에포크  58 | 시간 95.06 min | 평균 손실 >> 생성자/판별자 332.87/-70.68 [판별자-진짜: 255.86 판별자-가짜: -332.87]\n",
            "에포크  59 | 시간 96.67 min | 평균 손실 >> 생성자/판별자 374.96/-76.63 [판별자-진짜: 289.72 판별자-가짜: -374.96]\n",
            "에포크  60 | 시간 98.27 min | 평균 손실 >> 생성자/판별자 433.67/-89.10 [판별자-진짜: 322.31 판별자-가짜: -433.67]\n",
            "에포크  61 | 시간 99.87 min | 평균 손실 >> 생성자/판별자 432.56/-100.96 [판별자-진짜: 308.17 판별자-가짜: -432.56]\n",
            "에포크  62 | 시간 101.47 min | 평균 손실 >> 생성자/판별자 416.26/-98.78 [판별자-진짜: 298.61 판별자-가짜: -416.26]\n",
            "에포크  63 | 시간 103.07 min | 평균 손실 >> 생성자/판별자 495.88/-91.38 [판별자-진짜: 365.80 판별자-가짜: -495.88]\n",
            "에포크  64 | 시간 104.67 min | 평균 손실 >> 생성자/판별자 475.69/-96.44 [판별자-진짜: 360.72 판별자-가짜: -475.69]\n",
            "에포크  65 | 시간 106.27 min | 평균 손실 >> 생성자/판별자 471.62/-54.73 [판별자-진짜: 368.51 판별자-가짜: -471.62]\n",
            "에포크  66 | 시간 107.88 min | 평균 손실 >> 생성자/판별자 472.08/-110.24 [판별자-진짜: 340.90 판별자-가짜: -472.08]\n",
            "에포크  67 | 시간 109.48 min | 평균 손실 >> 생성자/판별자 425.51/-42.39 [판별자-진짜: 314.29 판별자-가짜: -425.51]\n",
            "에포크  68 | 시간 111.08 min | 평균 손실 >> 생성자/판별자 426.92/-55.01 [판별자-진짜: 364.60 판별자-가짜: -426.92]\n",
            "에포크  69 | 시간 112.69 min | 평균 손실 >> 생성자/판별자 416.72/-103.51 [판별자-진짜: 289.52 판별자-가짜: -416.72]\n",
            "에포크  70 | 시간 114.29 min | 평균 손실 >> 생성자/판별자 502.52/-117.68 [판별자-진짜: 359.78 판별자-가짜: -502.52]\n",
            "에포크  71 | 시간 115.88 min | 평균 손실 >> 생성자/판별자 571.14/-139.19 [판별자-진짜: 415.29 판별자-가짜: -571.14]\n",
            "에포크  72 | 시간 117.47 min | 평균 손실 >> 생성자/판별자 720.43/-128.98 [판별자-진짜: 567.68 판별자-가짜: -720.43]\n",
            "에포크  73 | 시간 119.07 min | 평균 손실 >> 생성자/판별자 577.90/-79.48 [판별자-진짜: 457.82 판별자-가짜: -577.90]\n",
            "에포크  74 | 시간 120.67 min | 평균 손실 >> 생성자/판별자 629.11/-74.60 [판별자-진짜: 549.21 판별자-가짜: -629.11]\n",
            "에포크  75 | 시간 122.26 min | 평균 손실 >> 생성자/판별자 331.99/-138.23 [판별자-진짜: 172.03 판별자-가짜: -331.99]\n",
            "에포크  76 | 시간 123.87 min | 평균 손실 >> 생성자/판별자 766.58/-68.17 [판별자-진짜: 619.41 판별자-가짜: -766.58]\n",
            "에포크  77 | 시간 125.46 min | 평균 손실 >> 생성자/판별자 633.82/-130.06 [판별자-진짜: 491.51 판별자-가짜: -633.82]\n",
            "에포크  78 | 시간 127.04 min | 평균 손실 >> 생성자/판별자 440.24/-131.75 [판별자-진짜: 284.25 판별자-가짜: -440.24]\n",
            "에포크  79 | 시간 128.63 min | 평균 손실 >> 생성자/판별자 766.31/-168.24 [판별자-진짜: 578.66 판별자-가짜: -766.31]\n",
            "에포크  80 | 시간 130.22 min | 평균 손실 >> 생성자/판별자 620.39/-176.25 [판별자-진짜: 414.78 판별자-가짜: -620.39]\n",
            "에포크  81 | 시간 131.80 min | 평균 손실 >> 생성자/판별자 886.63/-185.19 [판별자-진짜: 643.01 판별자-가짜: -886.63]\n",
            "에포크  82 | 시간 134.17 min | 평균 손실 >> 생성자/판별자 744.81/-171.69 [판별자-진짜: 523.58 판별자-가짜: -744.81]\n",
            "에포크  83 | 시간 135.75 min | 평균 손실 >> 생성자/판별자 684.68/-176.90 [판별자-진짜: 465.07 판별자-가짜: -684.68]\n",
            "에포크  84 | 시간 137.34 min | 평균 손실 >> 생성자/판별자 771.29/-242.14 [판별자-진짜: 494.62 판별자-가짜: -771.29]\n",
            "에포크  85 | 시간 138.92 min | 평균 손실 >> 생성자/판별자 752.55/-204.52 [판별자-진짜: 497.13 판별자-가짜: -752.55]\n",
            "에포크  86 | 시간 140.51 min | 평균 손실 >> 생성자/판별자 440.89/-112.01 [판별자-진짜: 228.96 판별자-가짜: -440.89]\n",
            "에포크  87 | 시간 142.10 min | 평균 손실 >> 생성자/판별자 693.26/-235.44 [판별자-진짜: 414.74 판별자-가짜: -693.26]\n",
            "에포크  88 | 시간 143.69 min | 평균 손실 >> 생성자/판별자 1150.70/-294.50 [판별자-진짜: 833.86 판별자-가짜: -1150.70]\n",
            "에포크  89 | 시간 145.28 min | 평균 손실 >> 생성자/판별자 1098.11/-273.82 [판별자-진짜: 791.34 판별자-가짜: -1098.11]\n",
            "에포크  90 | 시간 146.87 min | 평균 손실 >> 생성자/판별자 1054.87/-202.23 [판별자-진짜: 828.72 판별자-가짜: -1054.87]\n",
            "에포크  91 | 시간 148.46 min | 평균 손실 >> 생성자/판별자 963.83/-56.34 [판별자-진짜: 717.60 판별자-가짜: -963.83]\n",
            "에포크  92 | 시간 150.05 min | 평균 손실 >> 생성자/판별자 908.84/-300.39 [판별자-진짜: 567.54 판별자-가짜: -908.84]\n",
            "에포크  93 | 시간 151.63 min | 평균 손실 >> 생성자/판별자 766.08/-283.83 [판별자-진짜: 426.50 판별자-가짜: -766.08]\n",
            "에포크  94 | 시간 153.22 min | 평균 손실 >> 생성자/판별자 664.99/-313.69 [판별자-진짜: 284.04 판별자-가짜: -664.99]\n",
            "에포크  95 | 시간 154.81 min | 평균 손실 >> 생성자/판별자 953.19/-349.59 [판별자-진짜: 536.89 판별자-가짜: -953.19]\n",
            "에포크  96 | 시간 156.40 min | 평균 손실 >> 생성자/판별자 678.83/-286.90 [판별자-진짜: 337.77 판별자-가짜: -678.83]\n",
            "에포크  97 | 시간 157.99 min | 평균 손실 >> 생성자/판별자 1092.03/-329.16 [판별자-진짜: 726.75 판별자-가짜: -1092.03]\n",
            "에포크  98 | 시간 159.57 min | 평균 손실 >> 생성자/판별자 651.87/-340.11 [판별자-진짜: 261.90 판별자-가짜: -651.87]\n",
            "에포크  99 | 시간 161.16 min | 평균 손실 >> 생성자/판별자 1103.57/-283.53 [판별자-진짜: 711.34 판별자-가짜: -1103.57]\n",
            "에포크 100 | 시간 162.74 min | 평균 손실 >> 생성자/판별자 486.69/-349.88 [판별자-진짜:  98.91 판별자-가짜: -486.69]\n"
          ]
        }
      ],
      "source": [
        "import time\n",
        "\n",
        "\n",
        "## 옵티마이저:\n",
        "g_optimizer = tf.keras.optimizers.Adam(0.0002)\n",
        "d_optimizer = tf.keras.optimizers.Adam(0.0002)\n",
        "\n",
        "if mode_z == 'uniform':\n",
        "    fixed_z = tf.random.uniform(\n",
        "        shape=(batch_size, z_size),\n",
        "        minval=-1, maxval=1)\n",
        "elif mode_z == 'normal':\n",
        "    fixed_z = tf.random.normal(\n",
        "        shape=(batch_size, z_size))\n",
        "\n",
        "def create_samples(g_model, input_z):\n",
        "    g_output = g_model(input_z, training=False)\n",
        "    images = tf.reshape(g_output, (batch_size, *image_size))    \n",
        "    return (images+1)/2.0\n",
        "\n",
        "all_losses = []\n",
        "epoch_samples = []\n",
        "\n",
        "start_time = time.time()\n",
        "\n",
        "for epoch in range(1, num_epochs+1):\n",
        "    epoch_losses = []\n",
        "    for i,(input_z,input_real) in enumerate(mnist_trainset):\n",
        "        \n",
        "        with tf.GradientTape() as d_tape, tf.GradientTape() as g_tape:\n",
        "            g_output = gen_model(input_z, training=True)\n",
        "            \n",
        "            d_critics_real = disc_model(input_real, training=True)\n",
        "            d_critics_fake = disc_model(g_output, training=True)\n",
        "\n",
        "            ## 생성자 손실을 계산합니다:\n",
        "            g_loss = -tf.math.reduce_mean(d_critics_fake)\n",
        "\n",
        "            ## 판별자 손실을 계산합니다:\n",
        "            d_loss_real = -tf.math.reduce_mean(d_critics_real)\n",
        "            d_loss_fake =  tf.math.reduce_mean(d_critics_fake)\n",
        "            d_loss = d_loss_real + d_loss_fake\n",
        "\n",
        "            ## 그래디언트 페널티:\n",
        "            with tf.GradientTape() as gp_tape:\n",
        "                alpha = tf.random.uniform(\n",
        "                    shape=[d_critics_real.shape[0], 1, 1, 1], \n",
        "                    minval=0.0, maxval=1.0)\n",
        "                interpolated = (\n",
        "                    alpha*input_real + (1-alpha)*g_output)\n",
        "                gp_tape.watch(interpolated)\n",
        "                d_critics_intp = disc_model(interpolated)\n",
        "            \n",
        "            grads_intp = gp_tape.gradient(\n",
        "                d_critics_intp, [interpolated,])[0]\n",
        "            grads_intp_l2 = tf.sqrt(\n",
        "                tf.reduce_sum(tf.square(grads_intp), axis=[1, 2, 3]))\n",
        "            grad_penalty = tf.reduce_mean(tf.square(grads_intp_l2 - 1.0))\n",
        "        \n",
        "            d_loss = d_loss + lambda_gp*grad_penalty\n",
        "        \n",
        "        ## 최적화: 그래디언트를 계산하고 적용합니다\n",
        "        d_grads = d_tape.gradient(d_loss, disc_model.trainable_variables)\n",
        "        d_optimizer.apply_gradients(\n",
        "            grads_and_vars=zip(d_grads, disc_model.trainable_variables))\n",
        "        \n",
        "        g_grads = g_tape.gradient(g_loss, gen_model.trainable_variables)\n",
        "        g_optimizer.apply_gradients(\n",
        "            grads_and_vars=zip(g_grads, gen_model.trainable_variables))\n",
        "\n",
        "        epoch_losses.append(\n",
        "            (g_loss.numpy(), d_loss.numpy(), \n",
        "             d_loss_real.numpy(), d_loss_fake.numpy()))\n",
        "                    \n",
        "    all_losses.append(epoch_losses)\n",
        "    \n",
        "    print('에포크 {:-3d} | 시간 {:.2f} min | 평균 손실 >>'\n",
        "          ' 생성자/판별자 {:6.2f}/{:6.2f} [판별자-진짜: {:6.2f} 판별자-가짜: {:6.2f}]'\n",
        "          .format(epoch, (time.time() - start_time)/60, \n",
        "                  *list(np.mean(all_losses[-1], axis=0)))\n",
        "    )\n",
        "    \n",
        "    epoch_samples.append(\n",
        "        create_samples(gen_model, fixed_z).numpy()\n",
        "    )"
      ]
    },
    {
      "cell_type": "code",
      "execution_count": 17,
      "metadata": {
        "colab": {
          "base_uri": "https://localhost:8080/",
          "height": 458
        },
        "id": "EhyoIu75o6TX",
        "outputId": "0627c960-b218-4656-b54c-9f08d0d2dbd5"
      },
      "outputs": [
        {
          "output_type": "display_data",
          "data": {
            "text/plain": [
              "<Figure size 576x432 with 2 Axes>"
            ],
            "image/png": "[encoded data removed]"
          },
          "metadata": {
            "needs_background": "light"
          }
        }
      ],
      "source": [
        "import itertools\n",
        "\n",
        "\n",
        "fig = plt.figure(figsize=(8, 6))\n",
        "\n",
        "## 손실 그래프\n",
        "ax = fig.add_subplot(1, 1, 1)\n",
        "g_losses = [item[0] for item in itertools.chain(*all_losses)]\n",
        "d_losses = [item[1] for item in itertools.chain(*all_losses)]\n",
        "plt.plot(g_losses, label='Generator loss', alpha=0.95)\n",
        "plt.plot(d_losses, label='Discriminator loss', alpha=0.95)\n",
        "plt.legend(fontsize=20)\n",
        "ax.set_xlabel('Iteration', size=15)\n",
        "ax.set_ylabel('Loss', size=15)\n",
        "\n",
        "epochs = np.arange(1, 101)\n",
        "epoch2iter = lambda e: e*len(all_losses[-1])\n",
        "epoch_ticks = [1, 20, 40, 60, 80, 100]\n",
        "newpos   = [epoch2iter(e) for e in epoch_ticks]\n",
        "ax2 = ax.twiny()\n",
        "ax2.set_xticks(newpos)\n",
        "ax2.set_xticklabels(epoch_ticks)\n",
        "ax2.xaxis.set_ticks_position('bottom')\n",
        "ax2.xaxis.set_label_position('bottom')\n",
        "ax2.spines['bottom'].set_position(('outward', 60))\n",
        "ax2.set_xlabel('Epoch', size=15)\n",
        "ax2.set_xlim(ax.get_xlim())\n",
        "ax.tick_params(axis='both', which='major', labelsize=15)\n",
        "ax2.tick_params(axis='both', which='major', labelsize=15)\n",
        "\n",
        "plt.show()"
      ]
    },
    {
      "cell_type": "code",
      "execution_count": 18,
      "metadata": {
        "colab": {
          "base_uri": "https://localhost:8080/",
          "height": 783
        },
        "id": "FPW5iPQeo6TX",
        "outputId": "4284ce1f-b063-42f0-da18-95f916785648"
      },
      "outputs": [
        {
          "output_type": "display_data",
          "data": {
            "text/plain": [
              "<Figure size 720x1008 with 30 Axes>"
            ],
            "image/png": "[encoded data removed]"
          },
          "metadata": {}
        }
      ],
      "source": [
        "selected_epochs = [1, 2, 4, 10, 50, 100]\n",
        "fig = plt.figure(figsize=(10, 14))\n",
        "for i,e in enumerate(selected_epochs):\n",
        "    for j in range(5):\n",
        "        ax = fig.add_subplot(6, 5, i*5+j+1)\n",
        "        ax.set_xticks([])\n",
        "        ax.set_yticks([])\n",
        "        if j == 0:\n",
        "            ax.text(\n",
        "                -0.06, 0.5, 'Epoch {}'.format(e),\n",
        "                rotation=90, size=18, color='red',\n",
        "                horizontalalignment='right',\n",
        "                verticalalignment='center', \n",
        "                transform=ax.transAxes)\n",
        "        \n",
        "        image = epoch_samples[e-1][j]\n",
        "        ax.imshow(image, cmap='gray_r')\n",
        "\n",
        "plt.show()"
      ]
    },
    {
      "cell_type": "markdown",
      "metadata": {
        "id": "YBrkP6vWo6TY"
      },
      "source": [
        "## 모드 붕괴"
      ]
    },
    {
      "cell_type": "code",
      "execution_count": 19,
      "metadata": {
        "colab": {
          "base_uri": "https://localhost:8080/",
          "height": 622
        },
        "id": "y0a0y7LEo6TY",
        "outputId": "9aee2b6b-006c-4289-bb95-ee0180edba81"
      },
      "outputs": [
        {
          "output_type": "execute_result",
          "data": {
            "text/plain": [
              "<IPython.core.display.Image object>"
            ],
            "text/html": [
              "<img src=\"https://git.io/JLjcT\" width=\"600\"/>"
            ]
          },
          "metadata": {},
          "execution_count": 19
        }
      ],
      "source": [
        "Image(url='https://git.io/JLjcT', width=600)"
      ]
    }
  ],
  "metadata": {
    "accelerator": "GPU",
    "colab": {
      "collapsed_sections": [],
      "machine_shape": "hm",
      "name": "ch17-DCGAN.ipynb",
      "provenance": []
    },
    "kernelspec": {
      "display_name": "Python 3",
      "language": "python",
      "name": "python3"
    },
    "language_info": {
      "codemirror_mode": {
        "name": "ipython",
        "version": 3
      },
      "file_extension": ".py",
      "mimetype": "text/x-python",
      "name": "python",
      "nbconvert_exporter": "python",
      "pygments_lexer": "ipython3",
      "version": "3.7.3"
    },
    "widgets": {
      "application/vnd.jupyter.widget-state+json": {
        "dc6555b862334540bb5917541c7b24a2": {
          "model_module": "@jupyter-widgets/controls",
          "model_name": "HBoxModel",
          "model_module_version": "1.5.0",
          "state": {
            "_dom_classes": [],
            "_model_module": "@jupyter-widgets/controls",
            "_model_module_version": "1.5.0",
            "_model_name": "HBoxModel",
            "_view_count": null,
            "_view_module": "@jupyter-widgets/controls",
            "_view_module_version": "1.5.0",
            "_view_name": "HBoxView",
            "box_style": "",
            "children": [
              "IPY_MODEL_4216af3cb89645dd8b9ae647316890bc",
              "IPY_MODEL_ab38c4f059c2415b902d8fa396dad231",
              "IPY_MODEL_fa560f0aaff4475fa107660839dd612f"
            ],
            "layout": "IPY_MODEL_09ac59bcf9544f29b5d0387f90951983"
          }
        },
        "4216af3cb89645dd8b9ae647316890bc": {
          "model_module": "@jupyter-widgets/controls",
          "model_name": "HTMLModel",
          "model_module_version": "1.5.0",
          "state": {
            "_dom_classes": [],
            "_model_module": "@jupyter-widgets/controls",
            "_model_module_version": "1.5.0",
            "_model_name": "HTMLModel",
            "_view_count": null,
            "_view_module": "@jupyter-widgets/controls",
            "_view_module_version": "1.5.0",
            "_view_name": "HTMLView",
            "description": "",
            "description_tooltip": null,
            "layout": "IPY_MODEL_39b3f5e2b59f4fcc91c82c019edb97e7",
            "placeholder": "​",
            "style": "IPY_MODEL_233198f63afe41e09d220f1714fc98c8",
            "value": "Dl Completed...: 100%"
          }
        },
        "ab38c4f059c2415b902d8fa396dad231": {
          "model_module": "@jupyter-widgets/controls",
          "model_name": "FloatProgressModel",
          "model_module_version": "1.5.0",
          "state": {
            "_dom_classes": [],
            "_model_module": "@jupyter-widgets/controls",
            "_model_module_version": "1.5.0",
            "_model_name": "FloatProgressModel",
            "_view_count": null,
            "_view_module": "@jupyter-widgets/controls",
            "_view_module_version": "1.5.0",
            "_view_name": "ProgressView",
            "bar_style": "success",
            "description": "",
            "description_tooltip": null,
            "layout": "IPY_MODEL_9bb46aeaabb0481bae8eebc04c702390",
            "max": 4,
            "min": 0,
            "orientation": "horizontal",
            "style": "IPY_MODEL_8371555b9f5e4440a72181a95d3188d3",
            "value": 4
          }
        },
        "fa560f0aaff4475fa107660839dd612f": {
          "model_module": "@jupyter-widgets/controls",
          "model_name": "HTMLModel",
          "model_module_version": "1.5.0",
          "state": {
            "_dom_classes": [],
            "_model_module": "@jupyter-widgets/controls",
            "_model_module_version": "1.5.0",
            "_model_name": "HTMLModel",
            "_view_count": null,
            "_view_module": "@jupyter-widgets/controls",
            "_view_module_version": "1.5.0",
            "_view_name": "HTMLView",
            "description": "",
            "description_tooltip": null,
            "layout": "IPY_MODEL_9dbff46cad4b43b596a1797d7210b12d",
            "placeholder": "​",
            "style": "IPY_MODEL_22ae0b4901214a1dab3b453e95b095a0",
            "value": " 4/4 [00:00&lt;00:00,  4.54 file/s]"
          }
        },
        "09ac59bcf9544f29b5d0387f90951983": {
          "model_module": "@jupyter-widgets/base",
          "model_name": "LayoutModel",
          "model_module_version": "1.2.0",
          "state": {
            "_model_module": "@jupyter-widgets/base",
            "_model_module_version": "1.2.0",
            "_model_name": "LayoutModel",
            "_view_count": null,
            "_view_module": "@jupyter-widgets/base",
            "_view_module_version": "1.2.0",
            "_view_name": "LayoutView",
            "align_content": null,
            "align_items": null,
            "align_self": null,
            "border": null,
            "bottom": null,
            "display": null,
            "flex": null,
            "flex_flow": null,
            "grid_area": null,
            "grid_auto_columns": null,
            "grid_auto_flow": null,
            "grid_auto_rows": null,
            "grid_column": null,
            "grid_gap": null,
            "grid_row": null,
            "grid_template_areas": null,
            "grid_template_columns": null,
            "grid_template_rows": null,
            "height": null,
            "justify_content": null,
            "justify_items": null,
            "left": null,
            "margin": null,
            "max_height": null,
            "max_width": null,
            "min_height": null,
            "min_width": null,
            "object_fit": null,
            "object_position": null,
            "order": null,
            "overflow": null,
            "overflow_x": null,
            "overflow_y": null,
            "padding": null,
            "right": null,
            "top": null,
            "visibility": null,
            "width": null
          }
        },
        "39b3f5e2b59f4fcc91c82c019edb97e7": {
          "model_module": "@jupyter-widgets/base",
          "model_name": "LayoutModel",
          "model_module_version": "1.2.0",
          "state": {
            "_model_module": "@jupyter-widgets/base",
            "_model_module_version": "1.2.0",
            "_model_name": "LayoutModel",
            "_view_count": null,
            "_view_module": "@jupyter-widgets/base",
            "_view_module_version": "1.2.0",
            "_view_name": "LayoutView",
            "align_content": null,
            "align_items": null,
            "align_self": null,
            "border": null,
            "bottom": null,
            "display": null,
            "flex": null,
            "flex_flow": null,
            "grid_area": null,
            "grid_auto_columns": null,
            "grid_auto_flow": null,
            "grid_auto_rows": null,
            "grid_column": null,
            "grid_gap": null,
            "grid_row": null,
            "grid_template_areas": null,
            "grid_template_columns": null,
            "grid_template_rows": null,
            "height": null,
            "justify_content": null,
            "justify_items": null,
            "left": null,
            "margin": null,
            "max_height": null,
            "max_width": null,
            "min_height": null,
            "min_width": null,
            "object_fit": null,
            "object_position": null,
            "order": null,
            "overflow": null,
            "overflow_x": null,
            "overflow_y": null,
            "padding": null,
            "right": null,
            "top": null,
            "visibility": null,
            "width": null
          }
        },
        "233198f63afe41e09d220f1714fc98c8": {
          "model_module": "@jupyter-widgets/controls",
          "model_name": "DescriptionStyleModel",
          "model_module_version": "1.5.0",
          "state": {
            "_model_module": "@jupyter-widgets/controls",
            "_model_module_version": "1.5.0",
            "_model_name": "DescriptionStyleModel",
            "_view_count": null,
            "_view_module": "@jupyter-widgets/base",
            "_view_module_version": "1.2.0",
            "_view_name": "StyleView",
            "description_width": ""
          }
        },
        "9bb46aeaabb0481bae8eebc04c702390": {
          "model_module": "@jupyter-widgets/base",
          "model_name": "LayoutModel",
          "model_module_version": "1.2.0",
          "state": {
            "_model_module": "@jupyter-widgets/base",
            "_model_module_version": "1.2.0",
            "_model_name": "LayoutModel",
            "_view_count": null,
            "_view_module": "@jupyter-widgets/base",
            "_view_module_version": "1.2.0",
            "_view_name": "LayoutView",
            "align_content": null,
            "align_items": null,
            "align_self": null,
            "border": null,
            "bottom": null,
            "display": null,
            "flex": null,
            "flex_flow": null,
            "grid_area": null,
            "grid_auto_columns": null,
            "grid_auto_flow": null,
            "grid_auto_rows": null,
            "grid_column": null,
            "grid_gap": null,
            "grid_row": null,
            "grid_template_areas": null,
            "grid_template_columns": null,
            "grid_template_rows": null,
            "height": null,
            "justify_content": null,
            "justify_items": null,
            "left": null,
            "margin": null,
            "max_height": null,
            "max_width": null,
            "min_height": null,
            "min_width": null,
            "object_fit": null,
            "object_position": null,
            "order": null,
            "overflow": null,
            "overflow_x": null,
            "overflow_y": null,
            "padding": null,
            "right": null,
            "top": null,
            "visibility": null,
            "width": null
          }
        },
        "8371555b9f5e4440a72181a95d3188d3": {
          "model_module": "@jupyter-widgets/controls",
          "model_name": "ProgressStyleModel",
          "model_module_version": "1.5.0",
          "state": {
            "_model_module": "@jupyter-widgets/controls",
            "_model_module_version": "1.5.0",
            "_model_name": "ProgressStyleModel",
            "_view_count": null,
            "_view_module": "@jupyter-widgets/base",
            "_view_module_version": "1.2.0",
            "_view_name": "StyleView",
            "bar_color": null,
            "description_width": ""
          }
        },
        "9dbff46cad4b43b596a1797d7210b12d": {
          "model_module": "@jupyter-widgets/base",
          "model_name": "LayoutModel",
          "model_module_version": "1.2.0",
          "state": {
            "_model_module": "@jupyter-widgets/base",
            "_model_module_version": "1.2.0",
            "_model_name": "LayoutModel",
            "_view_count": null,
            "_view_module": "@jupyter-widgets/base",
            "_view_module_version": "1.2.0",
            "_view_name": "LayoutView",
            "align_content": null,
            "align_items": null,
            "align_self": null,
            "border": null,
            "bottom": null,
            "display": null,
            "flex": null,
            "flex_flow": null,
            "grid_area": null,
            "grid_auto_columns": null,
            "grid_auto_flow": null,
            "grid_auto_rows": null,
            "grid_column": null,
            "grid_gap": null,
            "grid_row": null,
            "grid_template_areas": null,
            "grid_template_columns": null,
            "grid_template_rows": null,
            "height": null,
            "justify_content": null,
            "justify_items": null,
            "left": null,
            "margin": null,
            "max_height": null,
            "max_width": null,
            "min_height": null,
            "min_width": null,
            "object_fit": null,
            "object_position": null,
            "order": null,
            "overflow": null,
            "overflow_x": null,
            "overflow_y": null,
            "padding": null,
            "right": null,
            "top": null,
            "visibility": null,
            "width": null
          }
        },
        "22ae0b4901214a1dab3b453e95b095a0": {
          "model_module": "@jupyter-widgets/controls",
          "model_name": "DescriptionStyleModel",
          "model_module_version": "1.5.0",
          "state": {
            "_model_module": "@jupyter-widgets/controls",
            "_model_module_version": "1.5.0",
            "_model_name": "DescriptionStyleModel",
            "_view_count": null,
            "_view_module": "@jupyter-widgets/base",
            "_view_module_version": "1.2.0",
            "_view_name": "StyleView",
            "description_width": ""
          }
        }
      }
    }
  },
  "nbformat": 4,
  "nbformat_minor": 0
}