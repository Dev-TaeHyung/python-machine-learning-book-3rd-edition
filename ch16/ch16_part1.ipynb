{
  "cells": [
    {
      "cell_type": "markdown",
      "metadata": {
        "id": "U2ll54gJt3hR"
      },
      "source": [
        "# 머신 러닝 교과서 3판"
      ]
    },
    {
      "cell_type": "markdown",
      "metadata": {
        "id": "f6CoM_jTt3hS"
      },
      "source": [
        "# 16장 - 순환 신경망으로 순차 데이터 모델링 (1/2)"
      ]
    },
    {
      "cell_type": "markdown",
      "metadata": {
        "id": "FAhOxXi8t3hT"
      },
      "source": [
        "**아래 링크를 통해 이 노트북을 주피터 노트북 뷰어(nbviewer.jupyter.org)로 보거나 구글 코랩(colab.research.google.com)에서 실행할 수 있습니다.**\n",
        "\n",
        "<table class=\"tfo-notebook-buttons\" align=\"left\">\n",
        "  <td>\n",
        "    <a target=\"_blank\" href=\"https://nbviewer.org/github/rickiepark/python-machine-learning-book-3rd-edition/blob/master/ch16/ch16_part1.ipynb\"><img src=\"https://jupyter.org/assets/share.png\" width=\"60\" />주피터 노트북 뷰어로 보기</a>\n",
        "  </td>\n",
        "  <td>\n",
        "    <a target=\"_blank\" href=\"https://colab.research.google.com/github/rickiepark/python-machine-learning-book-3rd-edition/blob/master/ch16/ch16_part1.ipynb\"><img src=\"https://www.tensorflow.org/images/colab_logo_32px.png\" />구글 코랩(Colab)에서 실행하기</a>\n",
        "  </td>\n",
        "</table>"
      ]
    },
    {
      "cell_type": "markdown",
      "metadata": {
        "id": "ivB0ZSFGt3hT"
      },
      "source": [
        "### 목차"
      ]
    },
    {
      "cell_type": "markdown",
      "metadata": {
        "id": "57dQGeStt3hT"
      },
      "source": [
        "- 순차 데이터 소개\n",
        "    - 순차 데이터 모델링: 순서를 고려한다\n",
        "    - 시퀀스 표현\n",
        "    - 시퀀스 모델링의 종류\n",
        "- 시퀀스 모델링을 위한 RNN\n",
        "    - RNN 반복 구조 이해하기\n",
        "    - RNN의 활성화 출력 계산\n",
        "    - 은닉 순환과 출력 순환\n",
        "    - 긴 시퀀스 학습의 어려움\n",
        "    - LSTM 셀\n",
        "- 텐서플로로 시퀀스 모델링을 위한 RNN 구현하기\n",
        "    - 첫 번째 프로젝트: IMDb 영화 리뷰 감성 분석\n",
        "        - 영화 리뷰 데이터 준비\n",
        "        - 문장 인코딩을 위한 임베딩 층\n",
        "        - RNN 모델 만들기\n",
        "        - 감성 분석 작업을 위한 RNN 모델 만들기"
      ]
    },
    {
      "cell_type": "code",
      "execution_count": 1,
      "metadata": {
        "execution": {
          "iopub.execute_input": "2020-12-31T14:52:56.448296Z",
          "iopub.status.busy": "2020-12-31T14:52:56.447399Z",
          "iopub.status.idle": "2020-12-31T14:52:56.450102Z",
          "shell.execute_reply": "2020-12-31T14:52:56.450840Z"
        },
        "id": "SHqvUk9kt3hT"
      },
      "outputs": [],
      "source": [
        "from IPython.display import Image"
      ]
    },
    {
      "cell_type": "markdown",
      "metadata": {
        "id": "Wr5StFyQt3hT"
      },
      "source": [
        "# 순차 데이터 소개\n",
        "## 순차 데이터 모델링: 순서를 고려한다\n",
        "## 시퀀스 표현"
      ]
    },
    {
      "cell_type": "code",
      "execution_count": 2,
      "metadata": {
        "colab": {
          "base_uri": "https://localhost:8080/",
          "height": 283
        },
        "execution": {
          "iopub.execute_input": "2020-12-31T14:52:56.456190Z",
          "iopub.status.busy": "2020-12-31T14:52:56.455553Z",
          "iopub.status.idle": "2020-12-31T14:52:56.463431Z",
          "shell.execute_reply": "2020-12-31T14:52:56.464269Z"
        },
        "id": "k1c-6p52t3hU",
        "outputId": "f3fadc70-1de8-432d-fb3d-91d3f208145c"
      },
      "outputs": [
        {
          "output_type": "execute_result",
          "data": {
            "text/plain": [
              "<IPython.core.display.Image object>"
            ],
            "text/html": [
              "<img src=\"https://git.io/JLdVm\" width=\"700\"/>"
            ]
          },
          "metadata": {},
          "execution_count": 2
        }
      ],
      "source": [
        "Image(url='https://git.io/JLdVm', width=700)"
      ]
    },
    {
      "cell_type": "markdown",
      "metadata": {
        "id": "QL3g5J07t3hU"
      },
      "source": [
        "## 시퀀스 모델링의 종류"
      ]
    },
    {
      "cell_type": "code",
      "execution_count": 3,
      "metadata": {
        "colab": {
          "base_uri": "https://localhost:8080/",
          "height": 427
        },
        "execution": {
          "iopub.execute_input": "2020-12-31T14:52:56.470205Z",
          "iopub.status.busy": "2020-12-31T14:52:56.469239Z",
          "iopub.status.idle": "2020-12-31T14:52:56.510740Z",
          "shell.execute_reply": "2020-12-31T14:52:56.510046Z"
        },
        "id": "Qe4WgH2Ot3hU",
        "outputId": "32e302f9-2db5-46fb-c02a-39c52a5ec823"
      },
      "outputs": [
        {
          "output_type": "execute_result",
          "data": {
            "text/plain": [
              "<IPython.core.display.Image object>"
            ],
            "text/html": [
              "<img src=\"https://git.io/JLdVO\" width=\"700\"/>"
            ]
          },
          "metadata": {},
          "execution_count": 3
        }
      ],
      "source": [
        "Image(url='https://git.io/JLdVO', width=700)"
      ]
    },
    {
      "cell_type": "markdown",
      "metadata": {
        "id": "Z5XrGPuht3hU"
      },
      "source": [
        "# 시퀀스 모델링을 위한 RNN\n",
        "## RNN 반복 구조 이해하기"
      ]
    },
    {
      "cell_type": "code",
      "execution_count": 4,
      "metadata": {
        "colab": {
          "base_uri": "https://localhost:8080/",
          "height": 312
        },
        "execution": {
          "iopub.execute_input": "2020-12-31T14:52:56.516239Z",
          "iopub.status.busy": "2020-12-31T14:52:56.515511Z",
          "iopub.status.idle": "2020-12-31T14:52:56.521165Z",
          "shell.execute_reply": "2020-12-31T14:52:56.520502Z"
        },
        "id": "YrVhGKS0t3hV",
        "outputId": "f7959e48-6747-414d-ecff-29c6d48c629c"
      },
      "outputs": [
        {
          "output_type": "execute_result",
          "data": {
            "text/plain": [
              "<IPython.core.display.Image object>"
            ],
            "text/html": [
              "<img src=\"https://git.io/JLdV3\" width=\"700\"/>"
            ]
          },
          "metadata": {},
          "execution_count": 4
        }
      ],
      "source": [
        "Image(url='https://git.io/JLdV3', width=700)"
      ]
    },
    {
      "cell_type": "code",
      "execution_count": 5,
      "metadata": {
        "colab": {
          "base_uri": "https://localhost:8080/",
          "height": 614
        },
        "execution": {
          "iopub.execute_input": "2020-12-31T14:52:56.525160Z",
          "iopub.status.busy": "2020-12-31T14:52:56.524521Z",
          "iopub.status.idle": "2020-12-31T14:52:56.530736Z",
          "shell.execute_reply": "2020-12-31T14:52:56.531285Z"
        },
        "id": "_L2SXQ0Bt3hV",
        "outputId": "1e011528-a4ec-47ab-e528-f831c39b8770"
      },
      "outputs": [
        {
          "output_type": "execute_result",
          "data": {
            "text/plain": [
              "<IPython.core.display.Image object>"
            ],
            "text/html": [
              "<img src=\"https://git.io/JLdVs\" width=\"700\"/>"
            ]
          },
          "metadata": {},
          "execution_count": 5
        }
      ],
      "source": [
        "Image(url='https://git.io/JLdVs', width=700)"
      ]
    },
    {
      "cell_type": "markdown",
      "metadata": {
        "id": "Dv07BsIEt3hV"
      },
      "source": [
        "## RNN의 활성화 출력 계산"
      ]
    },
    {
      "cell_type": "code",
      "execution_count": 6,
      "metadata": {
        "colab": {
          "base_uri": "https://localhost:8080/",
          "height": 295
        },
        "execution": {
          "iopub.execute_input": "2020-12-31T14:52:56.535282Z",
          "iopub.status.busy": "2020-12-31T14:52:56.534647Z",
          "iopub.status.idle": "2020-12-31T14:52:56.540928Z",
          "shell.execute_reply": "2020-12-31T14:52:56.540327Z"
        },
        "id": "KxnXQiRSt3hV",
        "outputId": "6b6a6044-88c1-4261-95cf-cfc47aeabc8a"
      },
      "outputs": [
        {
          "output_type": "execute_result",
          "data": {
            "text/plain": [
              "<IPython.core.display.Image object>"
            ],
            "text/html": [
              "<img src=\"https://git.io/JLdVC\" width=\"700\"/>"
            ]
          },
          "metadata": {},
          "execution_count": 6
        }
      ],
      "source": [
        "Image(url='https://git.io/JLdVC', width=700)"
      ]
    },
    {
      "cell_type": "code",
      "execution_count": 7,
      "metadata": {
        "colab": {
          "base_uri": "https://localhost:8080/",
          "height": 373
        },
        "execution": {
          "iopub.execute_input": "2020-12-31T14:52:56.544851Z",
          "iopub.status.busy": "2020-12-31T14:52:56.544209Z",
          "iopub.status.idle": "2020-12-31T14:52:56.551185Z",
          "shell.execute_reply": "2020-12-31T14:52:56.551727Z"
        },
        "id": "c7_mK8qVt3hV",
        "outputId": "69291ced-99b9-4e0e-e82e-ea7d135d3d86"
      },
      "outputs": [
        {
          "output_type": "execute_result",
          "data": {
            "text/plain": [
              "<IPython.core.display.Image object>"
            ],
            "text/html": [
              "<img src=\"https://git.io/JLdVW\" width=\"700\"/>"
            ]
          },
          "metadata": {},
          "execution_count": 7
        }
      ],
      "source": [
        "Image(url='https://git.io/JLdVW', width=700)"
      ]
    },
    {
      "cell_type": "markdown",
      "metadata": {
        "id": "u8Jumkd0t3hW"
      },
      "source": [
        "## 은닉 순환과 출력 순환"
      ]
    },
    {
      "cell_type": "code",
      "execution_count": 8,
      "metadata": {
        "colab": {
          "base_uri": "https://localhost:8080/",
          "height": 603
        },
        "execution": {
          "iopub.execute_input": "2020-12-31T14:52:56.555805Z",
          "iopub.status.busy": "2020-12-31T14:52:56.555162Z",
          "iopub.status.idle": "2020-12-31T14:52:56.561794Z",
          "shell.execute_reply": "2020-12-31T14:52:56.562334Z"
        },
        "id": "iuGEUtnYt3hW",
        "outputId": "96cb1c85-845c-4205-c87e-89fd5f93dae7"
      },
      "outputs": [
        {
          "output_type": "execute_result",
          "data": {
            "text/plain": [
              "<IPython.core.display.Image object>"
            ],
            "text/html": [
              "<img src=\"https://git.io/JLdV8\" width=\"700\"/>"
            ]
          },
          "metadata": {},
          "execution_count": 8
        }
      ],
      "source": [
        "Image(url='https://git.io/JLdV8', width=700)"
      ]
    },
    {
      "cell_type": "code",
      "execution_count": 9,
      "metadata": {
        "colab": {
          "base_uri": "https://localhost:8080/"
        },
        "execution": {
          "iopub.execute_input": "2020-12-31T14:52:56.568669Z",
          "iopub.status.busy": "2020-12-31T14:52:56.568012Z",
          "iopub.status.idle": "2020-12-31T14:52:58.384001Z",
          "shell.execute_reply": "2020-12-31T14:52:58.383269Z"
        },
        "id": "Wvo3vxr8t3hW",
        "outputId": "70b8b76a-e70f-4c82-c6f0-3be5a6139feb"
      },
      "outputs": [
        {
          "output_type": "stream",
          "name": "stdout",
          "text": [
            "W_xh 크기: (5, 2)\n",
            "W_oo 크기: (2, 2)\n",
            "b_h 크기: (2,)\n"
          ]
        }
      ],
      "source": [
        "import tensorflow as tf\n",
        "tf.random.set_seed(1)\n",
        "\n",
        "rnn_layer = tf.keras.layers.SimpleRNN(\n",
        "    units=2, use_bias=True, \n",
        "    return_sequences=True)\n",
        "rnn_layer.build(input_shape=(None, None, 5))\n",
        "\n",
        "w_xh, w_oo, b_h = rnn_layer.weights\n",
        "\n",
        "print('W_xh 크기:', w_xh.shape)\n",
        "print('W_oo 크기:', w_oo.shape)\n",
        "print('b_h 크기:', b_h.shape)"
      ]
    },
    {
      "cell_type": "code",
      "execution_count": 10,
      "metadata": {
        "colab": {
          "base_uri": "https://localhost:8080/"
        },
        "execution": {
          "iopub.execute_input": "2020-12-31T14:52:58.395104Z",
          "iopub.status.busy": "2020-12-31T14:52:58.394214Z",
          "iopub.status.idle": "2020-12-31T14:52:58.414734Z",
          "shell.execute_reply": "2020-12-31T14:52:58.414063Z"
        },
        "id": "THMnNQoEt3hW",
        "outputId": "5a9739cf-bd0b-48d2-9a2e-ddfaf90b58f8",
        "scrolled": true
      },
      "outputs": [
        {
          "output_type": "stream",
          "name": "stdout",
          "text": [
            "타임 스텝 0 =>\n",
            "   입력           : [[1. 1. 1. 1. 1.]]\n",
            "   은닉           : [[0.41464037 0.96012145]]\n",
            "   출력 (수동)     : [[0.39240566 0.74433106]]\n",
            "   SimpleRNN 출력 : [0.39240566 0.74433106]\n",
            "\n",
            "타임 스텝 1 =>\n",
            "   입력           : [[2. 2. 2. 2. 2.]]\n",
            "   은닉           : [[0.82928073 1.9202429 ]]\n",
            "   출력 (수동)     : [[0.80116504 0.99129474]]\n",
            "   SimpleRNN 출력 : [0.80116504 0.99129474]\n",
            "\n",
            "타임 스텝 2 =>\n",
            "   입력           : [[3. 3. 3. 3. 3.]]\n",
            "   은닉           : [[1.243921  2.8803642]]\n",
            "   출력 (수동)     : [[0.95468265 0.99930704]]\n",
            "   SimpleRNN 출력 : [0.95468265 0.99930704]\n",
            "\n"
          ]
        }
      ],
      "source": [
        "x_seq = tf.convert_to_tensor(\n",
        "    [[1.0]*5, [2.0]*5, [3.0]*5],\n",
        "    dtype=tf.float32)\n",
        "\n",
        "\n",
        "## SimepleRNN의 출력:\n",
        "output = rnn_layer(tf.reshape(x_seq, shape=(1, 3, 5)))\n",
        "\n",
        "## 수동으로 출력 계산하기:\n",
        "out_man = []\n",
        "for t in range(len(x_seq)):\n",
        "    xt = tf.reshape(x_seq[t], (1, 5))\n",
        "    print('타임 스텝 {} =>'.format(t))\n",
        "    print('   입력           :', xt.numpy())\n",
        "    \n",
        "    ht = tf.matmul(xt, w_xh) + b_h    \n",
        "    print('   은닉           :', ht.numpy())\n",
        "    \n",
        "    if t>0:\n",
        "        prev_o = out_man[t-1]\n",
        "    else:\n",
        "        prev_o = tf.zeros(shape=(ht.shape))\n",
        "        \n",
        "    ot = ht + tf.matmul(prev_o, w_oo)\n",
        "    ot = tf.math.tanh(ot)\n",
        "    out_man.append(ot)\n",
        "    print('   출력 (수동)     :', ot.numpy())\n",
        "    print('   SimpleRNN 출력 :'.format(t), output[0][t].numpy())\n",
        "    print()"
      ]
    },
    {
      "cell_type": "markdown",
      "metadata": {
        "id": "oTJJZpjUt3hX"
      },
      "source": [
        "## 긴 시퀀스 학습의 어려움"
      ]
    },
    {
      "cell_type": "code",
      "execution_count": 11,
      "metadata": {
        "colab": {
          "base_uri": "https://localhost:8080/",
          "height": 352
        },
        "execution": {
          "iopub.execute_input": "2020-12-31T14:52:58.419575Z",
          "iopub.status.busy": "2020-12-31T14:52:58.418902Z",
          "iopub.status.idle": "2020-12-31T14:52:58.424237Z",
          "shell.execute_reply": "2020-12-31T14:52:58.423554Z"
        },
        "id": "BrsADvYht3hX",
        "outputId": "b6c72ca6-8180-482d-c294-4abe2f97b1ca"
      },
      "outputs": [
        {
          "output_type": "execute_result",
          "data": {
            "text/plain": [
              "<IPython.core.display.Image object>"
            ],
            "text/html": [
              "<img src=\"https://git.io/JLdV4\" width=\"700\"/>"
            ]
          },
          "metadata": {},
          "execution_count": 11
        }
      ],
      "source": [
        "Image(url='https://git.io/JLdV4', width=700)"
      ]
    },
    {
      "cell_type": "markdown",
      "metadata": {
        "id": "RtDltN0gt3hX"
      },
      "source": [
        "## LSTM 셀"
      ]
    },
    {
      "cell_type": "code",
      "execution_count": 12,
      "metadata": {
        "colab": {
          "base_uri": "https://localhost:8080/",
          "height": 382
        },
        "execution": {
          "iopub.execute_input": "2020-12-31T14:52:58.429035Z",
          "iopub.status.busy": "2020-12-31T14:52:58.428310Z",
          "iopub.status.idle": "2020-12-31T14:52:58.438957Z",
          "shell.execute_reply": "2020-12-31T14:52:58.439507Z"
        },
        "id": "6YpVdbeTt3hX",
        "outputId": "543fa6e0-43c9-4ead-ab15-5d9f0846f108"
      },
      "outputs": [
        {
          "output_type": "execute_result",
          "data": {
            "text/plain": [
              "<IPython.core.display.Image object>"
            ],
            "text/html": [
              "<img src=\"https://git.io/JLdVR\" width=\"700\"/>"
            ]
          },
          "metadata": {},
          "execution_count": 12
        }
      ],
      "source": [
        "Image(url='https://git.io/JLdVR', width=700)"
      ]
    },
    {
      "cell_type": "markdown",
      "metadata": {
        "id": "qNOM8cBit3hX"
      },
      "source": [
        "# 텐서플로로 시퀀스 모델링을 위한 RNN 구현하기\n",
        "## 첫 번째 프로젝트: IMDb 영화 리뷰 감성 분석\n",
        "### 영화 리뷰 데이터 준비"
      ]
    },
    {
      "cell_type": "code",
      "execution_count": 13,
      "metadata": {
        "execution": {
          "iopub.execute_input": "2020-12-31T14:52:58.443781Z",
          "iopub.status.busy": "2020-12-31T14:52:58.443146Z",
          "iopub.status.idle": "2020-12-31T14:52:58.776050Z",
          "shell.execute_reply": "2020-12-31T14:52:58.775357Z"
        },
        "id": "EDdVCNv5t3hY"
      },
      "outputs": [],
      "source": [
        "import tensorflow as tf\n",
        "import tensorflow_datasets as tfds\n",
        "import numpy as np\n",
        "import pandas as pd"
      ]
    },
    {
      "cell_type": "code",
      "execution_count": 14,
      "metadata": {
        "colab": {
          "base_uri": "https://localhost:8080/"
        },
        "id": "gUgiOmnUv7DQ",
        "outputId": "d0040d1e-f894-44ae-e712-063c5aaa63ea"
      },
      "outputs": [
        {
          "output_type": "stream",
          "name": "stdout",
          "text": [
            "--2022-07-29 06:03:18--  https://github.com/rickiepark/python-machine-learning-book-3rd-edition/raw/master/ch08/movie_data.csv.gz\n",
            "Resolving github.com (github.com)... 140.82.113.4\n",
            "Connecting to github.com (github.com)|140.82.113.4|:443... connected.\n",
            "HTTP request sent, awaiting response... 302 Found\n",
            "Location: https://raw.githubusercontent.com/rickiepark/python-machine-learning-book-3rd-edition/master/ch08/movie_data.csv.gz [following]\n",
            "--2022-07-29 06:03:19--  https://raw.githubusercontent.com/rickiepark/python-machine-learning-book-3rd-edition/master/ch08/movie_data.csv.gz\n",
            "Resolving raw.githubusercontent.com (raw.githubusercontent.com)... 185.199.108.133, 185.199.109.133, 185.199.110.133, ...\n",
            "Connecting to raw.githubusercontent.com (raw.githubusercontent.com)|185.199.108.133|:443... connected.\n",
            "HTTP request sent, awaiting response... 200 OK\n",
            "Length: 26521894 (25M) [application/octet-stream]\n",
            "Saving to: ‘../ch08/movie_data.csv.gz’\n",
            "\n",
            "../ch08/movie_data. 100%[===================>]  25.29M  --.-KB/s    in 0.1s    \n",
            "\n",
            "2022-07-29 06:03:19 (258 MB/s) - ‘../ch08/movie_data.csv.gz’ saved [26521894/26521894]\n",
            "\n"
          ]
        }
      ],
      "source": [
        "# 코랩에서 실행하는 경우 다음 코드를 실행하세요.\n",
        "!mkdir ../ch08\n",
        "!wget https://github.com/rickiepark/python-machine-learning-book-3rd-edition/raw/master/ch08/movie_data.csv.gz -O ../ch08/movie_data.csv.gz"
      ]
    },
    {
      "cell_type": "code",
      "execution_count": 15,
      "metadata": {
        "execution": {
          "iopub.execute_input": "2020-12-31T14:52:58.786349Z",
          "iopub.status.busy": "2020-12-31T14:52:58.785414Z",
          "iopub.status.idle": "2020-12-31T14:53:00.001551Z",
          "shell.execute_reply": "2020-12-31T14:53:00.002307Z"
        },
        "id": "9HcKmMPmt3hY"
      },
      "outputs": [],
      "source": [
        "import os\n",
        "import gzip\n",
        "import shutil\n",
        "\n",
        "\n",
        "with gzip.open('../ch08/movie_data.csv.gz', 'rb') as f_in, open('movie_data.csv', 'wb') as f_out:\n",
        "    shutil.copyfileobj(f_in, f_out)"
      ]
    },
    {
      "cell_type": "code",
      "execution_count": 16,
      "metadata": {
        "colab": {
          "base_uri": "https://localhost:8080/",
          "height": 206
        },
        "execution": {
          "iopub.execute_input": "2020-12-31T14:53:00.009102Z",
          "iopub.status.busy": "2020-12-31T14:53:00.008204Z",
          "iopub.status.idle": "2020-12-31T14:53:00.445362Z",
          "shell.execute_reply": "2020-12-31T14:53:00.444609Z"
        },
        "id": "I-9BuHr_t3hY",
        "outputId": "2dbbedc5-5c81-47bb-cf2b-4c6185d7c0e2"
      },
      "outputs": [
        {
          "output_type": "execute_result",
          "data": {
            "text/plain": [
              "                                                  review  sentiment\n",
              "49995  OK, lets start with the best. the building. al...          0\n",
              "49996  The British 'heritage film' industry is out of...          0\n",
              "49997  I don't even know where to begin on this one. ...          0\n",
              "49998  Richard Tyler is a little boy who is scared of...          0\n",
              "49999  I waited long to watch this movie. Also becaus...          1"
            ],
            "text/html": [
              "\n",
              "  <div id=\"df-b623c566-c3f4-4aa5-a560-67ba68d1bfb9\">\n",
              "    <div class=\"colab-df-container\">\n",
              "      <div>\n",
              "<style scoped>\n",
              "    .dataframe tbody tr th:only-of-type {\n",
              "        vertical-align: middle;\n",
              "    }\n",
              "\n",
              "    .dataframe tbody tr th {\n",
              "        vertical-align: top;\n",
              "    }\n",
              "\n",
              "    .dataframe thead th {\n",
              "        text-align: right;\n",
              "    }\n",
              "</style>\n",
              "<table border=\"1\" class=\"dataframe\">\n",
              "  <thead>\n",
              "    <tr style=\"text-align: right;\">\n",
              "      <th></th>\n",
              "      <th>review</th>\n",
              "      <th>sentiment</th>\n",
              "    </tr>\n",
              "  </thead>\n",
              "  <tbody>\n",
              "    <tr>\n",
              "      <th>49995</th>\n",
              "      <td>OK, lets start with the best. the building. al...</td>\n",
              "      <td>0</td>\n",
              "    </tr>\n",
              "    <tr>\n",
              "      <th>49996</th>\n",
              "      <td>The British 'heritage film' industry is out of...</td>\n",
              "      <td>0</td>\n",
              "    </tr>\n",
              "    <tr>\n",
              "      <th>49997</th>\n",
              "      <td>I don't even know where to begin on this one. ...</td>\n",
              "      <td>0</td>\n",
              "    </tr>\n",
              "    <tr>\n",
              "      <th>49998</th>\n",
              "      <td>Richard Tyler is a little boy who is scared of...</td>\n",
              "      <td>0</td>\n",
              "    </tr>\n",
              "    <tr>\n",
              "      <th>49999</th>\n",
              "      <td>I waited long to watch this movie. Also becaus...</td>\n",
              "      <td>1</td>\n",
              "    </tr>\n",
              "  </tbody>\n",
              "</table>\n",
              "</div>\n",
              "      <button class=\"colab-df-convert\" onclick=\"convertToInteractive('df-b623c566-c3f4-4aa5-a560-67ba68d1bfb9')\"\n",
              "              title=\"Convert this dataframe to an interactive table.\"\n",
              "              style=\"display:none;\">\n",
              "        \n",
              "  <svg xmlns=\"http://www.w3.org/2000/svg\" height=\"24px\"viewBox=\"0 0 24 24\"\n",
              "       width=\"24px\">\n",
              "    <path d=\"M0 0h24v24H0V0z\" fill=\"none\"/>\n",
              "    <path d=\"M18.56 5.44l.94 2.06.94-2.06 2.06-.94-2.06-.94-.94-2.06-.94 2.06-2.06.94zm-11 1L8.5 8.5l.94-2.06 2.06-.94-2.06-.94L8.5 2.5l-.94 2.06-2.06.94zm10 10l.94 2.06.94-2.06 2.06-.94-2.06-.94-.94-2.06-.94 2.06-2.06.94z\"/><path d=\"M17.41 7.96l-1.37-1.37c-.4-.4-.92-.59-1.43-.59-.52 0-1.04.2-1.43.59L10.3 9.45l-7.72 7.72c-.78.78-.78 2.05 0 2.83L4 21.41c.39.39.9.59 1.41.59.51 0 1.02-.2 1.41-.59l7.78-7.78 2.81-2.81c.8-.78.8-2.07 0-2.86zM5.41 20L4 18.59l7.72-7.72 1.47 1.35L5.41 20z\"/>\n",
              "  </svg>\n",
              "      </button>\n",
              "      \n",
              "  <style>\n",
              "    .colab-df-container {\n",
              "      display:flex;\n",
              "      flex-wrap:wrap;\n",
              "      gap: 12px;\n",
              "    }\n",
              "\n",
              "    .colab-df-convert {\n",
              "      background-color: #E8F0FE;\n",
              "      border: none;\n",
              "      border-radius: 50%;\n",
              "      cursor: pointer;\n",
              "      display: none;\n",
              "      fill: #1967D2;\n",
              "      height: 32px;\n",
              "      padding: 0 0 0 0;\n",
              "      width: 32px;\n",
              "    }\n",
              "\n",
              "    .colab-df-convert:hover {\n",
              "      background-color: #E2EBFA;\n",
              "      box-shadow: 0px 1px 2px rgba(60, 64, 67, 0.3), 0px 1px 3px 1px rgba(60, 64, 67, 0.15);\n",
              "      fill: #174EA6;\n",
              "    }\n",
              "\n",
              "    [theme=dark] .colab-df-convert {\n",
              "      background-color: #3B4455;\n",
              "      fill: #D2E3FC;\n",
              "    }\n",
              "\n",
              "    [theme=dark] .colab-df-convert:hover {\n",
              "      background-color: #434B5C;\n",
              "      box-shadow: 0px 1px 3px 1px rgba(0, 0, 0, 0.15);\n",
              "      filter: drop-shadow(0px 1px 2px rgba(0, 0, 0, 0.3));\n",
              "      fill: #FFFFFF;\n",
              "    }\n",
              "  </style>\n",
              "\n",
              "      <script>\n",
              "        const buttonEl =\n",
              "          document.querySelector('#df-b623c566-c3f4-4aa5-a560-67ba68d1bfb9 button.colab-df-convert');\n",
              "        buttonEl.style.display =\n",
              "          google.colab.kernel.accessAllowed ? 'block' : 'none';\n",
              "\n",
              "        async function convertToInteractive(key) {\n",
              "          const element = document.querySelector('#df-b623c566-c3f4-4aa5-a560-67ba68d1bfb9');\n",
              "          const dataTable =\n",
              "            await google.colab.kernel.invokeFunction('convertToInteractive',\n",
              "                                                     [key], {});\n",
              "          if (!dataTable) return;\n",
              "\n",
              "          const docLinkHtml = 'Like what you see? Visit the ' +\n",
              "            '<a target=\"_blank\" href=https://colab.research.google.com/notebooks/data_table.ipynb>data table notebook</a>'\n",
              "            + ' to learn more about interactive tables.';\n",
              "          element.innerHTML = '';\n",
              "          dataTable['output_type'] = 'display_data';\n",
              "          await google.colab.output.renderOutput(dataTable, element);\n",
              "          const docLink = document.createElement('div');\n",
              "          docLink.innerHTML = docLinkHtml;\n",
              "          element.appendChild(docLink);\n",
              "        }\n",
              "      </script>\n",
              "    </div>\n",
              "  </div>\n",
              "  "
            ]
          },
          "metadata": {},
          "execution_count": 16
        }
      ],
      "source": [
        "df = pd.read_csv('movie_data.csv', encoding='utf-8')\n",
        "\n",
        "df.tail()"
      ]
    },
    {
      "cell_type": "code",
      "execution_count": 17,
      "metadata": {
        "colab": {
          "base_uri": "https://localhost:8080/"
        },
        "execution": {
          "iopub.execute_input": "2020-12-31T14:53:00.520021Z",
          "iopub.status.busy": "2020-12-31T14:53:00.519118Z",
          "iopub.status.idle": "2020-12-31T14:53:00.531067Z",
          "shell.execute_reply": "2020-12-31T14:53:00.530180Z"
        },
        "id": "kpF_RvlVt3hY",
        "outputId": "1f614e56-47fe-40ef-ec57-d5ad5bb4f860"
      },
      "outputs": [
        {
          "output_type": "stream",
          "name": "stdout",
          "text": [
            "b'In 1974, the teenager Martha Moxley (Maggie Grace)' 1\n",
            "b'OK... so... I really like Kris Kristofferson and h' 0\n",
            "b'***SPOILER*** Do not read this, if you think about' 0\n"
          ]
        }
      ],
      "source": [
        "# 단계 1: 데이터셋 만들기\n",
        "target = df.pop('sentiment')\n",
        "\n",
        "ds_raw = tf.data.Dataset.from_tensor_slices(\n",
        "    (df.values, target.values))\n",
        "\n",
        "## 확인:\n",
        "for ex in ds_raw.take(3):\n",
        "    tf.print(ex[0].numpy()[0][:50], ex[1])"
      ]
    },
    {
      "cell_type": "markdown",
      "metadata": {
        "id": "8IBmW08tt3hY"
      },
      "source": [
        " * **훈련/검증/테스트 분할**"
      ]
    },
    {
      "cell_type": "code",
      "execution_count": 18,
      "metadata": {
        "execution": {
          "iopub.execute_input": "2020-12-31T14:53:00.537026Z",
          "iopub.status.busy": "2020-12-31T14:53:00.536266Z",
          "iopub.status.idle": "2020-12-31T14:53:00.540439Z",
          "shell.execute_reply": "2020-12-31T14:53:00.539876Z"
        },
        "id": "89xqs9SXt3hZ"
      },
      "outputs": [],
      "source": [
        "tf.random.set_seed(1)\n",
        "\n",
        "ds_raw = ds_raw.shuffle(\n",
        "    50000, reshuffle_each_iteration=False)\n",
        "\n",
        "ds_raw_test = ds_raw.take(25000)\n",
        "ds_raw_train_valid = ds_raw.skip(25000)\n",
        "ds_raw_train = ds_raw_train_valid.take(20000)\n",
        "ds_raw_valid = ds_raw_train_valid.skip(20000)"
      ]
    },
    {
      "cell_type": "markdown",
      "metadata": {
        "id": "8eB8MAjOt3hZ"
      },
      "source": [
        " * **Tokenizer와 Encoder**\n",
        "   * `tfds.deprecated.text.Tokenizer`: https://www.tensorflow.org/datasets/api_docs/python/tfds/deprecated/text/Tokenizer\n",
        "   * `tfds.deprecated.text.TokenTextEncoder`: https://www.tensorflow.org/datasets/api_docs/python/tfds/deprecated/text/TokenTextEncoder"
      ]
    },
    {
      "cell_type": "markdown",
      "metadata": {
        "id": "hzP-YuF3t3hZ"
      },
      "source": [
        " * **시퀀스 인코딩: 각 시퀀스에서 마지막 100개 원소만 유지하기**"
      ]
    },
    {
      "cell_type": "code",
      "execution_count": 19,
      "metadata": {
        "colab": {
          "base_uri": "https://localhost:8080/"
        },
        "execution": {
          "iopub.execute_input": "2020-12-31T14:53:00.547157Z",
          "iopub.status.busy": "2020-12-31T14:53:00.546406Z",
          "iopub.status.idle": "2020-12-31T14:53:04.613801Z",
          "shell.execute_reply": "2020-12-31T14:53:04.612898Z"
        },
        "id": "zH3IFCust3hZ",
        "outputId": "108f6f73-d0be-4019-9400-793120ff0d05",
        "scrolled": true
      },
      "outputs": [
        {
          "output_type": "stream",
          "name": "stdout",
          "text": [
            "어휘 사전 크기: 87007\n"
          ]
        }
      ],
      "source": [
        "## 단계 2: 고유 토큰(단어) 찾기\n",
        "from collections import Counter\n",
        "\n",
        "try:\n",
        "    tokenizer = tfds.features.text.Tokenizer()\n",
        "except AttributeError:\n",
        "    tokenizer = tfds.deprecated.text.Tokenizer()\n",
        "\n",
        "token_counts = Counter()\n",
        "\n",
        "for example in ds_raw_train:\n",
        "    tokens = tokenizer.tokenize(example[0].numpy()[0])\n",
        "    token_counts.update(tokens)\n",
        "    \n",
        "print('어휘 사전 크기:', len(token_counts))"
      ]
    },
    {
      "cell_type": "code",
      "execution_count": 20,
      "metadata": {
        "colab": {
          "base_uri": "https://localhost:8080/"
        },
        "execution": {
          "iopub.execute_input": "2020-12-31T14:53:04.657429Z",
          "iopub.status.busy": "2020-12-31T14:53:04.637210Z",
          "iopub.status.idle": "2020-12-31T14:53:04.747652Z",
          "shell.execute_reply": "2020-12-31T14:53:04.746754Z"
        },
        "id": "yzd68Ikut3hZ",
        "outputId": "4351d613-4e97-43e9-9582-f6c12fd0e527"
      },
      "outputs": [
        {
          "output_type": "execute_result",
          "data": {
            "text/plain": [
              "[232, 9, 270, 1123]"
            ]
          },
          "metadata": {},
          "execution_count": 20
        }
      ],
      "source": [
        "## 단계 3: 고유 토큰을 정수로 인코딩하기\n",
        "try:\n",
        "    encoder = tfds.features.text.TokenTextEncoder(token_counts)\n",
        "except AttributeError:\n",
        "    encoder = tfds.deprecated.text.TokenTextEncoder(token_counts)\n",
        "\n",
        "example_str = 'This is an example!'\n",
        "encoder.encode(example_str)"
      ]
    },
    {
      "cell_type": "code",
      "execution_count": 21,
      "metadata": {
        "execution": {
          "iopub.execute_input": "2020-12-31T14:53:04.753242Z",
          "iopub.status.busy": "2020-12-31T14:53:04.752412Z",
          "iopub.status.idle": "2020-12-31T14:53:04.755655Z",
          "shell.execute_reply": "2020-12-31T14:53:04.754832Z"
        },
        "id": "o2_YKm8bt3ha"
      },
      "outputs": [],
      "source": [
        "## 단계 3-A: 변환 함수 정의하기\n",
        "def encode(text_tensor, label):\n",
        "    text = text_tensor.numpy()[0]\n",
        "    encoded_text = encoder.encode(text)\n",
        "    return encoded_text, label\n",
        "\n",
        "## 단계 3-B: 인코딩 함수를 텐서플로 연산으로 감싸기\n",
        "def encode_map_fn(text, label):\n",
        "    return tf.py_function(encode, inp=[text, label], \n",
        "                          Tout=(tf.int64, tf.int64))"
      ]
    },
    {
      "cell_type": "code",
      "execution_count": 22,
      "metadata": {
        "colab": {
          "base_uri": "https://localhost:8080/"
        },
        "execution": {
          "iopub.execute_input": "2020-12-31T14:53:04.766645Z",
          "iopub.status.busy": "2020-12-31T14:53:04.766238Z",
          "iopub.status.idle": "2020-12-31T14:53:05.315769Z",
          "shell.execute_reply": "2020-12-31T14:53:05.316485Z"
        },
        "id": "frJTGpBxt3ha",
        "outputId": "c93f8eae-d67f-4a03-a67f-c582e190096e"
      },
      "outputs": [
        {
          "output_type": "stream",
          "name": "stdout",
          "text": [
            "시퀀스 길이: (24,)\n",
            "시퀀스 길이: (179,)\n",
            "시퀀스 길이: (262,)\n",
            "시퀀스 길이: (535,)\n",
            "시퀀스 길이: (130,)\n"
          ]
        },
        {
          "output_type": "execute_result",
          "data": {
            "text/plain": [
              "(<tf.Tensor: shape=(130,), dtype=int64, numpy=\n",
              " array([  579,  1296,    32,   425,    40,   763,  9267,    65,   280,\n",
              "          308,     6,   481,   155,   473,     2,     3,   684,     9,\n",
              "          781,   176,   959,   730,  3917,    67,  9905,    13,   277,\n",
              "           24,    35,   371, 16368,     6,    14, 17231,    29,   187,\n",
              "         1651,   489,   503,   480,   143,    32,   270,  5851,  2402,\n",
              "           13,  3592,  3443,   425,  3313,   256,   257,  1577,   117,\n",
              "            8,   698,   270,   564,    56,     8,    42,  7517,  2629,\n",
              "          820,    25,    60,    79,   343,    32,   645,    14,   528,\n",
              "          241,    32,  1980,     8,    56,     8,    42,  1364,   573,\n",
              "         5183,    43,    12,  3870,    32,   312,   642,   251,  1401,\n",
              "        17232,     8,   698,   257,   750,     2,     9,    76,   235,\n",
              "            8,    42,   235,   840,   666,   258, 17233,   419,    32,\n",
              "        17234,   585,   420,   840,    25,    40,    13,    14,   198,\n",
              "          266,   623,   173,   179,  4103,   216,    25,   616, 14185,\n",
              "          186,    35, 16250,   120])>,\n",
              " <tf.Tensor: shape=(), dtype=int64, numpy=0>)"
            ]
          },
          "metadata": {},
          "execution_count": 22
        }
      ],
      "source": [
        "ds_train = ds_raw_train.map(encode_map_fn)\n",
        "ds_valid = ds_raw_valid.map(encode_map_fn)\n",
        "ds_test = ds_raw_test.map(encode_map_fn)\n",
        "\n",
        "tf.random.set_seed(1)\n",
        "for example in ds_train.shuffle(1000).take(5):\n",
        "    print('시퀀스 길이:', example[0].shape)\n",
        "    \n",
        "example"
      ]
    },
    {
      "cell_type": "markdown",
      "metadata": {
        "id": "JoiIum3jt3ha"
      },
      "source": [
        " * **batch() 대 padded_batch()**"
      ]
    },
    {
      "cell_type": "markdown",
      "metadata": {
        "id": "YdUNeW8rt3ha"
      },
      "source": [
        "```python\n",
        "\n",
        "# 에러 발생\n",
        "BATCH_SIZE = 32\n",
        "train_data = all_encoded_data.batch(BATCH_SIZE)\n",
        "\n",
        "next(iter(train_data))\n",
        "\n",
        "# 이 코드는 에러를 발생시킵니다\n",
        "# 이 데이터셋에는 .batch()를 적용할 수 없습니다\n",
        "```"
      ]
    },
    {
      "cell_type": "code",
      "execution_count": 23,
      "metadata": {
        "colab": {
          "base_uri": "https://localhost:8080/"
        },
        "execution": {
          "iopub.execute_input": "2020-12-31T14:53:05.323061Z",
          "iopub.status.busy": "2020-12-31T14:53:05.322063Z",
          "iopub.status.idle": "2020-12-31T14:53:05.568975Z",
          "shell.execute_reply": "2020-12-31T14:53:05.568087Z"
        },
        "id": "tXrml4TEt3ha",
        "outputId": "117987d3-a0e7-4beb-fa4c-30fa70e19d4e"
      },
      "outputs": [
        {
          "output_type": "stream",
          "name": "stdout",
          "text": [
            "개별 샘플 크기: (119,)\n",
            "개별 샘플 크기: (688,)\n",
            "개별 샘플 크기: (308,)\n",
            "개별 샘플 크기: (204,)\n",
            "개별 샘플 크기: (326,)\n",
            "개별 샘플 크기: (240,)\n",
            "개별 샘플 크기: (127,)\n",
            "개별 샘플 크기: (453,)\n",
            "배치 차원: (4, 688)\n",
            "배치 차원: (4, 453)\n"
          ]
        }
      ],
      "source": [
        "## 일부 데이터 추출하기\n",
        "ds_subset = ds_train.take(8)\n",
        "for example in ds_subset:\n",
        "    print('개별 샘플 크기:', example[0].shape)\n",
        "\n",
        "## 배치 데이터 만들기\n",
        "ds_batched = ds_subset.padded_batch(\n",
        "    4, padded_shapes=([-1], []))\n",
        "\n",
        "for batch in ds_batched:\n",
        "    print('배치 차원:', batch[0].shape)"
      ]
    },
    {
      "cell_type": "code",
      "execution_count": 24,
      "metadata": {
        "execution": {
          "iopub.execute_input": "2020-12-31T14:53:05.575398Z",
          "iopub.status.busy": "2020-12-31T14:53:05.574415Z",
          "iopub.status.idle": "2020-12-31T14:53:05.579834Z",
          "shell.execute_reply": "2020-12-31T14:53:05.579134Z"
        },
        "id": "a2A9ol3Jt3hb"
      },
      "outputs": [],
      "source": [
        "## 배치 데이터 만들기\n",
        "train_data = ds_train.padded_batch(\n",
        "    32, padded_shapes=([-1],[]))\n",
        "\n",
        "valid_data = ds_valid.padded_batch(\n",
        "    32, padded_shapes=([-1],[]))\n",
        "\n",
        "test_data = ds_test.padded_batch(\n",
        "    32, padded_shapes=([-1],[]))"
      ]
    },
    {
      "cell_type": "markdown",
      "metadata": {
        "id": "qUybBb3zt3hb"
      },
      "source": [
        "### 문장 인코딩을 위한 임베딩 층\n",
        "\n",
        " * `input_dim`: 단어 개수, 즉 최대 정수 인덱스 + 1.\n",
        " * `output_dim`: \n",
        " * `input_length`: (패딩된) 시퀀스 길이\n",
        "    * 예를 들어, `'This is an example' -> [0, 0, 0, 0, 0, 0, 3, 1, 8, 9]`   \n",
        "    => input_lenght는 10\n",
        "\n",
        " * 이 층을 호출할 때 입력으로 정수값을 받습니다. 임베딩 층이 정수를 `[output_dim]` 크기의 실수 벡터로 변환합니다\n",
        "   * 입력 크기가 `[BATCH_SIZE]`이면 출력 크기는 `[BATCH_SIZE, output_dim]`가 됩니다\n",
        "   * 입력 크기가 `[BATCH_SIZE, 10]`이면 출력 크기는 `[BATCH_SIZE, 10, output_dim]`가 됩니다"
      ]
    },
    {
      "cell_type": "code",
      "execution_count": 25,
      "metadata": {
        "colab": {
          "base_uri": "https://localhost:8080/",
          "height": 579
        },
        "execution": {
          "iopub.execute_input": "2020-12-31T14:53:05.584719Z",
          "iopub.status.busy": "2020-12-31T14:53:05.584041Z",
          "iopub.status.idle": "2020-12-31T14:53:05.593015Z",
          "shell.execute_reply": "2020-12-31T14:53:05.592348Z"
        },
        "id": "8i2mrfBWt3hb",
        "outputId": "20bfa326-1638-4705-80b5-61f0dbb2d797"
      },
      "outputs": [
        {
          "output_type": "execute_result",
          "data": {
            "text/plain": [
              "<IPython.core.display.Image object>"
            ],
            "text/html": [
              "<img src=\"https://git.io/JLdV0\" width=\"700\"/>"
            ]
          },
          "metadata": {},
          "execution_count": 25
        }
      ],
      "source": [
        "Image(url='https://git.io/JLdV0', width=700)"
      ]
    },
    {
      "cell_type": "code",
      "execution_count": 26,
      "metadata": {
        "colab": {
          "base_uri": "https://localhost:8080/"
        },
        "execution": {
          "iopub.execute_input": "2020-12-31T14:53:05.601333Z",
          "iopub.status.busy": "2020-12-31T14:53:05.600692Z",
          "iopub.status.idle": "2020-12-31T14:53:05.618008Z",
          "shell.execute_reply": "2020-12-31T14:53:05.617346Z"
        },
        "id": "esPfmEMMt3hb",
        "outputId": "c0b7ec21-0f95-4c3c-dad7-5d1f016285a8"
      },
      "outputs": [
        {
          "output_type": "stream",
          "name": "stdout",
          "text": [
            "Model: \"sequential\"\n",
            "_________________________________________________________________\n",
            " Layer (type)                Output Shape              Param #   \n",
            "=================================================================\n",
            " embed-layer (Embedding)     (None, 20, 6)             600       \n",
            "                                                                 \n",
            "=================================================================\n",
            "Total params: 600\n",
            "Trainable params: 600\n",
            "Non-trainable params: 0\n",
            "_________________________________________________________________\n"
          ]
        }
      ],
      "source": [
        "from tensorflow.keras.layers import Embedding\n",
        "\n",
        "\n",
        "model = tf.keras.Sequential()\n",
        "\n",
        "model.add(Embedding(input_dim=100,\n",
        "                    output_dim=6,\n",
        "                    input_length=20,\n",
        "                    name='embed-layer'))\n",
        "\n",
        "model.summary()"
      ]
    },
    {
      "cell_type": "markdown",
      "metadata": {
        "id": "rqwKaKkqt3hb"
      },
      "source": [
        "### RNN 모델 만들기\n",
        "\n",
        "* **케라스 RNN 층:**\n",
        "  * `tf.keras.layers.SimpleRNN(units, return_sequences=False)`\n",
        "  * `tf.keras.layers.LSTM(..)`\n",
        "  * `tf.keras.layers.GRU(..)`\n",
        "  * `tf.keras.layers.Bidirectional()`\n",
        " \n",
        "* **`return_sequenes=?` 결정하기**\n",
        "  * 다층 RNN이면 마지막 층을 제외하고 모든 RNN 층을 `return_sequenes=True`로 지정합니다\n",
        "  * 마지막 RNN 층은 문제의 종류에 따라 결정됩니다:\n",
        "     * 다대다: -> `return_sequences=True`\n",
        "     * 다대일: -> `return_sequenes=False`"
      ]
    },
    {
      "cell_type": "code",
      "execution_count": 27,
      "metadata": {
        "colab": {
          "base_uri": "https://localhost:8080/"
        },
        "execution": {
          "iopub.execute_input": "2020-12-31T14:53:05.626167Z",
          "iopub.status.busy": "2020-12-31T14:53:05.625414Z",
          "iopub.status.idle": "2020-12-31T14:53:05.706279Z",
          "shell.execute_reply": "2020-12-31T14:53:05.707065Z"
        },
        "id": "oy4iAXCHt3hc",
        "outputId": "cd64090e-040d-4b56-a94d-6a1836aacf88"
      },
      "outputs": [
        {
          "output_type": "stream",
          "name": "stdout",
          "text": [
            "Model: \"sequential_1\"\n",
            "_________________________________________________________________\n",
            " Layer (type)                Output Shape              Param #   \n",
            "=================================================================\n",
            " embedding (Embedding)       (None, None, 32)          32000     \n",
            "                                                                 \n",
            " simple_rnn_1 (SimpleRNN)    (None, None, 32)          2080      \n",
            "                                                                 \n",
            " simple_rnn_2 (SimpleRNN)    (None, 32)                2080      \n",
            "                                                                 \n",
            " dense (Dense)               (None, 1)                 33        \n",
            "                                                                 \n",
            "=================================================================\n",
            "Total params: 36,193\n",
            "Trainable params: 36,193\n",
            "Non-trainable params: 0\n",
            "_________________________________________________________________\n"
          ]
        }
      ],
      "source": [
        "## SimpleRNN 층으로 RNN 모델 만들기\n",
        "from tensorflow.keras import Sequential\n",
        "from tensorflow.keras.layers import Embedding\n",
        "from tensorflow.keras.layers import SimpleRNN\n",
        "from tensorflow.keras.layers import Dense\n",
        "\n",
        "model = Sequential()\n",
        "model.add(Embedding(1000, 32))\n",
        "model.add(SimpleRNN(32, return_sequences=True))\n",
        "model.add(SimpleRNN(32))\n",
        "model.add(Dense(1))\n",
        "model.summary()"
      ]
    },
    {
      "cell_type": "code",
      "execution_count": 28,
      "metadata": {
        "colab": {
          "base_uri": "https://localhost:8080/"
        },
        "execution": {
          "iopub.execute_input": "2020-12-31T14:53:05.715529Z",
          "iopub.status.busy": "2020-12-31T14:53:05.714882Z",
          "iopub.status.idle": "2020-12-31T14:53:06.010097Z",
          "shell.execute_reply": "2020-12-31T14:53:06.009262Z"
        },
        "id": "hP_dd6GUt3hc",
        "outputId": "95fbbf50-e2fc-4db3-fc0d-8d071771834a"
      },
      "outputs": [
        {
          "output_type": "stream",
          "name": "stdout",
          "text": [
            "Model: \"sequential_2\"\n",
            "_________________________________________________________________\n",
            " Layer (type)                Output Shape              Param #   \n",
            "=================================================================\n",
            " embedding_1 (Embedding)     (None, None, 32)          320000    \n",
            "                                                                 \n",
            " lstm (LSTM)                 (None, None, 32)          8320      \n",
            "                                                                 \n",
            " lstm_1 (LSTM)               (None, 32)                8320      \n",
            "                                                                 \n",
            " dense_1 (Dense)             (None, 1)                 33        \n",
            "                                                                 \n",
            "=================================================================\n",
            "Total params: 336,673\n",
            "Trainable params: 336,673\n",
            "Non-trainable params: 0\n",
            "_________________________________________________________________\n"
          ]
        }
      ],
      "source": [
        "## LSTM 층으로 RNN 모델 만들기\n",
        "from tensorflow.keras.layers import LSTM\n",
        "\n",
        "\n",
        "model = Sequential()\n",
        "model.add(Embedding(10000, 32))\n",
        "model.add(LSTM(32, return_sequences=True))\n",
        "model.add(LSTM(32))\n",
        "model.add(Dense(1))\n",
        "model.summary()"
      ]
    },
    {
      "cell_type": "code",
      "execution_count": 29,
      "metadata": {
        "colab": {
          "base_uri": "https://localhost:8080/"
        },
        "execution": {
          "iopub.execute_input": "2020-12-31T14:53:06.020415Z",
          "iopub.status.busy": "2020-12-31T14:53:06.018360Z",
          "iopub.status.idle": "2020-12-31T14:53:06.272493Z",
          "shell.execute_reply": "2020-12-31T14:53:06.271598Z"
        },
        "id": "6UQfBf4yt3hc",
        "outputId": "bcc1dd6e-ca3d-4cf9-caf1-724ad0b58701"
      },
      "outputs": [
        {
          "output_type": "stream",
          "name": "stdout",
          "text": [
            "Model: \"sequential_3\"\n",
            "_________________________________________________________________\n",
            " Layer (type)                Output Shape              Param #   \n",
            "=================================================================\n",
            " embedding_2 (Embedding)     (None, None, 32)          320000    \n",
            "                                                                 \n",
            " gru (GRU)                   (None, None, 32)          6336      \n",
            "                                                                 \n",
            " gru_1 (GRU)                 (None, 32)                6336      \n",
            "                                                                 \n",
            " dense_2 (Dense)             (None, 1)                 33        \n",
            "                                                                 \n",
            "=================================================================\n",
            "Total params: 332,705\n",
            "Trainable params: 332,705\n",
            "Non-trainable params: 0\n",
            "_________________________________________________________________\n"
          ]
        }
      ],
      "source": [
        "## GRU 층으로 RNN 모델 만들기\n",
        "from tensorflow.keras.layers import GRU\n",
        "\n",
        "model = Sequential()\n",
        "model.add(Embedding(10000, 32))\n",
        "model.add(GRU(32, return_sequences=True))\n",
        "model.add(GRU(32))\n",
        "model.add(Dense(1))\n",
        "model.summary()"
      ]
    },
    {
      "cell_type": "markdown",
      "metadata": {
        "id": "TFSW6uDst3hc"
      },
      "source": [
        "### 감성 분석 작업을 위한 RNN 모델 만들기"
      ]
    },
    {
      "cell_type": "code",
      "execution_count": 30,
      "metadata": {
        "colab": {
          "base_uri": "https://localhost:8080/"
        },
        "execution": {
          "iopub.execute_input": "2020-12-31T14:53:06.298278Z",
          "iopub.status.busy": "2020-12-31T14:53:06.297321Z",
          "iopub.status.idle": "2020-12-31T15:31:18.726835Z",
          "shell.execute_reply": "2020-12-31T15:31:18.727434Z"
        },
        "id": "FszX7_Qft3hc",
        "outputId": "b3605da2-ea29-4371-a8e0-c578ff56e3dc"
      },
      "outputs": [
        {
          "output_type": "stream",
          "name": "stdout",
          "text": [
            "Model: \"sequential_4\"\n",
            "_________________________________________________________________\n",
            " Layer (type)                Output Shape              Param #   \n",
            "=================================================================\n",
            " embed-layer (Embedding)     (None, None, 20)          1740180   \n",
            "                                                                 \n",
            " bidir-lstm (Bidirectional)  (None, 128)               43520     \n",
            "                                                                 \n",
            " dense_3 (Dense)             (None, 64)                8256      \n",
            "                                                                 \n",
            " dense_4 (Dense)             (None, 1)                 65        \n",
            "                                                                 \n",
            "=================================================================\n",
            "Total params: 1,792,021\n",
            "Trainable params: 1,792,021\n",
            "Non-trainable params: 0\n",
            "_________________________________________________________________\n",
            "Epoch 1/10\n",
            "625/625 [==============================] - 61s 87ms/step - loss: 0.5293 - accuracy: 0.7207 - val_loss: 0.6860 - val_accuracy: 0.4934\n",
            "Epoch 2/10\n",
            "625/625 [==============================] - 55s 88ms/step - loss: 0.4040 - accuracy: 0.8153 - val_loss: 0.4930 - val_accuracy: 0.7690\n",
            "Epoch 3/10\n",
            "625/625 [==============================] - 54s 86ms/step - loss: 0.2106 - accuracy: 0.9211 - val_loss: 0.3817 - val_accuracy: 0.8334\n",
            "Epoch 4/10\n",
            "625/625 [==============================] - 56s 89ms/step - loss: 0.1030 - accuracy: 0.9667 - val_loss: 0.4386 - val_accuracy: 0.8478\n",
            "Epoch 5/10\n",
            "625/625 [==============================] - 56s 89ms/step - loss: 0.0616 - accuracy: 0.9810 - val_loss: 0.6158 - val_accuracy: 0.8348\n",
            "Epoch 6/10\n",
            "625/625 [==============================] - 56s 90ms/step - loss: 0.0595 - accuracy: 0.9802 - val_loss: 0.5687 - val_accuracy: 0.8264\n",
            "Epoch 7/10\n",
            "625/625 [==============================] - 55s 88ms/step - loss: 0.0438 - accuracy: 0.9858 - val_loss: 0.6665 - val_accuracy: 0.8424\n",
            "Epoch 8/10\n",
            "625/625 [==============================] - 55s 88ms/step - loss: 0.0343 - accuracy: 0.9894 - val_loss: 0.7227 - val_accuracy: 0.8468\n",
            "Epoch 9/10\n",
            "625/625 [==============================] - 55s 88ms/step - loss: 0.0243 - accuracy: 0.9930 - val_loss: 0.7135 - val_accuracy: 0.8246\n",
            "Epoch 10/10\n",
            "625/625 [==============================] - 54s 86ms/step - loss: 0.0509 - accuracy: 0.9840 - val_loss: 0.8151 - val_accuracy: 0.8172\n",
            "782/782 [==============================] - 40s 51ms/step - loss: 0.7716 - accuracy: 0.8254\n",
            "테스트 정확도: 82.54%\n"
          ]
        }
      ],
      "source": [
        "embedding_dim = 20\n",
        "vocab_size = len(token_counts) + 2\n",
        "\n",
        "tf.random.set_seed(1)\n",
        "\n",
        "## 모델 생성\n",
        "bi_lstm_model = tf.keras.Sequential([\n",
        "    tf.keras.layers.Embedding(\n",
        "        input_dim=vocab_size,\n",
        "        output_dim=embedding_dim,\n",
        "        name='embed-layer'),\n",
        "    \n",
        "    tf.keras.layers.Bidirectional(\n",
        "        tf.keras.layers.LSTM(64, name='lstm-layer'),\n",
        "        name='bidir-lstm'), \n",
        "\n",
        "    tf.keras.layers.Dense(64, activation='relu'),\n",
        "    \n",
        "    tf.keras.layers.Dense(1, activation='sigmoid')\n",
        "])\n",
        "\n",
        "bi_lstm_model.summary()\n",
        "\n",
        "## 컴파일과 훈련:\n",
        "bi_lstm_model.compile(\n",
        "    optimizer=tf.keras.optimizers.Adam(1e-3),\n",
        "    loss=tf.keras.losses.BinaryCrossentropy(from_logits=False),\n",
        "    metrics=['accuracy'])\n",
        "\n",
        "history = bi_lstm_model.fit(\n",
        "    train_data, \n",
        "    validation_data=valid_data, \n",
        "    epochs=10)\n",
        "\n",
        "## 테스트 데이터에서 평가\n",
        "test_results= bi_lstm_model.evaluate(test_data)\n",
        "print('테스트 정확도: {:.2f}%'.format(test_results[1]*100))"
      ]
    },
    {
      "cell_type": "code",
      "execution_count": 31,
      "metadata": {
        "execution": {
          "iopub.execute_input": "2020-12-31T15:31:18.733388Z",
          "iopub.status.busy": "2020-12-31T15:31:18.732717Z",
          "iopub.status.idle": "2020-12-31T15:31:19.095760Z",
          "shell.execute_reply": "2020-12-31T15:31:19.096539Z"
        },
        "id": "yAYzzBm2t3hd"
      },
      "outputs": [],
      "source": [
        "if not os.path.exists('models'):\n",
        "    os.mkdir('models')\n",
        "\n",
        "\n",
        "bi_lstm_model.save('models/Bidir-LSTM-full-length-seq.h5')"
      ]
    },
    {
      "cell_type": "markdown",
      "metadata": {
        "id": "bOGhajp5t3hd"
      },
      "source": [
        " * **짧은 시퀀스에 SimpleRNN 적용하기**"
      ]
    },
    {
      "cell_type": "code",
      "execution_count": 32,
      "metadata": {
        "execution": {
          "iopub.execute_input": "2020-12-31T15:31:19.114411Z",
          "iopub.status.busy": "2020-12-31T15:31:19.113501Z",
          "iopub.status.idle": "2020-12-31T15:31:19.116108Z",
          "shell.execute_reply": "2020-12-31T15:31:19.115368Z"
        },
        "id": "TDbCSxpIt3hd"
      },
      "outputs": [],
      "source": [
        "def preprocess_datasets(\n",
        "    ds_raw_train, \n",
        "    ds_raw_valid, \n",
        "    ds_raw_test,\n",
        "    max_seq_length=None,\n",
        "    batch_size=32):\n",
        "    \n",
        "    ## 단계 1: (데이터셋 만들기 이미 완료)\n",
        "    ## 단계 2: 고유 토큰 찾기\n",
        "    try:\n",
        "        tokenizer = tfds.features.text.Tokenizer()\n",
        "    except AttributeError:\n",
        "        tokenizer = tfds.deprecated.text.Tokenizer()\n",
        "\n",
        "    token_counts = Counter()\n",
        "\n",
        "    for example in ds_raw_train:\n",
        "        tokens = tokenizer.tokenize(example[0].numpy()[0])\n",
        "        if max_seq_length is not None:\n",
        "            tokens = tokens[-max_seq_length:]\n",
        "        token_counts.update(tokens)\n",
        "\n",
        "    print('어휘 사전 크기:', len(token_counts))\n",
        "\n",
        "\n",
        "    ## 단계 3: 텍스트 인코딩하기\n",
        "    try:\n",
        "        encoder = tfds.features.text.TokenTextEncoder(token_counts)\n",
        "    except AttributeError:\n",
        "        encoder = tfds.deprecated.text.TokenTextEncoder(token_counts)\n",
        "\n",
        "    def encode(text_tensor, label):\n",
        "        text = text_tensor.numpy()[0]\n",
        "        encoded_text = encoder.encode(text)\n",
        "        if max_seq_length is not None:\n",
        "            encoded_text = encoded_text[-max_seq_length:]\n",
        "        return encoded_text, label\n",
        "\n",
        "    def encode_map_fn(text, label):\n",
        "        return tf.py_function(encode, inp=[text, label], \n",
        "                              Tout=(tf.int64, tf.int64))\n",
        "\n",
        "    ds_train = ds_raw_train.map(encode_map_fn)\n",
        "    ds_valid = ds_raw_valid.map(encode_map_fn)\n",
        "    ds_test = ds_raw_test.map(encode_map_fn)\n",
        "\n",
        "    ## 단계 4: 배치 데이터 만들기\n",
        "    train_data = ds_train.padded_batch(\n",
        "        batch_size, padded_shapes=([-1],[]))\n",
        "\n",
        "    valid_data = ds_valid.padded_batch(\n",
        "        batch_size, padded_shapes=([-1],[]))\n",
        "\n",
        "    test_data = ds_test.padded_batch(\n",
        "        batch_size, padded_shapes=([-1],[]))\n",
        "\n",
        "    return (train_data, valid_data, \n",
        "            test_data, len(token_counts))"
      ]
    },
    {
      "cell_type": "code",
      "execution_count": 33,
      "metadata": {
        "execution": {
          "iopub.execute_input": "2020-12-31T15:31:19.128046Z",
          "iopub.status.busy": "2020-12-31T15:31:19.127068Z",
          "iopub.status.idle": "2020-12-31T15:31:19.129259Z",
          "shell.execute_reply": "2020-12-31T15:31:19.129831Z"
        },
        "id": "JVuxsNTRt3hd"
      },
      "outputs": [],
      "source": [
        "def build_rnn_model(embedding_dim, vocab_size,\n",
        "                    recurrent_type='SimpleRNN',\n",
        "                    n_recurrent_units=64,\n",
        "                    n_recurrent_layers=1,\n",
        "                    bidirectional=True):\n",
        "\n",
        "    tf.random.set_seed(1)\n",
        "\n",
        "    # 모델 생성\n",
        "    model = tf.keras.Sequential()\n",
        "    \n",
        "    model.add(\n",
        "        Embedding(\n",
        "            input_dim=vocab_size,\n",
        "            output_dim=embedding_dim,\n",
        "            name='embed-layer')\n",
        "    )\n",
        "    \n",
        "    for i in range(n_recurrent_layers):\n",
        "        return_sequences = (i < n_recurrent_layers-1)\n",
        "            \n",
        "        if recurrent_type == 'SimpleRNN':\n",
        "            recurrent_layer = SimpleRNN(\n",
        "                units=n_recurrent_units, \n",
        "                return_sequences=return_sequences,\n",
        "                name='simprnn-layer-{}'.format(i))\n",
        "        elif recurrent_type == 'LSTM':\n",
        "            recurrent_layer = LSTM(\n",
        "                units=n_recurrent_units, \n",
        "                return_sequences=return_sequences,\n",
        "                name='lstm-layer-{}'.format(i))\n",
        "        elif recurrent_type == 'GRU':\n",
        "            recurrent_layer = GRU(\n",
        "                units=n_recurrent_units, \n",
        "                return_sequences=return_sequences,\n",
        "                name='gru-layer-{}'.format(i))\n",
        "        \n",
        "        if bidirectional:\n",
        "            recurrent_layer = Bidirectional(\n",
        "                recurrent_layer, name='bidir-'+recurrent_layer.name)\n",
        "            \n",
        "        model.add(recurrent_layer)\n",
        "\n",
        "    model.add(tf.keras.layers.Dense(64, activation='relu'))\n",
        "    model.add(tf.keras.layers.Dense(1, activation='sigmoid'))\n",
        "    \n",
        "    return model"
      ]
    },
    {
      "cell_type": "code",
      "execution_count": 34,
      "metadata": {
        "colab": {
          "base_uri": "https://localhost:8080/"
        },
        "execution": {
          "iopub.execute_input": "2020-12-31T15:31:19.135494Z",
          "iopub.status.busy": "2020-12-31T15:31:19.134630Z",
          "iopub.status.idle": "2020-12-31T15:31:23.127554Z",
          "shell.execute_reply": "2020-12-31T15:31:23.127922Z"
        },
        "id": "WaDu41Pht3hd",
        "outputId": "3504dbee-2fcf-44a2-c32e-cb960a3a5063"
      },
      "outputs": [
        {
          "output_type": "stream",
          "name": "stdout",
          "text": [
            "어휘 사전 크기: 58063\n",
            "Model: \"sequential_5\"\n",
            "_________________________________________________________________\n",
            " Layer (type)                Output Shape              Param #   \n",
            "=================================================================\n",
            " embed-layer (Embedding)     (None, None, 20)          1161300   \n",
            "                                                                 \n",
            " bidir-simprnn-layer-0 (Bidi  (None, 128)              10880     \n",
            " rectional)                                                      \n",
            "                                                                 \n",
            " dense_5 (Dense)             (None, 64)                8256      \n",
            "                                                                 \n",
            " dense_6 (Dense)             (None, 1)                 65        \n",
            "                                                                 \n",
            "=================================================================\n",
            "Total params: 1,180,501\n",
            "Trainable params: 1,180,501\n",
            "Non-trainable params: 0\n",
            "_________________________________________________________________\n"
          ]
        }
      ],
      "source": [
        "from tensorflow.keras.layers import Bidirectional\n",
        "\n",
        "\n",
        "batch_size = 32\n",
        "embedding_dim = 20\n",
        "max_seq_length = 100\n",
        "\n",
        "train_data, valid_data, test_data, n = preprocess_datasets(\n",
        "    ds_raw_train, ds_raw_valid, ds_raw_test, \n",
        "    max_seq_length=max_seq_length, \n",
        "    batch_size=batch_size\n",
        ")\n",
        "\n",
        "\n",
        "vocab_size = n + 2\n",
        "\n",
        "rnn_model = build_rnn_model(\n",
        "    embedding_dim, vocab_size,\n",
        "    recurrent_type='SimpleRNN', \n",
        "    n_recurrent_units=64,\n",
        "    n_recurrent_layers=1,\n",
        "    bidirectional=True)\n",
        "\n",
        "rnn_model.summary()"
      ]
    },
    {
      "cell_type": "code",
      "execution_count": 35,
      "metadata": {
        "colab": {
          "base_uri": "https://localhost:8080/"
        },
        "execution": {
          "iopub.execute_input": "2020-12-31T15:31:23.140595Z",
          "iopub.status.busy": "2020-12-31T15:31:23.140192Z",
          "iopub.status.idle": "2020-12-31T15:37:30.416144Z",
          "shell.execute_reply": "2020-12-31T15:37:30.416906Z"
        },
        "id": "Q43zdoSVt3hd",
        "outputId": "59db5641-7360-4e4c-936d-a1cd4b42ec69"
      },
      "outputs": [
        {
          "output_type": "stream",
          "name": "stdout",
          "text": [
            "Epoch 1/10\n",
            "625/625 [==============================] - 127s 200ms/step - loss: 0.7068 - accuracy: 0.5026 - val_loss: 0.6915 - val_accuracy: 0.5324\n",
            "Epoch 2/10\n",
            "625/625 [==============================] - 125s 200ms/step - loss: 0.6626 - accuracy: 0.5821 - val_loss: 0.5193 - val_accuracy: 0.7466\n",
            "Epoch 3/10\n",
            "625/625 [==============================] - 124s 198ms/step - loss: 0.4420 - accuracy: 0.7896 - val_loss: 0.6213 - val_accuracy: 0.7462\n",
            "Epoch 4/10\n",
            "625/625 [==============================] - 124s 198ms/step - loss: 0.2591 - accuracy: 0.8964 - val_loss: 0.5947 - val_accuracy: 0.7856\n",
            "Epoch 5/10\n",
            "625/625 [==============================] - 124s 198ms/step - loss: 0.1576 - accuracy: 0.9452 - val_loss: 0.6662 - val_accuracy: 0.7824\n",
            "Epoch 6/10\n",
            "625/625 [==============================] - 123s 197ms/step - loss: 0.1038 - accuracy: 0.9668 - val_loss: 0.8107 - val_accuracy: 0.7580\n",
            "Epoch 7/10\n",
            "625/625 [==============================] - 124s 198ms/step - loss: 0.1276 - accuracy: 0.9547 - val_loss: 0.7349 - val_accuracy: 0.7700\n",
            "Epoch 8/10\n",
            "625/625 [==============================] - 123s 197ms/step - loss: 0.0847 - accuracy: 0.9719 - val_loss: 0.7899 - val_accuracy: 0.7650\n",
            "Epoch 9/10\n",
            "625/625 [==============================] - 123s 197ms/step - loss: 0.1474 - accuracy: 0.9411 - val_loss: 0.8724 - val_accuracy: 0.6708\n",
            "Epoch 10/10\n",
            "625/625 [==============================] - 123s 197ms/step - loss: 0.0513 - accuracy: 0.9826 - val_loss: 0.7157 - val_accuracy: 0.7778\n"
          ]
        }
      ],
      "source": [
        "rnn_model.compile(optimizer=tf.keras.optimizers.Adam(1e-3),\n",
        "                  loss=tf.keras.losses.BinaryCrossentropy(from_logits=False),\n",
        "                  metrics=['accuracy'])\n",
        "\n",
        "\n",
        "history = rnn_model.fit(\n",
        "    train_data, \n",
        "    validation_data=valid_data, \n",
        "    epochs=10)"
      ]
    },
    {
      "cell_type": "code",
      "execution_count": 36,
      "metadata": {
        "colab": {
          "base_uri": "https://localhost:8080/"
        },
        "execution": {
          "iopub.execute_input": "2020-12-31T15:37:30.422212Z",
          "iopub.status.busy": "2020-12-31T15:37:30.421332Z",
          "iopub.status.idle": "2020-12-31T15:37:51.102354Z",
          "shell.execute_reply": "2020-12-31T15:37:51.102953Z"
        },
        "id": "WaiatV_It3he",
        "outputId": "740d3696-a251-499f-8872-c4936d3b2683"
      },
      "outputs": [
        {
          "output_type": "stream",
          "name": "stdout",
          "text": [
            "782/782 [==============================] - 32s 41ms/step - loss: 0.7085 - accuracy: 0.7823\n"
          ]
        }
      ],
      "source": [
        "results = rnn_model.evaluate(test_data)"
      ]
    },
    {
      "cell_type": "code",
      "execution_count": 37,
      "metadata": {
        "colab": {
          "base_uri": "https://localhost:8080/"
        },
        "execution": {
          "iopub.execute_input": "2020-12-31T15:37:51.108896Z",
          "iopub.status.busy": "2020-12-31T15:37:51.108181Z",
          "iopub.status.idle": "2020-12-31T15:37:51.112037Z",
          "shell.execute_reply": "2020-12-31T15:37:51.111337Z"
        },
        "id": "x6QyEwQSt3he",
        "outputId": "40c917b7-ce19-46a5-ea44-affb93fdd184"
      },
      "outputs": [
        {
          "output_type": "stream",
          "name": "stdout",
          "text": [
            "테스트 정확도: 78.23%\n"
          ]
        }
      ],
      "source": [
        "print('테스트 정확도: {:.2f}%'.format(results[1]*100))"
      ]
    },
    {
      "cell_type": "markdown",
      "metadata": {
        "id": "KjPp6Koit3he"
      },
      "source": [
        "## 연습문제: \n",
        "\n",
        "### 전체 길이를 사용한 시퀀스에 단방향 SimpleRNN 적용하기"
      ]
    },
    {
      "cell_type": "code",
      "execution_count": 38,
      "metadata": {
        "colab": {
          "base_uri": "https://localhost:8080/"
        },
        "execution": {
          "iopub.execute_input": "2020-12-31T15:37:51.118653Z",
          "iopub.status.busy": "2020-12-31T15:37:51.118013Z",
          "iopub.status.idle": "2020-12-31T15:37:55.390222Z",
          "shell.execute_reply": "2020-12-31T15:37:55.389585Z"
        },
        "id": "VDMMjV1xt3he",
        "outputId": "69efdc3a-4206-4dfa-98a3-f0ff34d4fbf2"
      },
      "outputs": [
        {
          "output_type": "stream",
          "name": "stdout",
          "text": [
            "어휘 사전 크기: 87007\n",
            "Model: \"sequential_6\"\n",
            "_________________________________________________________________\n",
            " Layer (type)                Output Shape              Param #   \n",
            "=================================================================\n",
            " embed-layer (Embedding)     (None, None, 20)          1740180   \n",
            "                                                                 \n",
            " simprnn-layer-0 (SimpleRNN)  (None, 64)               5440      \n",
            "                                                                 \n",
            " dense_7 (Dense)             (None, 64)                4160      \n",
            "                                                                 \n",
            " dense_8 (Dense)             (None, 1)                 65        \n",
            "                                                                 \n",
            "=================================================================\n",
            "Total params: 1,749,845\n",
            "Trainable params: 1,749,845\n",
            "Non-trainable params: 0\n",
            "_________________________________________________________________\n"
          ]
        }
      ],
      "source": [
        "batch_size = 32\n",
        "embedding_dim = 20\n",
        "max_seq_length = None\n",
        "\n",
        "train_data, valid_data, test_data, n = preprocess_datasets(\n",
        "    ds_raw_train, ds_raw_valid, ds_raw_test, \n",
        "    max_seq_length=max_seq_length, \n",
        "    batch_size=batch_size\n",
        ")\n",
        "\n",
        "\n",
        "vocab_size = n + 2\n",
        "\n",
        "rnn_model = build_rnn_model(\n",
        "    embedding_dim, vocab_size,\n",
        "    recurrent_type='SimpleRNN', \n",
        "    n_recurrent_units=64,\n",
        "    n_recurrent_layers=1,\n",
        "    bidirectional=False)\n",
        "\n",
        "rnn_model.summary()"
      ]
    },
    {
      "cell_type": "code",
      "execution_count": 39,
      "metadata": {
        "colab": {
          "base_uri": "https://localhost:8080/"
        },
        "execution": {
          "iopub.execute_input": "2020-12-31T15:37:55.402376Z",
          "iopub.status.busy": "2020-12-31T15:37:55.401627Z",
          "iopub.status.idle": "2020-12-31T15:59:01.339172Z",
          "shell.execute_reply": "2020-12-31T15:59:01.338258Z"
        },
        "id": "eR8OJjstt3he",
        "outputId": "8167906b-c040-4dfb-e0a8-b7bda8f40a0b"
      },
      "outputs": [
        {
          "output_type": "stream",
          "name": "stdout",
          "text": [
            "Epoch 1/10\n",
            "625/625 [==============================] - 471s 751ms/step - loss: 0.6972 - accuracy: 0.5056 - val_loss: 0.6957 - val_accuracy: 0.5024\n",
            "Epoch 2/10\n",
            "625/625 [==============================] - 469s 750ms/step - loss: 0.6958 - accuracy: 0.5052 - val_loss: 0.6934 - val_accuracy: 0.5082\n",
            "Epoch 3/10\n",
            "625/625 [==============================] - 469s 750ms/step - loss: 0.6957 - accuracy: 0.5023 - val_loss: 0.6946 - val_accuracy: 0.5002\n",
            "Epoch 4/10\n",
            "625/625 [==============================] - 470s 751ms/step - loss: 0.6964 - accuracy: 0.5042 - val_loss: 0.6933 - val_accuracy: 0.5010\n",
            "Epoch 5/10\n",
            "625/625 [==============================] - 464s 742ms/step - loss: 0.6945 - accuracy: 0.5029 - val_loss: 0.6929 - val_accuracy: 0.5128\n",
            "Epoch 6/10\n",
            "625/625 [==============================] - 468s 748ms/step - loss: 0.6941 - accuracy: 0.5003 - val_loss: 0.6929 - val_accuracy: 0.5128\n",
            "Epoch 7/10\n",
            "625/625 [==============================] - 470s 752ms/step - loss: 0.6936 - accuracy: 0.5064 - val_loss: 0.6931 - val_accuracy: 0.4994\n",
            "Epoch 8/10\n",
            "625/625 [==============================] - 466s 745ms/step - loss: 0.6933 - accuracy: 0.5085 - val_loss: 0.6928 - val_accuracy: 0.5142\n",
            "Epoch 9/10\n",
            "625/625 [==============================] - 466s 746ms/step - loss: 0.6935 - accuracy: 0.5070 - val_loss: 0.6927 - val_accuracy: 0.5130\n",
            "Epoch 10/10\n",
            "625/625 [==============================] - 466s 746ms/step - loss: 0.6930 - accuracy: 0.5088 - val_loss: 0.6927 - val_accuracy: 0.5110\n"
          ]
        }
      ],
      "source": [
        "rnn_model.compile(optimizer=tf.keras.optimizers.Adam(1e-3),\n",
        "                  loss=tf.keras.losses.BinaryCrossentropy(from_logits=False),\n",
        "                  metrics=['accuracy'])\n",
        "\n",
        "history = rnn_model.fit(\n",
        "    train_data, \n",
        "    validation_data=valid_data, \n",
        "    epochs=10)"
      ]
    },
    {
      "cell_type": "markdown",
      "metadata": {
        "id": "-P9l6HEHt3he"
      },
      "source": [
        "# 부록"
      ]
    },
    {
      "cell_type": "markdown",
      "metadata": {
        "id": "bAw6wJ0jt3hf"
      },
      "source": [
        "### A -- 데이터셋을 만드는 다른 방법: tensorflow_datasets 사용하기"
      ]
    },
    {
      "cell_type": "code",
      "execution_count": 40,
      "metadata": {
        "colab": {
          "base_uri": "https://localhost:8080/",
          "height": 909,
          "referenced_widgets": [
            "e008c1a05e324d02a75ac0bf69d97471",
            "fe4fb33a994a401ca9269835e5ca4bc8",
            "26afacb8c1b4402eb3cf26dad75e665f",
            "acd504f7e98a479c811862f373c3c273",
            "679a377b13444415aaf561f1c222d91d",
            "c2f6ad176ff3496d92317a2c42b4e253",
            "fc2542f11c0242eab9c161bf1ad233f6",
            "9b241988cce64763939f9adcc5cd46bd",
            "a415365718dc4723b50a7caef88672f3",
            "6376cd636ecd425a96495332b82824d0",
            "1ef7ba88fc8046e28f0f38e6173bb115",
            "0f9bc62752e148bfb06f3acaa8b3ab52",
            "2a805692ce8046fab6797f48be3fcef6",
            "deb46a03e1db45928b2473f9a8a09914",
            "0ca1907af4764965a847d715461e5c17",
            "b530d18c5a0845169498346aa06876b1",
            "613072ee56f74e25bca5d6b58e532837",
            "b9d65b380d4d418da707bd2dd494e8c7",
            "4dcadd07efa04461b501f20802c603a6",
            "2ae0399f15dc473da8edb12aeb71c7f0",
            "8d6e5e340bc9469ab6fd4a0274a0e016",
            "e38b96d004b44674a8062e9175f48eea",
            "42fb26e165f44dd983617387a83f7181",
            "11ab72996a004c98b868971ab893056a",
            "416c44d275504c848ab35529f626244d",
            "caeb2debb2b64d3a819927c9b0488dbc",
            "6d8495d22ed94565999c3afab804614a",
            "e7a3b76edcbd4350915e3a6e1584bb6f",
            "5df25196b13c4916a721c1e779fec786",
            "0b03acb5a9dc435595e53d1c5cec01f2",
            "4a0252eaa3cf489da3fbb2eac9cb4172",
            "476e83e350514d2e8db217af00e29aaa",
            "7d11e824e42c440b964fbaa367852bab",
            "39ef6316f84d41f19333c469691073bf",
            "01c04e6a009f4772a0dcaf7a172ccf2b",
            "4e5b19d04d334555949bd1430b1de87e",
            "751f91470b6d4186830ed7c2b0e54ade",
            "a19a7134db83465ebdcd8fcf3fbdb1df",
            "aba54552d41b4da99ce603fafa76d384",
            "684a179c21634331af0295db9e054921",
            "4184b4eed903452591addbd4600d0f14",
            "e05dab0465484e4c83aee6ca1ab1a5c9",
            "abc88585c62e4ebdaa9d115d51288bc4",
            "4d02b6344caa4c2eb4e6d07407dfc0ab",
            "dc06fe61c57245d795d0fbeb724ce345",
            "c1b675d02d664a9297a6d9bb64dc0f91",
            "1eb416bddb9342d4b7daddb1e4c26cdf",
            "9cadd57945704370a4f1dcafbbf6c7e9",
            "061dc0f4616b4881b9b50c03963693ef",
            "c61d89875c224ccebefb48603f7afc73",
            "ced0a386fd784d5db2858ec6288decff",
            "8f5318faa4444719a80dd757ac855eb8",
            "94b975e726de42ce92305b659eeb81d5",
            "4fc26e0fc7384556b04f69a4746afd30",
            "039ae163c6ad4f169eb52eaa14708a4c",
            "e548e97185eb42a5947345acf411d1a1",
            "5399eb2021174d2d9bf4de101d1af04b",
            "64739dd515644709b7b134ad28d32cab",
            "65fe067e4f7247658cce4bf68e8154f6",
            "bbd86d39522e46d8996bd4e56817d3eb",
            "1426fe5e5c0a4eaea54ea00e50983d43",
            "a42f89ca57f440b2b34b7fe874f6c60f",
            "cfc90c333ff54d38b198613b24eb712d",
            "22d1d36677f04983a25536ffca07837a",
            "9c46ec04c475453a80147b38421b9465",
            "1f86319c1ce84dca84f121039bb66cbe",
            "1cd8797ba3f14a3e99f8eda9a4ad214b",
            "db866f56d04842eca18f5cdb742d0f7d",
            "31ecde0de74d4921a7b5f9514bc16e81",
            "df0b9e9e1789408b91d566dcb52f2485",
            "463a58bcfb9c416ba5ae5c78e0dba09e",
            "5d43614b3eee496fb3d80fd2b9f3909c",
            "ac302a7c7cc8483ea8aa47271947d390",
            "9091c5b9de944c589358a4612b962777",
            "cfc3538d51c44cddb864bf8bfc8393fb",
            "5b55152daaa145bb81530093d73726cf",
            "ba9f299a8bab43efb1fece849266e612",
            "c328dfe863234c5e9007a143e2932ed3",
            "c37e17b8dd20404c955955a528a2c706",
            "6821280f6e4740b886680bfdc3082b35",
            "75362301f620415f85089a6e8adb450b",
            "e7e46c39a0834654932d7d93554624b1",
            "9f188d27f7c349c9b860345d9f469724",
            "bd1d1f84162044cca9a33eea22c2103a",
            "1baadefcd4f04d2da819a8c2813e8db5",
            "c5743ed2aad24a94bf06ec3c98ea06d3",
            "4a128db8b4514352b2e5e9a5a4dde263",
            "f253cbac80034d9c9d2915ffd35f4d39"
          ]
        },
        "execution": {
          "iopub.execute_input": "2020-12-31T15:59:01.345251Z",
          "iopub.status.busy": "2020-12-31T15:59:01.344304Z",
          "iopub.status.idle": "2020-12-31T16:00:03.995238Z",
          "shell.execute_reply": "2020-12-31T16:00:03.994443Z"
        },
        "id": "Bm4eEIM7t3hf",
        "outputId": "96397cbf-c75b-4eef-d33b-83cf104c92c7"
      },
      "outputs": [
        {
          "output_type": "stream",
          "name": "stdout",
          "text": [
            "tfds.core.DatasetInfo(\n",
            "    name='imdb_reviews',\n",
            "    version=1.0.0,\n",
            "    description='Large Movie Review Dataset.\n",
            "This is a dataset for binary sentiment classification containing substantially more data than previous benchmark datasets. We provide a set of 25,000 highly polar movie reviews for training, and 25,000 for testing. There is additional unlabeled data for use as well.',\n",
            "    homepage='http://ai.stanford.edu/~amaas/data/sentiment/',\n",
            "    features=FeaturesDict({\n",
            "        'label': ClassLabel(shape=(), dtype=tf.int64, num_classes=2),\n",
            "        'text': Text(shape=(), dtype=tf.string),\n",
            "    }),\n",
            "    total_num_examples=100000,\n",
            "    splits={\n",
            "        'test': 25000,\n",
            "        'train': 25000,\n",
            "        'unsupervised': 50000,\n",
            "    },\n",
            "    supervised_keys=('text', 'label'),\n",
            "    citation=\"\"\"@InProceedings{maas-EtAl:2011:ACL-HLT2011,\n",
            "      author    = {Maas, Andrew L.  and  Daly, Raymond E.  and  Pham, Peter T.  and  Huang, Dan  and  Ng, Andrew Y.  and  Potts, Christopher},\n",
            "      title     = {Learning Word Vectors for Sentiment Analysis},\n",
            "      booktitle = {Proceedings of the 49th Annual Meeting of the Association for Computational Linguistics: Human Language Technologies},\n",
            "      month     = {June},\n",
            "      year      = {2011},\n",
            "      address   = {Portland, Oregon, USA},\n",
            "      publisher = {Association for Computational Linguistics},\n",
            "      pages     = {142--150},\n",
            "      url       = {http://www.aclweb.org/anthology/P11-1015}\n",
            "    }\"\"\",\n",
            "    redistribution_info=,\n",
            ")\n",
            "\n",
            "\u001b[1mDownloading and preparing dataset imdb_reviews/plain_text/1.0.0 (download: 80.23 MiB, generated: Unknown size, total: 80.23 MiB) to /root/tensorflow_datasets/imdb_reviews/plain_text/1.0.0...\u001b[0m\n"
          ]
        },
        {
          "output_type": "display_data",
          "data": {
            "text/plain": [
              "Dl Completed...: 0 url [00:00, ? url/s]"
            ],
            "application/vnd.jupyter.widget-view+json": {
              "version_major": 2,
              "version_minor": 0,
              "model_id": "e008c1a05e324d02a75ac0bf69d97471"
            }
          },
          "metadata": {}
        },
        {
          "output_type": "display_data",
          "data": {
            "text/plain": [
              "Dl Size...: 0 MiB [00:00, ? MiB/s]"
            ],
            "application/vnd.jupyter.widget-view+json": {
              "version_major": 2,
              "version_minor": 0,
              "model_id": "0f9bc62752e148bfb06f3acaa8b3ab52"
            }
          },
          "metadata": {}
        },
        {
          "output_type": "stream",
          "name": "stdout",
          "text": [
            "\n",
            "\n"
          ]
        },
        {
          "output_type": "display_data",
          "data": {
            "text/plain": [
              "0 examples [00:00, ? examples/s]"
            ],
            "application/vnd.jupyter.widget-view+json": {
              "version_major": 2,
              "version_minor": 0,
              "model_id": "42fb26e165f44dd983617387a83f7181"
            }
          },
          "metadata": {}
        },
        {
          "output_type": "stream",
          "name": "stdout",
          "text": [
            "Shuffling and writing examples to /root/tensorflow_datasets/imdb_reviews/plain_text/1.0.0.incomplete66RCNI/imdb_reviews-train.tfrecord\n"
          ]
        },
        {
          "output_type": "display_data",
          "data": {
            "text/plain": [
              "  0%|          | 0/25000 [00:00<?, ? examples/s]"
            ],
            "application/vnd.jupyter.widget-view+json": {
              "version_major": 2,
              "version_minor": 0,
              "model_id": "39ef6316f84d41f19333c469691073bf"
            }
          },
          "metadata": {}
        },
        {
          "output_type": "display_data",
          "data": {
            "text/plain": [
              "0 examples [00:00, ? examples/s]"
            ],
            "application/vnd.jupyter.widget-view+json": {
              "version_major": 2,
              "version_minor": 0,
              "model_id": "dc06fe61c57245d795d0fbeb724ce345"
            }
          },
          "metadata": {}
        },
        {
          "output_type": "stream",
          "name": "stdout",
          "text": [
            "Shuffling and writing examples to /root/tensorflow_datasets/imdb_reviews/plain_text/1.0.0.incomplete66RCNI/imdb_reviews-test.tfrecord\n"
          ]
        },
        {
          "output_type": "display_data",
          "data": {
            "text/plain": [
              "  0%|          | 0/25000 [00:00<?, ? examples/s]"
            ],
            "application/vnd.jupyter.widget-view+json": {
              "version_major": 2,
              "version_minor": 0,
              "model_id": "e548e97185eb42a5947345acf411d1a1"
            }
          },
          "metadata": {}
        },
        {
          "output_type": "display_data",
          "data": {
            "text/plain": [
              "0 examples [00:00, ? examples/s]"
            ],
            "application/vnd.jupyter.widget-view+json": {
              "version_major": 2,
              "version_minor": 0,
              "model_id": "1cd8797ba3f14a3e99f8eda9a4ad214b"
            }
          },
          "metadata": {}
        },
        {
          "output_type": "stream",
          "name": "stdout",
          "text": [
            "Shuffling and writing examples to /root/tensorflow_datasets/imdb_reviews/plain_text/1.0.0.incomplete66RCNI/imdb_reviews-unsupervised.tfrecord\n"
          ]
        },
        {
          "output_type": "display_data",
          "data": {
            "text/plain": [
              "  0%|          | 0/50000 [00:00<?, ? examples/s]"
            ],
            "application/vnd.jupyter.widget-view+json": {
              "version_major": 2,
              "version_minor": 0,
              "model_id": "c328dfe863234c5e9007a143e2932ed3"
            }
          },
          "metadata": {}
        },
        {
          "output_type": "stream",
          "name": "stderr",
          "text": [
            "WARNING:absl:Dataset is using deprecated text encoder API which will be removed soon. Please use the plain_text version of the dataset and migrate to `tensorflow_text`.\n"
          ]
        },
        {
          "output_type": "stream",
          "name": "stdout",
          "text": [
            "\u001b[1mDataset imdb_reviews downloaded and prepared to /root/tensorflow_datasets/imdb_reviews/plain_text/1.0.0. Subsequent calls will reuse this data.\u001b[0m\n"
          ]
        },
        {
          "output_type": "execute_result",
          "data": {
            "text/plain": [
              "dict_keys(['test', 'train', 'unsupervised'])"
            ]
          },
          "metadata": {},
          "execution_count": 40
        }
      ],
      "source": [
        "imdb_bldr = tfds.builder('imdb_reviews')\n",
        "print(imdb_bldr.info)\n",
        "\n",
        "imdb_bldr.download_and_prepare()\n",
        "\n",
        "datasets = imdb_bldr.as_dataset(shuffle_files=False)\n",
        "\n",
        "datasets.keys()"
      ]
    },
    {
      "cell_type": "code",
      "execution_count": 41,
      "metadata": {
        "execution": {
          "iopub.execute_input": "2020-12-31T16:00:04.000279Z",
          "iopub.status.busy": "2020-12-31T16:00:03.999377Z",
          "iopub.status.idle": "2020-12-31T16:00:04.002868Z",
          "shell.execute_reply": "2020-12-31T16:00:04.001894Z"
        },
        "id": "YHn1LXgkt3hf"
      },
      "outputs": [],
      "source": [
        "imdb_train = datasets['train']\n",
        "imdb_train = datasets['test']"
      ]
    },
    {
      "cell_type": "markdown",
      "metadata": {
        "id": "2THlQCVWt3hf"
      },
      "source": [
        "### B -- Tokenizer와 Encoder\n",
        "\n",
        " * `tfds.deprecated.text.Tokenizer`: https://www.tensorflow.org/datasets/api_docs/python/tfds/deprecated/text/Tokenizer\n",
        " * `tfds.deprecated.text.TokenTextEncoder`: https://www.tensorflow.org/datasets/api_docs/python/tfds/deprecated/text/TokenTextEncoder"
      ]
    },
    {
      "cell_type": "code",
      "execution_count": 42,
      "metadata": {
        "colab": {
          "base_uri": "https://localhost:8080/"
        },
        "execution": {
          "iopub.execute_input": "2020-12-31T16:00:04.012615Z",
          "iopub.status.busy": "2020-12-31T16:00:04.011509Z",
          "iopub.status.idle": "2020-12-31T16:00:04.015817Z",
          "shell.execute_reply": "2020-12-31T16:00:04.015226Z"
        },
        "id": "tZrY4Fcnt3hf",
        "outputId": "6ad9833c-c126-4d55-a884-10bc0db8cf37"
      },
      "outputs": [
        {
          "output_type": "stream",
          "name": "stdout",
          "text": [
            "<TokenTextEncoder vocab_size=6>\n",
            "[1, 3, 2, 4]\n",
            "[1, 3, 2, 4, 5, 5, 5, 5, 5, 5]\n"
          ]
        }
      ],
      "source": [
        "vocab_set = {'a', 'b', 'c', 'd'}\n",
        "encoder = tfds.deprecated.text.TokenTextEncoder(vocab_set)\n",
        "print(encoder)\n",
        "\n",
        "print(encoder.encode(b'a b c d, , : .'))\n",
        "\n",
        "print(encoder.encode(b'a b c d e f g h i z'))"
      ]
    },
    {
      "cell_type": "markdown",
      "metadata": {
        "id": "NY6z1aTit3hg"
      },
      "source": [
        "### C -- 케라스로 텍스트 전처리하기"
      ]
    },
    {
      "cell_type": "code",
      "execution_count": 43,
      "metadata": {
        "colab": {
          "base_uri": "https://localhost:8080/"
        },
        "execution": {
          "iopub.execute_input": "2020-12-31T16:00:04.023781Z",
          "iopub.status.busy": "2020-12-31T16:00:04.022913Z",
          "iopub.status.idle": "2020-12-31T16:00:04.028002Z",
          "shell.execute_reply": "2020-12-31T16:00:04.027228Z"
        },
        "id": "LRO2xhDKt3hg",
        "outputId": "a132e5ce-6c97-4a61-f850-d181b066c9bf"
      },
      "outputs": [
        {
          "output_type": "stream",
          "name": "stdout",
          "text": [
            "[[1, 2, 3, 4], [5, 6, 7, 8]]\n"
          ]
        },
        {
          "output_type": "execute_result",
          "data": {
            "text/plain": [
              "array([[0, 0, 0, 0, 0, 0, 1, 2, 3, 4],\n",
              "       [0, 0, 0, 0, 0, 0, 5, 6, 7, 8]], dtype=int32)"
            ]
          },
          "metadata": {},
          "execution_count": 43
        }
      ],
      "source": [
        "TOP_K = 200\n",
        "MAX_LEN = 10\n",
        "\n",
        "tokenizer = tf.keras.preprocessing.text.Tokenizer(num_words=TOP_K)\n",
        "\n",
        "tokenizer.fit_on_texts(['this is an example', 'je suis en forme '])\n",
        "sequences = tokenizer.texts_to_sequences(['this is an example', 'je suis en forme '])\n",
        "print(sequences)\n",
        "\n",
        "tf.keras.preprocessing.sequence.pad_sequences(sequences, maxlen=MAX_LEN)"
      ]
    },
    {
      "cell_type": "code",
      "execution_count": 44,
      "metadata": {
        "colab": {
          "base_uri": "https://localhost:8080/"
        },
        "execution": {
          "iopub.execute_input": "2020-12-31T16:00:04.036271Z",
          "iopub.status.busy": "2020-12-31T16:00:04.035409Z",
          "iopub.status.idle": "2020-12-31T16:00:15.234946Z",
          "shell.execute_reply": "2020-12-31T16:00:15.234078Z"
        },
        "id": "vePZ3UTot3hg",
        "outputId": "ab44d347-518f-4a61-d55d-cef89928007f",
        "scrolled": true
      },
      "outputs": [
        {
          "output_type": "stream",
          "name": "stdout",
          "text": [
            "25000\n",
            "(25000, 500)\n"
          ]
        }
      ],
      "source": [
        "TOP_K = 20000\n",
        "MAX_LEN = 500\n",
        "\n",
        "tokenizer = tf.keras.preprocessing.text.Tokenizer(num_words=TOP_K)\n",
        "\n",
        "tokenizer.fit_on_texts(\n",
        "    [example['text'].numpy().decode('utf-8') \n",
        "     for example in imdb_train])\n",
        "\n",
        "x_train = tokenizer.texts_to_sequences(\n",
        "    [example['text'].numpy().decode('utf-8')\n",
        "     for example in imdb_train])\n",
        "\n",
        "print(len(x_train))\n",
        "\n",
        "\n",
        "x_train_padded = tf.keras.preprocessing.sequence.pad_sequences(\n",
        "    x_train, maxlen=MAX_LEN)\n",
        "\n",
        "print(x_train_padded.shape)"
      ]
    },
    {
      "cell_type": "markdown",
      "metadata": {
        "id": "9FYRIc-St3hg"
      },
      "source": [
        "### D -- 임베딩"
      ]
    },
    {
      "cell_type": "code",
      "execution_count": 45,
      "metadata": {
        "colab": {
          "base_uri": "https://localhost:8080/"
        },
        "execution": {
          "iopub.execute_input": "2020-12-31T16:00:15.250708Z",
          "iopub.status.busy": "2020-12-31T16:00:15.249808Z",
          "iopub.status.idle": "2020-12-31T16:00:15.258749Z",
          "shell.execute_reply": "2020-12-31T16:00:15.257884Z"
        },
        "id": "fEuT0TEut3hh",
        "outputId": "ab5db56f-595d-4253-9f6b-94cd0cf2b3ed"
      },
      "outputs": [
        {
          "output_type": "stream",
          "name": "stdout",
          "text": [
            "[[-0.0208060984 0.0142502077 0.0475785471 -0.00649005175]\n",
            " [-0.00420691818 -0.0375086069 -0.00477621704 0.00311584398]\n",
            " [0.028728161 -0.0440448038 -0.0428906195 -0.019158531]\n",
            " [-0.0248817336 0.0408470519 -0.00285203382 -0.0257614851]\n",
            " [0.0443614833 0.00331580639 0.043055404 -0.011118304]\n",
            " [-0.0281324144 0.00720113516 0.0192188732 -0.0186921246]]\n",
            "TensorShape([6, 4])\n",
            "[[-0.0208060984 0.0142502077 0.0475785471 -0.00649005175]]\n"
          ]
        }
      ],
      "source": [
        "from tensorflow.keras.layers import Embedding\n",
        "\n",
        "\n",
        "tf.random.set_seed(1)\n",
        "embed = Embedding(input_dim=100, output_dim=4)\n",
        "\n",
        "inp_arr = np.array([1, 98, 5, 6, 67, 45])\n",
        "tf.print(embed(inp_arr))\n",
        "tf.print(embed(inp_arr).shape)\n",
        "\n",
        "tf.print(embed(np.array([1])))"
      ]
    }
  ],
  "metadata": {
    "accelerator": "GPU",
    "colab": {
      "name": "ch16_part1.ipynb",
      "provenance": []
    },
    "kernelspec": {
      "display_name": "Python 3",
      "language": "python",
      "name": "python3"
    },
    "language_info": {
      "codemirror_mode": {
        "name": "ipython",
        "version": 3
      },
      "file_extension": ".py",
      "mimetype": "text/x-python",
      "name": "python",
      "nbconvert_exporter": "python",
      "pygments_lexer": "ipython3",
      "version": "3.7.3"
    },
    "widgets": {
      "application/vnd.jupyter.widget-state+json": {
        "e008c1a05e324d02a75ac0bf69d97471": {
          "model_module": "@jupyter-widgets/controls",
          "model_name": "HBoxModel",
          "model_module_version": "1.5.0",
          "state": {
            "_dom_classes": [],
            "_model_module": "@jupyter-widgets/controls",
            "_model_module_version": "1.5.0",
            "_model_name": "HBoxModel",
            "_view_count": null,
            "_view_module": "@jupyter-widgets/controls",
            "_view_module_version": "1.5.0",
            "_view_name": "HBoxView",
            "box_style": "",
            "children": [
              "IPY_MODEL_fe4fb33a994a401ca9269835e5ca4bc8",
              "IPY_MODEL_26afacb8c1b4402eb3cf26dad75e665f",
              "IPY_MODEL_acd504f7e98a479c811862f373c3c273"
            ],
            "layout": "IPY_MODEL_679a377b13444415aaf561f1c222d91d"
          }
        },
        "fe4fb33a994a401ca9269835e5ca4bc8": {
          "model_module": "@jupyter-widgets/controls",
          "model_name": "HTMLModel",
          "model_module_version": "1.5.0",
          "state": {
            "_dom_classes": [],
            "_model_module": "@jupyter-widgets/controls",
            "_model_module_version": "1.5.0",
            "_model_name": "HTMLModel",
            "_view_count": null,
            "_view_module": "@jupyter-widgets/controls",
            "_view_module_version": "1.5.0",
            "_view_name": "HTMLView",
            "description": "",
            "description_tooltip": null,
            "layout": "IPY_MODEL_c2f6ad176ff3496d92317a2c42b4e253",
            "placeholder": "​",
            "style": "IPY_MODEL_fc2542f11c0242eab9c161bf1ad233f6",
            "value": "Dl Completed...: 100%"
          }
        },
        "26afacb8c1b4402eb3cf26dad75e665f": {
          "model_module": "@jupyter-widgets/controls",
          "model_name": "FloatProgressModel",
          "model_module_version": "1.5.0",
          "state": {
            "_dom_classes": [],
            "_model_module": "@jupyter-widgets/controls",
            "_model_module_version": "1.5.0",
            "_model_name": "FloatProgressModel",
            "_view_count": null,
            "_view_module": "@jupyter-widgets/controls",
            "_view_module_version": "1.5.0",
            "_view_name": "ProgressView",
            "bar_style": "success",
            "description": "",
            "description_tooltip": null,
            "layout": "IPY_MODEL_9b241988cce64763939f9adcc5cd46bd",
            "max": 1,
            "min": 0,
            "orientation": "horizontal",
            "style": "IPY_MODEL_a415365718dc4723b50a7caef88672f3",
            "value": 1
          }
        },
        "acd504f7e98a479c811862f373c3c273": {
          "model_module": "@jupyter-widgets/controls",
          "model_name": "HTMLModel",
          "model_module_version": "1.5.0",
          "state": {
            "_dom_classes": [],
            "_model_module": "@jupyter-widgets/controls",
            "_model_module_version": "1.5.0",
            "_model_name": "HTMLModel",
            "_view_count": null,
            "_view_module": "@jupyter-widgets/controls",
            "_view_module_version": "1.5.0",
            "_view_name": "HTMLView",
            "description": "",
            "description_tooltip": null,
            "layout": "IPY_MODEL_6376cd636ecd425a96495332b82824d0",
            "placeholder": "​",
            "style": "IPY_MODEL_1ef7ba88fc8046e28f0f38e6173bb115",
            "value": " 1/1 [00:04&lt;00:00,  4.05s/ url]"
          }
        },
        "679a377b13444415aaf561f1c222d91d": {
          "model_module": "@jupyter-widgets/base",
          "model_name": "LayoutModel",
          "model_module_version": "1.2.0",
          "state": {
            "_model_module": "@jupyter-widgets/base",
            "_model_module_version": "1.2.0",
            "_model_name": "LayoutModel",
            "_view_count": null,
            "_view_module": "@jupyter-widgets/base",
            "_view_module_version": "1.2.0",
            "_view_name": "LayoutView",
            "align_content": null,
            "align_items": null,
            "align_self": null,
            "border": null,
            "bottom": null,
            "display": null,
            "flex": null,
            "flex_flow": null,
            "grid_area": null,
            "grid_auto_columns": null,
            "grid_auto_flow": null,
            "grid_auto_rows": null,
            "grid_column": null,
            "grid_gap": null,
            "grid_row": null,
            "grid_template_areas": null,
            "grid_template_columns": null,
            "grid_template_rows": null,
            "height": null,
            "justify_content": null,
            "justify_items": null,
            "left": null,
            "margin": null,
            "max_height": null,
            "max_width": null,
            "min_height": null,
            "min_width": null,
            "object_fit": null,
            "object_position": null,
            "order": null,
            "overflow": null,
            "overflow_x": null,
            "overflow_y": null,
            "padding": null,
            "right": null,
            "top": null,
            "visibility": null,
            "width": null
          }
        },
        "c2f6ad176ff3496d92317a2c42b4e253": {
          "model_module": "@jupyter-widgets/base",
          "model_name": "LayoutModel",
          "model_module_version": "1.2.0",
          "state": {
            "_model_module": "@jupyter-widgets/base",
            "_model_module_version": "1.2.0",
            "_model_name": "LayoutModel",
            "_view_count": null,
            "_view_module": "@jupyter-widgets/base",
            "_view_module_version": "1.2.0",
            "_view_name": "LayoutView",
            "align_content": null,
            "align_items": null,
            "align_self": null,
            "border": null,
            "bottom": null,
            "display": null,
            "flex": null,
            "flex_flow": null,
            "grid_area": null,
            "grid_auto_columns": null,
            "grid_auto_flow": null,
            "grid_auto_rows": null,
            "grid_column": null,
            "grid_gap": null,
            "grid_row": null,
            "grid_template_areas": null,
            "grid_template_columns": null,
            "grid_template_rows": null,
            "height": null,
            "justify_content": null,
            "justify_items": null,
            "left": null,
            "margin": null,
            "max_height": null,
            "max_width": null,
            "min_height": null,
            "min_width": null,
            "object_fit": null,
            "object_position": null,
            "order": null,
            "overflow": null,
            "overflow_x": null,
            "overflow_y": null,
            "padding": null,
            "right": null,
            "top": null,
            "visibility": null,
            "width": null
          }
        },
        "fc2542f11c0242eab9c161bf1ad233f6": {
          "model_module": "@jupyter-widgets/controls",
          "model_name": "DescriptionStyleModel",
          "model_module_version": "1.5.0",
          "state": {
            "_model_module": "@jupyter-widgets/controls",
            "_model_module_version": "1.5.0",
            "_model_name": "DescriptionStyleModel",
            "_view_count": null,
            "_view_module": "@jupyter-widgets/base",
            "_view_module_version": "1.2.0",
            "_view_name": "StyleView",
            "description_width": ""
          }
        },
        "9b241988cce64763939f9adcc5cd46bd": {
          "model_module": "@jupyter-widgets/base",
          "model_name": "LayoutModel",
          "model_module_version": "1.2.0",
          "state": {
            "_model_module": "@jupyter-widgets/base",
            "_model_module_version": "1.2.0",
            "_model_name": "LayoutModel",
            "_view_count": null,
            "_view_module": "@jupyter-widgets/base",
            "_view_module_version": "1.2.0",
            "_view_name": "LayoutView",
            "align_content": null,
            "align_items": null,
            "align_self": null,
            "border": null,
            "bottom": null,
            "display": null,
            "flex": null,
            "flex_flow": null,
            "grid_area": null,
            "grid_auto_columns": null,
            "grid_auto_flow": null,
            "grid_auto_rows": null,
            "grid_column": null,
            "grid_gap": null,
            "grid_row": null,
            "grid_template_areas": null,
            "grid_template_columns": null,
            "grid_template_rows": null,
            "height": null,
            "justify_content": null,
            "justify_items": null,
            "left": null,
            "margin": null,
            "max_height": null,
            "max_width": null,
            "min_height": null,
            "min_width": null,
            "object_fit": null,
            "object_position": null,
            "order": null,
            "overflow": null,
            "overflow_x": null,
            "overflow_y": null,
            "padding": null,
            "right": null,
            "top": null,
            "visibility": null,
            "width": "20px"
          }
        },
        "a415365718dc4723b50a7caef88672f3": {
          "model_module": "@jupyter-widgets/controls",
          "model_name": "ProgressStyleModel",
          "model_module_version": "1.5.0",
          "state": {
            "_model_module": "@jupyter-widgets/controls",
            "_model_module_version": "1.5.0",
            "_model_name": "ProgressStyleModel",
            "_view_count": null,
            "_view_module": "@jupyter-widgets/base",
            "_view_module_version": "1.2.0",
            "_view_name": "StyleView",
            "bar_color": null,
            "description_width": ""
          }
        },
        "6376cd636ecd425a96495332b82824d0": {
          "model_module": "@jupyter-widgets/base",
          "model_name": "LayoutModel",
          "model_module_version": "1.2.0",
          "state": {
            "_model_module": "@jupyter-widgets/base",
            "_model_module_version": "1.2.0",
            "_model_name": "LayoutModel",
            "_view_count": null,
            "_view_module": "@jupyter-widgets/base",
            "_view_module_version": "1.2.0",
            "_view_name": "LayoutView",
            "align_content": null,
            "align_items": null,
            "align_self": null,
            "border": null,
            "bottom": null,
            "display": null,
            "flex": null,
            "flex_flow": null,
            "grid_area": null,
            "grid_auto_columns": null,
            "grid_auto_flow": null,
            "grid_auto_rows": null,
            "grid_column": null,
            "grid_gap": null,
            "grid_row": null,
            "grid_template_areas": null,
            "grid_template_columns": null,
            "grid_template_rows": null,
            "height": null,
            "justify_content": null,
            "justify_items": null,
            "left": null,
            "margin": null,
            "max_height": null,
            "max_width": null,
            "min_height": null,
            "min_width": null,
            "object_fit": null,
            "object_position": null,
            "order": null,
            "overflow": null,
            "overflow_x": null,
            "overflow_y": null,
            "padding": null,
            "right": null,
            "top": null,
            "visibility": null,
            "width": null
          }
        },
        "1ef7ba88fc8046e28f0f38e6173bb115": {
          "model_module": "@jupyter-widgets/controls",
          "model_name": "DescriptionStyleModel",
          "model_module_version": "1.5.0",
          "state": {
            "_model_module": "@jupyter-widgets/controls",
            "_model_module_version": "1.5.0",
            "_model_name": "DescriptionStyleModel",
            "_view_count": null,
            "_view_module": "@jupyter-widgets/base",
            "_view_module_version": "1.2.0",
            "_view_name": "StyleView",
            "description_width": ""
          }
        },
        "0f9bc62752e148bfb06f3acaa8b3ab52": {
          "model_module": "@jupyter-widgets/controls",
          "model_name": "HBoxModel",
          "model_module_version": "1.5.0",
          "state": {
            "_dom_classes": [],
            "_model_module": "@jupyter-widgets/controls",
            "_model_module_version": "1.5.0",
            "_model_name": "HBoxModel",
            "_view_count": null,
            "_view_module": "@jupyter-widgets/controls",
            "_view_module_version": "1.5.0",
            "_view_name": "HBoxView",
            "box_style": "",
            "children": [
              "IPY_MODEL_2a805692ce8046fab6797f48be3fcef6",
              "IPY_MODEL_deb46a03e1db45928b2473f9a8a09914",
              "IPY_MODEL_0ca1907af4764965a847d715461e5c17"
            ],
            "layout": "IPY_MODEL_b530d18c5a0845169498346aa06876b1"
          }
        },
        "2a805692ce8046fab6797f48be3fcef6": {
          "model_module": "@jupyter-widgets/controls",
          "model_name": "HTMLModel",
          "model_module_version": "1.5.0",
          "state": {
            "_dom_classes": [],
            "_model_module": "@jupyter-widgets/controls",
            "_model_module_version": "1.5.0",
            "_model_name": "HTMLModel",
            "_view_count": null,
            "_view_module": "@jupyter-widgets/controls",
            "_view_module_version": "1.5.0",
            "_view_name": "HTMLView",
            "description": "",
            "description_tooltip": null,
            "layout": "IPY_MODEL_613072ee56f74e25bca5d6b58e532837",
            "placeholder": "​",
            "style": "IPY_MODEL_b9d65b380d4d418da707bd2dd494e8c7",
            "value": "Dl Size...: 100%"
          }
        },
        "deb46a03e1db45928b2473f9a8a09914": {
          "model_module": "@jupyter-widgets/controls",
          "model_name": "FloatProgressModel",
          "model_module_version": "1.5.0",
          "state": {
            "_dom_classes": [],
            "_model_module": "@jupyter-widgets/controls",
            "_model_module_version": "1.5.0",
            "_model_name": "FloatProgressModel",
            "_view_count": null,
            "_view_module": "@jupyter-widgets/controls",
            "_view_module_version": "1.5.0",
            "_view_name": "ProgressView",
            "bar_style": "success",
            "description": "",
            "description_tooltip": null,
            "layout": "IPY_MODEL_4dcadd07efa04461b501f20802c603a6",
            "max": 1,
            "min": 0,
            "orientation": "horizontal",
            "style": "IPY_MODEL_2ae0399f15dc473da8edb12aeb71c7f0",
            "value": 1
          }
        },
        "0ca1907af4764965a847d715461e5c17": {
          "model_module": "@jupyter-widgets/controls",
          "model_name": "HTMLModel",
          "model_module_version": "1.5.0",
          "state": {
            "_dom_classes": [],
            "_model_module": "@jupyter-widgets/controls",
            "_model_module_version": "1.5.0",
            "_model_name": "HTMLModel",
            "_view_count": null,
            "_view_module": "@jupyter-widgets/controls",
            "_view_module_version": "1.5.0",
            "_view_name": "HTMLView",
            "description": "",
            "description_tooltip": null,
            "layout": "IPY_MODEL_8d6e5e340bc9469ab6fd4a0274a0e016",
            "placeholder": "​",
            "style": "IPY_MODEL_e38b96d004b44674a8062e9175f48eea",
            "value": " 80/80 [00:04&lt;00:00, 37.01 MiB/s]"
          }
        },
        "b530d18c5a0845169498346aa06876b1": {
          "model_module": "@jupyter-widgets/base",
          "model_name": "LayoutModel",
          "model_module_version": "1.2.0",
          "state": {
            "_model_module": "@jupyter-widgets/base",
            "_model_module_version": "1.2.0",
            "_model_name": "LayoutModel",
            "_view_count": null,
            "_view_module": "@jupyter-widgets/base",
            "_view_module_version": "1.2.0",
            "_view_name": "LayoutView",
            "align_content": null,
            "align_items": null,
            "align_self": null,
            "border": null,
            "bottom": null,
            "display": null,
            "flex": null,
            "flex_flow": null,
            "grid_area": null,
            "grid_auto_columns": null,
            "grid_auto_flow": null,
            "grid_auto_rows": null,
            "grid_column": null,
            "grid_gap": null,
            "grid_row": null,
            "grid_template_areas": null,
            "grid_template_columns": null,
            "grid_template_rows": null,
            "height": null,
            "justify_content": null,
            "justify_items": null,
            "left": null,
            "margin": null,
            "max_height": null,
            "max_width": null,
            "min_height": null,
            "min_width": null,
            "object_fit": null,
            "object_position": null,
            "order": null,
            "overflow": null,
            "overflow_x": null,
            "overflow_y": null,
            "padding": null,
            "right": null,
            "top": null,
            "visibility": null,
            "width": null
          }
        },
        "613072ee56f74e25bca5d6b58e532837": {
          "model_module": "@jupyter-widgets/base",
          "model_name": "LayoutModel",
          "model_module_version": "1.2.0",
          "state": {
            "_model_module": "@jupyter-widgets/base",
            "_model_module_version": "1.2.0",
            "_model_name": "LayoutModel",
            "_view_count": null,
            "_view_module": "@jupyter-widgets/base",
            "_view_module_version": "1.2.0",
            "_view_name": "LayoutView",
            "align_content": null,
            "align_items": null,
            "align_self": null,
            "border": null,
            "bottom": null,
            "display": null,
            "flex": null,
            "flex_flow": null,
            "grid_area": null,
            "grid_auto_columns": null,
            "grid_auto_flow": null,
            "grid_auto_rows": null,
            "grid_column": null,
            "grid_gap": null,
            "grid_row": null,
            "grid_template_areas": null,
            "grid_template_columns": null,
            "grid_template_rows": null,
            "height": null,
            "justify_content": null,
            "justify_items": null,
            "left": null,
            "margin": null,
            "max_height": null,
            "max_width": null,
            "min_height": null,
            "min_width": null,
            "object_fit": null,
            "object_position": null,
            "order": null,
            "overflow": null,
            "overflow_x": null,
            "overflow_y": null,
            "padding": null,
            "right": null,
            "top": null,
            "visibility": null,
            "width": null
          }
        },
        "b9d65b380d4d418da707bd2dd494e8c7": {
          "model_module": "@jupyter-widgets/controls",
          "model_name": "DescriptionStyleModel",
          "model_module_version": "1.5.0",
          "state": {
            "_model_module": "@jupyter-widgets/controls",
            "_model_module_version": "1.5.0",
            "_model_name": "DescriptionStyleModel",
            "_view_count": null,
            "_view_module": "@jupyter-widgets/base",
            "_view_module_version": "1.2.0",
            "_view_name": "StyleView",
            "description_width": ""
          }
        },
        "4dcadd07efa04461b501f20802c603a6": {
          "model_module": "@jupyter-widgets/base",
          "model_name": "LayoutModel",
          "model_module_version": "1.2.0",
          "state": {
            "_model_module": "@jupyter-widgets/base",
            "_model_module_version": "1.2.0",
            "_model_name": "LayoutModel",
            "_view_count": null,
            "_view_module": "@jupyter-widgets/base",
            "_view_module_version": "1.2.0",
            "_view_name": "LayoutView",
            "align_content": null,
            "align_items": null,
            "align_self": null,
            "border": null,
            "bottom": null,
            "display": null,
            "flex": null,
            "flex_flow": null,
            "grid_area": null,
            "grid_auto_columns": null,
            "grid_auto_flow": null,
            "grid_auto_rows": null,
            "grid_column": null,
            "grid_gap": null,
            "grid_row": null,
            "grid_template_areas": null,
            "grid_template_columns": null,
            "grid_template_rows": null,
            "height": null,
            "justify_content": null,
            "justify_items": null,
            "left": null,
            "margin": null,
            "max_height": null,
            "max_width": null,
            "min_height": null,
            "min_width": null,
            "object_fit": null,
            "object_position": null,
            "order": null,
            "overflow": null,
            "overflow_x": null,
            "overflow_y": null,
            "padding": null,
            "right": null,
            "top": null,
            "visibility": null,
            "width": "20px"
          }
        },
        "2ae0399f15dc473da8edb12aeb71c7f0": {
          "model_module": "@jupyter-widgets/controls",
          "model_name": "ProgressStyleModel",
          "model_module_version": "1.5.0",
          "state": {
            "_model_module": "@jupyter-widgets/controls",
            "_model_module_version": "1.5.0",
            "_model_name": "ProgressStyleModel",
            "_view_count": null,
            "_view_module": "@jupyter-widgets/base",
            "_view_module_version": "1.2.0",
            "_view_name": "StyleView",
            "bar_color": null,
            "description_width": ""
          }
        },
        "8d6e5e340bc9469ab6fd4a0274a0e016": {
          "model_module": "@jupyter-widgets/base",
          "model_name": "LayoutModel",
          "model_module_version": "1.2.0",
          "state": {
            "_model_module": "@jupyter-widgets/base",
            "_model_module_version": "1.2.0",
            "_model_name": "LayoutModel",
            "_view_count": null,
            "_view_module": "@jupyter-widgets/base",
            "_view_module_version": "1.2.0",
            "_view_name": "LayoutView",
            "align_content": null,
            "align_items": null,
            "align_self": null,
            "border": null,
            "bottom": null,
            "display": null,
            "flex": null,
            "flex_flow": null,
            "grid_area": null,
            "grid_auto_columns": null,
            "grid_auto_flow": null,
            "grid_auto_rows": null,
            "grid_column": null,
            "grid_gap": null,
            "grid_row": null,
            "grid_template_areas": null,
            "grid_template_columns": null,
            "grid_template_rows": null,
            "height": null,
            "justify_content": null,
            "justify_items": null,
            "left": null,
            "margin": null,
            "max_height": null,
            "max_width": null,
            "min_height": null,
            "min_width": null,
            "object_fit": null,
            "object_position": null,
            "order": null,
            "overflow": null,
            "overflow_x": null,
            "overflow_y": null,
            "padding": null,
            "right": null,
            "top": null,
            "visibility": null,
            "width": null
          }
        },
        "e38b96d004b44674a8062e9175f48eea": {
          "model_module": "@jupyter-widgets/controls",
          "model_name": "DescriptionStyleModel",
          "model_module_version": "1.5.0",
          "state": {
            "_model_module": "@jupyter-widgets/controls",
            "_model_module_version": "1.5.0",
            "_model_name": "DescriptionStyleModel",
            "_view_count": null,
            "_view_module": "@jupyter-widgets/base",
            "_view_module_version": "1.2.0",
            "_view_name": "StyleView",
            "description_width": ""
          }
        },
        "42fb26e165f44dd983617387a83f7181": {
          "model_module": "@jupyter-widgets/controls",
          "model_name": "HBoxModel",
          "model_module_version": "1.5.0",
          "state": {
            "_dom_classes": [],
            "_model_module": "@jupyter-widgets/controls",
            "_model_module_version": "1.5.0",
            "_model_name": "HBoxModel",
            "_view_count": null,
            "_view_module": "@jupyter-widgets/controls",
            "_view_module_version": "1.5.0",
            "_view_name": "HBoxView",
            "box_style": "",
            "children": [
              "IPY_MODEL_11ab72996a004c98b868971ab893056a",
              "IPY_MODEL_416c44d275504c848ab35529f626244d",
              "IPY_MODEL_caeb2debb2b64d3a819927c9b0488dbc"
            ],
            "layout": "IPY_MODEL_6d8495d22ed94565999c3afab804614a"
          }
        },
        "11ab72996a004c98b868971ab893056a": {
          "model_module": "@jupyter-widgets/controls",
          "model_name": "HTMLModel",
          "model_module_version": "1.5.0",
          "state": {
            "_dom_classes": [],
            "_model_module": "@jupyter-widgets/controls",
            "_model_module_version": "1.5.0",
            "_model_name": "HTMLModel",
            "_view_count": null,
            "_view_module": "@jupyter-widgets/controls",
            "_view_module_version": "1.5.0",
            "_view_name": "HTMLView",
            "description": "",
            "description_tooltip": null,
            "layout": "IPY_MODEL_e7a3b76edcbd4350915e3a6e1584bb6f",
            "placeholder": "​",
            "style": "IPY_MODEL_5df25196b13c4916a721c1e779fec786",
            "value": ""
          }
        },
        "416c44d275504c848ab35529f626244d": {
          "model_module": "@jupyter-widgets/controls",
          "model_name": "FloatProgressModel",
          "model_module_version": "1.5.0",
          "state": {
            "_dom_classes": [],
            "_model_module": "@jupyter-widgets/controls",
            "_model_module_version": "1.5.0",
            "_model_name": "FloatProgressModel",
            "_view_count": null,
            "_view_module": "@jupyter-widgets/controls",
            "_view_module_version": "1.5.0",
            "_view_name": "ProgressView",
            "bar_style": "info",
            "description": "",
            "description_tooltip": null,
            "layout": "IPY_MODEL_0b03acb5a9dc435595e53d1c5cec01f2",
            "max": 1,
            "min": 0,
            "orientation": "horizontal",
            "style": "IPY_MODEL_4a0252eaa3cf489da3fbb2eac9cb4172",
            "value": 1
          }
        },
        "caeb2debb2b64d3a819927c9b0488dbc": {
          "model_module": "@jupyter-widgets/controls",
          "model_name": "HTMLModel",
          "model_module_version": "1.5.0",
          "state": {
            "_dom_classes": [],
            "_model_module": "@jupyter-widgets/controls",
            "_model_module_version": "1.5.0",
            "_model_name": "HTMLModel",
            "_view_count": null,
            "_view_module": "@jupyter-widgets/controls",
            "_view_module_version": "1.5.0",
            "_view_name": "HTMLView",
            "description": "",
            "description_tooltip": null,
            "layout": "IPY_MODEL_476e83e350514d2e8db217af00e29aaa",
            "placeholder": "​",
            "style": "IPY_MODEL_7d11e824e42c440b964fbaa367852bab",
            "value": " 24694/0 [00:09&lt;00:00, 3698.05 examples/s]"
          }
        },
        "6d8495d22ed94565999c3afab804614a": {
          "model_module": "@jupyter-widgets/base",
          "model_name": "LayoutModel",
          "model_module_version": "1.2.0",
          "state": {
            "_model_module": "@jupyter-widgets/base",
            "_model_module_version": "1.2.0",
            "_model_name": "LayoutModel",
            "_view_count": null,
            "_view_module": "@jupyter-widgets/base",
            "_view_module_version": "1.2.0",
            "_view_name": "LayoutView",
            "align_content": null,
            "align_items": null,
            "align_self": null,
            "border": null,
            "bottom": null,
            "display": null,
            "flex": null,
            "flex_flow": null,
            "grid_area": null,
            "grid_auto_columns": null,
            "grid_auto_flow": null,
            "grid_auto_rows": null,
            "grid_column": null,
            "grid_gap": null,
            "grid_row": null,
            "grid_template_areas": null,
            "grid_template_columns": null,
            "grid_template_rows": null,
            "height": null,
            "justify_content": null,
            "justify_items": null,
            "left": null,
            "margin": null,
            "max_height": null,
            "max_width": null,
            "min_height": null,
            "min_width": null,
            "object_fit": null,
            "object_position": null,
            "order": null,
            "overflow": null,
            "overflow_x": null,
            "overflow_y": null,
            "padding": null,
            "right": null,
            "top": null,
            "visibility": null,
            "width": null
          }
        },
        "e7a3b76edcbd4350915e3a6e1584bb6f": {
          "model_module": "@jupyter-widgets/base",
          "model_name": "LayoutModel",
          "model_module_version": "1.2.0",
          "state": {
            "_model_module": "@jupyter-widgets/base",
            "_model_module_version": "1.2.0",
            "_model_name": "LayoutModel",
            "_view_count": null,
            "_view_module": "@jupyter-widgets/base",
            "_view_module_version": "1.2.0",
            "_view_name": "LayoutView",
            "align_content": null,
            "align_items": null,
            "align_self": null,
            "border": null,
            "bottom": null,
            "display": null,
            "flex": null,
            "flex_flow": null,
            "grid_area": null,
            "grid_auto_columns": null,
            "grid_auto_flow": null,
            "grid_auto_rows": null,
            "grid_column": null,
            "grid_gap": null,
            "grid_row": null,
            "grid_template_areas": null,
            "grid_template_columns": null,
            "grid_template_rows": null,
            "height": null,
            "justify_content": null,
            "justify_items": null,
            "left": null,
            "margin": null,
            "max_height": null,
            "max_width": null,
            "min_height": null,
            "min_width": null,
            "object_fit": null,
            "object_position": null,
            "order": null,
            "overflow": null,
            "overflow_x": null,
            "overflow_y": null,
            "padding": null,
            "right": null,
            "top": null,
            "visibility": null,
            "width": null
          }
        },
        "5df25196b13c4916a721c1e779fec786": {
          "model_module": "@jupyter-widgets/controls",
          "model_name": "DescriptionStyleModel",
          "model_module_version": "1.5.0",
          "state": {
            "_model_module": "@jupyter-widgets/controls",
            "_model_module_version": "1.5.0",
            "_model_name": "DescriptionStyleModel",
            "_view_count": null,
            "_view_module": "@jupyter-widgets/base",
            "_view_module_version": "1.2.0",
            "_view_name": "StyleView",
            "description_width": ""
          }
        },
        "0b03acb5a9dc435595e53d1c5cec01f2": {
          "model_module": "@jupyter-widgets/base",
          "model_name": "LayoutModel",
          "model_module_version": "1.2.0",
          "state": {
            "_model_module": "@jupyter-widgets/base",
            "_model_module_version": "1.2.0",
            "_model_name": "LayoutModel",
            "_view_count": null,
            "_view_module": "@jupyter-widgets/base",
            "_view_module_version": "1.2.0",
            "_view_name": "LayoutView",
            "align_content": null,
            "align_items": null,
            "align_self": null,
            "border": null,
            "bottom": null,
            "display": null,
            "flex": null,
            "flex_flow": null,
            "grid_area": null,
            "grid_auto_columns": null,
            "grid_auto_flow": null,
            "grid_auto_rows": null,
            "grid_column": null,
            "grid_gap": null,
            "grid_row": null,
            "grid_template_areas": null,
            "grid_template_columns": null,
            "grid_template_rows": null,
            "height": null,
            "justify_content": null,
            "justify_items": null,
            "left": null,
            "margin": null,
            "max_height": null,
            "max_width": null,
            "min_height": null,
            "min_width": null,
            "object_fit": null,
            "object_position": null,
            "order": null,
            "overflow": null,
            "overflow_x": null,
            "overflow_y": null,
            "padding": null,
            "right": null,
            "top": null,
            "visibility": null,
            "width": "20px"
          }
        },
        "4a0252eaa3cf489da3fbb2eac9cb4172": {
          "model_module": "@jupyter-widgets/controls",
          "model_name": "ProgressStyleModel",
          "model_module_version": "1.5.0",
          "state": {
            "_model_module": "@jupyter-widgets/controls",
            "_model_module_version": "1.5.0",
            "_model_name": "ProgressStyleModel",
            "_view_count": null,
            "_view_module": "@jupyter-widgets/base",
            "_view_module_version": "1.2.0",
            "_view_name": "StyleView",
            "bar_color": null,
            "description_width": ""
          }
        },
        "476e83e350514d2e8db217af00e29aaa": {
          "model_module": "@jupyter-widgets/base",
          "model_name": "LayoutModel",
          "model_module_version": "1.2.0",
          "state": {
            "_model_module": "@jupyter-widgets/base",
            "_model_module_version": "1.2.0",
            "_model_name": "LayoutModel",
            "_view_count": null,
            "_view_module": "@jupyter-widgets/base",
            "_view_module_version": "1.2.0",
            "_view_name": "LayoutView",
            "align_content": null,
            "align_items": null,
            "align_self": null,
            "border": null,
            "bottom": null,
            "display": null,
            "flex": null,
            "flex_flow": null,
            "grid_area": null,
            "grid_auto_columns": null,
            "grid_auto_flow": null,
            "grid_auto_rows": null,
            "grid_column": null,
            "grid_gap": null,
            "grid_row": null,
            "grid_template_areas": null,
            "grid_template_columns": null,
            "grid_template_rows": null,
            "height": null,
            "justify_content": null,
            "justify_items": null,
            "left": null,
            "margin": null,
            "max_height": null,
            "max_width": null,
            "min_height": null,
            "min_width": null,
            "object_fit": null,
            "object_position": null,
            "order": null,
            "overflow": null,
            "overflow_x": null,
            "overflow_y": null,
            "padding": null,
            "right": null,
            "top": null,
            "visibility": null,
            "width": null
          }
        },
        "7d11e824e42c440b964fbaa367852bab": {
          "model_module": "@jupyter-widgets/controls",
          "model_name": "DescriptionStyleModel",
          "model_module_version": "1.5.0",
          "state": {
            "_model_module": "@jupyter-widgets/controls",
            "_model_module_version": "1.5.0",
            "_model_name": "DescriptionStyleModel",
            "_view_count": null,
            "_view_module": "@jupyter-widgets/base",
            "_view_module_version": "1.2.0",
            "_view_name": "StyleView",
            "description_width": ""
          }
        },
        "39ef6316f84d41f19333c469691073bf": {
          "model_module": "@jupyter-widgets/controls",
          "model_name": "HBoxModel",
          "model_module_version": "1.5.0",
          "state": {
            "_dom_classes": [],
            "_model_module": "@jupyter-widgets/controls",
            "_model_module_version": "1.5.0",
            "_model_name": "HBoxModel",
            "_view_count": null,
            "_view_module": "@jupyter-widgets/controls",
            "_view_module_version": "1.5.0",
            "_view_name": "HBoxView",
            "box_style": "",
            "children": [
              "IPY_MODEL_01c04e6a009f4772a0dcaf7a172ccf2b",
              "IPY_MODEL_4e5b19d04d334555949bd1430b1de87e",
              "IPY_MODEL_751f91470b6d4186830ed7c2b0e54ade"
            ],
            "layout": "IPY_MODEL_a19a7134db83465ebdcd8fcf3fbdb1df"
          }
        },
        "01c04e6a009f4772a0dcaf7a172ccf2b": {
          "model_module": "@jupyter-widgets/controls",
          "model_name": "HTMLModel",
          "model_module_version": "1.5.0",
          "state": {
            "_dom_classes": [],
            "_model_module": "@jupyter-widgets/controls",
            "_model_module_version": "1.5.0",
            "_model_name": "HTMLModel",
            "_view_count": null,
            "_view_module": "@jupyter-widgets/controls",
            "_view_module_version": "1.5.0",
            "_view_name": "HTMLView",
            "description": "",
            "description_tooltip": null,
            "layout": "IPY_MODEL_aba54552d41b4da99ce603fafa76d384",
            "placeholder": "​",
            "style": "IPY_MODEL_684a179c21634331af0295db9e054921",
            "value": "100%"
          }
        },
        "4e5b19d04d334555949bd1430b1de87e": {
          "model_module": "@jupyter-widgets/controls",
          "model_name": "FloatProgressModel",
          "model_module_version": "1.5.0",
          "state": {
            "_dom_classes": [],
            "_model_module": "@jupyter-widgets/controls",
            "_model_module_version": "1.5.0",
            "_model_name": "FloatProgressModel",
            "_view_count": null,
            "_view_module": "@jupyter-widgets/controls",
            "_view_module_version": "1.5.0",
            "_view_name": "ProgressView",
            "bar_style": "danger",
            "description": "",
            "description_tooltip": null,
            "layout": "IPY_MODEL_4184b4eed903452591addbd4600d0f14",
            "max": 25000,
            "min": 0,
            "orientation": "horizontal",
            "style": "IPY_MODEL_e05dab0465484e4c83aee6ca1ab1a5c9",
            "value": 24999
          }
        },
        "751f91470b6d4186830ed7c2b0e54ade": {
          "model_module": "@jupyter-widgets/controls",
          "model_name": "HTMLModel",
          "model_module_version": "1.5.0",
          "state": {
            "_dom_classes": [],
            "_model_module": "@jupyter-widgets/controls",
            "_model_module_version": "1.5.0",
            "_model_name": "HTMLModel",
            "_view_count": null,
            "_view_module": "@jupyter-widgets/controls",
            "_view_module_version": "1.5.0",
            "_view_name": "HTMLView",
            "description": "",
            "description_tooltip": null,
            "layout": "IPY_MODEL_abc88585c62e4ebdaa9d115d51288bc4",
            "placeholder": "​",
            "style": "IPY_MODEL_4d02b6344caa4c2eb4e6d07407dfc0ab",
            "value": " 24999/25000 [00:00&lt;00:00, 87733.18 examples/s]"
          }
        },
        "a19a7134db83465ebdcd8fcf3fbdb1df": {
          "model_module": "@jupyter-widgets/base",
          "model_name": "LayoutModel",
          "model_module_version": "1.2.0",
          "state": {
            "_model_module": "@jupyter-widgets/base",
            "_model_module_version": "1.2.0",
            "_model_name": "LayoutModel",
            "_view_count": null,
            "_view_module": "@jupyter-widgets/base",
            "_view_module_version": "1.2.0",
            "_view_name": "LayoutView",
            "align_content": null,
            "align_items": null,
            "align_self": null,
            "border": null,
            "bottom": null,
            "display": null,
            "flex": null,
            "flex_flow": null,
            "grid_area": null,
            "grid_auto_columns": null,
            "grid_auto_flow": null,
            "grid_auto_rows": null,
            "grid_column": null,
            "grid_gap": null,
            "grid_row": null,
            "grid_template_areas": null,
            "grid_template_columns": null,
            "grid_template_rows": null,
            "height": null,
            "justify_content": null,
            "justify_items": null,
            "left": null,
            "margin": null,
            "max_height": null,
            "max_width": null,
            "min_height": null,
            "min_width": null,
            "object_fit": null,
            "object_position": null,
            "order": null,
            "overflow": null,
            "overflow_x": null,
            "overflow_y": null,
            "padding": null,
            "right": null,
            "top": null,
            "visibility": null,
            "width": null
          }
        },
        "aba54552d41b4da99ce603fafa76d384": {
          "model_module": "@jupyter-widgets/base",
          "model_name": "LayoutModel",
          "model_module_version": "1.2.0",
          "state": {
            "_model_module": "@jupyter-widgets/base",
            "_model_module_version": "1.2.0",
            "_model_name": "LayoutModel",
            "_view_count": null,
            "_view_module": "@jupyter-widgets/base",
            "_view_module_version": "1.2.0",
            "_view_name": "LayoutView",
            "align_content": null,
            "align_items": null,
            "align_self": null,
            "border": null,
            "bottom": null,
            "display": null,
            "flex": null,
            "flex_flow": null,
            "grid_area": null,
            "grid_auto_columns": null,
            "grid_auto_flow": null,
            "grid_auto_rows": null,
            "grid_column": null,
            "grid_gap": null,
            "grid_row": null,
            "grid_template_areas": null,
            "grid_template_columns": null,
            "grid_template_rows": null,
            "height": null,
            "justify_content": null,
            "justify_items": null,
            "left": null,
            "margin": null,
            "max_height": null,
            "max_width": null,
            "min_height": null,
            "min_width": null,
            "object_fit": null,
            "object_position": null,
            "order": null,
            "overflow": null,
            "overflow_x": null,
            "overflow_y": null,
            "padding": null,
            "right": null,
            "top": null,
            "visibility": null,
            "width": null
          }
        },
        "684a179c21634331af0295db9e054921": {
          "model_module": "@jupyter-widgets/controls",
          "model_name": "DescriptionStyleModel",
          "model_module_version": "1.5.0",
          "state": {
            "_model_module": "@jupyter-widgets/controls",
            "_model_module_version": "1.5.0",
            "_model_name": "DescriptionStyleModel",
            "_view_count": null,
            "_view_module": "@jupyter-widgets/base",
            "_view_module_version": "1.2.0",
            "_view_name": "StyleView",
            "description_width": ""
          }
        },
        "4184b4eed903452591addbd4600d0f14": {
          "model_module": "@jupyter-widgets/base",
          "model_name": "LayoutModel",
          "model_module_version": "1.2.0",
          "state": {
            "_model_module": "@jupyter-widgets/base",
            "_model_module_version": "1.2.0",
            "_model_name": "LayoutModel",
            "_view_count": null,
            "_view_module": "@jupyter-widgets/base",
            "_view_module_version": "1.2.0",
            "_view_name": "LayoutView",
            "align_content": null,
            "align_items": null,
            "align_self": null,
            "border": null,
            "bottom": null,
            "display": null,
            "flex": null,
            "flex_flow": null,
            "grid_area": null,
            "grid_auto_columns": null,
            "grid_auto_flow": null,
            "grid_auto_rows": null,
            "grid_column": null,
            "grid_gap": null,
            "grid_row": null,
            "grid_template_areas": null,
            "grid_template_columns": null,
            "grid_template_rows": null,
            "height": null,
            "justify_content": null,
            "justify_items": null,
            "left": null,
            "margin": null,
            "max_height": null,
            "max_width": null,
            "min_height": null,
            "min_width": null,
            "object_fit": null,
            "object_position": null,
            "order": null,
            "overflow": null,
            "overflow_x": null,
            "overflow_y": null,
            "padding": null,
            "right": null,
            "top": null,
            "visibility": null,
            "width": null
          }
        },
        "e05dab0465484e4c83aee6ca1ab1a5c9": {
          "model_module": "@jupyter-widgets/controls",
          "model_name": "ProgressStyleModel",
          "model_module_version": "1.5.0",
          "state": {
            "_model_module": "@jupyter-widgets/controls",
            "_model_module_version": "1.5.0",
            "_model_name": "ProgressStyleModel",
            "_view_count": null,
            "_view_module": "@jupyter-widgets/base",
            "_view_module_version": "1.2.0",
            "_view_name": "StyleView",
            "bar_color": null,
            "description_width": ""
          }
        },
        "abc88585c62e4ebdaa9d115d51288bc4": {
          "model_module": "@jupyter-widgets/base",
          "model_name": "LayoutModel",
          "model_module_version": "1.2.0",
          "state": {
            "_model_module": "@jupyter-widgets/base",
            "_model_module_version": "1.2.0",
            "_model_name": "LayoutModel",
            "_view_count": null,
            "_view_module": "@jupyter-widgets/base",
            "_view_module_version": "1.2.0",
            "_view_name": "LayoutView",
            "align_content": null,
            "align_items": null,
            "align_self": null,
            "border": null,
            "bottom": null,
            "display": null,
            "flex": null,
            "flex_flow": null,
            "grid_area": null,
            "grid_auto_columns": null,
            "grid_auto_flow": null,
            "grid_auto_rows": null,
            "grid_column": null,
            "grid_gap": null,
            "grid_row": null,
            "grid_template_areas": null,
            "grid_template_columns": null,
            "grid_template_rows": null,
            "height": null,
            "justify_content": null,
            "justify_items": null,
            "left": null,
            "margin": null,
            "max_height": null,
            "max_width": null,
            "min_height": null,
            "min_width": null,
            "object_fit": null,
            "object_position": null,
            "order": null,
            "overflow": null,
            "overflow_x": null,
            "overflow_y": null,
            "padding": null,
            "right": null,
            "top": null,
            "visibility": null,
            "width": null
          }
        },
        "4d02b6344caa4c2eb4e6d07407dfc0ab": {
          "model_module": "@jupyter-widgets/controls",
          "model_name": "DescriptionStyleModel",
          "model_module_version": "1.5.0",
          "state": {
            "_model_module": "@jupyter-widgets/controls",
            "_model_module_version": "1.5.0",
            "_model_name": "DescriptionStyleModel",
            "_view_count": null,
            "_view_module": "@jupyter-widgets/base",
            "_view_module_version": "1.2.0",
            "_view_name": "StyleView",
            "description_width": ""
          }
        },
        "dc06fe61c57245d795d0fbeb724ce345": {
          "model_module": "@jupyter-widgets/controls",
          "model_name": "HBoxModel",
          "model_module_version": "1.5.0",
          "state": {
            "_dom_classes": [],
            "_model_module": "@jupyter-widgets/controls",
            "_model_module_version": "1.5.0",
            "_model_name": "HBoxModel",
            "_view_count": null,
            "_view_module": "@jupyter-widgets/controls",
            "_view_module_version": "1.5.0",
            "_view_name": "HBoxView",
            "box_style": "",
            "children": [
              "IPY_MODEL_c1b675d02d664a9297a6d9bb64dc0f91",
              "IPY_MODEL_1eb416bddb9342d4b7daddb1e4c26cdf",
              "IPY_MODEL_9cadd57945704370a4f1dcafbbf6c7e9"
            ],
            "layout": "IPY_MODEL_061dc0f4616b4881b9b50c03963693ef"
          }
        },
        "c1b675d02d664a9297a6d9bb64dc0f91": {
          "model_module": "@jupyter-widgets/controls",
          "model_name": "HTMLModel",
          "model_module_version": "1.5.0",
          "state": {
            "_dom_classes": [],
            "_model_module": "@jupyter-widgets/controls",
            "_model_module_version": "1.5.0",
            "_model_name": "HTMLModel",
            "_view_count": null,
            "_view_module": "@jupyter-widgets/controls",
            "_view_module_version": "1.5.0",
            "_view_name": "HTMLView",
            "description": "",
            "description_tooltip": null,
            "layout": "IPY_MODEL_c61d89875c224ccebefb48603f7afc73",
            "placeholder": "​",
            "style": "IPY_MODEL_ced0a386fd784d5db2858ec6288decff",
            "value": ""
          }
        },
        "1eb416bddb9342d4b7daddb1e4c26cdf": {
          "model_module": "@jupyter-widgets/controls",
          "model_name": "FloatProgressModel",
          "model_module_version": "1.5.0",
          "state": {
            "_dom_classes": [],
            "_model_module": "@jupyter-widgets/controls",
            "_model_module_version": "1.5.0",
            "_model_name": "FloatProgressModel",
            "_view_count": null,
            "_view_module": "@jupyter-widgets/controls",
            "_view_module_version": "1.5.0",
            "_view_name": "ProgressView",
            "bar_style": "info",
            "description": "",
            "description_tooltip": null,
            "layout": "IPY_MODEL_8f5318faa4444719a80dd757ac855eb8",
            "max": 1,
            "min": 0,
            "orientation": "horizontal",
            "style": "IPY_MODEL_94b975e726de42ce92305b659eeb81d5",
            "value": 1
          }
        },
        "9cadd57945704370a4f1dcafbbf6c7e9": {
          "model_module": "@jupyter-widgets/controls",
          "model_name": "HTMLModel",
          "model_module_version": "1.5.0",
          "state": {
            "_dom_classes": [],
            "_model_module": "@jupyter-widgets/controls",
            "_model_module_version": "1.5.0",
            "_model_name": "HTMLModel",
            "_view_count": null,
            "_view_module": "@jupyter-widgets/controls",
            "_view_module_version": "1.5.0",
            "_view_name": "HTMLView",
            "description": "",
            "description_tooltip": null,
            "layout": "IPY_MODEL_4fc26e0fc7384556b04f69a4746afd30",
            "placeholder": "​",
            "style": "IPY_MODEL_039ae163c6ad4f169eb52eaa14708a4c",
            "value": " 24962/0 [00:07&lt;00:00, 3709.07 examples/s]"
          }
        },
        "061dc0f4616b4881b9b50c03963693ef": {
          "model_module": "@jupyter-widgets/base",
          "model_name": "LayoutModel",
          "model_module_version": "1.2.0",
          "state": {
            "_model_module": "@jupyter-widgets/base",
            "_model_module_version": "1.2.0",
            "_model_name": "LayoutModel",
            "_view_count": null,
            "_view_module": "@jupyter-widgets/base",
            "_view_module_version": "1.2.0",
            "_view_name": "LayoutView",
            "align_content": null,
            "align_items": null,
            "align_self": null,
            "border": null,
            "bottom": null,
            "display": null,
            "flex": null,
            "flex_flow": null,
            "grid_area": null,
            "grid_auto_columns": null,
            "grid_auto_flow": null,
            "grid_auto_rows": null,
            "grid_column": null,
            "grid_gap": null,
            "grid_row": null,
            "grid_template_areas": null,
            "grid_template_columns": null,
            "grid_template_rows": null,
            "height": null,
            "justify_content": null,
            "justify_items": null,
            "left": null,
            "margin": null,
            "max_height": null,
            "max_width": null,
            "min_height": null,
            "min_width": null,
            "object_fit": null,
            "object_position": null,
            "order": null,
            "overflow": null,
            "overflow_x": null,
            "overflow_y": null,
            "padding": null,
            "right": null,
            "top": null,
            "visibility": null,
            "width": null
          }
        },
        "c61d89875c224ccebefb48603f7afc73": {
          "model_module": "@jupyter-widgets/base",
          "model_name": "LayoutModel",
          "model_module_version": "1.2.0",
          "state": {
            "_model_module": "@jupyter-widgets/base",
            "_model_module_version": "1.2.0",
            "_model_name": "LayoutModel",
            "_view_count": null,
            "_view_module": "@jupyter-widgets/base",
            "_view_module_version": "1.2.0",
            "_view_name": "LayoutView",
            "align_content": null,
            "align_items": null,
            "align_self": null,
            "border": null,
            "bottom": null,
            "display": null,
            "flex": null,
            "flex_flow": null,
            "grid_area": null,
            "grid_auto_columns": null,
            "grid_auto_flow": null,
            "grid_auto_rows": null,
            "grid_column": null,
            "grid_gap": null,
            "grid_row": null,
            "grid_template_areas": null,
            "grid_template_columns": null,
            "grid_template_rows": null,
            "height": null,
            "justify_content": null,
            "justify_items": null,
            "left": null,
            "margin": null,
            "max_height": null,
            "max_width": null,
            "min_height": null,
            "min_width": null,
            "object_fit": null,
            "object_position": null,
            "order": null,
            "overflow": null,
            "overflow_x": null,
            "overflow_y": null,
            "padding": null,
            "right": null,
            "top": null,
            "visibility": null,
            "width": null
          }
        },
        "ced0a386fd784d5db2858ec6288decff": {
          "model_module": "@jupyter-widgets/controls",
          "model_name": "DescriptionStyleModel",
          "model_module_version": "1.5.0",
          "state": {
            "_model_module": "@jupyter-widgets/controls",
            "_model_module_version": "1.5.0",
            "_model_name": "DescriptionStyleModel",
            "_view_count": null,
            "_view_module": "@jupyter-widgets/base",
            "_view_module_version": "1.2.0",
            "_view_name": "StyleView",
            "description_width": ""
          }
        },
        "8f5318faa4444719a80dd757ac855eb8": {
          "model_module": "@jupyter-widgets/base",
          "model_name": "LayoutModel",
          "model_module_version": "1.2.0",
          "state": {
            "_model_module": "@jupyter-widgets/base",
            "_model_module_version": "1.2.0",
            "_model_name": "LayoutModel",
            "_view_count": null,
            "_view_module": "@jupyter-widgets/base",
            "_view_module_version": "1.2.0",
            "_view_name": "LayoutView",
            "align_content": null,
            "align_items": null,
            "align_self": null,
            "border": null,
            "bottom": null,
            "display": null,
            "flex": null,
            "flex_flow": null,
            "grid_area": null,
            "grid_auto_columns": null,
            "grid_auto_flow": null,
            "grid_auto_rows": null,
            "grid_column": null,
            "grid_gap": null,
            "grid_row": null,
            "grid_template_areas": null,
            "grid_template_columns": null,
            "grid_template_rows": null,
            "height": null,
            "justify_content": null,
            "justify_items": null,
            "left": null,
            "margin": null,
            "max_height": null,
            "max_width": null,
            "min_height": null,
            "min_width": null,
            "object_fit": null,
            "object_position": null,
            "order": null,
            "overflow": null,
            "overflow_x": null,
            "overflow_y": null,
            "padding": null,
            "right": null,
            "top": null,
            "visibility": null,
            "width": "20px"
          }
        },
        "94b975e726de42ce92305b659eeb81d5": {
          "model_module": "@jupyter-widgets/controls",
          "model_name": "ProgressStyleModel",
          "model_module_version": "1.5.0",
          "state": {
            "_model_module": "@jupyter-widgets/controls",
            "_model_module_version": "1.5.0",
            "_model_name": "ProgressStyleModel",
            "_view_count": null,
            "_view_module": "@jupyter-widgets/base",
            "_view_module_version": "1.2.0",
            "_view_name": "StyleView",
            "bar_color": null,
            "description_width": ""
          }
        },
        "4fc26e0fc7384556b04f69a4746afd30": {
          "model_module": "@jupyter-widgets/base",
          "model_name": "LayoutModel",
          "model_module_version": "1.2.0",
          "state": {
            "_model_module": "@jupyter-widgets/base",
            "_model_module_version": "1.2.0",
            "_model_name": "LayoutModel",
            "_view_count": null,
            "_view_module": "@jupyter-widgets/base",
            "_view_module_version": "1.2.0",
            "_view_name": "LayoutView",
            "align_content": null,
            "align_items": null,
            "align_self": null,
            "border": null,
            "bottom": null,
            "display": null,
            "flex": null,
            "flex_flow": null,
            "grid_area": null,
            "grid_auto_columns": null,
            "grid_auto_flow": null,
            "grid_auto_rows": null,
            "grid_column": null,
            "grid_gap": null,
            "grid_row": null,
            "grid_template_areas": null,
            "grid_template_columns": null,
            "grid_template_rows": null,
            "height": null,
            "justify_content": null,
            "justify_items": null,
            "left": null,
            "margin": null,
            "max_height": null,
            "max_width": null,
            "min_height": null,
            "min_width": null,
            "object_fit": null,
            "object_position": null,
            "order": null,
            "overflow": null,
            "overflow_x": null,
            "overflow_y": null,
            "padding": null,
            "right": null,
            "top": null,
            "visibility": null,
            "width": null
          }
        },
        "039ae163c6ad4f169eb52eaa14708a4c": {
          "model_module": "@jupyter-widgets/controls",
          "model_name": "DescriptionStyleModel",
          "model_module_version": "1.5.0",
          "state": {
            "_model_module": "@jupyter-widgets/controls",
            "_model_module_version": "1.5.0",
            "_model_name": "DescriptionStyleModel",
            "_view_count": null,
            "_view_module": "@jupyter-widgets/base",
            "_view_module_version": "1.2.0",
            "_view_name": "StyleView",
            "description_width": ""
          }
        },
        "e548e97185eb42a5947345acf411d1a1": {
          "model_module": "@jupyter-widgets/controls",
          "model_name": "HBoxModel",
          "model_module_version": "1.5.0",
          "state": {
            "_dom_classes": [],
            "_model_module": "@jupyter-widgets/controls",
            "_model_module_version": "1.5.0",
            "_model_name": "HBoxModel",
            "_view_count": null,
            "_view_module": "@jupyter-widgets/controls",
            "_view_module_version": "1.5.0",
            "_view_name": "HBoxView",
            "box_style": "",
            "children": [
              "IPY_MODEL_5399eb2021174d2d9bf4de101d1af04b",
              "IPY_MODEL_64739dd515644709b7b134ad28d32cab",
              "IPY_MODEL_65fe067e4f7247658cce4bf68e8154f6"
            ],
            "layout": "IPY_MODEL_bbd86d39522e46d8996bd4e56817d3eb"
          }
        },
        "5399eb2021174d2d9bf4de101d1af04b": {
          "model_module": "@jupyter-widgets/controls",
          "model_name": "HTMLModel",
          "model_module_version": "1.5.0",
          "state": {
            "_dom_classes": [],
            "_model_module": "@jupyter-widgets/controls",
            "_model_module_version": "1.5.0",
            "_model_name": "HTMLModel",
            "_view_count": null,
            "_view_module": "@jupyter-widgets/controls",
            "_view_module_version": "1.5.0",
            "_view_name": "HTMLView",
            "description": "",
            "description_tooltip": null,
            "layout": "IPY_MODEL_1426fe5e5c0a4eaea54ea00e50983d43",
            "placeholder": "​",
            "style": "IPY_MODEL_a42f89ca57f440b2b34b7fe874f6c60f",
            "value": "100%"
          }
        },
        "64739dd515644709b7b134ad28d32cab": {
          "model_module": "@jupyter-widgets/controls",
          "model_name": "FloatProgressModel",
          "model_module_version": "1.5.0",
          "state": {
            "_dom_classes": [],
            "_model_module": "@jupyter-widgets/controls",
            "_model_module_version": "1.5.0",
            "_model_name": "FloatProgressModel",
            "_view_count": null,
            "_view_module": "@jupyter-widgets/controls",
            "_view_module_version": "1.5.0",
            "_view_name": "ProgressView",
            "bar_style": "danger",
            "description": "",
            "description_tooltip": null,
            "layout": "IPY_MODEL_cfc90c333ff54d38b198613b24eb712d",
            "max": 25000,
            "min": 0,
            "orientation": "horizontal",
            "style": "IPY_MODEL_22d1d36677f04983a25536ffca07837a",
            "value": 24999
          }
        },
        "65fe067e4f7247658cce4bf68e8154f6": {
          "model_module": "@jupyter-widgets/controls",
          "model_name": "HTMLModel",
          "model_module_version": "1.5.0",
          "state": {
            "_dom_classes": [],
            "_model_module": "@jupyter-widgets/controls",
            "_model_module_version": "1.5.0",
            "_model_name": "HTMLModel",
            "_view_count": null,
            "_view_module": "@jupyter-widgets/controls",
            "_view_module_version": "1.5.0",
            "_view_name": "HTMLView",
            "description": "",
            "description_tooltip": null,
            "layout": "IPY_MODEL_9c46ec04c475453a80147b38421b9465",
            "placeholder": "​",
            "style": "IPY_MODEL_1f86319c1ce84dca84f121039bb66cbe",
            "value": " 24999/25000 [00:00&lt;00:00, 115147.76 examples/s]"
          }
        },
        "bbd86d39522e46d8996bd4e56817d3eb": {
          "model_module": "@jupyter-widgets/base",
          "model_name": "LayoutModel",
          "model_module_version": "1.2.0",
          "state": {
            "_model_module": "@jupyter-widgets/base",
            "_model_module_version": "1.2.0",
            "_model_name": "LayoutModel",
            "_view_count": null,
            "_view_module": "@jupyter-widgets/base",
            "_view_module_version": "1.2.0",
            "_view_name": "LayoutView",
            "align_content": null,
            "align_items": null,
            "align_self": null,
            "border": null,
            "bottom": null,
            "display": null,
            "flex": null,
            "flex_flow": null,
            "grid_area": null,
            "grid_auto_columns": null,
            "grid_auto_flow": null,
            "grid_auto_rows": null,
            "grid_column": null,
            "grid_gap": null,
            "grid_row": null,
            "grid_template_areas": null,
            "grid_template_columns": null,
            "grid_template_rows": null,
            "height": null,
            "justify_content": null,
            "justify_items": null,
            "left": null,
            "margin": null,
            "max_height": null,
            "max_width": null,
            "min_height": null,
            "min_width": null,
            "object_fit": null,
            "object_position": null,
            "order": null,
            "overflow": null,
            "overflow_x": null,
            "overflow_y": null,
            "padding": null,
            "right": null,
            "top": null,
            "visibility": null,
            "width": null
          }
        },
        "1426fe5e5c0a4eaea54ea00e50983d43": {
          "model_module": "@jupyter-widgets/base",
          "model_name": "LayoutModel",
          "model_module_version": "1.2.0",
          "state": {
            "_model_module": "@jupyter-widgets/base",
            "_model_module_version": "1.2.0",
            "_model_name": "LayoutModel",
            "_view_count": null,
            "_view_module": "@jupyter-widgets/base",
            "_view_module_version": "1.2.0",
            "_view_name": "LayoutView",
            "align_content": null,
            "align_items": null,
            "align_self": null,
            "border": null,
            "bottom": null,
            "display": null,
            "flex": null,
            "flex_flow": null,
            "grid_area": null,
            "grid_auto_columns": null,
            "grid_auto_flow": null,
            "grid_auto_rows": null,
            "grid_column": null,
            "grid_gap": null,
            "grid_row": null,
            "grid_template_areas": null,
            "grid_template_columns": null,
            "grid_template_rows": null,
            "height": null,
            "justify_content": null,
            "justify_items": null,
            "left": null,
            "margin": null,
            "max_height": null,
            "max_width": null,
            "min_height": null,
            "min_width": null,
            "object_fit": null,
            "object_position": null,
            "order": null,
            "overflow": null,
            "overflow_x": null,
            "overflow_y": null,
            "padding": null,
            "right": null,
            "top": null,
            "visibility": null,
            "width": null
          }
        },
        "a42f89ca57f440b2b34b7fe874f6c60f": {
          "model_module": "@jupyter-widgets/controls",
          "model_name": "DescriptionStyleModel",
          "model_module_version": "1.5.0",
          "state": {
            "_model_module": "@jupyter-widgets/controls",
            "_model_module_version": "1.5.0",
            "_model_name": "DescriptionStyleModel",
            "_view_count": null,
            "_view_module": "@jupyter-widgets/base",
            "_view_module_version": "1.2.0",
            "_view_name": "StyleView",
            "description_width": ""
          }
        },
        "cfc90c333ff54d38b198613b24eb712d": {
          "model_module": "@jupyter-widgets/base",
          "model_name": "LayoutModel",
          "model_module_version": "1.2.0",
          "state": {
            "_model_module": "@jupyter-widgets/base",
            "_model_module_version": "1.2.0",
            "_model_name": "LayoutModel",
            "_view_count": null,
            "_view_module": "@jupyter-widgets/base",
            "_view_module_version": "1.2.0",
            "_view_name": "LayoutView",
            "align_content": null,
            "align_items": null,
            "align_self": null,
            "border": null,
            "bottom": null,
            "display": null,
            "flex": null,
            "flex_flow": null,
            "grid_area": null,
            "grid_auto_columns": null,
            "grid_auto_flow": null,
            "grid_auto_rows": null,
            "grid_column": null,
            "grid_gap": null,
            "grid_row": null,
            "grid_template_areas": null,
            "grid_template_columns": null,
            "grid_template_rows": null,
            "height": null,
            "justify_content": null,
            "justify_items": null,
            "left": null,
            "margin": null,
            "max_height": null,
            "max_width": null,
            "min_height": null,
            "min_width": null,
            "object_fit": null,
            "object_position": null,
            "order": null,
            "overflow": null,
            "overflow_x": null,
            "overflow_y": null,
            "padding": null,
            "right": null,
            "top": null,
            "visibility": null,
            "width": null
          }
        },
        "22d1d36677f04983a25536ffca07837a": {
          "model_module": "@jupyter-widgets/controls",
          "model_name": "ProgressStyleModel",
          "model_module_version": "1.5.0",
          "state": {
            "_model_module": "@jupyter-widgets/controls",
            "_model_module_version": "1.5.0",
            "_model_name": "ProgressStyleModel",
            "_view_count": null,
            "_view_module": "@jupyter-widgets/base",
            "_view_module_version": "1.2.0",
            "_view_name": "StyleView",
            "bar_color": null,
            "description_width": ""
          }
        },
        "9c46ec04c475453a80147b38421b9465": {
          "model_module": "@jupyter-widgets/base",
          "model_name": "LayoutModel",
          "model_module_version": "1.2.0",
          "state": {
            "_model_module": "@jupyter-widgets/base",
            "_model_module_version": "1.2.0",
            "_model_name": "LayoutModel",
            "_view_count": null,
            "_view_module": "@jupyter-widgets/base",
            "_view_module_version": "1.2.0",
            "_view_name": "LayoutView",
            "align_content": null,
            "align_items": null,
            "align_self": null,
            "border": null,
            "bottom": null,
            "display": null,
            "flex": null,
            "flex_flow": null,
            "grid_area": null,
            "grid_auto_columns": null,
            "grid_auto_flow": null,
            "grid_auto_rows": null,
            "grid_column": null,
            "grid_gap": null,
            "grid_row": null,
            "grid_template_areas": null,
            "grid_template_columns": null,
            "grid_template_rows": null,
            "height": null,
            "justify_content": null,
            "justify_items": null,
            "left": null,
            "margin": null,
            "max_height": null,
            "max_width": null,
            "min_height": null,
            "min_width": null,
            "object_fit": null,
            "object_position": null,
            "order": null,
            "overflow": null,
            "overflow_x": null,
            "overflow_y": null,
            "padding": null,
            "right": null,
            "top": null,
            "visibility": null,
            "width": null
          }
        },
        "1f86319c1ce84dca84f121039bb66cbe": {
          "model_module": "@jupyter-widgets/controls",
          "model_name": "DescriptionStyleModel",
          "model_module_version": "1.5.0",
          "state": {
            "_model_module": "@jupyter-widgets/controls",
            "_model_module_version": "1.5.0",
            "_model_name": "DescriptionStyleModel",
            "_view_count": null,
            "_view_module": "@jupyter-widgets/base",
            "_view_module_version": "1.2.0",
            "_view_name": "StyleView",
            "description_width": ""
          }
        },
        "1cd8797ba3f14a3e99f8eda9a4ad214b": {
          "model_module": "@jupyter-widgets/controls",
          "model_name": "HBoxModel",
          "model_module_version": "1.5.0",
          "state": {
            "_dom_classes": [],
            "_model_module": "@jupyter-widgets/controls",
            "_model_module_version": "1.5.0",
            "_model_name": "HBoxModel",
            "_view_count": null,
            "_view_module": "@jupyter-widgets/controls",
            "_view_module_version": "1.5.0",
            "_view_name": "HBoxView",
            "box_style": "",
            "children": [
              "IPY_MODEL_db866f56d04842eca18f5cdb742d0f7d",
              "IPY_MODEL_31ecde0de74d4921a7b5f9514bc16e81",
              "IPY_MODEL_df0b9e9e1789408b91d566dcb52f2485"
            ],
            "layout": "IPY_MODEL_463a58bcfb9c416ba5ae5c78e0dba09e"
          }
        },
        "db866f56d04842eca18f5cdb742d0f7d": {
          "model_module": "@jupyter-widgets/controls",
          "model_name": "HTMLModel",
          "model_module_version": "1.5.0",
          "state": {
            "_dom_classes": [],
            "_model_module": "@jupyter-widgets/controls",
            "_model_module_version": "1.5.0",
            "_model_name": "HTMLModel",
            "_view_count": null,
            "_view_module": "@jupyter-widgets/controls",
            "_view_module_version": "1.5.0",
            "_view_name": "HTMLView",
            "description": "",
            "description_tooltip": null,
            "layout": "IPY_MODEL_5d43614b3eee496fb3d80fd2b9f3909c",
            "placeholder": "​",
            "style": "IPY_MODEL_ac302a7c7cc8483ea8aa47271947d390",
            "value": ""
          }
        },
        "31ecde0de74d4921a7b5f9514bc16e81": {
          "model_module": "@jupyter-widgets/controls",
          "model_name": "FloatProgressModel",
          "model_module_version": "1.5.0",
          "state": {
            "_dom_classes": [],
            "_model_module": "@jupyter-widgets/controls",
            "_model_module_version": "1.5.0",
            "_model_name": "FloatProgressModel",
            "_view_count": null,
            "_view_module": "@jupyter-widgets/controls",
            "_view_module_version": "1.5.0",
            "_view_name": "ProgressView",
            "bar_style": "info",
            "description": "",
            "description_tooltip": null,
            "layout": "IPY_MODEL_9091c5b9de944c589358a4612b962777",
            "max": 1,
            "min": 0,
            "orientation": "horizontal",
            "style": "IPY_MODEL_cfc3538d51c44cddb864bf8bfc8393fb",
            "value": 1
          }
        },
        "df0b9e9e1789408b91d566dcb52f2485": {
          "model_module": "@jupyter-widgets/controls",
          "model_name": "HTMLModel",
          "model_module_version": "1.5.0",
          "state": {
            "_dom_classes": [],
            "_model_module": "@jupyter-widgets/controls",
            "_model_module_version": "1.5.0",
            "_model_name": "HTMLModel",
            "_view_count": null,
            "_view_module": "@jupyter-widgets/controls",
            "_view_module_version": "1.5.0",
            "_view_name": "HTMLView",
            "description": "",
            "description_tooltip": null,
            "layout": "IPY_MODEL_5b55152daaa145bb81530093d73726cf",
            "placeholder": "​",
            "style": "IPY_MODEL_ba9f299a8bab43efb1fece849266e612",
            "value": " 49727/0 [00:17&lt;00:00, 3659.15 examples/s]"
          }
        },
        "463a58bcfb9c416ba5ae5c78e0dba09e": {
          "model_module": "@jupyter-widgets/base",
          "model_name": "LayoutModel",
          "model_module_version": "1.2.0",
          "state": {
            "_model_module": "@jupyter-widgets/base",
            "_model_module_version": "1.2.0",
            "_model_name": "LayoutModel",
            "_view_count": null,
            "_view_module": "@jupyter-widgets/base",
            "_view_module_version": "1.2.0",
            "_view_name": "LayoutView",
            "align_content": null,
            "align_items": null,
            "align_self": null,
            "border": null,
            "bottom": null,
            "display": null,
            "flex": null,
            "flex_flow": null,
            "grid_area": null,
            "grid_auto_columns": null,
            "grid_auto_flow": null,
            "grid_auto_rows": null,
            "grid_column": null,
            "grid_gap": null,
            "grid_row": null,
            "grid_template_areas": null,
            "grid_template_columns": null,
            "grid_template_rows": null,
            "height": null,
            "justify_content": null,
            "justify_items": null,
            "left": null,
            "margin": null,
            "max_height": null,
            "max_width": null,
            "min_height": null,
            "min_width": null,
            "object_fit": null,
            "object_position": null,
            "order": null,
            "overflow": null,
            "overflow_x": null,
            "overflow_y": null,
            "padding": null,
            "right": null,
            "top": null,
            "visibility": null,
            "width": null
          }
        },
        "5d43614b3eee496fb3d80fd2b9f3909c": {
          "model_module": "@jupyter-widgets/base",
          "model_name": "LayoutModel",
          "model_module_version": "1.2.0",
          "state": {
            "_model_module": "@jupyter-widgets/base",
            "_model_module_version": "1.2.0",
            "_model_name": "LayoutModel",
            "_view_count": null,
            "_view_module": "@jupyter-widgets/base",
            "_view_module_version": "1.2.0",
            "_view_name": "LayoutView",
            "align_content": null,
            "align_items": null,
            "align_self": null,
            "border": null,
            "bottom": null,
            "display": null,
            "flex": null,
            "flex_flow": null,
            "grid_area": null,
            "grid_auto_columns": null,
            "grid_auto_flow": null,
            "grid_auto_rows": null,
            "grid_column": null,
            "grid_gap": null,
            "grid_row": null,
            "grid_template_areas": null,
            "grid_template_columns": null,
            "grid_template_rows": null,
            "height": null,
            "justify_content": null,
            "justify_items": null,
            "left": null,
            "margin": null,
            "max_height": null,
            "max_width": null,
            "min_height": null,
            "min_width": null,
            "object_fit": null,
            "object_position": null,
            "order": null,
            "overflow": null,
            "overflow_x": null,
            "overflow_y": null,
            "padding": null,
            "right": null,
            "top": null,
            "visibility": null,
            "width": null
          }
        },
        "ac302a7c7cc8483ea8aa47271947d390": {
          "model_module": "@jupyter-widgets/controls",
          "model_name": "DescriptionStyleModel",
          "model_module_version": "1.5.0",
          "state": {
            "_model_module": "@jupyter-widgets/controls",
            "_model_module_version": "1.5.0",
            "_model_name": "DescriptionStyleModel",
            "_view_count": null,
            "_view_module": "@jupyter-widgets/base",
            "_view_module_version": "1.2.0",
            "_view_name": "StyleView",
            "description_width": ""
          }
        },
        "9091c5b9de944c589358a4612b962777": {
          "model_module": "@jupyter-widgets/base",
          "model_name": "LayoutModel",
          "model_module_version": "1.2.0",
          "state": {
            "_model_module": "@jupyter-widgets/base",
            "_model_module_version": "1.2.0",
            "_model_name": "LayoutModel",
            "_view_count": null,
            "_view_module": "@jupyter-widgets/base",
            "_view_module_version": "1.2.0",
            "_view_name": "LayoutView",
            "align_content": null,
            "align_items": null,
            "align_self": null,
            "border": null,
            "bottom": null,
            "display": null,
            "flex": null,
            "flex_flow": null,
            "grid_area": null,
            "grid_auto_columns": null,
            "grid_auto_flow": null,
            "grid_auto_rows": null,
            "grid_column": null,
            "grid_gap": null,
            "grid_row": null,
            "grid_template_areas": null,
            "grid_template_columns": null,
            "grid_template_rows": null,
            "height": null,
            "justify_content": null,
            "justify_items": null,
            "left": null,
            "margin": null,
            "max_height": null,
            "max_width": null,
            "min_height": null,
            "min_width": null,
            "object_fit": null,
            "object_position": null,
            "order": null,
            "overflow": null,
            "overflow_x": null,
            "overflow_y": null,
            "padding": null,
            "right": null,
            "top": null,
            "visibility": null,
            "width": "20px"
          }
        },
        "cfc3538d51c44cddb864bf8bfc8393fb": {
          "model_module": "@jupyter-widgets/controls",
          "model_name": "ProgressStyleModel",
          "model_module_version": "1.5.0",
          "state": {
            "_model_module": "@jupyter-widgets/controls",
            "_model_module_version": "1.5.0",
            "_model_name": "ProgressStyleModel",
            "_view_count": null,
            "_view_module": "@jupyter-widgets/base",
            "_view_module_version": "1.2.0",
            "_view_name": "StyleView",
            "bar_color": null,
            "description_width": ""
          }
        },
        "5b55152daaa145bb81530093d73726cf": {
          "model_module": "@jupyter-widgets/base",
          "model_name": "LayoutModel",
          "model_module_version": "1.2.0",
          "state": {
            "_model_module": "@jupyter-widgets/base",
            "_model_module_version": "1.2.0",
            "_model_name": "LayoutModel",
            "_view_count": null,
            "_view_module": "@jupyter-widgets/base",
            "_view_module_version": "1.2.0",
            "_view_name": "LayoutView",
            "align_content": null,
            "align_items": null,
            "align_self": null,
            "border": null,
            "bottom": null,
            "display": null,
            "flex": null,
            "flex_flow": null,
            "grid_area": null,
            "grid_auto_columns": null,
            "grid_auto_flow": null,
            "grid_auto_rows": null,
            "grid_column": null,
            "grid_gap": null,
            "grid_row": null,
            "grid_template_areas": null,
            "grid_template_columns": null,
            "grid_template_rows": null,
            "height": null,
            "justify_content": null,
            "justify_items": null,
            "left": null,
            "margin": null,
            "max_height": null,
            "max_width": null,
            "min_height": null,
            "min_width": null,
            "object_fit": null,
            "object_position": null,
            "order": null,
            "overflow": null,
            "overflow_x": null,
            "overflow_y": null,
            "padding": null,
            "right": null,
            "top": null,
            "visibility": null,
            "width": null
          }
        },
        "ba9f299a8bab43efb1fece849266e612": {
          "model_module": "@jupyter-widgets/controls",
          "model_name": "DescriptionStyleModel",
          "model_module_version": "1.5.0",
          "state": {
            "_model_module": "@jupyter-widgets/controls",
            "_model_module_version": "1.5.0",
            "_model_name": "DescriptionStyleModel",
            "_view_count": null,
            "_view_module": "@jupyter-widgets/base",
            "_view_module_version": "1.2.0",
            "_view_name": "StyleView",
            "description_width": ""
          }
        },
        "c328dfe863234c5e9007a143e2932ed3": {
          "model_module": "@jupyter-widgets/controls",
          "model_name": "HBoxModel",
          "model_module_version": "1.5.0",
          "state": {
            "_dom_classes": [],
            "_model_module": "@jupyter-widgets/controls",
            "_model_module_version": "1.5.0",
            "_model_name": "HBoxModel",
            "_view_count": null,
            "_view_module": "@jupyter-widgets/controls",
            "_view_module_version": "1.5.0",
            "_view_name": "HBoxView",
            "box_style": "",
            "children": [
              "IPY_MODEL_c37e17b8dd20404c955955a528a2c706",
              "IPY_MODEL_6821280f6e4740b886680bfdc3082b35",
              "IPY_MODEL_75362301f620415f85089a6e8adb450b"
            ],
            "layout": "IPY_MODEL_e7e46c39a0834654932d7d93554624b1"
          }
        },
        "c37e17b8dd20404c955955a528a2c706": {
          "model_module": "@jupyter-widgets/controls",
          "model_name": "HTMLModel",
          "model_module_version": "1.5.0",
          "state": {
            "_dom_classes": [],
            "_model_module": "@jupyter-widgets/controls",
            "_model_module_version": "1.5.0",
            "_model_name": "HTMLModel",
            "_view_count": null,
            "_view_module": "@jupyter-widgets/controls",
            "_view_module_version": "1.5.0",
            "_view_name": "HTMLView",
            "description": "",
            "description_tooltip": null,
            "layout": "IPY_MODEL_9f188d27f7c349c9b860345d9f469724",
            "placeholder": "​",
            "style": "IPY_MODEL_bd1d1f84162044cca9a33eea22c2103a",
            "value": "100%"
          }
        },
        "6821280f6e4740b886680bfdc3082b35": {
          "model_module": "@jupyter-widgets/controls",
          "model_name": "FloatProgressModel",
          "model_module_version": "1.5.0",
          "state": {
            "_dom_classes": [],
            "_model_module": "@jupyter-widgets/controls",
            "_model_module_version": "1.5.0",
            "_model_name": "FloatProgressModel",
            "_view_count": null,
            "_view_module": "@jupyter-widgets/controls",
            "_view_module_version": "1.5.0",
            "_view_name": "ProgressView",
            "bar_style": "danger",
            "description": "",
            "description_tooltip": null,
            "layout": "IPY_MODEL_1baadefcd4f04d2da819a8c2813e8db5",
            "max": 50000,
            "min": 0,
            "orientation": "horizontal",
            "style": "IPY_MODEL_c5743ed2aad24a94bf06ec3c98ea06d3",
            "value": 49999
          }
        },
        "75362301f620415f85089a6e8adb450b": {
          "model_module": "@jupyter-widgets/controls",
          "model_name": "HTMLModel",
          "model_module_version": "1.5.0",
          "state": {
            "_dom_classes": [],
            "_model_module": "@jupyter-widgets/controls",
            "_model_module_version": "1.5.0",
            "_model_name": "HTMLModel",
            "_view_count": null,
            "_view_module": "@jupyter-widgets/controls",
            "_view_module_version": "1.5.0",
            "_view_name": "HTMLView",
            "description": "",
            "description_tooltip": null,
            "layout": "IPY_MODEL_4a128db8b4514352b2e5e9a5a4dde263",
            "placeholder": "​",
            "style": "IPY_MODEL_f253cbac80034d9c9d2915ffd35f4d39",
            "value": " 49999/50000 [00:00&lt;00:00, 178436.26 examples/s]"
          }
        },
        "e7e46c39a0834654932d7d93554624b1": {
          "model_module": "@jupyter-widgets/base",
          "model_name": "LayoutModel",
          "model_module_version": "1.2.0",
          "state": {
            "_model_module": "@jupyter-widgets/base",
            "_model_module_version": "1.2.0",
            "_model_name": "LayoutModel",
            "_view_count": null,
            "_view_module": "@jupyter-widgets/base",
            "_view_module_version": "1.2.0",
            "_view_name": "LayoutView",
            "align_content": null,
            "align_items": null,
            "align_self": null,
            "border": null,
            "bottom": null,
            "display": null,
            "flex": null,
            "flex_flow": null,
            "grid_area": null,
            "grid_auto_columns": null,
            "grid_auto_flow": null,
            "grid_auto_rows": null,
            "grid_column": null,
            "grid_gap": null,
            "grid_row": null,
            "grid_template_areas": null,
            "grid_template_columns": null,
            "grid_template_rows": null,
            "height": null,
            "justify_content": null,
            "justify_items": null,
            "left": null,
            "margin": null,
            "max_height": null,
            "max_width": null,
            "min_height": null,
            "min_width": null,
            "object_fit": null,
            "object_position": null,
            "order": null,
            "overflow": null,
            "overflow_x": null,
            "overflow_y": null,
            "padding": null,
            "right": null,
            "top": null,
            "visibility": null,
            "width": null
          }
        },
        "9f188d27f7c349c9b860345d9f469724": {
          "model_module": "@jupyter-widgets/base",
          "model_name": "LayoutModel",
          "model_module_version": "1.2.0",
          "state": {
            "_model_module": "@jupyter-widgets/base",
            "_model_module_version": "1.2.0",
            "_model_name": "LayoutModel",
            "_view_count": null,
            "_view_module": "@jupyter-widgets/base",
            "_view_module_version": "1.2.0",
            "_view_name": "LayoutView",
            "align_content": null,
            "align_items": null,
            "align_self": null,
            "border": null,
            "bottom": null,
            "display": null,
            "flex": null,
            "flex_flow": null,
            "grid_area": null,
            "grid_auto_columns": null,
            "grid_auto_flow": null,
            "grid_auto_rows": null,
            "grid_column": null,
            "grid_gap": null,
            "grid_row": null,
            "grid_template_areas": null,
            "grid_template_columns": null,
            "grid_template_rows": null,
            "height": null,
            "justify_content": null,
            "justify_items": null,
            "left": null,
            "margin": null,
            "max_height": null,
            "max_width": null,
            "min_height": null,
            "min_width": null,
            "object_fit": null,
            "object_position": null,
            "order": null,
            "overflow": null,
            "overflow_x": null,
            "overflow_y": null,
            "padding": null,
            "right": null,
            "top": null,
            "visibility": null,
            "width": null
          }
        },
        "bd1d1f84162044cca9a33eea22c2103a": {
          "model_module": "@jupyter-widgets/controls",
          "model_name": "DescriptionStyleModel",
          "model_module_version": "1.5.0",
          "state": {
            "_model_module": "@jupyter-widgets/controls",
            "_model_module_version": "1.5.0",
            "_model_name": "DescriptionStyleModel",
            "_view_count": null,
            "_view_module": "@jupyter-widgets/base",
            "_view_module_version": "1.2.0",
            "_view_name": "StyleView",
            "description_width": ""
          }
        },
        "1baadefcd4f04d2da819a8c2813e8db5": {
          "model_module": "@jupyter-widgets/base",
          "model_name": "LayoutModel",
          "model_module_version": "1.2.0",
          "state": {
            "_model_module": "@jupyter-widgets/base",
            "_model_module_version": "1.2.0",
            "_model_name": "LayoutModel",
            "_view_count": null,
            "_view_module": "@jupyter-widgets/base",
            "_view_module_version": "1.2.0",
            "_view_name": "LayoutView",
            "align_content": null,
            "align_items": null,
            "align_self": null,
            "border": null,
            "bottom": null,
            "display": null,
            "flex": null,
            "flex_flow": null,
            "grid_area": null,
            "grid_auto_columns": null,
            "grid_auto_flow": null,
            "grid_auto_rows": null,
            "grid_column": null,
            "grid_gap": null,
            "grid_row": null,
            "grid_template_areas": null,
            "grid_template_columns": null,
            "grid_template_rows": null,
            "height": null,
            "justify_content": null,
            "justify_items": null,
            "left": null,
            "margin": null,
            "max_height": null,
            "max_width": null,
            "min_height": null,
            "min_width": null,
            "object_fit": null,
            "object_position": null,
            "order": null,
            "overflow": null,
            "overflow_x": null,
            "overflow_y": null,
            "padding": null,
            "right": null,
            "top": null,
            "visibility": null,
            "width": null
          }
        },
        "c5743ed2aad24a94bf06ec3c98ea06d3": {
          "model_module": "@jupyter-widgets/controls",
          "model_name": "ProgressStyleModel",
          "model_module_version": "1.5.0",
          "state": {
            "_model_module": "@jupyter-widgets/controls",
            "_model_module_version": "1.5.0",
            "_model_name": "ProgressStyleModel",
            "_view_count": null,
            "_view_module": "@jupyter-widgets/base",
            "_view_module_version": "1.2.0",
            "_view_name": "StyleView",
            "bar_color": null,
            "description_width": ""
          }
        },
        "4a128db8b4514352b2e5e9a5a4dde263": {
          "model_module": "@jupyter-widgets/base",
          "model_name": "LayoutModel",
          "model_module_version": "1.2.0",
          "state": {
            "_model_module": "@jupyter-widgets/base",
            "_model_module_version": "1.2.0",
            "_model_name": "LayoutModel",
            "_view_count": null,
            "_view_module": "@jupyter-widgets/base",
            "_view_module_version": "1.2.0",
            "_view_name": "LayoutView",
            "align_content": null,
            "align_items": null,
            "align_self": null,
            "border": null,
            "bottom": null,
            "display": null,
            "flex": null,
            "flex_flow": null,
            "grid_area": null,
            "grid_auto_columns": null,
            "grid_auto_flow": null,
            "grid_auto_rows": null,
            "grid_column": null,
            "grid_gap": null,
            "grid_row": null,
            "grid_template_areas": null,
            "grid_template_columns": null,
            "grid_template_rows": null,
            "height": null,
            "justify_content": null,
            "justify_items": null,
            "left": null,
            "margin": null,
            "max_height": null,
            "max_width": null,
            "min_height": null,
            "min_width": null,
            "object_fit": null,
            "object_position": null,
            "order": null,
            "overflow": null,
            "overflow_x": null,
            "overflow_y": null,
            "padding": null,
            "right": null,
            "top": null,
            "visibility": null,
            "width": null
          }
        },
        "f253cbac80034d9c9d2915ffd35f4d39": {
          "model_module": "@jupyter-widgets/controls",
          "model_name": "DescriptionStyleModel",
          "model_module_version": "1.5.0",
          "state": {
            "_model_module": "@jupyter-widgets/controls",
            "_model_module_version": "1.5.0",
            "_model_name": "DescriptionStyleModel",
            "_view_count": null,
            "_view_module": "@jupyter-widgets/base",
            "_view_module_version": "1.2.0",
            "_view_name": "StyleView",
            "description_width": ""
          }
        }
      }
    },
    "gpuClass": "standard"
  },
  "nbformat": 4,
  "nbformat_minor": 0
}