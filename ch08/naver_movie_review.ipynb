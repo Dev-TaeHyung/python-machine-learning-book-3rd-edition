{
 "cells": [
  {
   "cell_type": "code",
   "execution_count": 1,
   "metadata": {
    "execution": {
     "iopub.execute_input": "2020-11-29T15:01:41.121048Z",
     "iopub.status.busy": "2020-11-29T15:01:41.119848Z",
     "iopub.status.idle": "2020-11-29T15:01:41.730013Z",
     "shell.execute_reply": "2020-11-29T15:01:41.731225Z"
    }
   },
   "outputs": [],
   "source": [
    "import konlpy\n",
    "import pandas as pd\n",
    "import numpy as np"
   ]
  },
  {
   "cell_type": "code",
   "execution_count": 2,
   "metadata": {
    "execution": {
     "iopub.execute_input": "2020-11-29T15:01:41.740407Z",
     "iopub.status.busy": "2020-11-29T15:01:41.738928Z",
     "iopub.status.idle": "2020-11-29T15:01:42.170874Z",
     "shell.execute_reply": "2020-11-29T15:01:42.172342Z"
    }
   },
   "outputs": [],
   "source": [
    "df_train = pd.read_csv('ratings_train.txt', delimiter='\\t', keep_default_na=False)"
   ]
  },
  {
   "cell_type": "code",
   "execution_count": 3,
   "metadata": {
    "execution": {
     "iopub.execute_input": "2020-11-29T15:01:42.193842Z",
     "iopub.status.busy": "2020-11-29T15:01:42.192161Z",
     "iopub.status.idle": "2020-11-29T15:01:42.202855Z",
     "shell.execute_reply": "2020-11-29T15:01:42.204059Z"
    }
   },
   "outputs": [
    {
     "data": {
      "text/html": [
       "<div>\n",
       "<style scoped>\n",
       "    .dataframe tbody tr th:only-of-type {\n",
       "        vertical-align: middle;\n",
       "    }\n",
       "\n",
       "    .dataframe tbody tr th {\n",
       "        vertical-align: top;\n",
       "    }\n",
       "\n",
       "    .dataframe thead th {\n",
       "        text-align: right;\n",
       "    }\n",
       "</style>\n",
       "<table border=\"1\" class=\"dataframe\">\n",
       "  <thead>\n",
       "    <tr style=\"text-align: right;\">\n",
       "      <th></th>\n",
       "      <th>id</th>\n",
       "      <th>document</th>\n",
       "      <th>label</th>\n",
       "    </tr>\n",
       "  </thead>\n",
       "  <tbody>\n",
       "    <tr>\n",
       "      <th>0</th>\n",
       "      <td>9976970</td>\n",
       "      <td>아 더빙.. 진짜 짜증나네요 목소리</td>\n",
       "      <td>0</td>\n",
       "    </tr>\n",
       "    <tr>\n",
       "      <th>1</th>\n",
       "      <td>3819312</td>\n",
       "      <td>흠...포스터보고 초딩영화줄....오버연기조차 가볍지 않구나</td>\n",
       "      <td>1</td>\n",
       "    </tr>\n",
       "    <tr>\n",
       "      <th>2</th>\n",
       "      <td>10265843</td>\n",
       "      <td>너무재밓었다그래서보는것을추천한다</td>\n",
       "      <td>0</td>\n",
       "    </tr>\n",
       "    <tr>\n",
       "      <th>3</th>\n",
       "      <td>9045019</td>\n",
       "      <td>교도소 이야기구먼 ..솔직히 재미는 없다..평점 조정</td>\n",
       "      <td>0</td>\n",
       "    </tr>\n",
       "    <tr>\n",
       "      <th>4</th>\n",
       "      <td>6483659</td>\n",
       "      <td>사이몬페그의 익살스런 연기가 돋보였던 영화!스파이더맨에서 늙어보이기만 했던 커스틴 ...</td>\n",
       "      <td>1</td>\n",
       "    </tr>\n",
       "  </tbody>\n",
       "</table>\n",
       "</div>"
      ],
      "text/plain": [
       "         id                                           document  label\n",
       "0   9976970                                아 더빙.. 진짜 짜증나네요 목소리      0\n",
       "1   3819312                  흠...포스터보고 초딩영화줄....오버연기조차 가볍지 않구나      1\n",
       "2  10265843                                  너무재밓었다그래서보는것을추천한다      0\n",
       "3   9045019                      교도소 이야기구먼 ..솔직히 재미는 없다..평점 조정      0\n",
       "4   6483659  사이몬페그의 익살스런 연기가 돋보였던 영화!스파이더맨에서 늙어보이기만 했던 커스틴 ...      1"
      ]
     },
     "execution_count": 1,
     "metadata": {},
     "output_type": "execute_result"
    }
   ],
   "source": [
    "df_train.head()"
   ]
  },
  {
   "cell_type": "code",
   "execution_count": 4,
   "metadata": {
    "execution": {
     "iopub.execute_input": "2020-11-29T15:01:42.212705Z",
     "iopub.status.busy": "2020-11-29T15:01:42.211590Z",
     "iopub.status.idle": "2020-11-29T15:01:42.215138Z",
     "shell.execute_reply": "2020-11-29T15:01:42.216006Z"
    }
   },
   "outputs": [],
   "source": [
    "X_train = df_train['document'].values\n",
    "y_train = df_train['label'].values"
   ]
  },
  {
   "cell_type": "code",
   "execution_count": 5,
   "metadata": {
    "execution": {
     "iopub.execute_input": "2020-11-29T15:01:42.225841Z",
     "iopub.status.busy": "2020-11-29T15:01:42.224625Z",
     "iopub.status.idle": "2020-11-29T15:01:42.355393Z",
     "shell.execute_reply": "2020-11-29T15:01:42.356362Z"
    }
   },
   "outputs": [],
   "source": [
    "df_test = pd.read_csv('ratings_test.txt', delimiter='\\t', keep_default_na=False)\n",
    "\n",
    "X_test = df_test['document'].values\n",
    "y_test = df_test['label'].values"
   ]
  },
  {
   "cell_type": "code",
   "execution_count": 6,
   "metadata": {
    "execution": {
     "iopub.execute_input": "2020-11-29T15:01:42.363876Z",
     "iopub.status.busy": "2020-11-29T15:01:42.362699Z",
     "iopub.status.idle": "2020-11-29T15:01:42.369415Z",
     "shell.execute_reply": "2020-11-29T15:01:42.370340Z"
    }
   },
   "outputs": [
    {
     "name": "stdout",
     "output_type": "stream",
     "text": [
      "150000 [75173 74827]\n"
     ]
    }
   ],
   "source": [
    "print(len(X_train), np.bincount(y_train))"
   ]
  },
  {
   "cell_type": "code",
   "execution_count": 7,
   "metadata": {
    "execution": {
     "iopub.execute_input": "2020-11-29T15:01:42.379051Z",
     "iopub.status.busy": "2020-11-29T15:01:42.377892Z",
     "iopub.status.idle": "2020-11-29T15:01:42.383488Z",
     "shell.execute_reply": "2020-11-29T15:01:42.384353Z"
    }
   },
   "outputs": [
    {
     "name": "stdout",
     "output_type": "stream",
     "text": [
      "50000 [24827 25173]\n"
     ]
    }
   ],
   "source": [
    "print(len(X_test), np.bincount(y_test))"
   ]
  },
  {
   "cell_type": "code",
   "execution_count": 8,
   "metadata": {
    "execution": {
     "iopub.execute_input": "2020-11-29T15:01:42.393575Z",
     "iopub.status.busy": "2020-11-29T15:01:42.392373Z",
     "iopub.status.idle": "2020-11-29T15:01:46.646365Z",
     "shell.execute_reply": "2020-11-29T15:01:46.647813Z"
    }
   },
   "outputs": [
    {
     "name": "stdout",
     "output_type": "stream",
     "text": [
      "사이몬페그의 익살스런 연기가 돋보였던 영화!스파이더맨에서 늙어보이기만 했던 커스틴 던스트가 너무나도 이뻐보였다\n",
      "['사이', '몬페', '그', '의', '익살스런', '연기', '가', '돋보였던', '영화', '!', '스파이더맨', '에서', '늙어', '보이기만', '했던', '커스틴', '던스트', '가', '너무나도', '이뻐', '보였다']\n"
     ]
    }
   ],
   "source": [
    "from konlpy.tag import Okt\n",
    "\n",
    "okt = Okt()\n",
    "print(X_train[4])\n",
    "print(okt.morphs(X_train[4]))"
   ]
  },
  {
   "cell_type": "code",
   "execution_count": 9,
   "metadata": {
    "execution": {
     "iopub.execute_input": "2020-11-29T15:01:46.657170Z",
     "iopub.status.busy": "2020-11-29T15:01:46.656029Z",
     "iopub.status.idle": "2020-11-29T15:01:46.660321Z",
     "shell.execute_reply": "2020-11-29T15:01:46.659387Z"
    }
   },
   "outputs": [],
   "source": [
    "def okt_tokenizer(text):\n",
    "    return okt.morphs(text)"
   ]
  },
  {
   "cell_type": "code",
   "execution_count": 10,
   "metadata": {
    "execution": {
     "iopub.execute_input": "2020-11-29T15:01:46.674650Z",
     "iopub.status.busy": "2020-11-29T15:01:46.673542Z",
     "iopub.status.idle": "2020-11-29T15:11:36.679650Z",
     "shell.execute_reply": "2020-11-29T15:11:36.681173Z"
    }
   },
   "outputs": [],
   "source": [
    "import os\n",
    "from scipy.sparse import save_npz, load_npz\n",
    "from sklearn.feature_extraction.text import TfidfVectorizer\n",
    "\n",
    "if not os.path.isfile('okt_train.npz'):\n",
    "    tfidf = TfidfVectorizer(ngram_range=(1, 2), \n",
    "                            min_df=3,\n",
    "                            max_df=0.9,\n",
    "                            tokenizer=okt_tokenizer, \n",
    "                            token_pattern=None)\n",
    "    tfidf.fit(X_train)\n",
    "    X_train_okt = tfidf.transform(X_train)\n",
    "    X_test_okt = tfidf.transform(X_test)\n",
    "    save_npz('okt_train.npz', X_train_okt)\n",
    "    save_npz('okt_test.npz', X_test_okt)\n",
    "else:\n",
    "    X_train_okt = load_npz('okt_train.npz')\n",
    "    X_test_okt = load_npz('okt_test.npz')"
   ]
  },
  {
   "cell_type": "code",
   "execution_count": 11,
   "metadata": {
    "execution": {
     "iopub.execute_input": "2020-11-29T15:11:36.694918Z",
     "iopub.status.busy": "2020-11-29T15:11:36.693663Z",
     "iopub.status.idle": "2020-11-29T15:12:42.390611Z",
     "shell.execute_reply": "2020-11-29T15:12:42.392041Z"
    }
   },
   "outputs": [
    {
     "name": "stdout",
     "output_type": "stream",
     "text": [
      "Fitting 5 folds for each of 50 candidates, totalling 250 fits\n"
     ]
    },
    {
     "name": "stderr",
     "output_type": "stream",
     "text": [
      "[Parallel(n_jobs=1)]: Using backend SequentialBackend with 1 concurrent workers.\n",
      "[Parallel(n_jobs=1)]: Done 250 out of 250 | elapsed:  1.1min finished\n"
     ]
    },
    {
     "data": {
      "text/plain": [
       "RandomizedSearchCV(estimator=SGDClassifier(loss='log', random_state=1),\n",
       "                   n_iter=50,\n",
       "                   param_distributions={'alpha': <scipy.stats._distn_infrastructure.rv_frozen object at 0x7f313ea48908>},\n",
       "                   random_state=1, verbose=1)"
      ]
     },
     "execution_count": 1,
     "metadata": {},
     "output_type": "execute_result"
    }
   ],
   "source": [
    "from sklearn.model_selection import RandomizedSearchCV\n",
    "from sklearn.linear_model import SGDClassifier\n",
    "from sklearn.utils.fixes import loguniform\n",
    "\n",
    "sgd = SGDClassifier(loss='log', random_state=1)\n",
    "param_dist = {'alpha': loguniform(0.0001, 100.0)}\n",
    "\n",
    "rsv_okt = RandomizedSearchCV(estimator=sgd,\n",
    "                             param_distributions=param_dist,\n",
    "                             n_iter=50,\n",
    "                             random_state=1,\n",
    "                             verbose=1)\n",
    "rsv_okt.fit(X_train_okt, y_train)"
   ]
  },
  {
   "cell_type": "code",
   "execution_count": 12,
   "metadata": {
    "execution": {
     "iopub.execute_input": "2020-11-29T15:12:42.400217Z",
     "iopub.status.busy": "2020-11-29T15:12:42.399676Z",
     "iopub.status.idle": "2020-11-29T15:12:42.402066Z",
     "shell.execute_reply": "2020-11-29T15:12:42.402499Z"
    }
   },
   "outputs": [
    {
     "name": "stdout",
     "output_type": "stream",
     "text": [
      "0.8251533333333334\n",
      "{'alpha': 0.0001001581395585897}\n"
     ]
    }
   ],
   "source": [
    "print(rsv_okt.best_score_)\n",
    "print(rsv_okt.best_params_)"
   ]
  },
  {
   "cell_type": "code",
   "execution_count": 13,
   "metadata": {
    "execution": {
     "iopub.execute_input": "2020-11-29T15:12:42.408737Z",
     "iopub.status.busy": "2020-11-29T15:12:42.407752Z",
     "iopub.status.idle": "2020-11-29T15:12:42.423387Z",
     "shell.execute_reply": "2020-11-29T15:12:42.422942Z"
    }
   },
   "outputs": [
    {
     "data": {
      "text/plain": [
       "0.8189"
      ]
     },
     "execution_count": 1,
     "metadata": {},
     "output_type": "execute_result"
    }
   ],
   "source": [
    "rsv_okt.score(X_test_okt, y_test)"
   ]
  },
  {
   "cell_type": "code",
   "execution_count": 14,
   "metadata": {
    "execution": {
     "iopub.execute_input": "2020-11-29T15:12:42.426570Z",
     "iopub.status.busy": "2020-11-29T15:12:42.426035Z",
     "iopub.status.idle": "2020-11-29T15:12:42.464962Z",
     "shell.execute_reply": "2020-11-29T15:12:42.465486Z"
    }
   },
   "outputs": [],
   "source": [
    "from soynlp.tokenizer import LTokenizer"
   ]
  },
  {
   "cell_type": "code",
   "execution_count": 15,
   "metadata": {
    "execution": {
     "iopub.execute_input": "2020-11-29T15:12:42.468398Z",
     "iopub.status.busy": "2020-11-29T15:12:42.467780Z",
     "iopub.status.idle": "2020-11-29T15:12:42.473531Z",
     "shell.execute_reply": "2020-11-29T15:12:42.474052Z"
    }
   },
   "outputs": [
    {
     "name": "stdout",
     "output_type": "stream",
     "text": [
      "['사이몬페그의', '익살스런', '연기가', '돋보였던', '영화!스파이더맨에서', '늙어보이기만', '했던', '커스틴', '던스트가', '너무나도', '이뻐보였다']\n"
     ]
    }
   ],
   "source": [
    "lto = LTokenizer()\n",
    "\n",
    "print(lto.tokenize(X_train[4]))"
   ]
  },
  {
   "cell_type": "code",
   "execution_count": 16,
   "metadata": {
    "execution": {
     "iopub.execute_input": "2020-11-29T15:12:42.476948Z",
     "iopub.status.busy": "2020-11-29T15:12:42.476313Z",
     "iopub.status.idle": "2020-11-29T15:12:42.480668Z",
     "shell.execute_reply": "2020-11-29T15:12:42.481192Z"
    }
   },
   "outputs": [],
   "source": [
    "from soynlp.word import WordExtractor"
   ]
  },
  {
   "cell_type": "code",
   "execution_count": 17,
   "metadata": {
    "execution": {
     "iopub.execute_input": "2020-11-29T15:12:42.484178Z",
     "iopub.status.busy": "2020-11-29T15:12:42.483525Z",
     "iopub.status.idle": "2020-11-29T15:13:02.265607Z",
     "shell.execute_reply": "2020-11-29T15:13:02.266059Z"
    }
   },
   "outputs": [
    {
     "name": "stdout",
     "output_type": "stream",
     "text": [
      "training was done. used memory 1.737 Gb\n",
      "all cohesion probabilities was computed. # words = 85683\n",
      "all branching entropies was computed # words = 101540\n",
      "all accessor variety was computed # words = 101540\n"
     ]
    }
   ],
   "source": [
    "word_ext = WordExtractor()\n",
    "word_ext.train(X_train)\n",
    "scores = word_ext.word_scores()"
   ]
  },
  {
   "cell_type": "code",
   "execution_count": 18,
   "metadata": {
    "execution": {
     "iopub.execute_input": "2020-11-29T15:13:02.336859Z",
     "iopub.status.busy": "2020-11-29T15:13:02.300535Z",
     "iopub.status.idle": "2020-11-29T15:13:02.362949Z",
     "shell.execute_reply": "2020-11-29T15:13:02.363379Z"
    }
   },
   "outputs": [],
   "source": [
    "import math\n",
    "\n",
    "score_dict = {key: scores[key].cohesion_forward*math.exp(scores[key].right_branching_entropy) for key in scores}"
   ]
  },
  {
   "cell_type": "code",
   "execution_count": 19,
   "metadata": {
    "execution": {
     "iopub.execute_input": "2020-11-29T15:13:02.370019Z",
     "iopub.status.busy": "2020-11-29T15:13:02.367826Z",
     "iopub.status.idle": "2020-11-29T15:13:02.372862Z",
     "shell.execute_reply": "2020-11-29T15:13:02.371490Z"
    }
   },
   "outputs": [],
   "source": [
    "lto = LTokenizer(scores=score_dict)"
   ]
  },
  {
   "cell_type": "code",
   "execution_count": 20,
   "metadata": {
    "execution": {
     "iopub.execute_input": "2020-11-29T15:13:02.378318Z",
     "iopub.status.busy": "2020-11-29T15:13:02.377355Z",
     "iopub.status.idle": "2020-11-29T15:13:02.382387Z",
     "shell.execute_reply": "2020-11-29T15:13:02.383156Z"
    }
   },
   "outputs": [
    {
     "name": "stdout",
     "output_type": "stream",
     "text": [
      "['사이', '몬페그의', '익살스', '런', '연기', '가', '돋보', '였던', '영화', '!스파이더맨에서', '늙어', '보이기만', '했던', '커스틴', '던스트가', '너무', '나도', '이뻐', '보였다']\n"
     ]
    }
   ],
   "source": [
    "print(lto.tokenize(X_train[4]))"
   ]
  },
  {
   "cell_type": "code",
   "execution_count": 21,
   "metadata": {
    "execution": {
     "iopub.execute_input": "2020-11-29T15:13:02.390515Z",
     "iopub.status.busy": "2020-11-29T15:13:02.389547Z",
     "iopub.status.idle": "2020-11-29T15:13:02.392813Z",
     "shell.execute_reply": "2020-11-29T15:13:02.393773Z"
    }
   },
   "outputs": [],
   "source": [
    "def soy_tokenizer(text):\n",
    "    return lto.tokenize(text)"
   ]
  },
  {
   "cell_type": "code",
   "execution_count": 22,
   "metadata": {
    "execution": {
     "iopub.execute_input": "2020-11-29T15:13:02.406183Z",
     "iopub.status.busy": "2020-11-29T15:13:02.404835Z",
     "iopub.status.idle": "2020-11-29T15:13:30.205753Z",
     "shell.execute_reply": "2020-11-29T15:13:30.207164Z"
    }
   },
   "outputs": [],
   "source": [
    "if not os.path.isfile('soy_train.npz'):\n",
    "    tfidf = TfidfVectorizer(ngram_range=(1, 2),\n",
    "                            min_df=3,\n",
    "                            max_df=0.9,\n",
    "                            tokenizer=soy_tokenizer, \n",
    "                            token_pattern=None)\n",
    "    tfidf.fit(X_train)\n",
    "    X_train_soy = tfidf.transform(X_train)\n",
    "    X_test_soy = tfidf.transform(X_test)\n",
    "    save_npz('soy_train.npz', X_train_soy)\n",
    "    save_npz('soy_test.npz', X_test_soy)\n",
    "else:\n",
    "    X_train_soy = load_npz('soy_train.npz')\n",
    "    X_test_soy = load_npz('soy_test.npz')"
   ]
  },
  {
   "cell_type": "code",
   "execution_count": 23,
   "metadata": {
    "execution": {
     "iopub.execute_input": "2020-11-29T15:13:30.217890Z",
     "iopub.status.busy": "2020-11-29T15:13:30.216509Z",
     "iopub.status.idle": "2020-11-29T15:14:25.175608Z",
     "shell.execute_reply": "2020-11-29T15:14:25.176810Z"
    }
   },
   "outputs": [
    {
     "name": "stdout",
     "output_type": "stream",
     "text": [
      "Fitting 5 folds for each of 50 candidates, totalling 250 fits\n"
     ]
    },
    {
     "name": "stderr",
     "output_type": "stream",
     "text": [
      "[Parallel(n_jobs=1)]: Using backend SequentialBackend with 1 concurrent workers.\n",
      "[Parallel(n_jobs=1)]: Done 250 out of 250 | elapsed:   54.6s finished\n"
     ]
    },
    {
     "data": {
      "text/plain": [
       "RandomizedSearchCV(estimator=SGDClassifier(loss='log', random_state=1),\n",
       "                   n_iter=50,\n",
       "                   param_distributions={'alpha': <scipy.stats._distn_infrastructure.rv_frozen object at 0x7f313ea48908>},\n",
       "                   random_state=1, verbose=1)"
      ]
     },
     "execution_count": 1,
     "metadata": {},
     "output_type": "execute_result"
    }
   ],
   "source": [
    "rsv_soy = RandomizedSearchCV(estimator=sgd,\n",
    "                             param_distributions=param_dist,\n",
    "                             n_iter=50,\n",
    "                             random_state=1,\n",
    "                             verbose=1)\n",
    "rsv_soy.fit(X_train_soy, y_train)"
   ]
  },
  {
   "cell_type": "code",
   "execution_count": 24,
   "metadata": {
    "execution": {
     "iopub.execute_input": "2020-11-29T15:14:25.181559Z",
     "iopub.status.busy": "2020-11-29T15:14:25.180493Z",
     "iopub.status.idle": "2020-11-29T15:14:25.184547Z",
     "shell.execute_reply": "2020-11-29T15:14:25.185022Z"
    }
   },
   "outputs": [
    {
     "name": "stdout",
     "output_type": "stream",
     "text": [
      "0.8141066666666665\n",
      "{'alpha': 0.0001001581395585897}\n"
     ]
    }
   ],
   "source": [
    "print(rsv_soy.best_score_)\n",
    "print(rsv_soy.best_params_)"
   ]
  },
  {
   "cell_type": "code",
   "execution_count": 25,
   "metadata": {
    "execution": {
     "iopub.execute_input": "2020-11-29T15:14:25.189932Z",
     "iopub.status.busy": "2020-11-29T15:14:25.189391Z",
     "iopub.status.idle": "2020-11-29T15:14:25.203260Z",
     "shell.execute_reply": "2020-11-29T15:14:25.204144Z"
    }
   },
   "outputs": [
    {
     "data": {
      "text/plain": [
       "0.8085"
      ]
     },
     "execution_count": 1,
     "metadata": {},
     "output_type": "execute_result"
    }
   ],
   "source": [
    "rsv_soy.score(X_test_soy, y_test)"
   ]
  },
  {
   "cell_type": "code",
   "execution_count": null,
   "metadata": {},
   "outputs": [],
   "source": []
  }
 ],
 "metadata": {
  "kernelspec": {
   "display_name": "TensorFlow 2.3 on Python 3.6 (CUDA 10.1)",
   "language": "python",
   "name": "python3"
  },
  "language_info": {
   "codemirror_mode": {
    "name": "ipython",
    "version": 3
   },
   "file_extension": ".py",
   "mimetype": "text/x-python",
   "name": "python",
   "nbconvert_exporter": "python",
   "pygments_lexer": "ipython3",
   "version": "3.6.9"
  }
 },
 "nbformat": 4,
 "nbformat_minor": 4
}
